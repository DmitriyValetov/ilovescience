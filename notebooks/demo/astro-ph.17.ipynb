{
 "cells": [
  {
   "cell_type": "code",
   "execution_count": 2,
   "metadata": {},
   "outputs": [
    {
     "data": {
      "text/html": [
       "<script>requirejs.config({paths: { 'plotly': ['https://cdn.plot.ly/plotly-latest.min']},});if(!window.Plotly) {{require(['plotly'],function(plotly) {window.Plotly=plotly;});}}</script>"
      ],
      "text/vnd.plotly.v1+html": [
       "<script>requirejs.config({paths: { 'plotly': ['https://cdn.plot.ly/plotly-latest.min']},});if(!window.Plotly) {{require(['plotly'],function(plotly) {window.Plotly=plotly;});}}</script>"
      ]
     },
     "metadata": {},
     "output_type": "display_data"
    }
   ],
   "source": [
    "import plotly.offline as py\n",
    "from visual import *\n",
    "\n",
    "py.init_notebook_mode(connected=True)"
   ]
  },
  {
   "cell_type": "code",
   "execution_count": 3,
   "metadata": {},
   "outputs": [],
   "source": [
    "section, year = \"astro-ph\", 17\n",
    "volume = \"{}.{}\".format(section, str(year).zfill(2))"
   ]
  },
  {
   "cell_type": "code",
   "execution_count": 4,
   "metadata": {},
   "outputs": [],
   "source": [
    "model = Word2Vec.load(\"../stat/word_vec/{}\".format(volume))\n",
    "terms = topics_normalize(model, get_lines(\"../topics/{}.txt\".format(section)))\n",
    "extented_terms = closest_keys(terms, model)"
   ]
  },
  {
   "cell_type": "code",
   "execution_count": 5,
   "metadata": {},
   "outputs": [
    {
     "data": {
      "application/vnd.plotly.v1+json": {
       "data": [
        {
         "marker": {
          "color": "orange"
         },
         "name": "topic #1",
         "orientation": "h",
         "type": "bar",
         "x": [
          0.005,
          0.005,
          0.006,
          0.006,
          0.006,
          0.009
         ],
         "xaxis": "x1",
         "y": [
          "dust",
          "particle",
          "surface",
          "core",
          "mass_loss",
          "abundance"
         ],
         "yaxis": "y1"
        },
        {
         "marker": {
          "color": "orange"
         },
         "name": "topic #2",
         "orientation": "h",
         "type": "bar",
         "x": [
          0.007,
          0.007,
          0.007,
          0.008,
          0.009,
          0.009
         ],
         "xaxis": "x2",
         "y": [
          "accretion",
          "luminosity",
          "spin",
          "black_hole",
          "light_curve",
          "outburst"
         ],
         "yaxis": "y2"
        },
        {
         "marker": {
          "color": "orange"
         },
         "name": "topic #3",
         "orientation": "h",
         "type": "bar",
         "x": [
          0.006,
          0.006,
          0.008,
          0.008,
          0.009,
          0.012
         ],
         "xaxis": "x3",
         "y": [
          "solar",
          "frequency",
          "flare",
          "magnetic_field",
          "radio",
          "image"
         ],
         "yaxis": "y3"
        },
        {
         "marker": {
          "color": "orange"
         },
         "name": "topic #4",
         "orientation": "h",
         "type": "bar",
         "x": [
          0.004,
          0.005,
          0.005,
          0.01,
          0.01,
          0.011
         ],
         "xaxis": "x4",
         "y": [
          "neutrino",
          "experiment",
          "dark_matter",
          "event",
          "detector",
          "signal"
         ],
         "yaxis": "y4"
        },
        {
         "marker": {
          "color": "orange"
         },
         "name": "topic #5",
         "orientation": "h",
         "type": "bar",
         "x": [
          0.005,
          0.005,
          0.006,
          0.006,
          0.006,
          0.016
         ],
         "xaxis": "x5",
         "y": [
          "magnitude",
          "filter",
          "spectra",
          "pixel",
          "survey",
          "image"
         ],
         "yaxis": "y5"
        },
        {
         "marker": {
          "color": "orange"
         },
         "name": "topic #6",
         "orientation": "h",
         "type": "bar",
         "x": [
          0.004,
          0.004,
          0.005,
          0.005,
          0.007,
          0.008
         ],
         "xaxis": "x6",
         "y": [
          "axion",
          "black_hole",
          "particle",
          "matter",
          "mode",
          "solution"
         ],
         "yaxis": "y6"
        },
        {
         "marker": {
          "color": "orange"
         },
         "name": "topic #7",
         "orientation": "h",
         "type": "bar",
         "x": [
          0.005,
          0.006,
          0.006,
          0.011,
          0.011,
          0.02
         ],
         "xaxis": "x7",
         "y": [
          "magnetic",
          "particle",
          "flow",
          "disc",
          "magnetic_field",
          "disk"
         ],
         "yaxis": "y7"
        },
        {
         "marker": {
          "color": "orange"
         },
         "name": "topic #8",
         "orientation": "h",
         "type": "bar",
         "x": [
          0.007,
          0.007,
          0.008,
          0.016,
          0.018,
          0.023
         ],
         "xaxis": "x8",
         "y": [
          "stellar_mass",
          "metallicity",
          "star_formation",
          "galaxy",
          "halo",
          "galaxie"
         ],
         "yaxis": "y8"
        },
        {
         "marker": {
          "color": "orange"
         },
         "name": "topic #9",
         "orientation": "h",
         "type": "bar",
         "x": [
          0.005,
          0.005,
          0.005,
          0.008,
          0.008,
          0.026
         ],
         "xaxis": "x9",
         "y": [
          "kepler",
          "transit",
          "light_curve",
          "orbit",
          "period",
          "planet"
         ],
         "yaxis": "y9"
        },
        {
         "marker": {
          "color": "orange"
         },
         "name": "topic #10",
         "orientation": "h",
         "type": "bar",
         "x": [
          0.007,
          0.007,
          0.008,
          0.011,
          0.014,
          0.017
         ],
         "xaxis": "x10",
         "y": [
          "luminosity",
          "optical",
          "spectral",
          "absorption",
          "quasar",
          "spectra"
         ],
         "yaxis": "y10"
        },
        {
         "marker": {
          "color": "orange"
         },
         "name": "topic #11",
         "orientation": "h",
         "type": "bar",
         "x": [
          0.006,
          0.006,
          0.008,
          0.009,
          0.012,
          0.021
         ],
         "xaxis": "x11",
         "y": [
          "star_formation",
          "filament",
          "molecular",
          "clump",
          "dust",
          "cloud"
         ],
         "yaxis": "y11"
        },
        {
         "marker": {
          "color": "orange"
         },
         "name": "topic #12",
         "orientation": "h",
         "type": "bar",
         "x": [
          0.007,
          0.007,
          0.007,
          0.008,
          0.008,
          0.012
         ],
         "xaxis": "x12",
         "y": [
          "pulsar",
          "photon",
          "burst",
          "electron",
          "magnetic_field",
          "shock"
         ],
         "yaxis": "y12"
        },
        {
         "marker": {
          "color": "orange"
         },
         "name": "topic #13",
         "orientation": "h",
         "type": "bar",
         "x": [
          0.005,
          0.006,
          0.006,
          0.006,
          0.007,
          0.007
         ],
         "xaxis": "x13",
         "y": [
          "universe",
          "redshift",
          "cosmological",
          "matter",
          "power_spectrum",
          "constraint"
         ],
         "yaxis": "y13"
        },
        {
         "marker": {
          "color": "orange"
         },
         "name": "topic #14",
         "orientation": "h",
         "type": "bar",
         "x": [
          0.006,
          0.006,
          0.007,
          0.009,
          0.01,
          0.044
         ],
         "xaxis": "x14",
         "y": [
          "galaxy",
          "population",
          "profile",
          "halo",
          "group",
          "cluster"
         ],
         "yaxis": "y14"
        },
        {
         "marker": {
          "color": "orange"
         },
         "name": "topic #15",
         "orientation": "h",
         "type": "bar",
         "x": [
          0.005,
          0.006,
          0.008,
          0.019,
          0.023,
          0.041
         ],
         "xaxis": "x15",
         "y": [
          "image",
          "luminosity",
          "survey",
          "redshift",
          "galaxy",
          "galaxie"
         ],
         "yaxis": "y15"
        }
       ],
       "layout": {
        "annotations": [
         {
          "font": {
           "size": 16
          },
          "showarrow": false,
          "text": "abundance",
          "x": 0.11666666666666665,
          "xanchor": "center",
          "xref": "paper",
          "y": 1,
          "yanchor": "bottom",
          "yref": "paper"
         },
         {
          "font": {
           "size": 16
          },
          "showarrow": false,
          "text": "light_curve",
          "x": 0.49999999999999994,
          "xanchor": "center",
          "xref": "paper",
          "y": 1,
          "yanchor": "bottom",
          "yref": "paper"
         },
         {
          "font": {
           "size": 16
          },
          "showarrow": false,
          "text": "image",
          "x": 0.8833333333333333,
          "xanchor": "center",
          "xref": "paper",
          "y": 1,
          "yanchor": "bottom",
          "yref": "paper"
         },
         {
          "font": {
           "size": 16
          },
          "showarrow": false,
          "text": "signal",
          "x": 0.11666666666666665,
          "xanchor": "center",
          "xref": "paper",
          "y": 0.79,
          "yanchor": "bottom",
          "yref": "paper"
         },
         {
          "font": {
           "size": 16
          },
          "showarrow": false,
          "text": "image",
          "x": 0.49999999999999994,
          "xanchor": "center",
          "xref": "paper",
          "y": 0.79,
          "yanchor": "bottom",
          "yref": "paper"
         },
         {
          "font": {
           "size": 16
          },
          "showarrow": false,
          "text": "solution",
          "x": 0.8833333333333333,
          "xanchor": "center",
          "xref": "paper",
          "y": 0.79,
          "yanchor": "bottom",
          "yref": "paper"
         },
         {
          "font": {
           "size": 16
          },
          "showarrow": false,
          "text": "disk",
          "x": 0.11666666666666665,
          "xanchor": "center",
          "xref": "paper",
          "y": 0.5800000000000001,
          "yanchor": "bottom",
          "yref": "paper"
         },
         {
          "font": {
           "size": 16
          },
          "showarrow": false,
          "text": "galaxie",
          "x": 0.49999999999999994,
          "xanchor": "center",
          "xref": "paper",
          "y": 0.5800000000000001,
          "yanchor": "bottom",
          "yref": "paper"
         },
         {
          "font": {
           "size": 16
          },
          "showarrow": false,
          "text": "planet",
          "x": 0.8833333333333333,
          "xanchor": "center",
          "xref": "paper",
          "y": 0.5800000000000001,
          "yanchor": "bottom",
          "yref": "paper"
         },
         {
          "font": {
           "size": 16
          },
          "showarrow": false,
          "text": "spectra",
          "x": 0.11666666666666665,
          "xanchor": "center",
          "xref": "paper",
          "y": 0.37,
          "yanchor": "bottom",
          "yref": "paper"
         },
         {
          "font": {
           "size": 16
          },
          "showarrow": false,
          "text": "cloud",
          "x": 0.49999999999999994,
          "xanchor": "center",
          "xref": "paper",
          "y": 0.37,
          "yanchor": "bottom",
          "yref": "paper"
         },
         {
          "font": {
           "size": 16
          },
          "showarrow": false,
          "text": "shock",
          "x": 0.8833333333333333,
          "xanchor": "center",
          "xref": "paper",
          "y": 0.37,
          "yanchor": "bottom",
          "yref": "paper"
         },
         {
          "font": {
           "size": 16
          },
          "showarrow": false,
          "text": "power_spectrum",
          "x": 0.11666666666666665,
          "xanchor": "center",
          "xref": "paper",
          "y": 0.16,
          "yanchor": "bottom",
          "yref": "paper"
         },
         {
          "font": {
           "size": 16
          },
          "showarrow": false,
          "text": "cluster",
          "x": 0.49999999999999994,
          "xanchor": "center",
          "xref": "paper",
          "y": 0.16,
          "yanchor": "bottom",
          "yref": "paper"
         },
         {
          "font": {
           "size": 16
          },
          "showarrow": false,
          "text": "galaxie",
          "x": 0.8833333333333333,
          "xanchor": "center",
          "xref": "paper",
          "y": 0.16,
          "yanchor": "bottom",
          "yref": "paper"
         }
        ],
        "height": 750,
        "margin": {
         "t": 120
        },
        "showlegend": false,
        "title": "",
        "width": 750,
        "xaxis1": {
         "anchor": "y1",
         "domain": [
          0,
          0.2333333333333333
         ],
         "showticklabels": false
        },
        "xaxis10": {
         "anchor": "y10",
         "domain": [
          0,
          0.2333333333333333
         ],
         "showticklabels": false
        },
        "xaxis11": {
         "anchor": "y11",
         "domain": [
          0.3833333333333333,
          0.6166666666666666
         ],
         "showticklabels": false
        },
        "xaxis12": {
         "anchor": "y12",
         "domain": [
          0.7666666666666666,
          0.9999999999999999
         ],
         "showticklabels": false
        },
        "xaxis13": {
         "anchor": "y13",
         "domain": [
          0,
          0.2333333333333333
         ],
         "showticklabels": false
        },
        "xaxis14": {
         "anchor": "y14",
         "domain": [
          0.3833333333333333,
          0.6166666666666666
         ],
         "showticklabels": false
        },
        "xaxis15": {
         "anchor": "y15",
         "domain": [
          0.7666666666666666,
          0.9999999999999999
         ],
         "showticklabels": false
        },
        "xaxis2": {
         "anchor": "y2",
         "domain": [
          0.3833333333333333,
          0.6166666666666666
         ],
         "showticklabels": false
        },
        "xaxis3": {
         "anchor": "y3",
         "domain": [
          0.7666666666666666,
          0.9999999999999999
         ],
         "showticklabels": false
        },
        "xaxis4": {
         "anchor": "y4",
         "domain": [
          0,
          0.2333333333333333
         ],
         "showticklabels": false
        },
        "xaxis5": {
         "anchor": "y5",
         "domain": [
          0.3833333333333333,
          0.6166666666666666
         ],
         "showticklabels": false
        },
        "xaxis6": {
         "anchor": "y6",
         "domain": [
          0.7666666666666666,
          0.9999999999999999
         ],
         "showticklabels": false
        },
        "xaxis7": {
         "anchor": "y7",
         "domain": [
          0,
          0.2333333333333333
         ],
         "showticklabels": false
        },
        "xaxis8": {
         "anchor": "y8",
         "domain": [
          0.3833333333333333,
          0.6166666666666666
         ],
         "showticklabels": false
        },
        "xaxis9": {
         "anchor": "y9",
         "domain": [
          0.7666666666666666,
          0.9999999999999999
         ],
         "showticklabels": false
        },
        "yaxis1": {
         "anchor": "x1",
         "domain": [
          0.8400000000000001,
          1
         ],
         "tickfont": {
          "color": "lightgrey",
          "size": 11
         },
         "ticklen": 3
        },
        "yaxis10": {
         "anchor": "x10",
         "domain": [
          0.21000000000000002,
          0.37
         ],
         "tickfont": {
          "color": "lightgrey",
          "size": 11
         },
         "ticklen": 3
        },
        "yaxis11": {
         "anchor": "x11",
         "domain": [
          0.21000000000000002,
          0.37
         ],
         "tickfont": {
          "color": "lightgrey",
          "size": 11
         },
         "ticklen": 3
        },
        "yaxis12": {
         "anchor": "x12",
         "domain": [
          0.21000000000000002,
          0.37
         ],
         "tickfont": {
          "color": "lightgrey",
          "size": 11
         },
         "ticklen": 3
        },
        "yaxis13": {
         "anchor": "x13",
         "domain": [
          0,
          0.16
         ],
         "tickfont": {
          "color": "lightgrey",
          "size": 11
         },
         "ticklen": 3
        },
        "yaxis14": {
         "anchor": "x14",
         "domain": [
          0,
          0.16
         ],
         "tickfont": {
          "color": "lightgrey",
          "size": 11
         },
         "ticklen": 3
        },
        "yaxis15": {
         "anchor": "x15",
         "domain": [
          0,
          0.16
         ],
         "tickfont": {
          "color": "lightgrey",
          "size": 11
         },
         "ticklen": 3
        },
        "yaxis2": {
         "anchor": "x2",
         "domain": [
          0.8400000000000001,
          1
         ],
         "tickfont": {
          "color": "lightgrey",
          "size": 11
         },
         "ticklen": 3
        },
        "yaxis3": {
         "anchor": "x3",
         "domain": [
          0.8400000000000001,
          1
         ],
         "tickfont": {
          "color": "lightgrey",
          "size": 11
         },
         "ticklen": 3
        },
        "yaxis4": {
         "anchor": "x4",
         "domain": [
          0.63,
          0.79
         ],
         "tickfont": {
          "color": "lightgrey",
          "size": 11
         },
         "ticklen": 3
        },
        "yaxis5": {
         "anchor": "x5",
         "domain": [
          0.63,
          0.79
         ],
         "tickfont": {
          "color": "lightgrey",
          "size": 11
         },
         "ticklen": 3
        },
        "yaxis6": {
         "anchor": "x6",
         "domain": [
          0.63,
          0.79
         ],
         "tickfont": {
          "color": "lightgrey",
          "size": 11
         },
         "ticklen": 3
        },
        "yaxis7": {
         "anchor": "x7",
         "domain": [
          0.42000000000000004,
          0.5800000000000001
         ],
         "tickfont": {
          "color": "lightgrey",
          "size": 11
         },
         "ticklen": 3
        },
        "yaxis8": {
         "anchor": "x8",
         "domain": [
          0.42000000000000004,
          0.5800000000000001
         ],
         "tickfont": {
          "color": "lightgrey",
          "size": 11
         },
         "ticklen": 3
        },
        "yaxis9": {
         "anchor": "x9",
         "domain": [
          0.42000000000000004,
          0.5800000000000001
         ],
         "tickfont": {
          "color": "lightgrey",
          "size": 11
         },
         "ticklen": 3
        }
       }
      },
      "text/html": [
       "<div id=\"423df385-1a6b-4531-8933-81bc7479febd\" style=\"height: 750px; width: 750px;\" class=\"plotly-graph-div\"></div><script type=\"text/javascript\">require([\"plotly\"], function(Plotly) { window.PLOTLYENV=window.PLOTLYENV || {};window.PLOTLYENV.BASE_URL=\"https://plot.ly\";Plotly.newPlot(\"423df385-1a6b-4531-8933-81bc7479febd\", [{\"type\": \"bar\", \"x\": [0.005, 0.005, 0.006, 0.006, 0.006, 0.009], \"y\": [\"dust\", \"particle\", \"surface\", \"core\", \"mass_loss\", \"abundance\"], \"orientation\": \"h\", \"name\": \"topic #1\", \"marker\": {\"color\": \"orange\"}, \"xaxis\": \"x1\", \"yaxis\": \"y1\"}, {\"type\": \"bar\", \"x\": [0.007, 0.007, 0.007, 0.008, 0.009, 0.009], \"y\": [\"accretion\", \"luminosity\", \"spin\", \"black_hole\", \"light_curve\", \"outburst\"], \"orientation\": \"h\", \"name\": \"topic #2\", \"marker\": {\"color\": \"orange\"}, \"xaxis\": \"x2\", \"yaxis\": \"y2\"}, {\"type\": \"bar\", \"x\": [0.006, 0.006, 0.008, 0.008, 0.009, 0.012], \"y\": [\"solar\", \"frequency\", \"flare\", \"magnetic_field\", \"radio\", \"image\"], \"orientation\": \"h\", \"name\": \"topic #3\", \"marker\": {\"color\": \"orange\"}, \"xaxis\": \"x3\", \"yaxis\": \"y3\"}, {\"type\": \"bar\", \"x\": [0.004, 0.005, 0.005, 0.01, 0.01, 0.011], \"y\": [\"neutrino\", \"experiment\", \"dark_matter\", \"event\", \"detector\", \"signal\"], \"orientation\": \"h\", \"name\": \"topic #4\", \"marker\": {\"color\": \"orange\"}, \"xaxis\": \"x4\", \"yaxis\": \"y4\"}, {\"type\": \"bar\", \"x\": [0.005, 0.005, 0.006, 0.006, 0.006, 0.016], \"y\": [\"magnitude\", \"filter\", \"spectra\", \"pixel\", \"survey\", \"image\"], \"orientation\": \"h\", \"name\": \"topic #5\", \"marker\": {\"color\": \"orange\"}, \"xaxis\": \"x5\", \"yaxis\": \"y5\"}, {\"type\": \"bar\", \"x\": [0.004, 0.004, 0.005, 0.005, 0.007, 0.008], \"y\": [\"axion\", \"black_hole\", \"particle\", \"matter\", \"mode\", \"solution\"], \"orientation\": \"h\", \"name\": \"topic #6\", \"marker\": {\"color\": \"orange\"}, \"xaxis\": \"x6\", \"yaxis\": \"y6\"}, {\"type\": \"bar\", \"x\": [0.005, 0.006, 0.006, 0.011, 0.011, 0.02], \"y\": [\"magnetic\", \"particle\", \"flow\", \"disc\", \"magnetic_field\", \"disk\"], \"orientation\": \"h\", \"name\": \"topic #7\", \"marker\": {\"color\": \"orange\"}, \"xaxis\": \"x7\", \"yaxis\": \"y7\"}, {\"type\": \"bar\", \"x\": [0.007, 0.007, 0.008, 0.016, 0.018, 0.023], \"y\": [\"stellar_mass\", \"metallicity\", \"star_formation\", \"galaxy\", \"halo\", \"galaxie\"], \"orientation\": \"h\", \"name\": \"topic #8\", \"marker\": {\"color\": \"orange\"}, \"xaxis\": \"x8\", \"yaxis\": \"y8\"}, {\"type\": \"bar\", \"x\": [0.005, 0.005, 0.005, 0.008, 0.008, 0.026], \"y\": [\"kepler\", \"transit\", \"light_curve\", \"orbit\", \"period\", \"planet\"], \"orientation\": \"h\", \"name\": \"topic #9\", \"marker\": {\"color\": \"orange\"}, \"xaxis\": \"x9\", \"yaxis\": \"y9\"}, {\"type\": \"bar\", \"x\": [0.007, 0.007, 0.008, 0.011, 0.014, 0.017], \"y\": [\"luminosity\", \"optical\", \"spectral\", \"absorption\", \"quasar\", \"spectra\"], \"orientation\": \"h\", \"name\": \"topic #10\", \"marker\": {\"color\": \"orange\"}, \"xaxis\": \"x10\", \"yaxis\": \"y10\"}, {\"type\": \"bar\", \"x\": [0.006, 0.006, 0.008, 0.009, 0.012, 0.021], \"y\": [\"star_formation\", \"filament\", \"molecular\", \"clump\", \"dust\", \"cloud\"], \"orientation\": \"h\", \"name\": \"topic #11\", \"marker\": {\"color\": \"orange\"}, \"xaxis\": \"x11\", \"yaxis\": \"y11\"}, {\"type\": \"bar\", \"x\": [0.007, 0.007, 0.007, 0.008, 0.008, 0.012], \"y\": [\"pulsar\", \"photon\", \"burst\", \"electron\", \"magnetic_field\", \"shock\"], \"orientation\": \"h\", \"name\": \"topic #12\", \"marker\": {\"color\": \"orange\"}, \"xaxis\": \"x12\", \"yaxis\": \"y12\"}, {\"type\": \"bar\", \"x\": [0.005, 0.006, 0.006, 0.006, 0.007, 0.007], \"y\": [\"universe\", \"redshift\", \"cosmological\", \"matter\", \"power_spectrum\", \"constraint\"], \"orientation\": \"h\", \"name\": \"topic #13\", \"marker\": {\"color\": \"orange\"}, \"xaxis\": \"x13\", \"yaxis\": \"y13\"}, {\"type\": \"bar\", \"x\": [0.006, 0.006, 0.007, 0.009, 0.01, 0.044], \"y\": [\"galaxy\", \"population\", \"profile\", \"halo\", \"group\", \"cluster\"], \"orientation\": \"h\", \"name\": \"topic #14\", \"marker\": {\"color\": \"orange\"}, \"xaxis\": \"x14\", \"yaxis\": \"y14\"}, {\"type\": \"bar\", \"x\": [0.005, 0.006, 0.008, 0.019, 0.023, 0.041], \"y\": [\"image\", \"luminosity\", \"survey\", \"redshift\", \"galaxy\", \"galaxie\"], \"orientation\": \"h\", \"name\": \"topic #15\", \"marker\": {\"color\": \"orange\"}, \"xaxis\": \"x15\", \"yaxis\": \"y15\"}], {\"xaxis1\": {\"domain\": [0.0, 0.2333333333333333], \"anchor\": \"y1\", \"showticklabels\": false}, \"yaxis1\": {\"domain\": [0.8400000000000001, 1.0], \"anchor\": \"x1\", \"ticklen\": 3, \"tickfont\": {\"size\": 11, \"color\": \"lightgrey\"}}, \"xaxis2\": {\"domain\": [0.3833333333333333, 0.6166666666666666], \"anchor\": \"y2\", \"showticklabels\": false}, \"yaxis2\": {\"domain\": [0.8400000000000001, 1.0], \"anchor\": \"x2\", \"ticklen\": 3, \"tickfont\": {\"size\": 11, \"color\": \"lightgrey\"}}, \"xaxis3\": {\"domain\": [0.7666666666666666, 0.9999999999999999], \"anchor\": \"y3\", \"showticklabels\": false}, \"yaxis3\": {\"domain\": [0.8400000000000001, 1.0], \"anchor\": \"x3\", \"ticklen\": 3, \"tickfont\": {\"size\": 11, \"color\": \"lightgrey\"}}, \"xaxis4\": {\"domain\": [0.0, 0.2333333333333333], \"anchor\": \"y4\", \"showticklabels\": false}, \"yaxis4\": {\"domain\": [0.63, 0.79], \"anchor\": \"x4\", \"ticklen\": 3, \"tickfont\": {\"size\": 11, \"color\": \"lightgrey\"}}, \"xaxis5\": {\"domain\": [0.3833333333333333, 0.6166666666666666], \"anchor\": \"y5\", \"showticklabels\": false}, \"yaxis5\": {\"domain\": [0.63, 0.79], \"anchor\": \"x5\", \"ticklen\": 3, \"tickfont\": {\"size\": 11, \"color\": \"lightgrey\"}}, \"xaxis6\": {\"domain\": [0.7666666666666666, 0.9999999999999999], \"anchor\": \"y6\", \"showticklabels\": false}, \"yaxis6\": {\"domain\": [0.63, 0.79], \"anchor\": \"x6\", \"ticklen\": 3, \"tickfont\": {\"size\": 11, \"color\": \"lightgrey\"}}, \"xaxis7\": {\"domain\": [0.0, 0.2333333333333333], \"anchor\": \"y7\", \"showticklabels\": false}, \"yaxis7\": {\"domain\": [0.42000000000000004, 0.5800000000000001], \"anchor\": \"x7\", \"ticklen\": 3, \"tickfont\": {\"size\": 11, \"color\": \"lightgrey\"}}, \"xaxis8\": {\"domain\": [0.3833333333333333, 0.6166666666666666], \"anchor\": \"y8\", \"showticklabels\": false}, \"yaxis8\": {\"domain\": [0.42000000000000004, 0.5800000000000001], \"anchor\": \"x8\", \"ticklen\": 3, \"tickfont\": {\"size\": 11, \"color\": \"lightgrey\"}}, \"xaxis9\": {\"domain\": [0.7666666666666666, 0.9999999999999999], \"anchor\": \"y9\", \"showticklabels\": false}, \"yaxis9\": {\"domain\": [0.42000000000000004, 0.5800000000000001], \"anchor\": \"x9\", \"ticklen\": 3, \"tickfont\": {\"size\": 11, \"color\": \"lightgrey\"}}, \"xaxis10\": {\"domain\": [0.0, 0.2333333333333333], \"anchor\": \"y10\", \"showticklabels\": false}, \"yaxis10\": {\"domain\": [0.21000000000000002, 0.37], \"anchor\": \"x10\", \"ticklen\": 3, \"tickfont\": {\"size\": 11, \"color\": \"lightgrey\"}}, \"xaxis11\": {\"domain\": [0.3833333333333333, 0.6166666666666666], \"anchor\": \"y11\", \"showticklabels\": false}, \"yaxis11\": {\"domain\": [0.21000000000000002, 0.37], \"anchor\": \"x11\", \"ticklen\": 3, \"tickfont\": {\"size\": 11, \"color\": \"lightgrey\"}}, \"xaxis12\": {\"domain\": [0.7666666666666666, 0.9999999999999999], \"anchor\": \"y12\", \"showticklabels\": false}, \"yaxis12\": {\"domain\": [0.21000000000000002, 0.37], \"anchor\": \"x12\", \"ticklen\": 3, \"tickfont\": {\"size\": 11, \"color\": \"lightgrey\"}}, \"xaxis13\": {\"domain\": [0.0, 0.2333333333333333], \"anchor\": \"y13\", \"showticklabels\": false}, \"yaxis13\": {\"domain\": [0.0, 0.16], \"anchor\": \"x13\", \"ticklen\": 3, \"tickfont\": {\"size\": 11, \"color\": \"lightgrey\"}}, \"xaxis14\": {\"domain\": [0.3833333333333333, 0.6166666666666666], \"anchor\": \"y14\", \"showticklabels\": false}, \"yaxis14\": {\"domain\": [0.0, 0.16], \"anchor\": \"x14\", \"ticklen\": 3, \"tickfont\": {\"size\": 11, \"color\": \"lightgrey\"}}, \"xaxis15\": {\"domain\": [0.7666666666666666, 0.9999999999999999], \"anchor\": \"y15\", \"showticklabels\": false}, \"yaxis15\": {\"domain\": [0.0, 0.16], \"anchor\": \"x15\", \"ticklen\": 3, \"tickfont\": {\"size\": 11, \"color\": \"lightgrey\"}}, \"annotations\": [{\"y\": 1.0, \"xref\": \"paper\", \"x\": 0.11666666666666665, \"yref\": \"paper\", \"text\": \"abundance\", \"showarrow\": false, \"font\": {\"size\": 16}, \"xanchor\": \"center\", \"yanchor\": \"bottom\"}, {\"y\": 1.0, \"xref\": \"paper\", \"x\": 0.49999999999999994, \"yref\": \"paper\", \"text\": \"light_curve\", \"showarrow\": false, \"font\": {\"size\": 16}, \"xanchor\": \"center\", \"yanchor\": \"bottom\"}, {\"y\": 1.0, \"xref\": \"paper\", \"x\": 0.8833333333333333, \"yref\": \"paper\", \"text\": \"image\", \"showarrow\": false, \"font\": {\"size\": 16}, \"xanchor\": \"center\", \"yanchor\": \"bottom\"}, {\"y\": 0.79, \"xref\": \"paper\", \"x\": 0.11666666666666665, \"yref\": \"paper\", \"text\": \"signal\", \"showarrow\": false, \"font\": {\"size\": 16}, \"xanchor\": \"center\", \"yanchor\": \"bottom\"}, {\"y\": 0.79, \"xref\": \"paper\", \"x\": 0.49999999999999994, \"yref\": \"paper\", \"text\": \"image\", \"showarrow\": false, \"font\": {\"size\": 16}, \"xanchor\": \"center\", \"yanchor\": \"bottom\"}, {\"y\": 0.79, \"xref\": \"paper\", \"x\": 0.8833333333333333, \"yref\": \"paper\", \"text\": \"solution\", \"showarrow\": false, \"font\": {\"size\": 16}, \"xanchor\": \"center\", \"yanchor\": \"bottom\"}, {\"y\": 0.5800000000000001, \"xref\": \"paper\", \"x\": 0.11666666666666665, \"yref\": \"paper\", \"text\": \"disk\", \"showarrow\": false, \"font\": {\"size\": 16}, \"xanchor\": \"center\", \"yanchor\": \"bottom\"}, {\"y\": 0.5800000000000001, \"xref\": \"paper\", \"x\": 0.49999999999999994, \"yref\": \"paper\", \"text\": \"galaxie\", \"showarrow\": false, \"font\": {\"size\": 16}, \"xanchor\": \"center\", \"yanchor\": \"bottom\"}, {\"y\": 0.5800000000000001, \"xref\": \"paper\", \"x\": 0.8833333333333333, \"yref\": \"paper\", \"text\": \"planet\", \"showarrow\": false, \"font\": {\"size\": 16}, \"xanchor\": \"center\", \"yanchor\": \"bottom\"}, {\"y\": 0.37, \"xref\": \"paper\", \"x\": 0.11666666666666665, \"yref\": \"paper\", \"text\": \"spectra\", \"showarrow\": false, \"font\": {\"size\": 16}, \"xanchor\": \"center\", \"yanchor\": \"bottom\"}, {\"y\": 0.37, \"xref\": \"paper\", \"x\": 0.49999999999999994, \"yref\": \"paper\", \"text\": \"cloud\", \"showarrow\": false, \"font\": {\"size\": 16}, \"xanchor\": \"center\", \"yanchor\": \"bottom\"}, {\"y\": 0.37, \"xref\": \"paper\", \"x\": 0.8833333333333333, \"yref\": \"paper\", \"text\": \"shock\", \"showarrow\": false, \"font\": {\"size\": 16}, \"xanchor\": \"center\", \"yanchor\": \"bottom\"}, {\"y\": 0.16, \"xref\": \"paper\", \"x\": 0.11666666666666665, \"yref\": \"paper\", \"text\": \"power_spectrum\", \"showarrow\": false, \"font\": {\"size\": 16}, \"xanchor\": \"center\", \"yanchor\": \"bottom\"}, {\"y\": 0.16, \"xref\": \"paper\", \"x\": 0.49999999999999994, \"yref\": \"paper\", \"text\": \"cluster\", \"showarrow\": false, \"font\": {\"size\": 16}, \"xanchor\": \"center\", \"yanchor\": \"bottom\"}, {\"y\": 0.16, \"xref\": \"paper\", \"x\": 0.8833333333333333, \"yref\": \"paper\", \"text\": \"galaxie\", \"showarrow\": false, \"font\": {\"size\": 16}, \"xanchor\": \"center\", \"yanchor\": \"bottom\"}], \"height\": 750, \"width\": 750, \"showlegend\": false, \"title\": \"\", \"margin\": {\"t\": 120}}, {\"showLink\": false, \"linkText\": \"Export to plot.ly\"})});</script>"
      ],
      "text/vnd.plotly.v1+html": [
       "<div id=\"423df385-1a6b-4531-8933-81bc7479febd\" style=\"height: 750px; width: 750px;\" class=\"plotly-graph-div\"></div><script type=\"text/javascript\">require([\"plotly\"], function(Plotly) { window.PLOTLYENV=window.PLOTLYENV || {};window.PLOTLYENV.BASE_URL=\"https://plot.ly\";Plotly.newPlot(\"423df385-1a6b-4531-8933-81bc7479febd\", [{\"type\": \"bar\", \"x\": [0.005, 0.005, 0.006, 0.006, 0.006, 0.009], \"y\": [\"dust\", \"particle\", \"surface\", \"core\", \"mass_loss\", \"abundance\"], \"orientation\": \"h\", \"name\": \"topic #1\", \"marker\": {\"color\": \"orange\"}, \"xaxis\": \"x1\", \"yaxis\": \"y1\"}, {\"type\": \"bar\", \"x\": [0.007, 0.007, 0.007, 0.008, 0.009, 0.009], \"y\": [\"accretion\", \"luminosity\", \"spin\", \"black_hole\", \"light_curve\", \"outburst\"], \"orientation\": \"h\", \"name\": \"topic #2\", \"marker\": {\"color\": \"orange\"}, \"xaxis\": \"x2\", \"yaxis\": \"y2\"}, {\"type\": \"bar\", \"x\": [0.006, 0.006, 0.008, 0.008, 0.009, 0.012], \"y\": [\"solar\", \"frequency\", \"flare\", \"magnetic_field\", \"radio\", \"image\"], \"orientation\": \"h\", \"name\": \"topic #3\", \"marker\": {\"color\": \"orange\"}, \"xaxis\": \"x3\", \"yaxis\": \"y3\"}, {\"type\": \"bar\", \"x\": [0.004, 0.005, 0.005, 0.01, 0.01, 0.011], \"y\": [\"neutrino\", \"experiment\", \"dark_matter\", \"event\", \"detector\", \"signal\"], \"orientation\": \"h\", \"name\": \"topic #4\", \"marker\": {\"color\": \"orange\"}, \"xaxis\": \"x4\", \"yaxis\": \"y4\"}, {\"type\": \"bar\", \"x\": [0.005, 0.005, 0.006, 0.006, 0.006, 0.016], \"y\": [\"magnitude\", \"filter\", \"spectra\", \"pixel\", \"survey\", \"image\"], \"orientation\": \"h\", \"name\": \"topic #5\", \"marker\": {\"color\": \"orange\"}, \"xaxis\": \"x5\", \"yaxis\": \"y5\"}, {\"type\": \"bar\", \"x\": [0.004, 0.004, 0.005, 0.005, 0.007, 0.008], \"y\": [\"axion\", \"black_hole\", \"particle\", \"matter\", \"mode\", \"solution\"], \"orientation\": \"h\", \"name\": \"topic #6\", \"marker\": {\"color\": \"orange\"}, \"xaxis\": \"x6\", \"yaxis\": \"y6\"}, {\"type\": \"bar\", \"x\": [0.005, 0.006, 0.006, 0.011, 0.011, 0.02], \"y\": [\"magnetic\", \"particle\", \"flow\", \"disc\", \"magnetic_field\", \"disk\"], \"orientation\": \"h\", \"name\": \"topic #7\", \"marker\": {\"color\": \"orange\"}, \"xaxis\": \"x7\", \"yaxis\": \"y7\"}, {\"type\": \"bar\", \"x\": [0.007, 0.007, 0.008, 0.016, 0.018, 0.023], \"y\": [\"stellar_mass\", \"metallicity\", \"star_formation\", \"galaxy\", \"halo\", \"galaxie\"], \"orientation\": \"h\", \"name\": \"topic #8\", \"marker\": {\"color\": \"orange\"}, \"xaxis\": \"x8\", \"yaxis\": \"y8\"}, {\"type\": \"bar\", \"x\": [0.005, 0.005, 0.005, 0.008, 0.008, 0.026], \"y\": [\"kepler\", \"transit\", \"light_curve\", \"orbit\", \"period\", \"planet\"], \"orientation\": \"h\", \"name\": \"topic #9\", \"marker\": {\"color\": \"orange\"}, \"xaxis\": \"x9\", \"yaxis\": \"y9\"}, {\"type\": \"bar\", \"x\": [0.007, 0.007, 0.008, 0.011, 0.014, 0.017], \"y\": [\"luminosity\", \"optical\", \"spectral\", \"absorption\", \"quasar\", \"spectra\"], \"orientation\": \"h\", \"name\": \"topic #10\", \"marker\": {\"color\": \"orange\"}, \"xaxis\": \"x10\", \"yaxis\": \"y10\"}, {\"type\": \"bar\", \"x\": [0.006, 0.006, 0.008, 0.009, 0.012, 0.021], \"y\": [\"star_formation\", \"filament\", \"molecular\", \"clump\", \"dust\", \"cloud\"], \"orientation\": \"h\", \"name\": \"topic #11\", \"marker\": {\"color\": \"orange\"}, \"xaxis\": \"x11\", \"yaxis\": \"y11\"}, {\"type\": \"bar\", \"x\": [0.007, 0.007, 0.007, 0.008, 0.008, 0.012], \"y\": [\"pulsar\", \"photon\", \"burst\", \"electron\", \"magnetic_field\", \"shock\"], \"orientation\": \"h\", \"name\": \"topic #12\", \"marker\": {\"color\": \"orange\"}, \"xaxis\": \"x12\", \"yaxis\": \"y12\"}, {\"type\": \"bar\", \"x\": [0.005, 0.006, 0.006, 0.006, 0.007, 0.007], \"y\": [\"universe\", \"redshift\", \"cosmological\", \"matter\", \"power_spectrum\", \"constraint\"], \"orientation\": \"h\", \"name\": \"topic #13\", \"marker\": {\"color\": \"orange\"}, \"xaxis\": \"x13\", \"yaxis\": \"y13\"}, {\"type\": \"bar\", \"x\": [0.006, 0.006, 0.007, 0.009, 0.01, 0.044], \"y\": [\"galaxy\", \"population\", \"profile\", \"halo\", \"group\", \"cluster\"], \"orientation\": \"h\", \"name\": \"topic #14\", \"marker\": {\"color\": \"orange\"}, \"xaxis\": \"x14\", \"yaxis\": \"y14\"}, {\"type\": \"bar\", \"x\": [0.005, 0.006, 0.008, 0.019, 0.023, 0.041], \"y\": [\"image\", \"luminosity\", \"survey\", \"redshift\", \"galaxy\", \"galaxie\"], \"orientation\": \"h\", \"name\": \"topic #15\", \"marker\": {\"color\": \"orange\"}, \"xaxis\": \"x15\", \"yaxis\": \"y15\"}], {\"xaxis1\": {\"domain\": [0.0, 0.2333333333333333], \"anchor\": \"y1\", \"showticklabels\": false}, \"yaxis1\": {\"domain\": [0.8400000000000001, 1.0], \"anchor\": \"x1\", \"ticklen\": 3, \"tickfont\": {\"size\": 11, \"color\": \"lightgrey\"}}, \"xaxis2\": {\"domain\": [0.3833333333333333, 0.6166666666666666], \"anchor\": \"y2\", \"showticklabels\": false}, \"yaxis2\": {\"domain\": [0.8400000000000001, 1.0], \"anchor\": \"x2\", \"ticklen\": 3, \"tickfont\": {\"size\": 11, \"color\": \"lightgrey\"}}, \"xaxis3\": {\"domain\": [0.7666666666666666, 0.9999999999999999], \"anchor\": \"y3\", \"showticklabels\": false}, \"yaxis3\": {\"domain\": [0.8400000000000001, 1.0], \"anchor\": \"x3\", \"ticklen\": 3, \"tickfont\": {\"size\": 11, \"color\": \"lightgrey\"}}, \"xaxis4\": {\"domain\": [0.0, 0.2333333333333333], \"anchor\": \"y4\", \"showticklabels\": false}, \"yaxis4\": {\"domain\": [0.63, 0.79], \"anchor\": \"x4\", \"ticklen\": 3, \"tickfont\": {\"size\": 11, \"color\": \"lightgrey\"}}, \"xaxis5\": {\"domain\": [0.3833333333333333, 0.6166666666666666], \"anchor\": \"y5\", \"showticklabels\": false}, \"yaxis5\": {\"domain\": [0.63, 0.79], \"anchor\": \"x5\", \"ticklen\": 3, \"tickfont\": {\"size\": 11, \"color\": \"lightgrey\"}}, \"xaxis6\": {\"domain\": [0.7666666666666666, 0.9999999999999999], \"anchor\": \"y6\", \"showticklabels\": false}, \"yaxis6\": {\"domain\": [0.63, 0.79], \"anchor\": \"x6\", \"ticklen\": 3, \"tickfont\": {\"size\": 11, \"color\": \"lightgrey\"}}, \"xaxis7\": {\"domain\": [0.0, 0.2333333333333333], \"anchor\": \"y7\", \"showticklabels\": false}, \"yaxis7\": {\"domain\": [0.42000000000000004, 0.5800000000000001], \"anchor\": \"x7\", \"ticklen\": 3, \"tickfont\": {\"size\": 11, \"color\": \"lightgrey\"}}, \"xaxis8\": {\"domain\": [0.3833333333333333, 0.6166666666666666], \"anchor\": \"y8\", \"showticklabels\": false}, \"yaxis8\": {\"domain\": [0.42000000000000004, 0.5800000000000001], \"anchor\": \"x8\", \"ticklen\": 3, \"tickfont\": {\"size\": 11, \"color\": \"lightgrey\"}}, \"xaxis9\": {\"domain\": [0.7666666666666666, 0.9999999999999999], \"anchor\": \"y9\", \"showticklabels\": false}, \"yaxis9\": {\"domain\": [0.42000000000000004, 0.5800000000000001], \"anchor\": \"x9\", \"ticklen\": 3, \"tickfont\": {\"size\": 11, \"color\": \"lightgrey\"}}, \"xaxis10\": {\"domain\": [0.0, 0.2333333333333333], \"anchor\": \"y10\", \"showticklabels\": false}, \"yaxis10\": {\"domain\": [0.21000000000000002, 0.37], \"anchor\": \"x10\", \"ticklen\": 3, \"tickfont\": {\"size\": 11, \"color\": \"lightgrey\"}}, \"xaxis11\": {\"domain\": [0.3833333333333333, 0.6166666666666666], \"anchor\": \"y11\", \"showticklabels\": false}, \"yaxis11\": {\"domain\": [0.21000000000000002, 0.37], \"anchor\": \"x11\", \"ticklen\": 3, \"tickfont\": {\"size\": 11, \"color\": \"lightgrey\"}}, \"xaxis12\": {\"domain\": [0.7666666666666666, 0.9999999999999999], \"anchor\": \"y12\", \"showticklabels\": false}, \"yaxis12\": {\"domain\": [0.21000000000000002, 0.37], \"anchor\": \"x12\", \"ticklen\": 3, \"tickfont\": {\"size\": 11, \"color\": \"lightgrey\"}}, \"xaxis13\": {\"domain\": [0.0, 0.2333333333333333], \"anchor\": \"y13\", \"showticklabels\": false}, \"yaxis13\": {\"domain\": [0.0, 0.16], \"anchor\": \"x13\", \"ticklen\": 3, \"tickfont\": {\"size\": 11, \"color\": \"lightgrey\"}}, \"xaxis14\": {\"domain\": [0.3833333333333333, 0.6166666666666666], \"anchor\": \"y14\", \"showticklabels\": false}, \"yaxis14\": {\"domain\": [0.0, 0.16], \"anchor\": \"x14\", \"ticklen\": 3, \"tickfont\": {\"size\": 11, \"color\": \"lightgrey\"}}, \"xaxis15\": {\"domain\": [0.7666666666666666, 0.9999999999999999], \"anchor\": \"y15\", \"showticklabels\": false}, \"yaxis15\": {\"domain\": [0.0, 0.16], \"anchor\": \"x15\", \"ticklen\": 3, \"tickfont\": {\"size\": 11, \"color\": \"lightgrey\"}}, \"annotations\": [{\"y\": 1.0, \"xref\": \"paper\", \"x\": 0.11666666666666665, \"yref\": \"paper\", \"text\": \"abundance\", \"showarrow\": false, \"font\": {\"size\": 16}, \"xanchor\": \"center\", \"yanchor\": \"bottom\"}, {\"y\": 1.0, \"xref\": \"paper\", \"x\": 0.49999999999999994, \"yref\": \"paper\", \"text\": \"light_curve\", \"showarrow\": false, \"font\": {\"size\": 16}, \"xanchor\": \"center\", \"yanchor\": \"bottom\"}, {\"y\": 1.0, \"xref\": \"paper\", \"x\": 0.8833333333333333, \"yref\": \"paper\", \"text\": \"image\", \"showarrow\": false, \"font\": {\"size\": 16}, \"xanchor\": \"center\", \"yanchor\": \"bottom\"}, {\"y\": 0.79, \"xref\": \"paper\", \"x\": 0.11666666666666665, \"yref\": \"paper\", \"text\": \"signal\", \"showarrow\": false, \"font\": {\"size\": 16}, \"xanchor\": \"center\", \"yanchor\": \"bottom\"}, {\"y\": 0.79, \"xref\": \"paper\", \"x\": 0.49999999999999994, \"yref\": \"paper\", \"text\": \"image\", \"showarrow\": false, \"font\": {\"size\": 16}, \"xanchor\": \"center\", \"yanchor\": \"bottom\"}, {\"y\": 0.79, \"xref\": \"paper\", \"x\": 0.8833333333333333, \"yref\": \"paper\", \"text\": \"solution\", \"showarrow\": false, \"font\": {\"size\": 16}, \"xanchor\": \"center\", \"yanchor\": \"bottom\"}, {\"y\": 0.5800000000000001, \"xref\": \"paper\", \"x\": 0.11666666666666665, \"yref\": \"paper\", \"text\": \"disk\", \"showarrow\": false, \"font\": {\"size\": 16}, \"xanchor\": \"center\", \"yanchor\": \"bottom\"}, {\"y\": 0.5800000000000001, \"xref\": \"paper\", \"x\": 0.49999999999999994, \"yref\": \"paper\", \"text\": \"galaxie\", \"showarrow\": false, \"font\": {\"size\": 16}, \"xanchor\": \"center\", \"yanchor\": \"bottom\"}, {\"y\": 0.5800000000000001, \"xref\": \"paper\", \"x\": 0.8833333333333333, \"yref\": \"paper\", \"text\": \"planet\", \"showarrow\": false, \"font\": {\"size\": 16}, \"xanchor\": \"center\", \"yanchor\": \"bottom\"}, {\"y\": 0.37, \"xref\": \"paper\", \"x\": 0.11666666666666665, \"yref\": \"paper\", \"text\": \"spectra\", \"showarrow\": false, \"font\": {\"size\": 16}, \"xanchor\": \"center\", \"yanchor\": \"bottom\"}, {\"y\": 0.37, \"xref\": \"paper\", \"x\": 0.49999999999999994, \"yref\": \"paper\", \"text\": \"cloud\", \"showarrow\": false, \"font\": {\"size\": 16}, \"xanchor\": \"center\", \"yanchor\": \"bottom\"}, {\"y\": 0.37, \"xref\": \"paper\", \"x\": 0.8833333333333333, \"yref\": \"paper\", \"text\": \"shock\", \"showarrow\": false, \"font\": {\"size\": 16}, \"xanchor\": \"center\", \"yanchor\": \"bottom\"}, {\"y\": 0.16, \"xref\": \"paper\", \"x\": 0.11666666666666665, \"yref\": \"paper\", \"text\": \"power_spectrum\", \"showarrow\": false, \"font\": {\"size\": 16}, \"xanchor\": \"center\", \"yanchor\": \"bottom\"}, {\"y\": 0.16, \"xref\": \"paper\", \"x\": 0.49999999999999994, \"yref\": \"paper\", \"text\": \"cluster\", \"showarrow\": false, \"font\": {\"size\": 16}, \"xanchor\": \"center\", \"yanchor\": \"bottom\"}, {\"y\": 0.16, \"xref\": \"paper\", \"x\": 0.8833333333333333, \"yref\": \"paper\", \"text\": \"galaxie\", \"showarrow\": false, \"font\": {\"size\": 16}, \"xanchor\": \"center\", \"yanchor\": \"bottom\"}], \"height\": 750, \"width\": 750, \"showlegend\": false, \"title\": \"\", \"margin\": {\"t\": 120}}, {\"showLink\": false, \"linkText\": \"Export to plot.ly\"})});</script>"
      ]
     },
     "metadata": {},
     "output_type": "display_data"
    }
   ],
   "source": [
    "draw_barchart(volume) # volume topics"
   ]
  },
  {
   "cell_type": "code",
   "execution_count": 6,
   "metadata": {},
   "outputs": [
    {
     "data": {
      "text/markdown": [
       "\n",
       "| Topic title | Articles |\n",
       "| --- | --- |\n",
       "| abundance, surface | [1709.00595](https://arxiv.org/pdf/1709.00595.pdf)&nbsp;&nbsp;&nbsp;&nbsp;[1705.06235](https://arxiv.org/pdf/1705.06235.pdf)&nbsp;&nbsp;&nbsp;&nbsp;[1702.02844](https://arxiv.org/pdf/1702.02844.pdf)&nbsp;&nbsp;&nbsp;&nbsp;[1708.00633](https://arxiv.org/pdf/1708.00633.pdf)&nbsp;&nbsp;&nbsp;&nbsp;[1701.05189](https://arxiv.org/pdf/1701.05189.pdf)&nbsp;&nbsp;&nbsp;&nbsp; |\n",
       "| light_curve, outburst | [1712.02571](https://arxiv.org/pdf/1712.02571.pdf)&nbsp;&nbsp;&nbsp;&nbsp;[1705.06795](https://arxiv.org/pdf/1705.06795.pdf)&nbsp;&nbsp;&nbsp;&nbsp;[1707.07356](https://arxiv.org/pdf/1707.07356.pdf)&nbsp;&nbsp;&nbsp;&nbsp;[1704.02628](https://arxiv.org/pdf/1704.02628.pdf)&nbsp;&nbsp;&nbsp;&nbsp;[1711.07672](https://arxiv.org/pdf/1711.07672.pdf)&nbsp;&nbsp;&nbsp;&nbsp; |\n",
       "| image, radio | [1706.02836](https://arxiv.org/pdf/1706.02836.pdf)&nbsp;&nbsp;&nbsp;&nbsp;[1705.06795](https://arxiv.org/pdf/1705.06795.pdf)&nbsp;&nbsp;&nbsp;&nbsp;[1709.08574](https://arxiv.org/pdf/1709.08574.pdf)&nbsp;&nbsp;&nbsp;&nbsp;[1707.00414](https://arxiv.org/pdf/1707.00414.pdf)&nbsp;&nbsp;&nbsp;&nbsp;[1705.10493](https://arxiv.org/pdf/1705.10493.pdf)&nbsp;&nbsp;&nbsp;&nbsp; |\n",
       "| signal, event | [1711.07421](https://arxiv.org/pdf/1711.07421.pdf)&nbsp;&nbsp;&nbsp;&nbsp;[1701.03952](https://arxiv.org/pdf/1701.03952.pdf)&nbsp;&nbsp;&nbsp;&nbsp;[1712.04979](https://arxiv.org/pdf/1712.04979.pdf)&nbsp;&nbsp;&nbsp;&nbsp;[1705.10944](https://arxiv.org/pdf/1705.10944.pdf)&nbsp;&nbsp;&nbsp;&nbsp;[1709.01877](https://arxiv.org/pdf/1709.01877.pdf)&nbsp;&nbsp;&nbsp;&nbsp; |\n",
       "| image, spectra | [1708.04685](https://arxiv.org/pdf/1708.04685.pdf)&nbsp;&nbsp;&nbsp;&nbsp;[1709.03531](https://arxiv.org/pdf/1709.03531.pdf)&nbsp;&nbsp;&nbsp;&nbsp;[1709.04045](https://arxiv.org/pdf/1709.04045.pdf)&nbsp;&nbsp;&nbsp;&nbsp;[1703.02305](https://arxiv.org/pdf/1703.02305.pdf)&nbsp;&nbsp;&nbsp;&nbsp;[1703.08410](https://arxiv.org/pdf/1703.08410.pdf)&nbsp;&nbsp;&nbsp;&nbsp; |\n",
       "| solution, mode | [1701.03168](https://arxiv.org/pdf/1701.03168.pdf)&nbsp;&nbsp;&nbsp;&nbsp;[1707.00414](https://arxiv.org/pdf/1707.00414.pdf)&nbsp;&nbsp;&nbsp;&nbsp;[1711.00835](https://arxiv.org/pdf/1711.00835.pdf)&nbsp;&nbsp;&nbsp;&nbsp;[1709.08574](https://arxiv.org/pdf/1709.08574.pdf)&nbsp;&nbsp;&nbsp;&nbsp;[1707.00701](https://arxiv.org/pdf/1707.00701.pdf)&nbsp;&nbsp;&nbsp;&nbsp; |\n",
       "| disk, disc | [1701.03152](https://arxiv.org/pdf/1701.03152.pdf)&nbsp;&nbsp;&nbsp;&nbsp;[1708.01275](https://arxiv.org/pdf/1708.01275.pdf)&nbsp;&nbsp;&nbsp;&nbsp;[1708.05388](https://arxiv.org/pdf/1708.05388.pdf)&nbsp;&nbsp;&nbsp;&nbsp;[1704.06317](https://arxiv.org/pdf/1704.06317.pdf)&nbsp;&nbsp;&nbsp;&nbsp;[1704.08962](https://arxiv.org/pdf/1704.08962.pdf)&nbsp;&nbsp;&nbsp;&nbsp; |\n",
       "| galaxie, halo | [1709.07881](https://arxiv.org/pdf/1709.07881.pdf)&nbsp;&nbsp;&nbsp;&nbsp;[1708.01615](https://arxiv.org/pdf/1708.01615.pdf)&nbsp;&nbsp;&nbsp;&nbsp;[1702.08614](https://arxiv.org/pdf/1702.08614.pdf)&nbsp;&nbsp;&nbsp;&nbsp;[1707.01106](https://arxiv.org/pdf/1707.01106.pdf)&nbsp;&nbsp;&nbsp;&nbsp;[1703.08410](https://arxiv.org/pdf/1703.08410.pdf)&nbsp;&nbsp;&nbsp;&nbsp; |\n",
       "| planet, orbit | [1706.09849](https://arxiv.org/pdf/1706.09849.pdf)&nbsp;&nbsp;&nbsp;&nbsp;[1710.08295](https://arxiv.org/pdf/1710.08295.pdf)&nbsp;&nbsp;&nbsp;&nbsp;[1708.01275](https://arxiv.org/pdf/1708.01275.pdf)&nbsp;&nbsp;&nbsp;&nbsp;[1705.04460](https://arxiv.org/pdf/1705.04460.pdf)&nbsp;&nbsp;&nbsp;&nbsp;[1708.00693](https://arxiv.org/pdf/1708.00693.pdf)&nbsp;&nbsp;&nbsp;&nbsp; |\n",
       "| spectra, quasar | [1706.01635](https://arxiv.org/pdf/1706.01635.pdf)&nbsp;&nbsp;&nbsp;&nbsp;[1701.00922](https://arxiv.org/pdf/1701.00922.pdf)&nbsp;&nbsp;&nbsp;&nbsp;[1706.09759](https://arxiv.org/pdf/1706.09759.pdf)&nbsp;&nbsp;&nbsp;&nbsp;[1703.03051](https://arxiv.org/pdf/1703.03051.pdf)&nbsp;&nbsp;&nbsp;&nbsp;[1708.06155](https://arxiv.org/pdf/1708.06155.pdf)&nbsp;&nbsp;&nbsp;&nbsp; |\n",
       "| cloud, dust | [1708.08149](https://arxiv.org/pdf/1708.08149.pdf)&nbsp;&nbsp;&nbsp;&nbsp;[1703.09709](https://arxiv.org/pdf/1703.09709.pdf)&nbsp;&nbsp;&nbsp;&nbsp;[1702.02844](https://arxiv.org/pdf/1702.02844.pdf)&nbsp;&nbsp;&nbsp;&nbsp;[1706.07164](https://arxiv.org/pdf/1706.07164.pdf)&nbsp;&nbsp;&nbsp;&nbsp;[1706.05107](https://arxiv.org/pdf/1706.05107.pdf)&nbsp;&nbsp;&nbsp;&nbsp; |\n",
       "| shock, electron | [1703.09311](https://arxiv.org/pdf/1703.09311.pdf)&nbsp;&nbsp;&nbsp;&nbsp;[1711.01279](https://arxiv.org/pdf/1711.01279.pdf)&nbsp;&nbsp;&nbsp;&nbsp;[1707.07511](https://arxiv.org/pdf/1707.07511.pdf)&nbsp;&nbsp;&nbsp;&nbsp;[1709.08574](https://arxiv.org/pdf/1709.08574.pdf)&nbsp;&nbsp;&nbsp;&nbsp;[1705.06795](https://arxiv.org/pdf/1705.06795.pdf)&nbsp;&nbsp;&nbsp;&nbsp; |\n",
       "| power_spectrum, constraint | [1701.06102](https://arxiv.org/pdf/1701.06102.pdf)&nbsp;&nbsp;&nbsp;&nbsp;[1702.08855](https://arxiv.org/pdf/1702.08855.pdf)&nbsp;&nbsp;&nbsp;&nbsp;[1711.01051](https://arxiv.org/pdf/1711.01051.pdf)&nbsp;&nbsp;&nbsp;&nbsp;[1706.06913](https://arxiv.org/pdf/1706.06913.pdf)&nbsp;&nbsp;&nbsp;&nbsp;[1704.07830](https://arxiv.org/pdf/1704.07830.pdf)&nbsp;&nbsp;&nbsp;&nbsp; |\n",
       "| cluster, group | [1704.03529](https://arxiv.org/pdf/1704.03529.pdf)&nbsp;&nbsp;&nbsp;&nbsp;[1709.01289](https://arxiv.org/pdf/1709.01289.pdf)&nbsp;&nbsp;&nbsp;&nbsp;[1704.07843](https://arxiv.org/pdf/1704.07843.pdf)&nbsp;&nbsp;&nbsp;&nbsp;[1705.07344](https://arxiv.org/pdf/1705.07344.pdf)&nbsp;&nbsp;&nbsp;&nbsp;[1703.07365](https://arxiv.org/pdf/1703.07365.pdf)&nbsp;&nbsp;&nbsp;&nbsp; |\n",
       "| galaxie, galaxy | [1704.07830](https://arxiv.org/pdf/1704.07830.pdf)&nbsp;&nbsp;&nbsp;&nbsp;[1704.03529](https://arxiv.org/pdf/1704.03529.pdf)&nbsp;&nbsp;&nbsp;&nbsp;[1701.02427](https://arxiv.org/pdf/1701.02427.pdf)&nbsp;&nbsp;&nbsp;&nbsp;[1701.06102](https://arxiv.org/pdf/1701.06102.pdf)&nbsp;&nbsp;&nbsp;&nbsp;[1702.08614](https://arxiv.org/pdf/1702.08614.pdf)&nbsp;&nbsp;&nbsp;&nbsp; |\n"
      ],
      "text/plain": [
       "<IPython.core.display.Markdown object>"
      ]
     },
     "metadata": {},
     "output_type": "display_data"
    }
   ],
   "source": [
    "lda_articles(volume) # topic articles"
   ]
  },
  {
   "cell_type": "code",
   "execution_count": 28,
   "metadata": {},
   "outputs": [
    {
     "data": {
      "text/markdown": [
       "\n",
       "| <center>Author(s)<center> | <center>Year<center> | <center>Ref. count<center> |\n",
       "| --- | --- | --- |\n",
       "|<center>P. A. R, R. Ade</center>|<center>2016</center>|<center>84</center>|\n",
       "|<center>B. P. Abbott</center>|<center>2016</center>|<center>58</center>|\n",
       "|<center>S. Weinberg</center>|<center>1989</center>|<center>45</center>|\n",
       "|<center>A. H. Guth</center>|<center>1981</center>|<center>35</center>|\n",
       "|<center>S. Weinberg</center>|<center>1978</center>|<center>33</center>|\n",
       "|<center>P. A. R, R. Ade</center>|<center>2014</center>|<center>33</center>|\n",
       "|<center>A. A. Starobinsky</center>|<center>1980</center>|<center>32</center>|\n",
       "|<center>A. Lewis, S. Bridle</center>|<center>2002</center>|<center>31</center>|\n",
       "|<center>M. Dine, W. Fischler</center>|<center>1983</center>|<center>30</center>|\n",
       "|<center>B. P. Abbott</center>|<center>2017</center>|<center>28</center>|\n",
       "|<center>C. Patrignani</center>|<center>2016</center>|<center>27</center>|\n",
       "|<center>A. D. Linde</center>|<center>1982</center>|<center>27</center>|\n",
       "|<center>R. D. Peccei, H. R. Quinn</center>|<center>1977</center>|<center>26</center>|\n",
       "|<center>A. G. Riess</center>|<center>1998</center>|<center>26</center>|\n",
       "|<center>G. W. Horndeski, J. Theor</center>|<center>1974</center>|<center>25</center>|\n"
      ],
      "text/plain": [
       "<IPython.core.display.Markdown object>"
      ]
     },
     "metadata": {},
     "output_type": "display_data"
    }
   ],
   "source": [
    "citied_articles(volume, n_cites=15)"
   ]
  },
  {
   "cell_type": "code",
   "execution_count": 6,
   "metadata": {},
   "outputs": [
    {
     "data": {
      "application/vnd.plotly.v1+json": {
       "data": [
        {
         "hoverinfo": "text",
         "marker": {
          "color": "blue"
         },
         "orientation": "h",
         "text": [
          35,
          35,
          35,
          35
         ],
         "type": "bar",
         "x": [
          35,
          35,
          35,
          35
         ],
         "xaxis": "x1",
         "y": [
          "D. Gruen",
          "R. A. Gruendl",
          "G. Gutierrez",
          "K. Kuehn"
         ],
         "yaxis": "y1"
        },
        {
         "hoverinfo": "text",
         "marker": {
          "color": "blue"
         },
         "orientation": "h",
         "text": [
          23,
          21,
          19,
          19
         ],
         "type": "bar",
         "x": [
          23,
          21,
          19,
          19
         ],
         "xaxis": "x2",
         "y": [
          "Andrew W. Howard",
          "S. Udry",
          "Keivan G. Stassun",
          "T. Yamada"
         ],
         "yaxis": "y2"
        },
        {
         "hoverinfo": "text",
         "marker": {
          "color": "blue"
         },
         "orientation": "h",
         "text": [
          29,
          29,
          29,
          28
         ],
         "type": "bar",
         "x": [
          29,
          29,
          29,
          28
         ],
         "xaxis": "x3",
         "y": [
          "Joop Schaye",
          "J. Bland-Hawthorn",
          "R. J. Ivison",
          "Yasuo Fukui"
         ],
         "yaxis": "y3"
        },
        {
         "hoverinfo": "text",
         "marker": {
          "color": "blue"
         },
         "orientation": "h",
         "text": [
          38,
          32,
          30,
          30
         ],
         "type": "bar",
         "x": [
          38,
          32,
          30,
          30
         ],
         "xaxis": "x4",
         "y": [
          "U. Katz",
          "E. Bernardini",
          "S. Sarkar",
          "K. Satalecka"
         ],
         "yaxis": "y4"
        },
        {
         "hoverinfo": "text",
         "marker": {
          "color": "blue"
         },
         "orientation": "h",
         "text": [
          14,
          11,
          11,
          11
         ],
         "type": "bar",
         "x": [
          14,
          11,
          11,
          11
         ],
         "xaxis": "x5",
         "y": [
          "Jekan Thangavelautham",
          "A. Haungs",
          "T. Huege",
          "M. Kleifges"
         ],
         "yaxis": "y5"
        },
        {
         "hoverinfo": "text",
         "marker": {
          "color": "blue"
         },
         "orientation": "h",
         "text": [
          24,
          22,
          20,
          18
         ],
         "type": "bar",
         "x": [
          24,
          22,
          20,
          18
         ],
         "xaxis": "x6",
         "y": [
          "Keivan G. Stassun",
          "G. A. Wade",
          "Th. Henning",
          "A. Udalski"
         ],
         "yaxis": "y6"
        }
       ],
       "layout": {
        "annotations": [
         {
          "font": {
           "size": 16
          },
          "showarrow": false,
          "text": "CO",
          "x": 0.1625,
          "xanchor": "center",
          "xref": "paper",
          "y": 1.0000000000000002,
          "yanchor": "bottom",
          "yref": "paper"
         },
         {
          "font": {
           "size": 16
          },
          "showarrow": false,
          "text": "EP",
          "x": 0.8375,
          "xanchor": "center",
          "xref": "paper",
          "y": 1.0000000000000002,
          "yanchor": "bottom",
          "yref": "paper"
         },
         {
          "font": {
           "size": 16
          },
          "showarrow": false,
          "text": "GA",
          "x": 0.1625,
          "xanchor": "center",
          "xref": "paper",
          "y": 0.6366666666666667,
          "yanchor": "bottom",
          "yref": "paper"
         },
         {
          "font": {
           "size": 16
          },
          "showarrow": false,
          "text": "HE",
          "x": 0.8375,
          "xanchor": "center",
          "xref": "paper",
          "y": 0.6366666666666667,
          "yanchor": "bottom",
          "yref": "paper"
         },
         {
          "font": {
           "size": 16
          },
          "showarrow": false,
          "text": "IM",
          "x": 0.1625,
          "xanchor": "center",
          "xref": "paper",
          "y": 0.2733333333333334,
          "yanchor": "bottom",
          "yref": "paper"
         },
         {
          "font": {
           "size": 16
          },
          "showarrow": false,
          "text": "SR",
          "x": 0.8375,
          "xanchor": "center",
          "xref": "paper",
          "y": 0.2733333333333334,
          "yanchor": "bottom",
          "yref": "paper"
         },
         {
          "font": {
           "color": "lightgrey",
           "size": 11
          },
          "showarrow": false,
          "text": 35,
          "x": 35,
          "xanchor": "left",
          "xref": "x1",
          "y": "D. Gruen",
          "yref": "y1"
         },
         {
          "font": {
           "color": "lightgrey",
           "size": 11
          },
          "showarrow": false,
          "text": 35,
          "x": 35,
          "xanchor": "left",
          "xref": "x1",
          "y": "R. A. Gruendl",
          "yref": "y1"
         },
         {
          "font": {
           "color": "lightgrey",
           "size": 11
          },
          "showarrow": false,
          "text": 35,
          "x": 35,
          "xanchor": "left",
          "xref": "x1",
          "y": "G. Gutierrez",
          "yref": "y1"
         },
         {
          "font": {
           "color": "lightgrey",
           "size": 11
          },
          "showarrow": false,
          "text": 35,
          "x": 35,
          "xanchor": "left",
          "xref": "x1",
          "y": "K. Kuehn",
          "yref": "y1"
         },
         {
          "font": {
           "color": "lightgrey",
           "size": 11
          },
          "showarrow": false,
          "text": 23,
          "x": 23,
          "xanchor": "left",
          "xref": "x2",
          "y": "Andrew W. Howard",
          "yref": "y2"
         },
         {
          "font": {
           "color": "lightgrey",
           "size": 11
          },
          "showarrow": false,
          "text": 21,
          "x": 21,
          "xanchor": "left",
          "xref": "x2",
          "y": "S. Udry",
          "yref": "y2"
         },
         {
          "font": {
           "color": "lightgrey",
           "size": 11
          },
          "showarrow": false,
          "text": 19,
          "x": 19,
          "xanchor": "left",
          "xref": "x2",
          "y": "Keivan G. Stassun",
          "yref": "y2"
         },
         {
          "font": {
           "color": "lightgrey",
           "size": 11
          },
          "showarrow": false,
          "text": 19,
          "x": 19,
          "xanchor": "left",
          "xref": "x2",
          "y": "T. Yamada",
          "yref": "y2"
         },
         {
          "font": {
           "color": "lightgrey",
           "size": 11
          },
          "showarrow": false,
          "text": 29,
          "x": 29,
          "xanchor": "left",
          "xref": "x3",
          "y": "Joop Schaye",
          "yref": "y3"
         },
         {
          "font": {
           "color": "lightgrey",
           "size": 11
          },
          "showarrow": false,
          "text": 29,
          "x": 29,
          "xanchor": "left",
          "xref": "x3",
          "y": "J. Bland-Hawthorn",
          "yref": "y3"
         },
         {
          "font": {
           "color": "lightgrey",
           "size": 11
          },
          "showarrow": false,
          "text": 29,
          "x": 29,
          "xanchor": "left",
          "xref": "x3",
          "y": "R. J. Ivison",
          "yref": "y3"
         },
         {
          "font": {
           "color": "lightgrey",
           "size": 11
          },
          "showarrow": false,
          "text": 28,
          "x": 28,
          "xanchor": "left",
          "xref": "x3",
          "y": "Yasuo Fukui",
          "yref": "y3"
         },
         {
          "font": {
           "color": "lightgrey",
           "size": 11
          },
          "showarrow": false,
          "text": 38,
          "x": 38,
          "xanchor": "left",
          "xref": "x4",
          "y": "U. Katz",
          "yref": "y4"
         },
         {
          "font": {
           "color": "lightgrey",
           "size": 11
          },
          "showarrow": false,
          "text": 32,
          "x": 32,
          "xanchor": "left",
          "xref": "x4",
          "y": "E. Bernardini",
          "yref": "y4"
         },
         {
          "font": {
           "color": "lightgrey",
           "size": 11
          },
          "showarrow": false,
          "text": 30,
          "x": 30,
          "xanchor": "left",
          "xref": "x4",
          "y": "S. Sarkar",
          "yref": "y4"
         },
         {
          "font": {
           "color": "lightgrey",
           "size": 11
          },
          "showarrow": false,
          "text": 30,
          "x": 30,
          "xanchor": "left",
          "xref": "x4",
          "y": "K. Satalecka",
          "yref": "y4"
         },
         {
          "font": {
           "color": "lightgrey",
           "size": 11
          },
          "showarrow": false,
          "text": 14,
          "x": 14,
          "xanchor": "left",
          "xref": "x5",
          "y": "Jekan Thangavelautham",
          "yref": "y5"
         },
         {
          "font": {
           "color": "lightgrey",
           "size": 11
          },
          "showarrow": false,
          "text": 11,
          "x": 11,
          "xanchor": "left",
          "xref": "x5",
          "y": "A. Haungs",
          "yref": "y5"
         },
         {
          "font": {
           "color": "lightgrey",
           "size": 11
          },
          "showarrow": false,
          "text": 11,
          "x": 11,
          "xanchor": "left",
          "xref": "x5",
          "y": "T. Huege",
          "yref": "y5"
         },
         {
          "font": {
           "color": "lightgrey",
           "size": 11
          },
          "showarrow": false,
          "text": 11,
          "x": 11,
          "xanchor": "left",
          "xref": "x5",
          "y": "M. Kleifges",
          "yref": "y5"
         },
         {
          "font": {
           "color": "lightgrey",
           "size": 11
          },
          "showarrow": false,
          "text": 24,
          "x": 24,
          "xanchor": "left",
          "xref": "x6",
          "y": "Keivan G. Stassun",
          "yref": "y6"
         },
         {
          "font": {
           "color": "lightgrey",
           "size": 11
          },
          "showarrow": false,
          "text": 22,
          "x": 22,
          "xanchor": "left",
          "xref": "x6",
          "y": "G. A. Wade",
          "yref": "y6"
         },
         {
          "font": {
           "color": "lightgrey",
           "size": 11
          },
          "showarrow": false,
          "text": 20,
          "x": 20,
          "xanchor": "left",
          "xref": "x6",
          "y": "Th. Henning",
          "yref": "y6"
         },
         {
          "font": {
           "color": "lightgrey",
           "size": 11
          },
          "showarrow": false,
          "text": 18,
          "x": 18,
          "xanchor": "left",
          "xref": "x6",
          "y": "A. Udalski",
          "yref": "y6"
         }
        ],
        "height": 450,
        "margin": {
         "b": 30,
         "l": 140,
         "t": 60
        },
        "showlegend": false,
        "title": "",
        "width": 700,
        "xaxis1": {
         "anchor": "y1",
         "domain": [
          0,
          0.325
         ],
         "showgrid": false,
         "showticklabels": false
        },
        "xaxis2": {
         "anchor": "y2",
         "domain": [
          0.675,
          1
         ],
         "showgrid": false,
         "showticklabels": false
        },
        "xaxis3": {
         "anchor": "y3",
         "domain": [
          0,
          0.325
         ],
         "showgrid": false,
         "showticklabels": false
        },
        "xaxis4": {
         "anchor": "y4",
         "domain": [
          0.675,
          1
         ],
         "showgrid": false,
         "showticklabels": false
        },
        "xaxis5": {
         "anchor": "y5",
         "domain": [
          0,
          0.325
         ],
         "showgrid": false,
         "showticklabels": false
        },
        "xaxis6": {
         "anchor": "y6",
         "domain": [
          0.675,
          1
         ],
         "showgrid": false,
         "showticklabels": false
        },
        "yaxis1": {
         "anchor": "x1",
         "autorange": "reversed",
         "domain": [
          0.7266666666666668,
          1.0000000000000002
         ],
         "tickfont": {
          "color": "lightgrey",
          "size": 11
         },
         "ticklen": 3
        },
        "yaxis2": {
         "anchor": "x2",
         "autorange": "reversed",
         "domain": [
          0.7266666666666668,
          1.0000000000000002
         ],
         "tickfont": {
          "color": "lightgrey",
          "size": 11
         },
         "ticklen": 3
        },
        "yaxis3": {
         "anchor": "x3",
         "autorange": "reversed",
         "domain": [
          0.3633333333333334,
          0.6366666666666667
         ],
         "tickfont": {
          "color": "lightgrey",
          "size": 11
         },
         "ticklen": 3
        },
        "yaxis4": {
         "anchor": "x4",
         "autorange": "reversed",
         "domain": [
          0.3633333333333334,
          0.6366666666666667
         ],
         "tickfont": {
          "color": "lightgrey",
          "size": 11
         },
         "ticklen": 3
        },
        "yaxis5": {
         "anchor": "x5",
         "autorange": "reversed",
         "domain": [
          0,
          0.2733333333333334
         ],
         "tickfont": {
          "color": "lightgrey",
          "size": 11
         },
         "ticklen": 3
        },
        "yaxis6": {
         "anchor": "x6",
         "autorange": "reversed",
         "domain": [
          0,
          0.2733333333333334
         ],
         "tickfont": {
          "color": "lightgrey",
          "size": 11
         },
         "ticklen": 3
        }
       }
      },
      "text/html": [
       "<div id=\"c63b7064-bce8-4b3f-9ee2-e0f5c49f5771\" style=\"height: 450px; width: 700px;\" class=\"plotly-graph-div\"></div><script type=\"text/javascript\">require([\"plotly\"], function(Plotly) { window.PLOTLYENV=window.PLOTLYENV || {};window.PLOTLYENV.BASE_URL=\"https://plot.ly\";Plotly.newPlot(\"c63b7064-bce8-4b3f-9ee2-e0f5c49f5771\", [{\"type\": \"bar\", \"x\": [35, 35, 35, 35], \"y\": [\"D. Gruen\", \"R. A. Gruendl\", \"G. Gutierrez\", \"K. Kuehn\"], \"hoverinfo\": \"text\", \"orientation\": \"h\", \"text\": [35, 35, 35, 35], \"marker\": {\"color\": \"blue\"}, \"xaxis\": \"x1\", \"yaxis\": \"y1\"}, {\"type\": \"bar\", \"x\": [23, 21, 19, 19], \"y\": [\"Andrew W. Howard\", \"S. Udry\", \"Keivan G. Stassun\", \"T. Yamada\"], \"hoverinfo\": \"text\", \"orientation\": \"h\", \"text\": [23, 21, 19, 19], \"marker\": {\"color\": \"blue\"}, \"xaxis\": \"x2\", \"yaxis\": \"y2\"}, {\"type\": \"bar\", \"x\": [29, 29, 29, 28], \"y\": [\"Joop Schaye\", \"J. Bland-Hawthorn\", \"R. J. Ivison\", \"Yasuo Fukui\"], \"hoverinfo\": \"text\", \"orientation\": \"h\", \"text\": [29, 29, 29, 28], \"marker\": {\"color\": \"blue\"}, \"xaxis\": \"x3\", \"yaxis\": \"y3\"}, {\"type\": \"bar\", \"x\": [38, 32, 30, 30], \"y\": [\"U. Katz\", \"E. Bernardini\", \"S. Sarkar\", \"K. Satalecka\"], \"hoverinfo\": \"text\", \"orientation\": \"h\", \"text\": [38, 32, 30, 30], \"marker\": {\"color\": \"blue\"}, \"xaxis\": \"x4\", \"yaxis\": \"y4\"}, {\"type\": \"bar\", \"x\": [14, 11, 11, 11], \"y\": [\"Jekan Thangavelautham\", \"A. Haungs\", \"T. Huege\", \"M. Kleifges\"], \"hoverinfo\": \"text\", \"orientation\": \"h\", \"text\": [14, 11, 11, 11], \"marker\": {\"color\": \"blue\"}, \"xaxis\": \"x5\", \"yaxis\": \"y5\"}, {\"type\": \"bar\", \"x\": [24, 22, 20, 18], \"y\": [\"Keivan G. Stassun\", \"G. A. Wade\", \"Th. Henning\", \"A. Udalski\"], \"hoverinfo\": \"text\", \"orientation\": \"h\", \"text\": [24, 22, 20, 18], \"marker\": {\"color\": \"blue\"}, \"xaxis\": \"x6\", \"yaxis\": \"y6\"}], {\"xaxis1\": {\"domain\": [0.0, 0.325], \"anchor\": \"y1\", \"showticklabels\": false, \"showgrid\": false}, \"yaxis1\": {\"domain\": [0.7266666666666668, 1.0000000000000002], \"anchor\": \"x1\", \"ticklen\": 3, \"autorange\": \"reversed\", \"tickfont\": {\"size\": 11, \"color\": \"lightgrey\"}}, \"xaxis2\": {\"domain\": [0.675, 1.0], \"anchor\": \"y2\", \"showticklabels\": false, \"showgrid\": false}, \"yaxis2\": {\"domain\": [0.7266666666666668, 1.0000000000000002], \"anchor\": \"x2\", \"ticklen\": 3, \"autorange\": \"reversed\", \"tickfont\": {\"size\": 11, \"color\": \"lightgrey\"}}, \"xaxis3\": {\"domain\": [0.0, 0.325], \"anchor\": \"y3\", \"showticklabels\": false, \"showgrid\": false}, \"yaxis3\": {\"domain\": [0.3633333333333334, 0.6366666666666667], \"anchor\": \"x3\", \"ticklen\": 3, \"autorange\": \"reversed\", \"tickfont\": {\"size\": 11, \"color\": \"lightgrey\"}}, \"xaxis4\": {\"domain\": [0.675, 1.0], \"anchor\": \"y4\", \"showticklabels\": false, \"showgrid\": false}, \"yaxis4\": {\"domain\": [0.3633333333333334, 0.6366666666666667], \"anchor\": \"x4\", \"ticklen\": 3, \"autorange\": \"reversed\", \"tickfont\": {\"size\": 11, \"color\": \"lightgrey\"}}, \"xaxis5\": {\"domain\": [0.0, 0.325], \"anchor\": \"y5\", \"showticklabels\": false, \"showgrid\": false}, \"yaxis5\": {\"domain\": [0.0, 0.2733333333333334], \"anchor\": \"x5\", \"ticklen\": 3, \"autorange\": \"reversed\", \"tickfont\": {\"size\": 11, \"color\": \"lightgrey\"}}, \"xaxis6\": {\"domain\": [0.675, 1.0], \"anchor\": \"y6\", \"showticklabels\": false, \"showgrid\": false}, \"yaxis6\": {\"domain\": [0.0, 0.2733333333333334], \"anchor\": \"x6\", \"ticklen\": 3, \"autorange\": \"reversed\", \"tickfont\": {\"size\": 11, \"color\": \"lightgrey\"}}, \"annotations\": [{\"y\": 1.0000000000000002, \"xref\": \"paper\", \"x\": 0.1625, \"yref\": \"paper\", \"text\": \"CO\", \"showarrow\": false, \"font\": {\"size\": 16}, \"xanchor\": \"center\", \"yanchor\": \"bottom\"}, {\"y\": 1.0000000000000002, \"xref\": \"paper\", \"x\": 0.8375, \"yref\": \"paper\", \"text\": \"EP\", \"showarrow\": false, \"font\": {\"size\": 16}, \"xanchor\": \"center\", \"yanchor\": \"bottom\"}, {\"y\": 0.6366666666666667, \"xref\": \"paper\", \"x\": 0.1625, \"yref\": \"paper\", \"text\": \"GA\", \"showarrow\": false, \"font\": {\"size\": 16}, \"xanchor\": \"center\", \"yanchor\": \"bottom\"}, {\"y\": 0.6366666666666667, \"xref\": \"paper\", \"x\": 0.8375, \"yref\": \"paper\", \"text\": \"HE\", \"showarrow\": false, \"font\": {\"size\": 16}, \"xanchor\": \"center\", \"yanchor\": \"bottom\"}, {\"y\": 0.2733333333333334, \"xref\": \"paper\", \"x\": 0.1625, \"yref\": \"paper\", \"text\": \"IM\", \"showarrow\": false, \"font\": {\"size\": 16}, \"xanchor\": \"center\", \"yanchor\": \"bottom\"}, {\"y\": 0.2733333333333334, \"xref\": \"paper\", \"x\": 0.8375, \"yref\": \"paper\", \"text\": \"SR\", \"showarrow\": false, \"font\": {\"size\": 16}, \"xanchor\": \"center\", \"yanchor\": \"bottom\"}, {\"x\": 35, \"y\": \"D. Gruen\", \"text\": 35, \"xanchor\": \"left\", \"xref\": \"x1\", \"yref\": \"y1\", \"showarrow\": false, \"font\": {\"size\": 11, \"color\": \"lightgrey\"}}, {\"x\": 35, \"y\": \"R. A. Gruendl\", \"text\": 35, \"xanchor\": \"left\", \"xref\": \"x1\", \"yref\": \"y1\", \"showarrow\": false, \"font\": {\"size\": 11, \"color\": \"lightgrey\"}}, {\"x\": 35, \"y\": \"G. Gutierrez\", \"text\": 35, \"xanchor\": \"left\", \"xref\": \"x1\", \"yref\": \"y1\", \"showarrow\": false, \"font\": {\"size\": 11, \"color\": \"lightgrey\"}}, {\"x\": 35, \"y\": \"K. Kuehn\", \"text\": 35, \"xanchor\": \"left\", \"xref\": \"x1\", \"yref\": \"y1\", \"showarrow\": false, \"font\": {\"size\": 11, \"color\": \"lightgrey\"}}, {\"x\": 23, \"y\": \"Andrew W. Howard\", \"text\": 23, \"xanchor\": \"left\", \"xref\": \"x2\", \"yref\": \"y2\", \"showarrow\": false, \"font\": {\"size\": 11, \"color\": \"lightgrey\"}}, {\"x\": 21, \"y\": \"S. Udry\", \"text\": 21, \"xanchor\": \"left\", \"xref\": \"x2\", \"yref\": \"y2\", \"showarrow\": false, \"font\": {\"size\": 11, \"color\": \"lightgrey\"}}, {\"x\": 19, \"y\": \"Keivan G. Stassun\", \"text\": 19, \"xanchor\": \"left\", \"xref\": \"x2\", \"yref\": \"y2\", \"showarrow\": false, \"font\": {\"size\": 11, \"color\": \"lightgrey\"}}, {\"x\": 19, \"y\": \"T. Yamada\", \"text\": 19, \"xanchor\": \"left\", \"xref\": \"x2\", \"yref\": \"y2\", \"showarrow\": false, \"font\": {\"size\": 11, \"color\": \"lightgrey\"}}, {\"x\": 29, \"y\": \"Joop Schaye\", \"text\": 29, \"xanchor\": \"left\", \"xref\": \"x3\", \"yref\": \"y3\", \"showarrow\": false, \"font\": {\"size\": 11, \"color\": \"lightgrey\"}}, {\"x\": 29, \"y\": \"J. Bland-Hawthorn\", \"text\": 29, \"xanchor\": \"left\", \"xref\": \"x3\", \"yref\": \"y3\", \"showarrow\": false, \"font\": {\"size\": 11, \"color\": \"lightgrey\"}}, {\"x\": 29, \"y\": \"R. J. Ivison\", \"text\": 29, \"xanchor\": \"left\", \"xref\": \"x3\", \"yref\": \"y3\", \"showarrow\": false, \"font\": {\"size\": 11, \"color\": \"lightgrey\"}}, {\"x\": 28, \"y\": \"Yasuo Fukui\", \"text\": 28, \"xanchor\": \"left\", \"xref\": \"x3\", \"yref\": \"y3\", \"showarrow\": false, \"font\": {\"size\": 11, \"color\": \"lightgrey\"}}, {\"x\": 38, \"y\": \"U. Katz\", \"text\": 38, \"xanchor\": \"left\", \"xref\": \"x4\", \"yref\": \"y4\", \"showarrow\": false, \"font\": {\"size\": 11, \"color\": \"lightgrey\"}}, {\"x\": 32, \"y\": \"E. Bernardini\", \"text\": 32, \"xanchor\": \"left\", \"xref\": \"x4\", \"yref\": \"y4\", \"showarrow\": false, \"font\": {\"size\": 11, \"color\": \"lightgrey\"}}, {\"x\": 30, \"y\": \"S. Sarkar\", \"text\": 30, \"xanchor\": \"left\", \"xref\": \"x4\", \"yref\": \"y4\", \"showarrow\": false, \"font\": {\"size\": 11, \"color\": \"lightgrey\"}}, {\"x\": 30, \"y\": \"K. Satalecka\", \"text\": 30, \"xanchor\": \"left\", \"xref\": \"x4\", \"yref\": \"y4\", \"showarrow\": false, \"font\": {\"size\": 11, \"color\": \"lightgrey\"}}, {\"x\": 14, \"y\": \"Jekan Thangavelautham\", \"text\": 14, \"xanchor\": \"left\", \"xref\": \"x5\", \"yref\": \"y5\", \"showarrow\": false, \"font\": {\"size\": 11, \"color\": \"lightgrey\"}}, {\"x\": 11, \"y\": \"A. Haungs\", \"text\": 11, \"xanchor\": \"left\", \"xref\": \"x5\", \"yref\": \"y5\", \"showarrow\": false, \"font\": {\"size\": 11, \"color\": \"lightgrey\"}}, {\"x\": 11, \"y\": \"T. Huege\", \"text\": 11, \"xanchor\": \"left\", \"xref\": \"x5\", \"yref\": \"y5\", \"showarrow\": false, \"font\": {\"size\": 11, \"color\": \"lightgrey\"}}, {\"x\": 11, \"y\": \"M. Kleifges\", \"text\": 11, \"xanchor\": \"left\", \"xref\": \"x5\", \"yref\": \"y5\", \"showarrow\": false, \"font\": {\"size\": 11, \"color\": \"lightgrey\"}}, {\"x\": 24, \"y\": \"Keivan G. Stassun\", \"text\": 24, \"xanchor\": \"left\", \"xref\": \"x6\", \"yref\": \"y6\", \"showarrow\": false, \"font\": {\"size\": 11, \"color\": \"lightgrey\"}}, {\"x\": 22, \"y\": \"G. A. Wade\", \"text\": 22, \"xanchor\": \"left\", \"xref\": \"x6\", \"yref\": \"y6\", \"showarrow\": false, \"font\": {\"size\": 11, \"color\": \"lightgrey\"}}, {\"x\": 20, \"y\": \"Th. Henning\", \"text\": 20, \"xanchor\": \"left\", \"xref\": \"x6\", \"yref\": \"y6\", \"showarrow\": false, \"font\": {\"size\": 11, \"color\": \"lightgrey\"}}, {\"x\": 18, \"y\": \"A. Udalski\", \"text\": 18, \"xanchor\": \"left\", \"xref\": \"x6\", \"yref\": \"y6\", \"showarrow\": false, \"font\": {\"size\": 11, \"color\": \"lightgrey\"}}], \"height\": 450, \"width\": 700, \"showlegend\": false, \"title\": \"\", \"margin\": {\"t\": 60, \"l\": 140, \"b\": 30}}, {\"showLink\": false, \"linkText\": \"Export to plot.ly\"})});</script>"
      ],
      "text/vnd.plotly.v1+html": [
       "<div id=\"c63b7064-bce8-4b3f-9ee2-e0f5c49f5771\" style=\"height: 450px; width: 700px;\" class=\"plotly-graph-div\"></div><script type=\"text/javascript\">require([\"plotly\"], function(Plotly) { window.PLOTLYENV=window.PLOTLYENV || {};window.PLOTLYENV.BASE_URL=\"https://plot.ly\";Plotly.newPlot(\"c63b7064-bce8-4b3f-9ee2-e0f5c49f5771\", [{\"type\": \"bar\", \"x\": [35, 35, 35, 35], \"y\": [\"D. Gruen\", \"R. A. Gruendl\", \"G. Gutierrez\", \"K. Kuehn\"], \"hoverinfo\": \"text\", \"orientation\": \"h\", \"text\": [35, 35, 35, 35], \"marker\": {\"color\": \"blue\"}, \"xaxis\": \"x1\", \"yaxis\": \"y1\"}, {\"type\": \"bar\", \"x\": [23, 21, 19, 19], \"y\": [\"Andrew W. Howard\", \"S. Udry\", \"Keivan G. Stassun\", \"T. Yamada\"], \"hoverinfo\": \"text\", \"orientation\": \"h\", \"text\": [23, 21, 19, 19], \"marker\": {\"color\": \"blue\"}, \"xaxis\": \"x2\", \"yaxis\": \"y2\"}, {\"type\": \"bar\", \"x\": [29, 29, 29, 28], \"y\": [\"Joop Schaye\", \"J. Bland-Hawthorn\", \"R. J. Ivison\", \"Yasuo Fukui\"], \"hoverinfo\": \"text\", \"orientation\": \"h\", \"text\": [29, 29, 29, 28], \"marker\": {\"color\": \"blue\"}, \"xaxis\": \"x3\", \"yaxis\": \"y3\"}, {\"type\": \"bar\", \"x\": [38, 32, 30, 30], \"y\": [\"U. Katz\", \"E. Bernardini\", \"S. Sarkar\", \"K. Satalecka\"], \"hoverinfo\": \"text\", \"orientation\": \"h\", \"text\": [38, 32, 30, 30], \"marker\": {\"color\": \"blue\"}, \"xaxis\": \"x4\", \"yaxis\": \"y4\"}, {\"type\": \"bar\", \"x\": [14, 11, 11, 11], \"y\": [\"Jekan Thangavelautham\", \"A. Haungs\", \"T. Huege\", \"M. Kleifges\"], \"hoverinfo\": \"text\", \"orientation\": \"h\", \"text\": [14, 11, 11, 11], \"marker\": {\"color\": \"blue\"}, \"xaxis\": \"x5\", \"yaxis\": \"y5\"}, {\"type\": \"bar\", \"x\": [24, 22, 20, 18], \"y\": [\"Keivan G. Stassun\", \"G. A. Wade\", \"Th. Henning\", \"A. Udalski\"], \"hoverinfo\": \"text\", \"orientation\": \"h\", \"text\": [24, 22, 20, 18], \"marker\": {\"color\": \"blue\"}, \"xaxis\": \"x6\", \"yaxis\": \"y6\"}], {\"xaxis1\": {\"domain\": [0.0, 0.325], \"anchor\": \"y1\", \"showticklabels\": false, \"showgrid\": false}, \"yaxis1\": {\"domain\": [0.7266666666666668, 1.0000000000000002], \"anchor\": \"x1\", \"ticklen\": 3, \"autorange\": \"reversed\", \"tickfont\": {\"size\": 11, \"color\": \"lightgrey\"}}, \"xaxis2\": {\"domain\": [0.675, 1.0], \"anchor\": \"y2\", \"showticklabels\": false, \"showgrid\": false}, \"yaxis2\": {\"domain\": [0.7266666666666668, 1.0000000000000002], \"anchor\": \"x2\", \"ticklen\": 3, \"autorange\": \"reversed\", \"tickfont\": {\"size\": 11, \"color\": \"lightgrey\"}}, \"xaxis3\": {\"domain\": [0.0, 0.325], \"anchor\": \"y3\", \"showticklabels\": false, \"showgrid\": false}, \"yaxis3\": {\"domain\": [0.3633333333333334, 0.6366666666666667], \"anchor\": \"x3\", \"ticklen\": 3, \"autorange\": \"reversed\", \"tickfont\": {\"size\": 11, \"color\": \"lightgrey\"}}, \"xaxis4\": {\"domain\": [0.675, 1.0], \"anchor\": \"y4\", \"showticklabels\": false, \"showgrid\": false}, \"yaxis4\": {\"domain\": [0.3633333333333334, 0.6366666666666667], \"anchor\": \"x4\", \"ticklen\": 3, \"autorange\": \"reversed\", \"tickfont\": {\"size\": 11, \"color\": \"lightgrey\"}}, \"xaxis5\": {\"domain\": [0.0, 0.325], \"anchor\": \"y5\", \"showticklabels\": false, \"showgrid\": false}, \"yaxis5\": {\"domain\": [0.0, 0.2733333333333334], \"anchor\": \"x5\", \"ticklen\": 3, \"autorange\": \"reversed\", \"tickfont\": {\"size\": 11, \"color\": \"lightgrey\"}}, \"xaxis6\": {\"domain\": [0.675, 1.0], \"anchor\": \"y6\", \"showticklabels\": false, \"showgrid\": false}, \"yaxis6\": {\"domain\": [0.0, 0.2733333333333334], \"anchor\": \"x6\", \"ticklen\": 3, \"autorange\": \"reversed\", \"tickfont\": {\"size\": 11, \"color\": \"lightgrey\"}}, \"annotations\": [{\"y\": 1.0000000000000002, \"xref\": \"paper\", \"x\": 0.1625, \"yref\": \"paper\", \"text\": \"CO\", \"showarrow\": false, \"font\": {\"size\": 16}, \"xanchor\": \"center\", \"yanchor\": \"bottom\"}, {\"y\": 1.0000000000000002, \"xref\": \"paper\", \"x\": 0.8375, \"yref\": \"paper\", \"text\": \"EP\", \"showarrow\": false, \"font\": {\"size\": 16}, \"xanchor\": \"center\", \"yanchor\": \"bottom\"}, {\"y\": 0.6366666666666667, \"xref\": \"paper\", \"x\": 0.1625, \"yref\": \"paper\", \"text\": \"GA\", \"showarrow\": false, \"font\": {\"size\": 16}, \"xanchor\": \"center\", \"yanchor\": \"bottom\"}, {\"y\": 0.6366666666666667, \"xref\": \"paper\", \"x\": 0.8375, \"yref\": \"paper\", \"text\": \"HE\", \"showarrow\": false, \"font\": {\"size\": 16}, \"xanchor\": \"center\", \"yanchor\": \"bottom\"}, {\"y\": 0.2733333333333334, \"xref\": \"paper\", \"x\": 0.1625, \"yref\": \"paper\", \"text\": \"IM\", \"showarrow\": false, \"font\": {\"size\": 16}, \"xanchor\": \"center\", \"yanchor\": \"bottom\"}, {\"y\": 0.2733333333333334, \"xref\": \"paper\", \"x\": 0.8375, \"yref\": \"paper\", \"text\": \"SR\", \"showarrow\": false, \"font\": {\"size\": 16}, \"xanchor\": \"center\", \"yanchor\": \"bottom\"}, {\"x\": 35, \"y\": \"D. Gruen\", \"text\": 35, \"xanchor\": \"left\", \"xref\": \"x1\", \"yref\": \"y1\", \"showarrow\": false, \"font\": {\"size\": 11, \"color\": \"lightgrey\"}}, {\"x\": 35, \"y\": \"R. A. Gruendl\", \"text\": 35, \"xanchor\": \"left\", \"xref\": \"x1\", \"yref\": \"y1\", \"showarrow\": false, \"font\": {\"size\": 11, \"color\": \"lightgrey\"}}, {\"x\": 35, \"y\": \"G. Gutierrez\", \"text\": 35, \"xanchor\": \"left\", \"xref\": \"x1\", \"yref\": \"y1\", \"showarrow\": false, \"font\": {\"size\": 11, \"color\": \"lightgrey\"}}, {\"x\": 35, \"y\": \"K. Kuehn\", \"text\": 35, \"xanchor\": \"left\", \"xref\": \"x1\", \"yref\": \"y1\", \"showarrow\": false, \"font\": {\"size\": 11, \"color\": \"lightgrey\"}}, {\"x\": 23, \"y\": \"Andrew W. Howard\", \"text\": 23, \"xanchor\": \"left\", \"xref\": \"x2\", \"yref\": \"y2\", \"showarrow\": false, \"font\": {\"size\": 11, \"color\": \"lightgrey\"}}, {\"x\": 21, \"y\": \"S. Udry\", \"text\": 21, \"xanchor\": \"left\", \"xref\": \"x2\", \"yref\": \"y2\", \"showarrow\": false, \"font\": {\"size\": 11, \"color\": \"lightgrey\"}}, {\"x\": 19, \"y\": \"Keivan G. Stassun\", \"text\": 19, \"xanchor\": \"left\", \"xref\": \"x2\", \"yref\": \"y2\", \"showarrow\": false, \"font\": {\"size\": 11, \"color\": \"lightgrey\"}}, {\"x\": 19, \"y\": \"T. Yamada\", \"text\": 19, \"xanchor\": \"left\", \"xref\": \"x2\", \"yref\": \"y2\", \"showarrow\": false, \"font\": {\"size\": 11, \"color\": \"lightgrey\"}}, {\"x\": 29, \"y\": \"Joop Schaye\", \"text\": 29, \"xanchor\": \"left\", \"xref\": \"x3\", \"yref\": \"y3\", \"showarrow\": false, \"font\": {\"size\": 11, \"color\": \"lightgrey\"}}, {\"x\": 29, \"y\": \"J. Bland-Hawthorn\", \"text\": 29, \"xanchor\": \"left\", \"xref\": \"x3\", \"yref\": \"y3\", \"showarrow\": false, \"font\": {\"size\": 11, \"color\": \"lightgrey\"}}, {\"x\": 29, \"y\": \"R. J. Ivison\", \"text\": 29, \"xanchor\": \"left\", \"xref\": \"x3\", \"yref\": \"y3\", \"showarrow\": false, \"font\": {\"size\": 11, \"color\": \"lightgrey\"}}, {\"x\": 28, \"y\": \"Yasuo Fukui\", \"text\": 28, \"xanchor\": \"left\", \"xref\": \"x3\", \"yref\": \"y3\", \"showarrow\": false, \"font\": {\"size\": 11, \"color\": \"lightgrey\"}}, {\"x\": 38, \"y\": \"U. Katz\", \"text\": 38, \"xanchor\": \"left\", \"xref\": \"x4\", \"yref\": \"y4\", \"showarrow\": false, \"font\": {\"size\": 11, \"color\": \"lightgrey\"}}, {\"x\": 32, \"y\": \"E. Bernardini\", \"text\": 32, \"xanchor\": \"left\", \"xref\": \"x4\", \"yref\": \"y4\", \"showarrow\": false, \"font\": {\"size\": 11, \"color\": \"lightgrey\"}}, {\"x\": 30, \"y\": \"S. Sarkar\", \"text\": 30, \"xanchor\": \"left\", \"xref\": \"x4\", \"yref\": \"y4\", \"showarrow\": false, \"font\": {\"size\": 11, \"color\": \"lightgrey\"}}, {\"x\": 30, \"y\": \"K. Satalecka\", \"text\": 30, \"xanchor\": \"left\", \"xref\": \"x4\", \"yref\": \"y4\", \"showarrow\": false, \"font\": {\"size\": 11, \"color\": \"lightgrey\"}}, {\"x\": 14, \"y\": \"Jekan Thangavelautham\", \"text\": 14, \"xanchor\": \"left\", \"xref\": \"x5\", \"yref\": \"y5\", \"showarrow\": false, \"font\": {\"size\": 11, \"color\": \"lightgrey\"}}, {\"x\": 11, \"y\": \"A. Haungs\", \"text\": 11, \"xanchor\": \"left\", \"xref\": \"x5\", \"yref\": \"y5\", \"showarrow\": false, \"font\": {\"size\": 11, \"color\": \"lightgrey\"}}, {\"x\": 11, \"y\": \"T. Huege\", \"text\": 11, \"xanchor\": \"left\", \"xref\": \"x5\", \"yref\": \"y5\", \"showarrow\": false, \"font\": {\"size\": 11, \"color\": \"lightgrey\"}}, {\"x\": 11, \"y\": \"M. Kleifges\", \"text\": 11, \"xanchor\": \"left\", \"xref\": \"x5\", \"yref\": \"y5\", \"showarrow\": false, \"font\": {\"size\": 11, \"color\": \"lightgrey\"}}, {\"x\": 24, \"y\": \"Keivan G. Stassun\", \"text\": 24, \"xanchor\": \"left\", \"xref\": \"x6\", \"yref\": \"y6\", \"showarrow\": false, \"font\": {\"size\": 11, \"color\": \"lightgrey\"}}, {\"x\": 22, \"y\": \"G. A. Wade\", \"text\": 22, \"xanchor\": \"left\", \"xref\": \"x6\", \"yref\": \"y6\", \"showarrow\": false, \"font\": {\"size\": 11, \"color\": \"lightgrey\"}}, {\"x\": 20, \"y\": \"Th. Henning\", \"text\": 20, \"xanchor\": \"left\", \"xref\": \"x6\", \"yref\": \"y6\", \"showarrow\": false, \"font\": {\"size\": 11, \"color\": \"lightgrey\"}}, {\"x\": 18, \"y\": \"A. Udalski\", \"text\": 18, \"xanchor\": \"left\", \"xref\": \"x6\", \"yref\": \"y6\", \"showarrow\": false, \"font\": {\"size\": 11, \"color\": \"lightgrey\"}}], \"height\": 450, \"width\": 700, \"showlegend\": false, \"title\": \"\", \"margin\": {\"t\": 60, \"l\": 140, \"b\": 30}}, {\"showLink\": false, \"linkText\": \"Export to plot.ly\"})});</script>"
      ]
     },
     "metadata": {},
     "output_type": "display_data"
    }
   ],
   "source": [
    "active_authors(section, year)"
   ]
  },
  {
   "cell_type": "code",
   "execution_count": 5,
   "metadata": {},
   "outputs": [
    {
     "data": {
      "application/vnd.plotly.v1+json": {
       "data": [
        {
         "hoverinfo": "text+value",
         "labels": [
          "GA",
          "HE",
          "SR",
          "CO",
          "EP",
          "IM"
         ],
         "marker": {
          "colors": [
           "#fc7f00",
           "#ffa800",
           "#ffaf00",
           "#faec2c",
           "#f2f348",
           "#e4ff7a"
          ]
         },
         "pull": 0.05,
         "text": [
          "Astrophysics of Galaxies",
          "High Energy Astrophysical Phenomena",
          "Solar and Stellar Astrophysics",
          "Cosmology and Nongalactic Astrophysics",
          "Earth and Planetary Astrophysics",
          "Instrumentation and Methods for Astrophysics"
         ],
         "textinfo": "label+percent",
         "textposition": "outside",
         "type": "pie",
         "values": [
          3519,
          2775,
          2629,
          1662,
          1493,
          1184
         ]
        }
       ],
       "layout": {
        "height": 450,
        "margin": {
         "t": 40
        }
       }
      },
      "text/html": [
       "<div id=\"d304e49f-86cf-4ba7-8dcb-050f9c99d21f\" style=\"height: 450px; width: 100%;\" class=\"plotly-graph-div\"></div><script type=\"text/javascript\">require([\"plotly\"], function(Plotly) { window.PLOTLYENV=window.PLOTLYENV || {};window.PLOTLYENV.BASE_URL=\"https://plot.ly\";Plotly.newPlot(\"d304e49f-86cf-4ba7-8dcb-050f9c99d21f\", [{\"type\": \"pie\", \"text\": [\"Astrophysics of Galaxies\", \"High Energy Astrophysical Phenomena\", \"Solar and Stellar Astrophysics\", \"Cosmology and Nongalactic Astrophysics\", \"Earth and Planetary Astrophysics\", \"Instrumentation and Methods for Astrophysics\"], \"hoverinfo\": \"text+value\", \"textinfo\": \"label+percent\", \"labels\": [\"GA\", \"HE\", \"SR\", \"CO\", \"EP\", \"IM\"], \"textposition\": \"outside\", \"values\": [3519, 2775, 2629, 1662, 1493, 1184], \"pull\": 0.05, \"marker\": {\"colors\": [\"#fc7f00\", \"#ffa800\", \"#ffaf00\", \"#faec2c\", \"#f2f348\", \"#e4ff7a\"]}}], {\"height\": 450, \"margin\": {\"t\": 40}}, {\"showLink\": false, \"linkText\": \"Export to plot.ly\"})});</script>"
      ],
      "text/vnd.plotly.v1+html": [
       "<div id=\"d304e49f-86cf-4ba7-8dcb-050f9c99d21f\" style=\"height: 450px; width: 100%;\" class=\"plotly-graph-div\"></div><script type=\"text/javascript\">require([\"plotly\"], function(Plotly) { window.PLOTLYENV=window.PLOTLYENV || {};window.PLOTLYENV.BASE_URL=\"https://plot.ly\";Plotly.newPlot(\"d304e49f-86cf-4ba7-8dcb-050f9c99d21f\", [{\"type\": \"pie\", \"text\": [\"Astrophysics of Galaxies\", \"High Energy Astrophysical Phenomena\", \"Solar and Stellar Astrophysics\", \"Cosmology and Nongalactic Astrophysics\", \"Earth and Planetary Astrophysics\", \"Instrumentation and Methods for Astrophysics\"], \"hoverinfo\": \"text+value\", \"textinfo\": \"label+percent\", \"labels\": [\"GA\", \"HE\", \"SR\", \"CO\", \"EP\", \"IM\"], \"textposition\": \"outside\", \"values\": [3519, 2775, 2629, 1662, 1493, 1184], \"pull\": 0.05, \"marker\": {\"colors\": [\"#fc7f00\", \"#ffa800\", \"#ffaf00\", \"#faec2c\", \"#f2f348\", \"#e4ff7a\"]}}], {\"height\": 450, \"margin\": {\"t\": 40}}, {\"showLink\": false, \"linkText\": \"Export to plot.ly\"})});</script>"
      ]
     },
     "metadata": {},
     "output_type": "display_data"
    }
   ],
   "source": [
    "subsections_ratio(section, year)"
   ]
  }
 ],
 "metadata": {
  "kernelspec": {
   "display_name": "Python 3",
   "language": "python",
   "name": "python3"
  },
  "language_info": {
   "codemirror_mode": {
    "name": "ipython",
    "version": 3
   },
   "file_extension": ".py",
   "mimetype": "text/x-python",
   "name": "python",
   "nbconvert_exporter": "python",
   "pygments_lexer": "ipython3",
   "version": "3.6.2"
  }
 },
 "nbformat": 4,
 "nbformat_minor": 2
}
