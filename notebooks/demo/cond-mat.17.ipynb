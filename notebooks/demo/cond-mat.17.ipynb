{
 "cells": [
  {
   "cell_type": "code",
   "execution_count": 1,
   "metadata": {},
   "outputs": [
    {
     "data": {
      "text/html": [
       "<script>requirejs.config({paths: { 'plotly': ['https://cdn.plot.ly/plotly-latest.min']},});if(!window.Plotly) {{require(['plotly'],function(plotly) {window.Plotly=plotly;});}}</script>"
      ],
      "text/vnd.plotly.v1+html": [
       "<script>requirejs.config({paths: { 'plotly': ['https://cdn.plot.ly/plotly-latest.min']},});if(!window.Plotly) {{require(['plotly'],function(plotly) {window.Plotly=plotly;});}}</script>"
      ]
     },
     "metadata": {},
     "output_type": "display_data"
    }
   ],
   "source": [
    "import plotly.offline as py\n",
    "from visual import *\n",
    "\n",
    "py.init_notebook_mode(connected=True)"
   ]
  },
  {
   "cell_type": "code",
   "execution_count": 2,
   "metadata": {},
   "outputs": [],
   "source": [
    "section, year = \"cond-mat\", 17\n",
    "volume = \"{}.{}\".format(section, str(year).zfill(2))"
   ]
  },
  {
   "cell_type": "code",
   "execution_count": 3,
   "metadata": {},
   "outputs": [],
   "source": [
    "model = Word2Vec.load(\"../stat/word_vec/{}\".format(volume))\n",
    "terms = topics_normalize(model, get_lines(\"../topics/{}.txt\".format(section)))\n",
    "extented_terms = closest_keys(terms, model)"
   ]
  },
  {
   "cell_type": "code",
   "execution_count": 5,
   "metadata": {},
   "outputs": [
    {
     "data": {
      "application/vnd.plotly.v1+json": {
       "data": [
        {
         "marker": {
          "color": "green"
         },
         "type": "bar",
         "x": [
          "graphene",
          "topological",
          "hall",
          "laser",
          "qubit",
          "dot",
          "superconductor",
          "semiconductor",
          "condensation",
          "metamaterial",
          "quasicrystal"
         ],
         "y": [
          3.5925,
          2.9965,
          1.6042,
          1.3505,
          0.881,
          0.8294,
          0.7012,
          0.6117,
          0.2983,
          0.0579,
          0.0383
         ]
        }
       ],
       "layout": {
        "height": 400,
        "margin": {
         "t": 10
        },
        "showlegend": false,
        "width": 600,
        "xaxis": {
         "tickangle": -40
        }
       }
      },
      "text/html": [
       "<div id=\"8048af98-910d-4fc4-a845-5ae3da3d9fdf\" style=\"height: 400px; width: 600px;\" class=\"plotly-graph-div\"></div><script type=\"text/javascript\">require([\"plotly\"], function(Plotly) { window.PLOTLYENV=window.PLOTLYENV || {};window.PLOTLYENV.BASE_URL=\"https://plot.ly\";Plotly.newPlot(\"8048af98-910d-4fc4-a845-5ae3da3d9fdf\", [{\"type\": \"bar\", \"marker\": {\"color\": \"green\"}, \"x\": [\"graphene\", \"topological\", \"hall\", \"laser\", \"qubit\", \"dot\", \"superconductor\", \"semiconductor\", \"condensation\", \"metamaterial\", \"quasicrystal\"], \"y\": [3.5925, 2.9965, 1.6042, 1.3505, 0.881, 0.8294, 0.7012, 0.6117, 0.2983, 0.0579, 0.0383]}], {\"showlegend\": false, \"xaxis\": {\"tickangle\": -40}, \"width\": 600, \"height\": 400, \"margin\": {\"t\": 10}}, {\"showLink\": false, \"linkText\": \"Export to plot.ly\"})});</script>"
      ],
      "text/vnd.plotly.v1+html": [
       "<div id=\"8048af98-910d-4fc4-a845-5ae3da3d9fdf\" style=\"height: 400px; width: 600px;\" class=\"plotly-graph-div\"></div><script type=\"text/javascript\">require([\"plotly\"], function(Plotly) { window.PLOTLYENV=window.PLOTLYENV || {};window.PLOTLYENV.BASE_URL=\"https://plot.ly\";Plotly.newPlot(\"8048af98-910d-4fc4-a845-5ae3da3d9fdf\", [{\"type\": \"bar\", \"marker\": {\"color\": \"green\"}, \"x\": [\"graphene\", \"topological\", \"hall\", \"laser\", \"qubit\", \"dot\", \"superconductor\", \"semiconductor\", \"condensation\", \"metamaterial\", \"quasicrystal\"], \"y\": [3.5925, 2.9965, 1.6042, 1.3505, 0.881, 0.8294, 0.7012, 0.6117, 0.2983, 0.0579, 0.0383]}], {\"showlegend\": false, \"xaxis\": {\"tickangle\": -40}, \"width\": 600, \"height\": 400, \"margin\": {\"t\": 10}}, {\"showLink\": false, \"linkText\": \"Export to plot.ly\"})});</script>"
      ]
     },
     "metadata": {},
     "output_type": "display_data"
    }
   ],
   "source": [
    "keys_top(terms, section, year) # keywords raiting"
   ]
  },
  {
   "cell_type": "code",
   "execution_count": 6,
   "metadata": {},
   "outputs": [
    {
     "data": {
      "application/vnd.plotly.v1+json": {
       "data": [
        {
         "marker": {
          "color": "red"
         },
         "type": "bar",
         "x": [
          "dot"
         ],
         "y": [
          -0.35
         ]
        },
        {
         "marker": {
          "color": "red"
         },
         "type": "bar",
         "x": [
          "condensation",
          "quasicrystal",
          "qubit",
          "superconductor",
          "semiconductor",
          "graphene",
          "hall",
          "laser",
          "topological"
         ],
         "y": [
          0.02,
          0.03,
          0.16,
          0.16,
          0.18,
          0.46,
          0.55,
          0.56,
          1.81
         ]
        }
       ],
       "layout": {
        "height": 400,
        "margin": {
         "t": 10
        },
        "showlegend": false,
        "width": 600,
        "xaxis": {
         "tickangle": -40
        }
       }
      },
      "text/html": [
       "<div id=\"e642c534-ebcd-44d1-852d-42984a3bdf01\" style=\"height: 400px; width: 600px;\" class=\"plotly-graph-div\"></div><script type=\"text/javascript\">require([\"plotly\"], function(Plotly) { window.PLOTLYENV=window.PLOTLYENV || {};window.PLOTLYENV.BASE_URL=\"https://plot.ly\";Plotly.newPlot(\"e642c534-ebcd-44d1-852d-42984a3bdf01\", [{\"type\": \"bar\", \"marker\": {\"color\": \"red\"}, \"x\": [\"dot\"], \"y\": [-0.35]}, {\"type\": \"bar\", \"marker\": {\"color\": \"red\"}, \"x\": [\"condensation\", \"quasicrystal\", \"qubit\", \"superconductor\", \"semiconductor\", \"graphene\", \"hall\", \"laser\", \"topological\"], \"y\": [0.02, 0.03, 0.16, 0.16, 0.18, 0.46, 0.55, 0.56, 1.81]}], {\"showlegend\": false, \"xaxis\": {\"tickangle\": -40}, \"width\": 600, \"height\": 400, \"margin\": {\"t\": 10}}, {\"showLink\": false, \"linkText\": \"Export to plot.ly\"})});</script>"
      ],
      "text/vnd.plotly.v1+html": [
       "<div id=\"e642c534-ebcd-44d1-852d-42984a3bdf01\" style=\"height: 400px; width: 600px;\" class=\"plotly-graph-div\"></div><script type=\"text/javascript\">require([\"plotly\"], function(Plotly) { window.PLOTLYENV=window.PLOTLYENV || {};window.PLOTLYENV.BASE_URL=\"https://plot.ly\";Plotly.newPlot(\"e642c534-ebcd-44d1-852d-42984a3bdf01\", [{\"type\": \"bar\", \"marker\": {\"color\": \"red\"}, \"x\": [\"dot\"], \"y\": [-0.35]}, {\"type\": \"bar\", \"marker\": {\"color\": \"red\"}, \"x\": [\"condensation\", \"quasicrystal\", \"qubit\", \"superconductor\", \"semiconductor\", \"graphene\", \"hall\", \"laser\", \"topological\"], \"y\": [0.02, 0.03, 0.16, 0.16, 0.18, 0.46, 0.55, 0.56, 1.81]}], {\"showlegend\": false, \"xaxis\": {\"tickangle\": -40}, \"width\": 600, \"height\": 400, \"margin\": {\"t\": 10}}, {\"showLink\": false, \"linkText\": \"Export to plot.ly\"})});</script>"
      ]
     },
     "metadata": {},
     "output_type": "display_data"
    }
   ],
   "source": [
    "terms_evo(terms, section, 10, 17) # terms rate evolution"
   ]
  },
  {
   "cell_type": "code",
   "execution_count": 4,
   "metadata": {},
   "outputs": [
    {
     "data": {
      "image/png": "[encoded data removed]",
      "text/plain": [
       "<matplotlib.figure.Figure at 0x10f227e80>"
      ]
     },
     "metadata": {
      "image/png": {
       "height": 389,
       "width": 415
      }
     },
     "output_type": "display_data"
    }
   ],
   "source": [
    "terms_subsections_occur(section, year, terms)"
   ]
  },
  {
   "cell_type": "code",
   "execution_count": 5,
   "metadata": {},
   "outputs": [
    {
     "data": {
      "image/png": "[encoded data removed]",
      "text/plain": [
       "<matplotlib.figure.Figure at 0x10f28f9e8>"
      ]
     },
     "metadata": {
      "image/png": {
       "height": 848,
       "width": 881
      }
     },
     "output_type": "display_data"
    }
   ],
   "source": [
    "word_cloud(model, terms, extented_terms) # keywords local satellites"
   ]
  },
  {
   "cell_type": "code",
   "execution_count": 6,
   "metadata": {},
   "outputs": [
    {
     "data": {
      "application/vnd.plotly.v1+json": {
       "data": [
        {
         "marker": {
          "color": "orange"
         },
         "name": "topic #1",
         "orientation": "h",
         "type": "bar",
         "x": [
          0.005,
          0.005,
          0.005,
          0.006,
          0.006,
          0.006
         ],
         "xaxis": "x1",
         "y": [
          "force",
          "polymer",
          "liquid",
          "simulation",
          "water",
          "particle"
         ],
         "yaxis": "y1"
        },
        {
         "marker": {
          "color": "orange"
         },
         "name": "topic #2",
         "orientation": "h",
         "type": "bar",
         "x": [
          0.005,
          0.005,
          0.005,
          0.005,
          0.01,
          0.017
         ],
         "xaxis": "x2",
         "y": [
          "magnetization",
          "crystal",
          "compound",
          "site",
          "sample",
          "magnetic"
         ],
         "yaxis": "y2"
        },
        {
         "marker": {
          "color": "orange"
         },
         "name": "topic #3",
         "orientation": "h",
         "type": "bar",
         "x": [
          0.004,
          0.004,
          0.004,
          0.005,
          0.006,
          0.008
         ],
         "xaxis": "x3",
         "y": [
          "site",
          "ground_state",
          "symmetry",
          "matrix",
          "hamiltonian",
          "operator"
         ],
         "yaxis": "y3"
        },
        {
         "marker": {
          "color": "orange"
         },
         "name": "topic #4",
         "orientation": "h",
         "type": "bar",
         "x": [
          0.005,
          0.006,
          0.006,
          0.007,
          0.009,
          0.01
         ],
         "xaxis": "x4",
         "y": [
          "fluctuation",
          "superconductor",
          "band",
          "superconductivity",
          "superconducting",
          "gap"
         ],
         "yaxis": "y4"
        },
        {
         "marker": {
          "color": "orange"
         },
         "name": "topic #5",
         "orientation": "h",
         "type": "bar",
         "x": [
          0.004,
          0.004,
          0.005,
          0.005,
          0.005,
          0.014
         ],
         "xaxis": "x5",
         "y": [
          "equilibrium",
          "regime",
          "distribution",
          "solution",
          "velocity",
          "particle"
         ],
         "yaxis": "y5"
        },
        {
         "marker": {
          "color": "orange"
         },
         "name": "topic #6",
         "orientation": "h",
         "type": "bar",
         "x": [
          0.006,
          0.007,
          0.007,
          0.009,
          0.01,
          0.011
         ],
         "xaxis": "x6",
         "y": [
          "frequency",
          "optical",
          "polarization",
          "exciton",
          "mode",
          "phonon"
         ],
         "yaxis": "y6"
        },
        {
         "marker": {
          "color": "orange"
         },
         "name": "topic #7",
         "orientation": "h",
         "type": "bar",
         "x": [
          0.007,
          0.009,
          0.009,
          0.01,
          0.011,
          0.013
         ],
         "xaxis": "x7",
         "y": [
          "voltage",
          "layer",
          "film",
          "current",
          "sample",
          "device"
         ],
         "yaxis": "y7"
        },
        {
         "marker": {
          "color": "orange"
         },
         "name": "topic #8",
         "orientation": "h",
         "type": "bar",
         "x": [
          0.006,
          0.007,
          0.008,
          0.009,
          0.012,
          0.026
         ],
         "xaxis": "x8",
         "y": [
          "molecular",
          "group",
          "symmetry",
          "charge",
          "molecule",
          "particle"
         ],
         "yaxis": "y8"
        },
        {
         "marker": {
          "color": "orange"
         },
         "name": "topic #9",
         "orientation": "h",
         "type": "bar",
         "x": [
          0.004,
          0.004,
          0.005,
          0.005,
          0.006,
          0.009
         ],
         "xaxis": "x9",
         "y": [
          "cluster",
          "configuration",
          "algorithm",
          "simulation",
          "distribution",
          "network"
         ],
         "yaxis": "y9"
        },
        {
         "marker": {
          "color": "orange"
         },
         "name": "topic #10",
         "orientation": "h",
         "type": "bar",
         "x": [
          0.005,
          0.005,
          0.005,
          0.005,
          0.008,
          0.009
         ],
         "xaxis": "x10",
         "y": [
          "site",
          "condensate",
          "hamiltonian",
          "particle",
          "ground_state",
          "atom"
         ],
         "yaxis": "y10"
        },
        {
         "marker": {
          "color": "orange"
         },
         "name": "topic #11",
         "orientation": "h",
         "type": "bar",
         "x": [
          0.004,
          0.004,
          0.004,
          0.006,
          0.006,
          0.009
         ],
         "xaxis": "x11",
         "y": [
          "rate",
          "entanglement",
          "entropy",
          "bath",
          "operator",
          "hamiltonian"
         ],
         "yaxis": "y11"
        },
        {
         "marker": {
          "color": "orange"
         },
         "name": "topic #12",
         "orientation": "h",
         "type": "bar",
         "x": [
          0.006,
          0.006,
          0.006,
          0.007,
          0.007,
          0.007
         ],
         "xaxis": "x12",
         "y": [
          "noise",
          "frequency",
          "cavity",
          "pulse",
          "qubit",
          "measurement"
         ],
         "yaxis": "y12"
        },
        {
         "marker": {
          "color": "orange"
         },
         "name": "topic #13",
         "orientation": "h",
         "type": "bar",
         "x": [
          0.005,
          0.005,
          0.006,
          0.007,
          0.01,
          0.02
         ],
         "xaxis": "x13",
         "y": [
          "defect",
          "bulk",
          "band",
          "layer",
          "atom",
          "graphene"
         ],
         "yaxis": "y13"
        },
        {
         "marker": {
          "color": "orange"
         },
         "name": "topic #14",
         "orientation": "h",
         "type": "bar",
         "x": [
          0.006,
          0.006,
          0.008,
          0.009,
          0.01,
          0.011
         ],
         "xaxis": "x14",
         "y": [
          "gap",
          "hamiltonian",
          "magnetic_field",
          "current",
          "topological",
          "band"
         ],
         "yaxis": "y14"
        },
        {
         "marker": {
          "color": "orange"
         },
         "name": "topic #15",
         "orientation": "h",
         "type": "bar",
         "x": [
          0.006,
          0.006,
          0.006,
          0.006,
          0.007,
          0.007
         ],
         "xaxis": "x15",
         "y": [
          "magnetic",
          "domain",
          "magnetization",
          "magnon",
          "vortex",
          "skyrmion"
         ],
         "yaxis": "y15"
        }
       ],
       "layout": {
        "annotations": [
         {
          "font": {
           "size": 16
          },
          "showarrow": false,
          "text": "simulation",
          "x": 0.11666666666666665,
          "xanchor": "center",
          "xref": "paper",
          "y": 1,
          "yanchor": "bottom",
          "yref": "paper"
         },
         {
          "font": {
           "size": 16
          },
          "showarrow": false,
          "text": "magnetic",
          "x": 0.49999999999999994,
          "xanchor": "center",
          "xref": "paper",
          "y": 1,
          "yanchor": "bottom",
          "yref": "paper"
         },
         {
          "font": {
           "size": 16
          },
          "showarrow": false,
          "text": "operator",
          "x": 0.8833333333333333,
          "xanchor": "center",
          "xref": "paper",
          "y": 1,
          "yanchor": "bottom",
          "yref": "paper"
         },
         {
          "font": {
           "size": 16
          },
          "showarrow": false,
          "text": "gap",
          "x": 0.11666666666666665,
          "xanchor": "center",
          "xref": "paper",
          "y": 0.79,
          "yanchor": "bottom",
          "yref": "paper"
         },
         {
          "font": {
           "size": 16
          },
          "showarrow": false,
          "text": "particle",
          "x": 0.49999999999999994,
          "xanchor": "center",
          "xref": "paper",
          "y": 0.79,
          "yanchor": "bottom",
          "yref": "paper"
         },
         {
          "font": {
           "size": 16
          },
          "showarrow": false,
          "text": "phonon",
          "x": 0.8833333333333333,
          "xanchor": "center",
          "xref": "paper",
          "y": 0.79,
          "yanchor": "bottom",
          "yref": "paper"
         },
         {
          "font": {
           "size": 16
          },
          "showarrow": false,
          "text": "device",
          "x": 0.11666666666666665,
          "xanchor": "center",
          "xref": "paper",
          "y": 0.5800000000000001,
          "yanchor": "bottom",
          "yref": "paper"
         },
         {
          "font": {
           "size": 16
          },
          "showarrow": false,
          "text": "particle",
          "x": 0.49999999999999994,
          "xanchor": "center",
          "xref": "paper",
          "y": 0.5800000000000001,
          "yanchor": "bottom",
          "yref": "paper"
         },
         {
          "font": {
           "size": 16
          },
          "showarrow": false,
          "text": "network",
          "x": 0.8833333333333333,
          "xanchor": "center",
          "xref": "paper",
          "y": 0.5800000000000001,
          "yanchor": "bottom",
          "yref": "paper"
         },
         {
          "font": {
           "size": 16
          },
          "showarrow": false,
          "text": "atom",
          "x": 0.11666666666666665,
          "xanchor": "center",
          "xref": "paper",
          "y": 0.37,
          "yanchor": "bottom",
          "yref": "paper"
         },
         {
          "font": {
           "size": 16
          },
          "showarrow": false,
          "text": "hamiltonian",
          "x": 0.49999999999999994,
          "xanchor": "center",
          "xref": "paper",
          "y": 0.37,
          "yanchor": "bottom",
          "yref": "paper"
         },
         {
          "font": {
           "size": 16
          },
          "showarrow": false,
          "text": "pulse",
          "x": 0.8833333333333333,
          "xanchor": "center",
          "xref": "paper",
          "y": 0.37,
          "yanchor": "bottom",
          "yref": "paper"
         },
         {
          "font": {
           "size": 16
          },
          "showarrow": false,
          "text": "graphene",
          "x": 0.11666666666666665,
          "xanchor": "center",
          "xref": "paper",
          "y": 0.16,
          "yanchor": "bottom",
          "yref": "paper"
         },
         {
          "font": {
           "size": 16
          },
          "showarrow": false,
          "text": "band",
          "x": 0.49999999999999994,
          "xanchor": "center",
          "xref": "paper",
          "y": 0.16,
          "yanchor": "bottom",
          "yref": "paper"
         },
         {
          "font": {
           "size": 16
          },
          "showarrow": false,
          "text": "vortex",
          "x": 0.8833333333333333,
          "xanchor": "center",
          "xref": "paper",
          "y": 0.16,
          "yanchor": "bottom",
          "yref": "paper"
         }
        ],
        "height": 750,
        "margin": {
         "t": 120
        },
        "showlegend": false,
        "title": "",
        "width": 750,
        "xaxis1": {
         "anchor": "y1",
         "domain": [
          0,
          0.2333333333333333
         ],
         "showticklabels": false
        },
        "xaxis10": {
         "anchor": "y10",
         "domain": [
          0,
          0.2333333333333333
         ],
         "showticklabels": false
        },
        "xaxis11": {
         "anchor": "y11",
         "domain": [
          0.3833333333333333,
          0.6166666666666666
         ],
         "showticklabels": false
        },
        "xaxis12": {
         "anchor": "y12",
         "domain": [
          0.7666666666666666,
          0.9999999999999999
         ],
         "showticklabels": false
        },
        "xaxis13": {
         "anchor": "y13",
         "domain": [
          0,
          0.2333333333333333
         ],
         "showticklabels": false
        },
        "xaxis14": {
         "anchor": "y14",
         "domain": [
          0.3833333333333333,
          0.6166666666666666
         ],
         "showticklabels": false
        },
        "xaxis15": {
         "anchor": "y15",
         "domain": [
          0.7666666666666666,
          0.9999999999999999
         ],
         "showticklabels": false
        },
        "xaxis2": {
         "anchor": "y2",
         "domain": [
          0.3833333333333333,
          0.6166666666666666
         ],
         "showticklabels": false
        },
        "xaxis3": {
         "anchor": "y3",
         "domain": [
          0.7666666666666666,
          0.9999999999999999
         ],
         "showticklabels": false
        },
        "xaxis4": {
         "anchor": "y4",
         "domain": [
          0,
          0.2333333333333333
         ],
         "showticklabels": false
        },
        "xaxis5": {
         "anchor": "y5",
         "domain": [
          0.3833333333333333,
          0.6166666666666666
         ],
         "showticklabels": false
        },
        "xaxis6": {
         "anchor": "y6",
         "domain": [
          0.7666666666666666,
          0.9999999999999999
         ],
         "showticklabels": false
        },
        "xaxis7": {
         "anchor": "y7",
         "domain": [
          0,
          0.2333333333333333
         ],
         "showticklabels": false
        },
        "xaxis8": {
         "anchor": "y8",
         "domain": [
          0.3833333333333333,
          0.6166666666666666
         ],
         "showticklabels": false
        },
        "xaxis9": {
         "anchor": "y9",
         "domain": [
          0.7666666666666666,
          0.9999999999999999
         ],
         "showticklabels": false
        },
        "yaxis1": {
         "anchor": "x1",
         "domain": [
          0.8400000000000001,
          1
         ],
         "tickfont": {
          "color": "lightgrey",
          "size": 11
         },
         "ticklen": 3
        },
        "yaxis10": {
         "anchor": "x10",
         "domain": [
          0.21000000000000002,
          0.37
         ],
         "tickfont": {
          "color": "lightgrey",
          "size": 11
         },
         "ticklen": 3
        },
        "yaxis11": {
         "anchor": "x11",
         "domain": [
          0.21000000000000002,
          0.37
         ],
         "tickfont": {
          "color": "lightgrey",
          "size": 11
         },
         "ticklen": 3
        },
        "yaxis12": {
         "anchor": "x12",
         "domain": [
          0.21000000000000002,
          0.37
         ],
         "tickfont": {
          "color": "lightgrey",
          "size": 11
         },
         "ticklen": 3
        },
        "yaxis13": {
         "anchor": "x13",
         "domain": [
          0,
          0.16
         ],
         "tickfont": {
          "color": "lightgrey",
          "size": 11
         },
         "ticklen": 3
        },
        "yaxis14": {
         "anchor": "x14",
         "domain": [
          0,
          0.16
         ],
         "tickfont": {
          "color": "lightgrey",
          "size": 11
         },
         "ticklen": 3
        },
        "yaxis15": {
         "anchor": "x15",
         "domain": [
          0,
          0.16
         ],
         "tickfont": {
          "color": "lightgrey",
          "size": 11
         },
         "ticklen": 3
        },
        "yaxis2": {
         "anchor": "x2",
         "domain": [
          0.8400000000000001,
          1
         ],
         "tickfont": {
          "color": "lightgrey",
          "size": 11
         },
         "ticklen": 3
        },
        "yaxis3": {
         "anchor": "x3",
         "domain": [
          0.8400000000000001,
          1
         ],
         "tickfont": {
          "color": "lightgrey",
          "size": 11
         },
         "ticklen": 3
        },
        "yaxis4": {
         "anchor": "x4",
         "domain": [
          0.63,
          0.79
         ],
         "tickfont": {
          "color": "lightgrey",
          "size": 11
         },
         "ticklen": 3
        },
        "yaxis5": {
         "anchor": "x5",
         "domain": [
          0.63,
          0.79
         ],
         "tickfont": {
          "color": "lightgrey",
          "size": 11
         },
         "ticklen": 3
        },
        "yaxis6": {
         "anchor": "x6",
         "domain": [
          0.63,
          0.79
         ],
         "tickfont": {
          "color": "lightgrey",
          "size": 11
         },
         "ticklen": 3
        },
        "yaxis7": {
         "anchor": "x7",
         "domain": [
          0.42000000000000004,
          0.5800000000000001
         ],
         "tickfont": {
          "color": "lightgrey",
          "size": 11
         },
         "ticklen": 3
        },
        "yaxis8": {
         "anchor": "x8",
         "domain": [
          0.42000000000000004,
          0.5800000000000001
         ],
         "tickfont": {
          "color": "lightgrey",
          "size": 11
         },
         "ticklen": 3
        },
        "yaxis9": {
         "anchor": "x9",
         "domain": [
          0.42000000000000004,
          0.5800000000000001
         ],
         "tickfont": {
          "color": "lightgrey",
          "size": 11
         },
         "ticklen": 3
        }
       }
      },
      "text/html": [
       "<div id=\"36985a0a-85bc-43f8-8603-72327b45d431\" style=\"height: 750px; width: 750px;\" class=\"plotly-graph-div\"></div><script type=\"text/javascript\">require([\"plotly\"], function(Plotly) { window.PLOTLYENV=window.PLOTLYENV || {};window.PLOTLYENV.BASE_URL=\"https://plot.ly\";Plotly.newPlot(\"36985a0a-85bc-43f8-8603-72327b45d431\", [{\"type\": \"bar\", \"x\": [0.005, 0.005, 0.005, 0.006, 0.006, 0.006], \"y\": [\"force\", \"polymer\", \"liquid\", \"simulation\", \"water\", \"particle\"], \"orientation\": \"h\", \"name\": \"topic #1\", \"marker\": {\"color\": \"orange\"}, \"xaxis\": \"x1\", \"yaxis\": \"y1\"}, {\"type\": \"bar\", \"x\": [0.005, 0.005, 0.005, 0.005, 0.01, 0.017], \"y\": [\"magnetization\", \"crystal\", \"compound\", \"site\", \"sample\", \"magnetic\"], \"orientation\": \"h\", \"name\": \"topic #2\", \"marker\": {\"color\": \"orange\"}, \"xaxis\": \"x2\", \"yaxis\": \"y2\"}, {\"type\": \"bar\", \"x\": [0.004, 0.004, 0.004, 0.005, 0.006, 0.008], \"y\": [\"site\", \"ground_state\", \"symmetry\", \"matrix\", \"hamiltonian\", \"operator\"], \"orientation\": \"h\", \"name\": \"topic #3\", \"marker\": {\"color\": \"orange\"}, \"xaxis\": \"x3\", \"yaxis\": \"y3\"}, {\"type\": \"bar\", \"x\": [0.005, 0.006, 0.006, 0.007, 0.009, 0.01], \"y\": [\"fluctuation\", \"superconductor\", \"band\", \"superconductivity\", \"superconducting\", \"gap\"], \"orientation\": \"h\", \"name\": \"topic #4\", \"marker\": {\"color\": \"orange\"}, \"xaxis\": \"x4\", \"yaxis\": \"y4\"}, {\"type\": \"bar\", \"x\": [0.004, 0.004, 0.005, 0.005, 0.005, 0.014], \"y\": [\"equilibrium\", \"regime\", \"distribution\", \"solution\", \"velocity\", \"particle\"], \"orientation\": \"h\", \"name\": \"topic #5\", \"marker\": {\"color\": \"orange\"}, \"xaxis\": \"x5\", \"yaxis\": \"y5\"}, {\"type\": \"bar\", \"x\": [0.006, 0.007, 0.007, 0.009, 0.01, 0.011], \"y\": [\"frequency\", \"optical\", \"polarization\", \"exciton\", \"mode\", \"phonon\"], \"orientation\": \"h\", \"name\": \"topic #6\", \"marker\": {\"color\": \"orange\"}, \"xaxis\": \"x6\", \"yaxis\": \"y6\"}, {\"type\": \"bar\", \"x\": [0.007, 0.009, 0.009, 0.01, 0.011, 0.013], \"y\": [\"voltage\", \"layer\", \"film\", \"current\", \"sample\", \"device\"], \"orientation\": \"h\", \"name\": \"topic #7\", \"marker\": {\"color\": \"orange\"}, \"xaxis\": \"x7\", \"yaxis\": \"y7\"}, {\"type\": \"bar\", \"x\": [0.006, 0.007, 0.008, 0.009, 0.012, 0.026], \"y\": [\"molecular\", \"group\", \"symmetry\", \"charge\", \"molecule\", \"particle\"], \"orientation\": \"h\", \"name\": \"topic #8\", \"marker\": {\"color\": \"orange\"}, \"xaxis\": \"x8\", \"yaxis\": \"y8\"}, {\"type\": \"bar\", \"x\": [0.004, 0.004, 0.005, 0.005, 0.006, 0.009], \"y\": [\"cluster\", \"configuration\", \"algorithm\", \"simulation\", \"distribution\", \"network\"], \"orientation\": \"h\", \"name\": \"topic #9\", \"marker\": {\"color\": \"orange\"}, \"xaxis\": \"x9\", \"yaxis\": \"y9\"}, {\"type\": \"bar\", \"x\": [0.005, 0.005, 0.005, 0.005, 0.008, 0.009], \"y\": [\"site\", \"condensate\", \"hamiltonian\", \"particle\", \"ground_state\", \"atom\"], \"orientation\": \"h\", \"name\": \"topic #10\", \"marker\": {\"color\": \"orange\"}, \"xaxis\": \"x10\", \"yaxis\": \"y10\"}, {\"type\": \"bar\", \"x\": [0.004, 0.004, 0.004, 0.006, 0.006, 0.009], \"y\": [\"rate\", \"entanglement\", \"entropy\", \"bath\", \"operator\", \"hamiltonian\"], \"orientation\": \"h\", \"name\": \"topic #11\", \"marker\": {\"color\": \"orange\"}, \"xaxis\": \"x11\", \"yaxis\": \"y11\"}, {\"type\": \"bar\", \"x\": [0.006, 0.006, 0.006, 0.007, 0.007, 0.007], \"y\": [\"noise\", \"frequency\", \"cavity\", \"pulse\", \"qubit\", \"measurement\"], \"orientation\": \"h\", \"name\": \"topic #12\", \"marker\": {\"color\": \"orange\"}, \"xaxis\": \"x12\", \"yaxis\": \"y12\"}, {\"type\": \"bar\", \"x\": [0.005, 0.005, 0.006, 0.007, 0.01, 0.02], \"y\": [\"defect\", \"bulk\", \"band\", \"layer\", \"atom\", \"graphene\"], \"orientation\": \"h\", \"name\": \"topic #13\", \"marker\": {\"color\": \"orange\"}, \"xaxis\": \"x13\", \"yaxis\": \"y13\"}, {\"type\": \"bar\", \"x\": [0.006, 0.006, 0.008, 0.009, 0.01, 0.011], \"y\": [\"gap\", \"hamiltonian\", \"magnetic_field\", \"current\", \"topological\", \"band\"], \"orientation\": \"h\", \"name\": \"topic #14\", \"marker\": {\"color\": \"orange\"}, \"xaxis\": \"x14\", \"yaxis\": \"y14\"}, {\"type\": \"bar\", \"x\": [0.006, 0.006, 0.006, 0.006, 0.007, 0.007], \"y\": [\"magnetic\", \"domain\", \"magnetization\", \"magnon\", \"vortex\", \"skyrmion\"], \"orientation\": \"h\", \"name\": \"topic #15\", \"marker\": {\"color\": \"orange\"}, \"xaxis\": \"x15\", \"yaxis\": \"y15\"}], {\"xaxis1\": {\"domain\": [0.0, 0.2333333333333333], \"anchor\": \"y1\", \"showticklabels\": false}, \"yaxis1\": {\"domain\": [0.8400000000000001, 1.0], \"anchor\": \"x1\", \"ticklen\": 3, \"tickfont\": {\"size\": 11, \"color\": \"lightgrey\"}}, \"xaxis2\": {\"domain\": [0.3833333333333333, 0.6166666666666666], \"anchor\": \"y2\", \"showticklabels\": false}, \"yaxis2\": {\"domain\": [0.8400000000000001, 1.0], \"anchor\": \"x2\", \"ticklen\": 3, \"tickfont\": {\"size\": 11, \"color\": \"lightgrey\"}}, \"xaxis3\": {\"domain\": [0.7666666666666666, 0.9999999999999999], \"anchor\": \"y3\", \"showticklabels\": false}, \"yaxis3\": {\"domain\": [0.8400000000000001, 1.0], \"anchor\": \"x3\", \"ticklen\": 3, \"tickfont\": {\"size\": 11, \"color\": \"lightgrey\"}}, \"xaxis4\": {\"domain\": [0.0, 0.2333333333333333], \"anchor\": \"y4\", \"showticklabels\": false}, \"yaxis4\": {\"domain\": [0.63, 0.79], \"anchor\": \"x4\", \"ticklen\": 3, \"tickfont\": {\"size\": 11, \"color\": \"lightgrey\"}}, \"xaxis5\": {\"domain\": [0.3833333333333333, 0.6166666666666666], \"anchor\": \"y5\", \"showticklabels\": false}, \"yaxis5\": {\"domain\": [0.63, 0.79], \"anchor\": \"x5\", \"ticklen\": 3, \"tickfont\": {\"size\": 11, \"color\": \"lightgrey\"}}, \"xaxis6\": {\"domain\": [0.7666666666666666, 0.9999999999999999], \"anchor\": \"y6\", \"showticklabels\": false}, \"yaxis6\": {\"domain\": [0.63, 0.79], \"anchor\": \"x6\", \"ticklen\": 3, \"tickfont\": {\"size\": 11, \"color\": \"lightgrey\"}}, \"xaxis7\": {\"domain\": [0.0, 0.2333333333333333], \"anchor\": \"y7\", \"showticklabels\": false}, \"yaxis7\": {\"domain\": [0.42000000000000004, 0.5800000000000001], \"anchor\": \"x7\", \"ticklen\": 3, \"tickfont\": {\"size\": 11, \"color\": \"lightgrey\"}}, \"xaxis8\": {\"domain\": [0.3833333333333333, 0.6166666666666666], \"anchor\": \"y8\", \"showticklabels\": false}, \"yaxis8\": {\"domain\": [0.42000000000000004, 0.5800000000000001], \"anchor\": \"x8\", \"ticklen\": 3, \"tickfont\": {\"size\": 11, \"color\": \"lightgrey\"}}, \"xaxis9\": {\"domain\": [0.7666666666666666, 0.9999999999999999], \"anchor\": \"y9\", \"showticklabels\": false}, \"yaxis9\": {\"domain\": [0.42000000000000004, 0.5800000000000001], \"anchor\": \"x9\", \"ticklen\": 3, \"tickfont\": {\"size\": 11, \"color\": \"lightgrey\"}}, \"xaxis10\": {\"domain\": [0.0, 0.2333333333333333], \"anchor\": \"y10\", \"showticklabels\": false}, \"yaxis10\": {\"domain\": [0.21000000000000002, 0.37], \"anchor\": \"x10\", \"ticklen\": 3, \"tickfont\": {\"size\": 11, \"color\": \"lightgrey\"}}, \"xaxis11\": {\"domain\": [0.3833333333333333, 0.6166666666666666], \"anchor\": \"y11\", \"showticklabels\": false}, \"yaxis11\": {\"domain\": [0.21000000000000002, 0.37], \"anchor\": \"x11\", \"ticklen\": 3, \"tickfont\": {\"size\": 11, \"color\": \"lightgrey\"}}, \"xaxis12\": {\"domain\": [0.7666666666666666, 0.9999999999999999], \"anchor\": \"y12\", \"showticklabels\": false}, \"yaxis12\": {\"domain\": [0.21000000000000002, 0.37], \"anchor\": \"x12\", \"ticklen\": 3, \"tickfont\": {\"size\": 11, \"color\": \"lightgrey\"}}, \"xaxis13\": {\"domain\": [0.0, 0.2333333333333333], \"anchor\": \"y13\", \"showticklabels\": false}, \"yaxis13\": {\"domain\": [0.0, 0.16], \"anchor\": \"x13\", \"ticklen\": 3, \"tickfont\": {\"size\": 11, \"color\": \"lightgrey\"}}, \"xaxis14\": {\"domain\": [0.3833333333333333, 0.6166666666666666], \"anchor\": \"y14\", \"showticklabels\": false}, \"yaxis14\": {\"domain\": [0.0, 0.16], \"anchor\": \"x14\", \"ticklen\": 3, \"tickfont\": {\"size\": 11, \"color\": \"lightgrey\"}}, \"xaxis15\": {\"domain\": [0.7666666666666666, 0.9999999999999999], \"anchor\": \"y15\", \"showticklabels\": false}, \"yaxis15\": {\"domain\": [0.0, 0.16], \"anchor\": \"x15\", \"ticklen\": 3, \"tickfont\": {\"size\": 11, \"color\": \"lightgrey\"}}, \"annotations\": [{\"y\": 1.0, \"xref\": \"paper\", \"x\": 0.11666666666666665, \"yref\": \"paper\", \"text\": \"simulation\", \"showarrow\": false, \"font\": {\"size\": 16}, \"xanchor\": \"center\", \"yanchor\": \"bottom\"}, {\"y\": 1.0, \"xref\": \"paper\", \"x\": 0.49999999999999994, \"yref\": \"paper\", \"text\": \"magnetic\", \"showarrow\": false, \"font\": {\"size\": 16}, \"xanchor\": \"center\", \"yanchor\": \"bottom\"}, {\"y\": 1.0, \"xref\": \"paper\", \"x\": 0.8833333333333333, \"yref\": \"paper\", \"text\": \"operator\", \"showarrow\": false, \"font\": {\"size\": 16}, \"xanchor\": \"center\", \"yanchor\": \"bottom\"}, {\"y\": 0.79, \"xref\": \"paper\", \"x\": 0.11666666666666665, \"yref\": \"paper\", \"text\": \"gap\", \"showarrow\": false, \"font\": {\"size\": 16}, \"xanchor\": \"center\", \"yanchor\": \"bottom\"}, {\"y\": 0.79, \"xref\": \"paper\", \"x\": 0.49999999999999994, \"yref\": \"paper\", \"text\": \"particle\", \"showarrow\": false, \"font\": {\"size\": 16}, \"xanchor\": \"center\", \"yanchor\": \"bottom\"}, {\"y\": 0.79, \"xref\": \"paper\", \"x\": 0.8833333333333333, \"yref\": \"paper\", \"text\": \"phonon\", \"showarrow\": false, \"font\": {\"size\": 16}, \"xanchor\": \"center\", \"yanchor\": \"bottom\"}, {\"y\": 0.5800000000000001, \"xref\": \"paper\", \"x\": 0.11666666666666665, \"yref\": \"paper\", \"text\": \"device\", \"showarrow\": false, \"font\": {\"size\": 16}, \"xanchor\": \"center\", \"yanchor\": \"bottom\"}, {\"y\": 0.5800000000000001, \"xref\": \"paper\", \"x\": 0.49999999999999994, \"yref\": \"paper\", \"text\": \"particle\", \"showarrow\": false, \"font\": {\"size\": 16}, \"xanchor\": \"center\", \"yanchor\": \"bottom\"}, {\"y\": 0.5800000000000001, \"xref\": \"paper\", \"x\": 0.8833333333333333, \"yref\": \"paper\", \"text\": \"network\", \"showarrow\": false, \"font\": {\"size\": 16}, \"xanchor\": \"center\", \"yanchor\": \"bottom\"}, {\"y\": 0.37, \"xref\": \"paper\", \"x\": 0.11666666666666665, \"yref\": \"paper\", \"text\": \"atom\", \"showarrow\": false, \"font\": {\"size\": 16}, \"xanchor\": \"center\", \"yanchor\": \"bottom\"}, {\"y\": 0.37, \"xref\": \"paper\", \"x\": 0.49999999999999994, \"yref\": \"paper\", \"text\": \"hamiltonian\", \"showarrow\": false, \"font\": {\"size\": 16}, \"xanchor\": \"center\", \"yanchor\": \"bottom\"}, {\"y\": 0.37, \"xref\": \"paper\", \"x\": 0.8833333333333333, \"yref\": \"paper\", \"text\": \"pulse\", \"showarrow\": false, \"font\": {\"size\": 16}, \"xanchor\": \"center\", \"yanchor\": \"bottom\"}, {\"y\": 0.16, \"xref\": \"paper\", \"x\": 0.11666666666666665, \"yref\": \"paper\", \"text\": \"graphene\", \"showarrow\": false, \"font\": {\"size\": 16}, \"xanchor\": \"center\", \"yanchor\": \"bottom\"}, {\"y\": 0.16, \"xref\": \"paper\", \"x\": 0.49999999999999994, \"yref\": \"paper\", \"text\": \"band\", \"showarrow\": false, \"font\": {\"size\": 16}, \"xanchor\": \"center\", \"yanchor\": \"bottom\"}, {\"y\": 0.16, \"xref\": \"paper\", \"x\": 0.8833333333333333, \"yref\": \"paper\", \"text\": \"vortex\", \"showarrow\": false, \"font\": {\"size\": 16}, \"xanchor\": \"center\", \"yanchor\": \"bottom\"}], \"height\": 750, \"width\": 750, \"showlegend\": false, \"title\": \"\", \"margin\": {\"t\": 120}}, {\"showLink\": false, \"linkText\": \"Export to plot.ly\"})});</script>"
      ],
      "text/vnd.plotly.v1+html": [
       "<div id=\"36985a0a-85bc-43f8-8603-72327b45d431\" style=\"height: 750px; width: 750px;\" class=\"plotly-graph-div\"></div><script type=\"text/javascript\">require([\"plotly\"], function(Plotly) { window.PLOTLYENV=window.PLOTLYENV || {};window.PLOTLYENV.BASE_URL=\"https://plot.ly\";Plotly.newPlot(\"36985a0a-85bc-43f8-8603-72327b45d431\", [{\"type\": \"bar\", \"x\": [0.005, 0.005, 0.005, 0.006, 0.006, 0.006], \"y\": [\"force\", \"polymer\", \"liquid\", \"simulation\", \"water\", \"particle\"], \"orientation\": \"h\", \"name\": \"topic #1\", \"marker\": {\"color\": \"orange\"}, \"xaxis\": \"x1\", \"yaxis\": \"y1\"}, {\"type\": \"bar\", \"x\": [0.005, 0.005, 0.005, 0.005, 0.01, 0.017], \"y\": [\"magnetization\", \"crystal\", \"compound\", \"site\", \"sample\", \"magnetic\"], \"orientation\": \"h\", \"name\": \"topic #2\", \"marker\": {\"color\": \"orange\"}, \"xaxis\": \"x2\", \"yaxis\": \"y2\"}, {\"type\": \"bar\", \"x\": [0.004, 0.004, 0.004, 0.005, 0.006, 0.008], \"y\": [\"site\", \"ground_state\", \"symmetry\", \"matrix\", \"hamiltonian\", \"operator\"], \"orientation\": \"h\", \"name\": \"topic #3\", \"marker\": {\"color\": \"orange\"}, \"xaxis\": \"x3\", \"yaxis\": \"y3\"}, {\"type\": \"bar\", \"x\": [0.005, 0.006, 0.006, 0.007, 0.009, 0.01], \"y\": [\"fluctuation\", \"superconductor\", \"band\", \"superconductivity\", \"superconducting\", \"gap\"], \"orientation\": \"h\", \"name\": \"topic #4\", \"marker\": {\"color\": \"orange\"}, \"xaxis\": \"x4\", \"yaxis\": \"y4\"}, {\"type\": \"bar\", \"x\": [0.004, 0.004, 0.005, 0.005, 0.005, 0.014], \"y\": [\"equilibrium\", \"regime\", \"distribution\", \"solution\", \"velocity\", \"particle\"], \"orientation\": \"h\", \"name\": \"topic #5\", \"marker\": {\"color\": \"orange\"}, \"xaxis\": \"x5\", \"yaxis\": \"y5\"}, {\"type\": \"bar\", \"x\": [0.006, 0.007, 0.007, 0.009, 0.01, 0.011], \"y\": [\"frequency\", \"optical\", \"polarization\", \"exciton\", \"mode\", \"phonon\"], \"orientation\": \"h\", \"name\": \"topic #6\", \"marker\": {\"color\": \"orange\"}, \"xaxis\": \"x6\", \"yaxis\": \"y6\"}, {\"type\": \"bar\", \"x\": [0.007, 0.009, 0.009, 0.01, 0.011, 0.013], \"y\": [\"voltage\", \"layer\", \"film\", \"current\", \"sample\", \"device\"], \"orientation\": \"h\", \"name\": \"topic #7\", \"marker\": {\"color\": \"orange\"}, \"xaxis\": \"x7\", \"yaxis\": \"y7\"}, {\"type\": \"bar\", \"x\": [0.006, 0.007, 0.008, 0.009, 0.012, 0.026], \"y\": [\"molecular\", \"group\", \"symmetry\", \"charge\", \"molecule\", \"particle\"], \"orientation\": \"h\", \"name\": \"topic #8\", \"marker\": {\"color\": \"orange\"}, \"xaxis\": \"x8\", \"yaxis\": \"y8\"}, {\"type\": \"bar\", \"x\": [0.004, 0.004, 0.005, 0.005, 0.006, 0.009], \"y\": [\"cluster\", \"configuration\", \"algorithm\", \"simulation\", \"distribution\", \"network\"], \"orientation\": \"h\", \"name\": \"topic #9\", \"marker\": {\"color\": \"orange\"}, \"xaxis\": \"x9\", \"yaxis\": \"y9\"}, {\"type\": \"bar\", \"x\": [0.005, 0.005, 0.005, 0.005, 0.008, 0.009], \"y\": [\"site\", \"condensate\", \"hamiltonian\", \"particle\", \"ground_state\", \"atom\"], \"orientation\": \"h\", \"name\": \"topic #10\", \"marker\": {\"color\": \"orange\"}, \"xaxis\": \"x10\", \"yaxis\": \"y10\"}, {\"type\": \"bar\", \"x\": [0.004, 0.004, 0.004, 0.006, 0.006, 0.009], \"y\": [\"rate\", \"entanglement\", \"entropy\", \"bath\", \"operator\", \"hamiltonian\"], \"orientation\": \"h\", \"name\": \"topic #11\", \"marker\": {\"color\": \"orange\"}, \"xaxis\": \"x11\", \"yaxis\": \"y11\"}, {\"type\": \"bar\", \"x\": [0.006, 0.006, 0.006, 0.007, 0.007, 0.007], \"y\": [\"noise\", \"frequency\", \"cavity\", \"pulse\", \"qubit\", \"measurement\"], \"orientation\": \"h\", \"name\": \"topic #12\", \"marker\": {\"color\": \"orange\"}, \"xaxis\": \"x12\", \"yaxis\": \"y12\"}, {\"type\": \"bar\", \"x\": [0.005, 0.005, 0.006, 0.007, 0.01, 0.02], \"y\": [\"defect\", \"bulk\", \"band\", \"layer\", \"atom\", \"graphene\"], \"orientation\": \"h\", \"name\": \"topic #13\", \"marker\": {\"color\": \"orange\"}, \"xaxis\": \"x13\", \"yaxis\": \"y13\"}, {\"type\": \"bar\", \"x\": [0.006, 0.006, 0.008, 0.009, 0.01, 0.011], \"y\": [\"gap\", \"hamiltonian\", \"magnetic_field\", \"current\", \"topological\", \"band\"], \"orientation\": \"h\", \"name\": \"topic #14\", \"marker\": {\"color\": \"orange\"}, \"xaxis\": \"x14\", \"yaxis\": \"y14\"}, {\"type\": \"bar\", \"x\": [0.006, 0.006, 0.006, 0.006, 0.007, 0.007], \"y\": [\"magnetic\", \"domain\", \"magnetization\", \"magnon\", \"vortex\", \"skyrmion\"], \"orientation\": \"h\", \"name\": \"topic #15\", \"marker\": {\"color\": \"orange\"}, \"xaxis\": \"x15\", \"yaxis\": \"y15\"}], {\"xaxis1\": {\"domain\": [0.0, 0.2333333333333333], \"anchor\": \"y1\", \"showticklabels\": false}, \"yaxis1\": {\"domain\": [0.8400000000000001, 1.0], \"anchor\": \"x1\", \"ticklen\": 3, \"tickfont\": {\"size\": 11, \"color\": \"lightgrey\"}}, \"xaxis2\": {\"domain\": [0.3833333333333333, 0.6166666666666666], \"anchor\": \"y2\", \"showticklabels\": false}, \"yaxis2\": {\"domain\": [0.8400000000000001, 1.0], \"anchor\": \"x2\", \"ticklen\": 3, \"tickfont\": {\"size\": 11, \"color\": \"lightgrey\"}}, \"xaxis3\": {\"domain\": [0.7666666666666666, 0.9999999999999999], \"anchor\": \"y3\", \"showticklabels\": false}, \"yaxis3\": {\"domain\": [0.8400000000000001, 1.0], \"anchor\": \"x3\", \"ticklen\": 3, \"tickfont\": {\"size\": 11, \"color\": \"lightgrey\"}}, \"xaxis4\": {\"domain\": [0.0, 0.2333333333333333], \"anchor\": \"y4\", \"showticklabels\": false}, \"yaxis4\": {\"domain\": [0.63, 0.79], \"anchor\": \"x4\", \"ticklen\": 3, \"tickfont\": {\"size\": 11, \"color\": \"lightgrey\"}}, \"xaxis5\": {\"domain\": [0.3833333333333333, 0.6166666666666666], \"anchor\": \"y5\", \"showticklabels\": false}, \"yaxis5\": {\"domain\": [0.63, 0.79], \"anchor\": \"x5\", \"ticklen\": 3, \"tickfont\": {\"size\": 11, \"color\": \"lightgrey\"}}, \"xaxis6\": {\"domain\": [0.7666666666666666, 0.9999999999999999], \"anchor\": \"y6\", \"showticklabels\": false}, \"yaxis6\": {\"domain\": [0.63, 0.79], \"anchor\": \"x6\", \"ticklen\": 3, \"tickfont\": {\"size\": 11, \"color\": \"lightgrey\"}}, \"xaxis7\": {\"domain\": [0.0, 0.2333333333333333], \"anchor\": \"y7\", \"showticklabels\": false}, \"yaxis7\": {\"domain\": [0.42000000000000004, 0.5800000000000001], \"anchor\": \"x7\", \"ticklen\": 3, \"tickfont\": {\"size\": 11, \"color\": \"lightgrey\"}}, \"xaxis8\": {\"domain\": [0.3833333333333333, 0.6166666666666666], \"anchor\": \"y8\", \"showticklabels\": false}, \"yaxis8\": {\"domain\": [0.42000000000000004, 0.5800000000000001], \"anchor\": \"x8\", \"ticklen\": 3, \"tickfont\": {\"size\": 11, \"color\": \"lightgrey\"}}, \"xaxis9\": {\"domain\": [0.7666666666666666, 0.9999999999999999], \"anchor\": \"y9\", \"showticklabels\": false}, \"yaxis9\": {\"domain\": [0.42000000000000004, 0.5800000000000001], \"anchor\": \"x9\", \"ticklen\": 3, \"tickfont\": {\"size\": 11, \"color\": \"lightgrey\"}}, \"xaxis10\": {\"domain\": [0.0, 0.2333333333333333], \"anchor\": \"y10\", \"showticklabels\": false}, \"yaxis10\": {\"domain\": [0.21000000000000002, 0.37], \"anchor\": \"x10\", \"ticklen\": 3, \"tickfont\": {\"size\": 11, \"color\": \"lightgrey\"}}, \"xaxis11\": {\"domain\": [0.3833333333333333, 0.6166666666666666], \"anchor\": \"y11\", \"showticklabels\": false}, \"yaxis11\": {\"domain\": [0.21000000000000002, 0.37], \"anchor\": \"x11\", \"ticklen\": 3, \"tickfont\": {\"size\": 11, \"color\": \"lightgrey\"}}, \"xaxis12\": {\"domain\": [0.7666666666666666, 0.9999999999999999], \"anchor\": \"y12\", \"showticklabels\": false}, \"yaxis12\": {\"domain\": [0.21000000000000002, 0.37], \"anchor\": \"x12\", \"ticklen\": 3, \"tickfont\": {\"size\": 11, \"color\": \"lightgrey\"}}, \"xaxis13\": {\"domain\": [0.0, 0.2333333333333333], \"anchor\": \"y13\", \"showticklabels\": false}, \"yaxis13\": {\"domain\": [0.0, 0.16], \"anchor\": \"x13\", \"ticklen\": 3, \"tickfont\": {\"size\": 11, \"color\": \"lightgrey\"}}, \"xaxis14\": {\"domain\": [0.3833333333333333, 0.6166666666666666], \"anchor\": \"y14\", \"showticklabels\": false}, \"yaxis14\": {\"domain\": [0.0, 0.16], \"anchor\": \"x14\", \"ticklen\": 3, \"tickfont\": {\"size\": 11, \"color\": \"lightgrey\"}}, \"xaxis15\": {\"domain\": [0.7666666666666666, 0.9999999999999999], \"anchor\": \"y15\", \"showticklabels\": false}, \"yaxis15\": {\"domain\": [0.0, 0.16], \"anchor\": \"x15\", \"ticklen\": 3, \"tickfont\": {\"size\": 11, \"color\": \"lightgrey\"}}, \"annotations\": [{\"y\": 1.0, \"xref\": \"paper\", \"x\": 0.11666666666666665, \"yref\": \"paper\", \"text\": \"simulation\", \"showarrow\": false, \"font\": {\"size\": 16}, \"xanchor\": \"center\", \"yanchor\": \"bottom\"}, {\"y\": 1.0, \"xref\": \"paper\", \"x\": 0.49999999999999994, \"yref\": \"paper\", \"text\": \"magnetic\", \"showarrow\": false, \"font\": {\"size\": 16}, \"xanchor\": \"center\", \"yanchor\": \"bottom\"}, {\"y\": 1.0, \"xref\": \"paper\", \"x\": 0.8833333333333333, \"yref\": \"paper\", \"text\": \"operator\", \"showarrow\": false, \"font\": {\"size\": 16}, \"xanchor\": \"center\", \"yanchor\": \"bottom\"}, {\"y\": 0.79, \"xref\": \"paper\", \"x\": 0.11666666666666665, \"yref\": \"paper\", \"text\": \"gap\", \"showarrow\": false, \"font\": {\"size\": 16}, \"xanchor\": \"center\", \"yanchor\": \"bottom\"}, {\"y\": 0.79, \"xref\": \"paper\", \"x\": 0.49999999999999994, \"yref\": \"paper\", \"text\": \"particle\", \"showarrow\": false, \"font\": {\"size\": 16}, \"xanchor\": \"center\", \"yanchor\": \"bottom\"}, {\"y\": 0.79, \"xref\": \"paper\", \"x\": 0.8833333333333333, \"yref\": \"paper\", \"text\": \"phonon\", \"showarrow\": false, \"font\": {\"size\": 16}, \"xanchor\": \"center\", \"yanchor\": \"bottom\"}, {\"y\": 0.5800000000000001, \"xref\": \"paper\", \"x\": 0.11666666666666665, \"yref\": \"paper\", \"text\": \"device\", \"showarrow\": false, \"font\": {\"size\": 16}, \"xanchor\": \"center\", \"yanchor\": \"bottom\"}, {\"y\": 0.5800000000000001, \"xref\": \"paper\", \"x\": 0.49999999999999994, \"yref\": \"paper\", \"text\": \"particle\", \"showarrow\": false, \"font\": {\"size\": 16}, \"xanchor\": \"center\", \"yanchor\": \"bottom\"}, {\"y\": 0.5800000000000001, \"xref\": \"paper\", \"x\": 0.8833333333333333, \"yref\": \"paper\", \"text\": \"network\", \"showarrow\": false, \"font\": {\"size\": 16}, \"xanchor\": \"center\", \"yanchor\": \"bottom\"}, {\"y\": 0.37, \"xref\": \"paper\", \"x\": 0.11666666666666665, \"yref\": \"paper\", \"text\": \"atom\", \"showarrow\": false, \"font\": {\"size\": 16}, \"xanchor\": \"center\", \"yanchor\": \"bottom\"}, {\"y\": 0.37, \"xref\": \"paper\", \"x\": 0.49999999999999994, \"yref\": \"paper\", \"text\": \"hamiltonian\", \"showarrow\": false, \"font\": {\"size\": 16}, \"xanchor\": \"center\", \"yanchor\": \"bottom\"}, {\"y\": 0.37, \"xref\": \"paper\", \"x\": 0.8833333333333333, \"yref\": \"paper\", \"text\": \"pulse\", \"showarrow\": false, \"font\": {\"size\": 16}, \"xanchor\": \"center\", \"yanchor\": \"bottom\"}, {\"y\": 0.16, \"xref\": \"paper\", \"x\": 0.11666666666666665, \"yref\": \"paper\", \"text\": \"graphene\", \"showarrow\": false, \"font\": {\"size\": 16}, \"xanchor\": \"center\", \"yanchor\": \"bottom\"}, {\"y\": 0.16, \"xref\": \"paper\", \"x\": 0.49999999999999994, \"yref\": \"paper\", \"text\": \"band\", \"showarrow\": false, \"font\": {\"size\": 16}, \"xanchor\": \"center\", \"yanchor\": \"bottom\"}, {\"y\": 0.16, \"xref\": \"paper\", \"x\": 0.8833333333333333, \"yref\": \"paper\", \"text\": \"vortex\", \"showarrow\": false, \"font\": {\"size\": 16}, \"xanchor\": \"center\", \"yanchor\": \"bottom\"}], \"height\": 750, \"width\": 750, \"showlegend\": false, \"title\": \"\", \"margin\": {\"t\": 120}}, {\"showLink\": false, \"linkText\": \"Export to plot.ly\"})});</script>"
      ]
     },
     "metadata": {},
     "output_type": "display_data"
    }
   ],
   "source": [
    "draw_barchart(volume) # volume topics"
   ]
  },
  {
   "cell_type": "code",
   "execution_count": 3,
   "metadata": {},
   "outputs": [
    {
     "data": {
      "text/markdown": [
       "\n",
       "| Topic title | Articles |\n",
       "| --- | --- |\n",
       "| simulation, water | [1708.05370](https://arxiv.org/pdf/1708.05370.pdf)&nbsp;&nbsp;&nbsp;&nbsp;[1710.03325](https://arxiv.org/pdf/1710.03325.pdf)&nbsp;&nbsp;&nbsp;&nbsp;[1709.04563](https://arxiv.org/pdf/1709.04563.pdf)&nbsp;&nbsp;&nbsp;&nbsp;[1703.08523](https://arxiv.org/pdf/1703.08523.pdf)&nbsp;&nbsp;&nbsp;&nbsp;[1703.07835](https://arxiv.org/pdf/1703.07835.pdf)&nbsp;&nbsp;&nbsp;&nbsp; |\n",
       "| magnetic, sample | [1703.08626](https://arxiv.org/pdf/1703.08626.pdf)&nbsp;&nbsp;&nbsp;&nbsp;[1712.01761](https://arxiv.org/pdf/1712.01761.pdf)&nbsp;&nbsp;&nbsp;&nbsp;[1701.03258](https://arxiv.org/pdf/1701.03258.pdf)&nbsp;&nbsp;&nbsp;&nbsp;[1708.02257](https://arxiv.org/pdf/1708.02257.pdf)&nbsp;&nbsp;&nbsp;&nbsp;[1705.04017](https://arxiv.org/pdf/1705.04017.pdf)&nbsp;&nbsp;&nbsp;&nbsp; |\n",
       "| operator, hamiltonian | [1707.06123](https://arxiv.org/pdf/1707.06123.pdf)&nbsp;&nbsp;&nbsp;&nbsp;[1704.01943](https://arxiv.org/pdf/1704.01943.pdf)&nbsp;&nbsp;&nbsp;&nbsp;[1706.06574](https://arxiv.org/pdf/1706.06574.pdf)&nbsp;&nbsp;&nbsp;&nbsp;[1710.01830](https://arxiv.org/pdf/1710.01830.pdf)&nbsp;&nbsp;&nbsp;&nbsp;[1703.01113](https://arxiv.org/pdf/1703.01113.pdf)&nbsp;&nbsp;&nbsp;&nbsp; |\n",
       "| gap, superconducting | [1712.03625](https://arxiv.org/pdf/1712.03625.pdf)&nbsp;&nbsp;&nbsp;&nbsp;[1703.03189](https://arxiv.org/pdf/1703.03189.pdf)&nbsp;&nbsp;&nbsp;&nbsp;[1702.03686](https://arxiv.org/pdf/1702.03686.pdf)&nbsp;&nbsp;&nbsp;&nbsp;[1701.03584](https://arxiv.org/pdf/1701.03584.pdf)&nbsp;&nbsp;&nbsp;&nbsp;[1703.05259](https://arxiv.org/pdf/1703.05259.pdf)&nbsp;&nbsp;&nbsp;&nbsp; |\n",
       "| particle, distribution | [1708.05370](https://arxiv.org/pdf/1708.05370.pdf)&nbsp;&nbsp;&nbsp;&nbsp;[1707.05220](https://arxiv.org/pdf/1707.05220.pdf)&nbsp;&nbsp;&nbsp;&nbsp;[1701.08752](https://arxiv.org/pdf/1701.08752.pdf)&nbsp;&nbsp;&nbsp;&nbsp;[1705.07670](https://arxiv.org/pdf/1705.07670.pdf)&nbsp;&nbsp;&nbsp;&nbsp;[1702.01061](https://arxiv.org/pdf/1702.01061.pdf)&nbsp;&nbsp;&nbsp;&nbsp; |\n",
       "| phonon, mode | [1701.02770](https://arxiv.org/pdf/1701.02770.pdf)&nbsp;&nbsp;&nbsp;&nbsp;[1704.08069](https://arxiv.org/pdf/1704.08069.pdf)&nbsp;&nbsp;&nbsp;&nbsp;[1704.03792](https://arxiv.org/pdf/1704.03792.pdf)&nbsp;&nbsp;&nbsp;&nbsp;[1709.01876](https://arxiv.org/pdf/1709.01876.pdf)&nbsp;&nbsp;&nbsp;&nbsp;[1705.01816](https://arxiv.org/pdf/1705.01816.pdf)&nbsp;&nbsp;&nbsp;&nbsp; |\n",
       "| device, sample | [1708.06864](https://arxiv.org/pdf/1708.06864.pdf)&nbsp;&nbsp;&nbsp;&nbsp;[1701.06633](https://arxiv.org/pdf/1701.06633.pdf)&nbsp;&nbsp;&nbsp;&nbsp;[1703.09957](https://arxiv.org/pdf/1703.09957.pdf)&nbsp;&nbsp;&nbsp;&nbsp;[1706.02318](https://arxiv.org/pdf/1706.02318.pdf)&nbsp;&nbsp;&nbsp;&nbsp;[1701.02727](https://arxiv.org/pdf/1701.02727.pdf)&nbsp;&nbsp;&nbsp;&nbsp; |\n",
       "| particle, molecule | [1708.05370](https://arxiv.org/pdf/1708.05370.pdf)&nbsp;&nbsp;&nbsp;&nbsp;[1701.08752](https://arxiv.org/pdf/1701.08752.pdf)&nbsp;&nbsp;&nbsp;&nbsp;[1708.02508](https://arxiv.org/pdf/1708.02508.pdf)&nbsp;&nbsp;&nbsp;&nbsp;[1705.06308](https://arxiv.org/pdf/1705.06308.pdf)&nbsp;&nbsp;&nbsp;&nbsp;[1707.05220](https://arxiv.org/pdf/1707.05220.pdf)&nbsp;&nbsp;&nbsp;&nbsp; |\n",
       "| network, distribution | [1710.01830](https://arxiv.org/pdf/1710.01830.pdf)&nbsp;&nbsp;&nbsp;&nbsp;[1704.03526](https://arxiv.org/pdf/1704.03526.pdf)&nbsp;&nbsp;&nbsp;&nbsp;[1708.06810](https://arxiv.org/pdf/1708.06810.pdf)&nbsp;&nbsp;&nbsp;&nbsp;[1706.02356](https://arxiv.org/pdf/1706.02356.pdf)&nbsp;&nbsp;&nbsp;&nbsp;[1705.07447](https://arxiv.org/pdf/1705.07447.pdf)&nbsp;&nbsp;&nbsp;&nbsp; |\n",
       "| atom, ground_state | [1708.05370](https://arxiv.org/pdf/1708.05370.pdf)&nbsp;&nbsp;&nbsp;&nbsp;[1710.06340](https://arxiv.org/pdf/1710.06340.pdf)&nbsp;&nbsp;&nbsp;&nbsp;[1711.09969](https://arxiv.org/pdf/1711.09969.pdf)&nbsp;&nbsp;&nbsp;&nbsp;[1709.07408](https://arxiv.org/pdf/1709.07408.pdf)&nbsp;&nbsp;&nbsp;&nbsp;[1706.06574](https://arxiv.org/pdf/1706.06574.pdf)&nbsp;&nbsp;&nbsp;&nbsp; |\n",
       "| hamiltonian, bath | [1704.01180](https://arxiv.org/pdf/1704.01180.pdf)&nbsp;&nbsp;&nbsp;&nbsp;[1710.01830](https://arxiv.org/pdf/1710.01830.pdf)&nbsp;&nbsp;&nbsp;&nbsp;[1706.04571](https://arxiv.org/pdf/1706.04571.pdf)&nbsp;&nbsp;&nbsp;&nbsp;[1703.01113](https://arxiv.org/pdf/1703.01113.pdf)&nbsp;&nbsp;&nbsp;&nbsp;[1704.01536](https://arxiv.org/pdf/1704.01536.pdf)&nbsp;&nbsp;&nbsp;&nbsp; |\n",
       "| pulse, qubit | [1711.05913](https://arxiv.org/pdf/1711.05913.pdf)&nbsp;&nbsp;&nbsp;&nbsp;[1706.06688](https://arxiv.org/pdf/1706.06688.pdf)&nbsp;&nbsp;&nbsp;&nbsp;[1711.01658](https://arxiv.org/pdf/1711.01658.pdf)&nbsp;&nbsp;&nbsp;&nbsp;[1703.06077](https://arxiv.org/pdf/1703.06077.pdf)&nbsp;&nbsp;&nbsp;&nbsp;[1711.07665](https://arxiv.org/pdf/1711.07665.pdf)&nbsp;&nbsp;&nbsp;&nbsp; |\n",
       "| graphene, atom | [1705.01429](https://arxiv.org/pdf/1705.01429.pdf)&nbsp;&nbsp;&nbsp;&nbsp;[1704.06875](https://arxiv.org/pdf/1704.06875.pdf)&nbsp;&nbsp;&nbsp;&nbsp;[1706.00422](https://arxiv.org/pdf/1706.00422.pdf)&nbsp;&nbsp;&nbsp;&nbsp;[1709.04540](https://arxiv.org/pdf/1709.04540.pdf)&nbsp;&nbsp;&nbsp;&nbsp;[1712.02482](https://arxiv.org/pdf/1712.02482.pdf)&nbsp;&nbsp;&nbsp;&nbsp; |\n",
       "| band, topological | [1706.08206](https://arxiv.org/pdf/1706.08206.pdf)&nbsp;&nbsp;&nbsp;&nbsp;[1703.05259](https://arxiv.org/pdf/1703.05259.pdf)&nbsp;&nbsp;&nbsp;&nbsp;[1703.05658](https://arxiv.org/pdf/1703.05658.pdf)&nbsp;&nbsp;&nbsp;&nbsp;[1712.03982](https://arxiv.org/pdf/1712.03982.pdf)&nbsp;&nbsp;&nbsp;&nbsp;[1701.03584](https://arxiv.org/pdf/1701.03584.pdf)&nbsp;&nbsp;&nbsp;&nbsp; |\n",
       "| vortex, skyrmion | [1704.06926](https://arxiv.org/pdf/1704.06926.pdf)&nbsp;&nbsp;&nbsp;&nbsp;[1701.02430](https://arxiv.org/pdf/1701.02430.pdf)&nbsp;&nbsp;&nbsp;&nbsp;[1703.08626](https://arxiv.org/pdf/1703.08626.pdf)&nbsp;&nbsp;&nbsp;&nbsp;[1706.01617](https://arxiv.org/pdf/1706.01617.pdf)&nbsp;&nbsp;&nbsp;&nbsp;[1708.01526](https://arxiv.org/pdf/1708.01526.pdf)&nbsp;&nbsp;&nbsp;&nbsp; |\n"
      ],
      "text/plain": [
       "<IPython.core.display.Markdown object>"
      ]
     },
     "metadata": {},
     "output_type": "display_data"
    }
   ],
   "source": [
    "lda_articles(volume) # topic articles"
   ]
  },
  {
   "cell_type": "code",
   "execution_count": 11,
   "metadata": {},
   "outputs": [
    {
     "data": {
      "text/markdown": [
       "\n",
       "| <center>Author(s)<center> | <center>Year<center> | <center>Ref. count<center> |\n",
       "| --- | --- | --- |\n",
       "|<center>D. J. Scalapino</center>|<center>2012</center>|<center>2</center>|\n",
       "|<center>Z. P. Yin, K. Haule, G. Kotliar</center>|<center>2011</center>|<center>2</center>|\n",
       "|<center>Z. Dar</center>|<center>1970</center>|<center>2</center>|\n",
       "|<center>T. Sturm</center>|<center>2008</center>|<center>2</center>|\n",
       "|<center>N. Kalogeropoulos</center>|<center>2017</center>|<center>2</center>|\n",
       "|<center>T. J. Oliveira, J. F. Stilck</center>|<center>2016</center>|<center>2</center>|\n",
       "|<center>C. G. Van, J. Neugebauer</center>|<center>1994</center>|<center>2</center>|\n",
       "|<center>B. B. Wei</center>|<center>2017</center>|<center>2</center>|\n",
       "|<center>E. T. Jaynes</center>|<center>1957</center>|<center>2</center>|\n",
       "|<center>A. Hariki, T. Uozumi, J. Phys</center>|<center>2013</center>|<center>2</center>|\n",
       "|<center>B. Zoetekouw, R. van</center>|<center>2002</center>|<center>2</center>|\n",
       "|<center>L. Ho</center>|<center>1998</center>|<center>2</center>|\n",
       "|<center>Y. Xu</center>|<center>2015</center>|<center>2</center>|\n",
       "|<center>V. Pietil</center>|<center>2009</center>|<center>2</center>|\n",
       "|<center>M. Boninsegni, N. Prokof, B. Svistunov</center>|<center>2006</center>|<center>2</center>|\n"
      ],
      "text/plain": [
       "<IPython.core.display.Markdown object>"
      ]
     },
     "metadata": {},
     "output_type": "display_data"
    }
   ],
   "source": [
    "cites(volume, n_cites=15) # references raiting"
   ]
  },
  {
   "cell_type": "code",
   "execution_count": 4,
   "metadata": {},
   "outputs": [
    {
     "data": {
      "application/vnd.plotly.v1+json": {
       "data": [
        {
         "hoverinfo": "text",
         "marker": {
          "color": "blue"
         },
         "orientation": "h",
         "text": [
          11,
          8,
          7,
          7
         ],
         "type": "bar",
         "x": [
          11,
          8,
          7,
          7
         ],
         "xaxis": "x1",
         "y": [
          "Helmut G. Katzgraber",
          "Cecile Monthus",
          "Dominique Delande",
          "Adilson E. Motter"
         ],
         "yaxis": "y1"
        },
        {
         "hoverinfo": "text",
         "marker": {
          "color": "blue"
         },
         "orientation": "h",
         "text": [
          75,
          74,
          18,
          17
         ],
         "type": "bar",
         "x": [
          75,
          74,
          18,
          17
         ],
         "xaxis": "x2",
         "y": [
          "Takashi Taniguchi",
          "Kenji Watanabe",
          "K. Watanabe",
          "T. Taniguchi"
         ],
         "yaxis": "y2"
        },
        {
         "hoverinfo": "text",
         "marker": {
          "color": "blue"
         },
         "orientation": "h",
         "text": [
          23,
          23,
          22,
          22
         ],
         "type": "bar",
         "x": [
          23,
          23,
          22,
          22
         ],
         "xaxis": "x3",
         "y": [
          "Claudia Felser",
          "Kenji Watanabe",
          "Sylvain Deville",
          "Takashi Taniguchi"
         ],
         "yaxis": "y3"
        },
        {
         "hoverinfo": "text",
         "marker": {
          "color": "blue"
         },
         "orientation": "h",
         "text": [
          14,
          11,
          10,
          9
         ],
         "type": "bar",
         "x": [
          14,
          11,
          10,
          9
         ],
         "xaxis": "x4",
         "y": [
          "Boris A. Malomed",
          "Eugene Demler",
          "Chuanwei Zhang",
          "Krzysztof Sacha"
         ],
         "yaxis": "y4"
        },
        {
         "hoverinfo": "text",
         "marker": {
          "color": "blue"
         },
         "orientation": "h",
         "text": [
          14,
          12,
          11,
          10
         ],
         "type": "bar",
         "x": [
          14,
          12,
          11,
          10
         ],
         "xaxis": "x5",
         "y": [
          "Davide Marenduzzo",
          "M. Cristina Marchetti",
          "Ivan I. Smalyukh",
          "Alessio Zaccone"
         ],
         "yaxis": "y5"
        },
        {
         "hoverinfo": "text",
         "marker": {
          "color": "blue"
         },
         "orientation": "h",
         "text": [
          14,
          12,
          12,
          12
         ],
         "type": "bar",
         "x": [
          14,
          12,
          12,
          12
         ],
         "xaxis": "x6",
         "y": [
          "Satya N. Majumdar",
          "Romain Vasseur",
          "Udo Seifert",
          "Marcos Rigol"
         ],
         "yaxis": "y6"
        },
        {
         "hoverinfo": "text",
         "marker": {
          "color": "blue"
         },
         "orientation": "h",
         "text": [
          15,
          15,
          14,
          14
         ],
         "type": "bar",
         "x": [
          15,
          15,
          14,
          14
         ],
         "xaxis": "x7",
         "y": [
          "Ashvin Vishwanath",
          "Liang Fu",
          "D. N. Sheng",
          "Roderich Moessner"
         ],
         "yaxis": "y7"
        },
        {
         "hoverinfo": "text",
         "marker": {
          "color": "blue"
         },
         "orientation": "h",
         "text": [
          16,
          14,
          13,
          12
         ],
         "type": "bar",
         "x": [
          16,
          14,
          13,
          12
         ],
         "xaxis": "x8",
         "y": [
          "N. L. Bobrov",
          "I. K. Yanson",
          "G. D. Gu",
          "V. V. Fisun"
         ],
         "yaxis": "y8"
        }
       ],
       "layout": {
        "annotations": [
         {
          "font": {
           "size": 16
          },
          "showarrow": false,
          "text": "dis-nn",
          "x": 0.1625,
          "xanchor": "center",
          "xref": "paper",
          "y": 1,
          "yanchor": "bottom",
          "yref": "paper"
         },
         {
          "font": {
           "size": 16
          },
          "showarrow": false,
          "text": "mes-hall",
          "x": 0.8375,
          "xanchor": "center",
          "xref": "paper",
          "y": 1,
          "yanchor": "bottom",
          "yref": "paper"
         },
         {
          "font": {
           "size": 16
          },
          "showarrow": false,
          "text": "mtrl-sci",
          "x": 0.1625,
          "xanchor": "center",
          "xref": "paper",
          "y": 0.7274999999999999,
          "yanchor": "bottom",
          "yref": "paper"
         },
         {
          "font": {
           "size": 16
          },
          "showarrow": false,
          "text": "quant-gas",
          "x": 0.8375,
          "xanchor": "center",
          "xref": "paper",
          "y": 0.7274999999999999,
          "yanchor": "bottom",
          "yref": "paper"
         },
         {
          "font": {
           "size": 16
          },
          "showarrow": false,
          "text": "soft",
          "x": 0.1625,
          "xanchor": "center",
          "xref": "paper",
          "y": 0.45499999999999996,
          "yanchor": "bottom",
          "yref": "paper"
         },
         {
          "font": {
           "size": 16
          },
          "showarrow": false,
          "text": "stat-mech",
          "x": 0.8375,
          "xanchor": "center",
          "xref": "paper",
          "y": 0.45499999999999996,
          "yanchor": "bottom",
          "yref": "paper"
         },
         {
          "font": {
           "size": 16
          },
          "showarrow": false,
          "text": "str-el",
          "x": 0.1625,
          "xanchor": "center",
          "xref": "paper",
          "y": 0.1825,
          "yanchor": "bottom",
          "yref": "paper"
         },
         {
          "font": {
           "size": 16
          },
          "showarrow": false,
          "text": "supr-con",
          "x": 0.8375,
          "xanchor": "center",
          "xref": "paper",
          "y": 0.1825,
          "yanchor": "bottom",
          "yref": "paper"
         },
         {
          "font": {
           "color": "lightgrey",
           "size": 11
          },
          "showarrow": false,
          "text": 11,
          "x": 11,
          "xanchor": "left",
          "xref": "x1",
          "y": "Helmut G. Katzgraber",
          "yref": "y1"
         },
         {
          "font": {
           "color": "lightgrey",
           "size": 11
          },
          "showarrow": false,
          "text": 8,
          "x": 8,
          "xanchor": "left",
          "xref": "x1",
          "y": "Cecile Monthus",
          "yref": "y1"
         },
         {
          "font": {
           "color": "lightgrey",
           "size": 11
          },
          "showarrow": false,
          "text": 7,
          "x": 7,
          "xanchor": "left",
          "xref": "x1",
          "y": "Dominique Delande",
          "yref": "y1"
         },
         {
          "font": {
           "color": "lightgrey",
           "size": 11
          },
          "showarrow": false,
          "text": 7,
          "x": 7,
          "xanchor": "left",
          "xref": "x1",
          "y": "Adilson E. Motter",
          "yref": "y1"
         },
         {
          "font": {
           "color": "lightgrey",
           "size": 11
          },
          "showarrow": false,
          "text": 75,
          "x": 75,
          "xanchor": "left",
          "xref": "x2",
          "y": "Takashi Taniguchi",
          "yref": "y2"
         },
         {
          "font": {
           "color": "lightgrey",
           "size": 11
          },
          "showarrow": false,
          "text": 74,
          "x": 74,
          "xanchor": "left",
          "xref": "x2",
          "y": "Kenji Watanabe",
          "yref": "y2"
         },
         {
          "font": {
           "color": "lightgrey",
           "size": 11
          },
          "showarrow": false,
          "text": 18,
          "x": 18,
          "xanchor": "left",
          "xref": "x2",
          "y": "K. Watanabe",
          "yref": "y2"
         },
         {
          "font": {
           "color": "lightgrey",
           "size": 11
          },
          "showarrow": false,
          "text": 17,
          "x": 17,
          "xanchor": "left",
          "xref": "x2",
          "y": "T. Taniguchi",
          "yref": "y2"
         },
         {
          "font": {
           "color": "lightgrey",
           "size": 11
          },
          "showarrow": false,
          "text": 23,
          "x": 23,
          "xanchor": "left",
          "xref": "x3",
          "y": "Claudia Felser",
          "yref": "y3"
         },
         {
          "font": {
           "color": "lightgrey",
           "size": 11
          },
          "showarrow": false,
          "text": 23,
          "x": 23,
          "xanchor": "left",
          "xref": "x3",
          "y": "Kenji Watanabe",
          "yref": "y3"
         },
         {
          "font": {
           "color": "lightgrey",
           "size": 11
          },
          "showarrow": false,
          "text": 22,
          "x": 22,
          "xanchor": "left",
          "xref": "x3",
          "y": "Sylvain Deville",
          "yref": "y3"
         },
         {
          "font": {
           "color": "lightgrey",
           "size": 11
          },
          "showarrow": false,
          "text": 22,
          "x": 22,
          "xanchor": "left",
          "xref": "x3",
          "y": "Takashi Taniguchi",
          "yref": "y3"
         },
         {
          "font": {
           "color": "lightgrey",
           "size": 11
          },
          "showarrow": false,
          "text": 14,
          "x": 14,
          "xanchor": "left",
          "xref": "x4",
          "y": "Boris A. Malomed",
          "yref": "y4"
         },
         {
          "font": {
           "color": "lightgrey",
           "size": 11
          },
          "showarrow": false,
          "text": 11,
          "x": 11,
          "xanchor": "left",
          "xref": "x4",
          "y": "Eugene Demler",
          "yref": "y4"
         },
         {
          "font": {
           "color": "lightgrey",
           "size": 11
          },
          "showarrow": false,
          "text": 10,
          "x": 10,
          "xanchor": "left",
          "xref": "x4",
          "y": "Chuanwei Zhang",
          "yref": "y4"
         },
         {
          "font": {
           "color": "lightgrey",
           "size": 11
          },
          "showarrow": false,
          "text": 9,
          "x": 9,
          "xanchor": "left",
          "xref": "x4",
          "y": "Krzysztof Sacha",
          "yref": "y4"
         },
         {
          "font": {
           "color": "lightgrey",
           "size": 11
          },
          "showarrow": false,
          "text": 14,
          "x": 14,
          "xanchor": "left",
          "xref": "x5",
          "y": "Davide Marenduzzo",
          "yref": "y5"
         },
         {
          "font": {
           "color": "lightgrey",
           "size": 11
          },
          "showarrow": false,
          "text": 12,
          "x": 12,
          "xanchor": "left",
          "xref": "x5",
          "y": "M. Cristina Marchetti",
          "yref": "y5"
         },
         {
          "font": {
           "color": "lightgrey",
           "size": 11
          },
          "showarrow": false,
          "text": 11,
          "x": 11,
          "xanchor": "left",
          "xref": "x5",
          "y": "Ivan I. Smalyukh",
          "yref": "y5"
         },
         {
          "font": {
           "color": "lightgrey",
           "size": 11
          },
          "showarrow": false,
          "text": 10,
          "x": 10,
          "xanchor": "left",
          "xref": "x5",
          "y": "Alessio Zaccone",
          "yref": "y5"
         },
         {
          "font": {
           "color": "lightgrey",
           "size": 11
          },
          "showarrow": false,
          "text": 14,
          "x": 14,
          "xanchor": "left",
          "xref": "x6",
          "y": "Satya N. Majumdar",
          "yref": "y6"
         },
         {
          "font": {
           "color": "lightgrey",
           "size": 11
          },
          "showarrow": false,
          "text": 12,
          "x": 12,
          "xanchor": "left",
          "xref": "x6",
          "y": "Romain Vasseur",
          "yref": "y6"
         },
         {
          "font": {
           "color": "lightgrey",
           "size": 11
          },
          "showarrow": false,
          "text": 12,
          "x": 12,
          "xanchor": "left",
          "xref": "x6",
          "y": "Udo Seifert",
          "yref": "y6"
         },
         {
          "font": {
           "color": "lightgrey",
           "size": 11
          },
          "showarrow": false,
          "text": 12,
          "x": 12,
          "xanchor": "left",
          "xref": "x6",
          "y": "Marcos Rigol",
          "yref": "y6"
         },
         {
          "font": {
           "color": "lightgrey",
           "size": 11
          },
          "showarrow": false,
          "text": 15,
          "x": 15,
          "xanchor": "left",
          "xref": "x7",
          "y": "Ashvin Vishwanath",
          "yref": "y7"
         },
         {
          "font": {
           "color": "lightgrey",
           "size": 11
          },
          "showarrow": false,
          "text": 15,
          "x": 15,
          "xanchor": "left",
          "xref": "x7",
          "y": "Liang Fu",
          "yref": "y7"
         },
         {
          "font": {
           "color": "lightgrey",
           "size": 11
          },
          "showarrow": false,
          "text": 14,
          "x": 14,
          "xanchor": "left",
          "xref": "x7",
          "y": "D. N. Sheng",
          "yref": "y7"
         },
         {
          "font": {
           "color": "lightgrey",
           "size": 11
          },
          "showarrow": false,
          "text": 14,
          "x": 14,
          "xanchor": "left",
          "xref": "x7",
          "y": "Roderich Moessner",
          "yref": "y7"
         },
         {
          "font": {
           "color": "lightgrey",
           "size": 11
          },
          "showarrow": false,
          "text": 16,
          "x": 16,
          "xanchor": "left",
          "xref": "x8",
          "y": "N. L. Bobrov",
          "yref": "y8"
         },
         {
          "font": {
           "color": "lightgrey",
           "size": 11
          },
          "showarrow": false,
          "text": 14,
          "x": 14,
          "xanchor": "left",
          "xref": "x8",
          "y": "I. K. Yanson",
          "yref": "y8"
         },
         {
          "font": {
           "color": "lightgrey",
           "size": 11
          },
          "showarrow": false,
          "text": 13,
          "x": 13,
          "xanchor": "left",
          "xref": "x8",
          "y": "G. D. Gu",
          "yref": "y8"
         },
         {
          "font": {
           "color": "lightgrey",
           "size": 11
          },
          "showarrow": false,
          "text": 12,
          "x": 12,
          "xanchor": "left",
          "xref": "x8",
          "y": "V. V. Fisun",
          "yref": "y8"
         }
        ],
        "height": 600,
        "margin": {
         "b": 30,
         "l": 140,
         "t": 60
        },
        "showlegend": false,
        "title": "",
        "width": 700,
        "xaxis1": {
         "anchor": "y1",
         "domain": [
          0,
          0.325
         ],
         "showgrid": false,
         "showticklabels": false
        },
        "xaxis2": {
         "anchor": "y2",
         "domain": [
          0.675,
          1
         ],
         "showgrid": false,
         "showticklabels": false
        },
        "xaxis3": {
         "anchor": "y3",
         "domain": [
          0,
          0.325
         ],
         "showgrid": false,
         "showticklabels": false
        },
        "xaxis4": {
         "anchor": "y4",
         "domain": [
          0.675,
          1
         ],
         "showgrid": false,
         "showticklabels": false
        },
        "xaxis5": {
         "anchor": "y5",
         "domain": [
          0,
          0.325
         ],
         "showgrid": false,
         "showticklabels": false
        },
        "xaxis6": {
         "anchor": "y6",
         "domain": [
          0.675,
          1
         ],
         "showgrid": false,
         "showticklabels": false
        },
        "xaxis7": {
         "anchor": "y7",
         "domain": [
          0,
          0.325
         ],
         "showgrid": false,
         "showticklabels": false
        },
        "xaxis8": {
         "anchor": "y8",
         "domain": [
          0.675,
          1
         ],
         "showgrid": false,
         "showticklabels": false
        },
        "yaxis1": {
         "anchor": "x1",
         "autorange": "reversed",
         "domain": [
          0.8175,
          1
         ],
         "tickfont": {
          "color": "lightgrey",
          "size": 11
         },
         "ticklen": 3
        },
        "yaxis2": {
         "anchor": "x2",
         "autorange": "reversed",
         "domain": [
          0.8175,
          1
         ],
         "tickfont": {
          "color": "lightgrey",
          "size": 11
         },
         "ticklen": 3
        },
        "yaxis3": {
         "anchor": "x3",
         "autorange": "reversed",
         "domain": [
          0.5449999999999999,
          0.7274999999999999
         ],
         "tickfont": {
          "color": "lightgrey",
          "size": 11
         },
         "ticklen": 3
        },
        "yaxis4": {
         "anchor": "x4",
         "autorange": "reversed",
         "domain": [
          0.5449999999999999,
          0.7274999999999999
         ],
         "tickfont": {
          "color": "lightgrey",
          "size": 11
         },
         "ticklen": 3
        },
        "yaxis5": {
         "anchor": "x5",
         "autorange": "reversed",
         "domain": [
          0.27249999999999996,
          0.45499999999999996
         ],
         "tickfont": {
          "color": "lightgrey",
          "size": 11
         },
         "ticklen": 3
        },
        "yaxis6": {
         "anchor": "x6",
         "autorange": "reversed",
         "domain": [
          0.27249999999999996,
          0.45499999999999996
         ],
         "tickfont": {
          "color": "lightgrey",
          "size": 11
         },
         "ticklen": 3
        },
        "yaxis7": {
         "anchor": "x7",
         "autorange": "reversed",
         "domain": [
          0,
          0.1825
         ],
         "tickfont": {
          "color": "lightgrey",
          "size": 11
         },
         "ticklen": 3
        },
        "yaxis8": {
         "anchor": "x8",
         "autorange": "reversed",
         "domain": [
          0,
          0.1825
         ],
         "tickfont": {
          "color": "lightgrey",
          "size": 11
         },
         "ticklen": 3
        }
       }
      },
      "text/html": [
       "<div id=\"bd2f39d1-a92a-41f5-9fdd-588b84085655\" style=\"height: 600px; width: 700px;\" class=\"plotly-graph-div\"></div><script type=\"text/javascript\">require([\"plotly\"], function(Plotly) { window.PLOTLYENV=window.PLOTLYENV || {};window.PLOTLYENV.BASE_URL=\"https://plot.ly\";Plotly.newPlot(\"bd2f39d1-a92a-41f5-9fdd-588b84085655\", [{\"type\": \"bar\", \"x\": [11, 8, 7, 7], \"y\": [\"Helmut G. Katzgraber\", \"Cecile Monthus\", \"Dominique Delande\", \"Adilson E. Motter\"], \"hoverinfo\": \"text\", \"orientation\": \"h\", \"text\": [11, 8, 7, 7], \"marker\": {\"color\": \"blue\"}, \"xaxis\": \"x1\", \"yaxis\": \"y1\"}, {\"type\": \"bar\", \"x\": [75, 74, 18, 17], \"y\": [\"Takashi Taniguchi\", \"Kenji Watanabe\", \"K. Watanabe\", \"T. Taniguchi\"], \"hoverinfo\": \"text\", \"orientation\": \"h\", \"text\": [75, 74, 18, 17], \"marker\": {\"color\": \"blue\"}, \"xaxis\": \"x2\", \"yaxis\": \"y2\"}, {\"type\": \"bar\", \"x\": [23, 23, 22, 22], \"y\": [\"Claudia Felser\", \"Kenji Watanabe\", \"Sylvain Deville\", \"Takashi Taniguchi\"], \"hoverinfo\": \"text\", \"orientation\": \"h\", \"text\": [23, 23, 22, 22], \"marker\": {\"color\": \"blue\"}, \"xaxis\": \"x3\", \"yaxis\": \"y3\"}, {\"type\": \"bar\", \"x\": [14, 11, 10, 9], \"y\": [\"Boris A. Malomed\", \"Eugene Demler\", \"Chuanwei Zhang\", \"Krzysztof Sacha\"], \"hoverinfo\": \"text\", \"orientation\": \"h\", \"text\": [14, 11, 10, 9], \"marker\": {\"color\": \"blue\"}, \"xaxis\": \"x4\", \"yaxis\": \"y4\"}, {\"type\": \"bar\", \"x\": [14, 12, 11, 10], \"y\": [\"Davide Marenduzzo\", \"M. Cristina Marchetti\", \"Ivan I. Smalyukh\", \"Alessio Zaccone\"], \"hoverinfo\": \"text\", \"orientation\": \"h\", \"text\": [14, 12, 11, 10], \"marker\": {\"color\": \"blue\"}, \"xaxis\": \"x5\", \"yaxis\": \"y5\"}, {\"type\": \"bar\", \"x\": [14, 12, 12, 12], \"y\": [\"Satya N. Majumdar\", \"Romain Vasseur\", \"Udo Seifert\", \"Marcos Rigol\"], \"hoverinfo\": \"text\", \"orientation\": \"h\", \"text\": [14, 12, 12, 12], \"marker\": {\"color\": \"blue\"}, \"xaxis\": \"x6\", \"yaxis\": \"y6\"}, {\"type\": \"bar\", \"x\": [15, 15, 14, 14], \"y\": [\"Ashvin Vishwanath\", \"Liang Fu\", \"D. N. Sheng\", \"Roderich Moessner\"], \"hoverinfo\": \"text\", \"orientation\": \"h\", \"text\": [15, 15, 14, 14], \"marker\": {\"color\": \"blue\"}, \"xaxis\": \"x7\", \"yaxis\": \"y7\"}, {\"type\": \"bar\", \"x\": [16, 14, 13, 12], \"y\": [\"N. L. Bobrov\", \"I. K. Yanson\", \"G. D. Gu\", \"V. V. Fisun\"], \"hoverinfo\": \"text\", \"orientation\": \"h\", \"text\": [16, 14, 13, 12], \"marker\": {\"color\": \"blue\"}, \"xaxis\": \"x8\", \"yaxis\": \"y8\"}], {\"xaxis1\": {\"domain\": [0.0, 0.325], \"anchor\": \"y1\", \"showticklabels\": false, \"showgrid\": false}, \"yaxis1\": {\"domain\": [0.8175, 1.0], \"anchor\": \"x1\", \"ticklen\": 3, \"autorange\": \"reversed\", \"tickfont\": {\"size\": 11, \"color\": \"lightgrey\"}}, \"xaxis2\": {\"domain\": [0.675, 1.0], \"anchor\": \"y2\", \"showticklabels\": false, \"showgrid\": false}, \"yaxis2\": {\"domain\": [0.8175, 1.0], \"anchor\": \"x2\", \"ticklen\": 3, \"autorange\": \"reversed\", \"tickfont\": {\"size\": 11, \"color\": \"lightgrey\"}}, \"xaxis3\": {\"domain\": [0.0, 0.325], \"anchor\": \"y3\", \"showticklabels\": false, \"showgrid\": false}, \"yaxis3\": {\"domain\": [0.5449999999999999, 0.7274999999999999], \"anchor\": \"x3\", \"ticklen\": 3, \"autorange\": \"reversed\", \"tickfont\": {\"size\": 11, \"color\": \"lightgrey\"}}, \"xaxis4\": {\"domain\": [0.675, 1.0], \"anchor\": \"y4\", \"showticklabels\": false, \"showgrid\": false}, \"yaxis4\": {\"domain\": [0.5449999999999999, 0.7274999999999999], \"anchor\": \"x4\", \"ticklen\": 3, \"autorange\": \"reversed\", \"tickfont\": {\"size\": 11, \"color\": \"lightgrey\"}}, \"xaxis5\": {\"domain\": [0.0, 0.325], \"anchor\": \"y5\", \"showticklabels\": false, \"showgrid\": false}, \"yaxis5\": {\"domain\": [0.27249999999999996, 0.45499999999999996], \"anchor\": \"x5\", \"ticklen\": 3, \"autorange\": \"reversed\", \"tickfont\": {\"size\": 11, \"color\": \"lightgrey\"}}, \"xaxis6\": {\"domain\": [0.675, 1.0], \"anchor\": \"y6\", \"showticklabels\": false, \"showgrid\": false}, \"yaxis6\": {\"domain\": [0.27249999999999996, 0.45499999999999996], \"anchor\": \"x6\", \"ticklen\": 3, \"autorange\": \"reversed\", \"tickfont\": {\"size\": 11, \"color\": \"lightgrey\"}}, \"xaxis7\": {\"domain\": [0.0, 0.325], \"anchor\": \"y7\", \"showticklabels\": false, \"showgrid\": false}, \"yaxis7\": {\"domain\": [0.0, 0.1825], \"anchor\": \"x7\", \"ticklen\": 3, \"autorange\": \"reversed\", \"tickfont\": {\"size\": 11, \"color\": \"lightgrey\"}}, \"xaxis8\": {\"domain\": [0.675, 1.0], \"anchor\": \"y8\", \"showticklabels\": false, \"showgrid\": false}, \"yaxis8\": {\"domain\": [0.0, 0.1825], \"anchor\": \"x8\", \"ticklen\": 3, \"autorange\": \"reversed\", \"tickfont\": {\"size\": 11, \"color\": \"lightgrey\"}}, \"annotations\": [{\"y\": 1.0, \"xref\": \"paper\", \"x\": 0.1625, \"yref\": \"paper\", \"text\": \"dis-nn\", \"showarrow\": false, \"font\": {\"size\": 16}, \"xanchor\": \"center\", \"yanchor\": \"bottom\"}, {\"y\": 1.0, \"xref\": \"paper\", \"x\": 0.8375, \"yref\": \"paper\", \"text\": \"mes-hall\", \"showarrow\": false, \"font\": {\"size\": 16}, \"xanchor\": \"center\", \"yanchor\": \"bottom\"}, {\"y\": 0.7274999999999999, \"xref\": \"paper\", \"x\": 0.1625, \"yref\": \"paper\", \"text\": \"mtrl-sci\", \"showarrow\": false, \"font\": {\"size\": 16}, \"xanchor\": \"center\", \"yanchor\": \"bottom\"}, {\"y\": 0.7274999999999999, \"xref\": \"paper\", \"x\": 0.8375, \"yref\": \"paper\", \"text\": \"quant-gas\", \"showarrow\": false, \"font\": {\"size\": 16}, \"xanchor\": \"center\", \"yanchor\": \"bottom\"}, {\"y\": 0.45499999999999996, \"xref\": \"paper\", \"x\": 0.1625, \"yref\": \"paper\", \"text\": \"soft\", \"showarrow\": false, \"font\": {\"size\": 16}, \"xanchor\": \"center\", \"yanchor\": \"bottom\"}, {\"y\": 0.45499999999999996, \"xref\": \"paper\", \"x\": 0.8375, \"yref\": \"paper\", \"text\": \"stat-mech\", \"showarrow\": false, \"font\": {\"size\": 16}, \"xanchor\": \"center\", \"yanchor\": \"bottom\"}, {\"y\": 0.1825, \"xref\": \"paper\", \"x\": 0.1625, \"yref\": \"paper\", \"text\": \"str-el\", \"showarrow\": false, \"font\": {\"size\": 16}, \"xanchor\": \"center\", \"yanchor\": \"bottom\"}, {\"y\": 0.1825, \"xref\": \"paper\", \"x\": 0.8375, \"yref\": \"paper\", \"text\": \"supr-con\", \"showarrow\": false, \"font\": {\"size\": 16}, \"xanchor\": \"center\", \"yanchor\": \"bottom\"}, {\"x\": 11, \"y\": \"Helmut G. Katzgraber\", \"text\": 11, \"xanchor\": \"left\", \"xref\": \"x1\", \"yref\": \"y1\", \"showarrow\": false, \"font\": {\"size\": 11, \"color\": \"lightgrey\"}}, {\"x\": 8, \"y\": \"Cecile Monthus\", \"text\": 8, \"xanchor\": \"left\", \"xref\": \"x1\", \"yref\": \"y1\", \"showarrow\": false, \"font\": {\"size\": 11, \"color\": \"lightgrey\"}}, {\"x\": 7, \"y\": \"Dominique Delande\", \"text\": 7, \"xanchor\": \"left\", \"xref\": \"x1\", \"yref\": \"y1\", \"showarrow\": false, \"font\": {\"size\": 11, \"color\": \"lightgrey\"}}, {\"x\": 7, \"y\": \"Adilson E. Motter\", \"text\": 7, \"xanchor\": \"left\", \"xref\": \"x1\", \"yref\": \"y1\", \"showarrow\": false, \"font\": {\"size\": 11, \"color\": \"lightgrey\"}}, {\"x\": 75, \"y\": \"Takashi Taniguchi\", \"text\": 75, \"xanchor\": \"left\", \"xref\": \"x2\", \"yref\": \"y2\", \"showarrow\": false, \"font\": {\"size\": 11, \"color\": \"lightgrey\"}}, {\"x\": 74, \"y\": \"Kenji Watanabe\", \"text\": 74, \"xanchor\": \"left\", \"xref\": \"x2\", \"yref\": \"y2\", \"showarrow\": false, \"font\": {\"size\": 11, \"color\": \"lightgrey\"}}, {\"x\": 18, \"y\": \"K. Watanabe\", \"text\": 18, \"xanchor\": \"left\", \"xref\": \"x2\", \"yref\": \"y2\", \"showarrow\": false, \"font\": {\"size\": 11, \"color\": \"lightgrey\"}}, {\"x\": 17, \"y\": \"T. Taniguchi\", \"text\": 17, \"xanchor\": \"left\", \"xref\": \"x2\", \"yref\": \"y2\", \"showarrow\": false, \"font\": {\"size\": 11, \"color\": \"lightgrey\"}}, {\"x\": 23, \"y\": \"Claudia Felser\", \"text\": 23, \"xanchor\": \"left\", \"xref\": \"x3\", \"yref\": \"y3\", \"showarrow\": false, \"font\": {\"size\": 11, \"color\": \"lightgrey\"}}, {\"x\": 23, \"y\": \"Kenji Watanabe\", \"text\": 23, \"xanchor\": \"left\", \"xref\": \"x3\", \"yref\": \"y3\", \"showarrow\": false, \"font\": {\"size\": 11, \"color\": \"lightgrey\"}}, {\"x\": 22, \"y\": \"Sylvain Deville\", \"text\": 22, \"xanchor\": \"left\", \"xref\": \"x3\", \"yref\": \"y3\", \"showarrow\": false, \"font\": {\"size\": 11, \"color\": \"lightgrey\"}}, {\"x\": 22, \"y\": \"Takashi Taniguchi\", \"text\": 22, \"xanchor\": \"left\", \"xref\": \"x3\", \"yref\": \"y3\", \"showarrow\": false, \"font\": {\"size\": 11, \"color\": \"lightgrey\"}}, {\"x\": 14, \"y\": \"Boris A. Malomed\", \"text\": 14, \"xanchor\": \"left\", \"xref\": \"x4\", \"yref\": \"y4\", \"showarrow\": false, \"font\": {\"size\": 11, \"color\": \"lightgrey\"}}, {\"x\": 11, \"y\": \"Eugene Demler\", \"text\": 11, \"xanchor\": \"left\", \"xref\": \"x4\", \"yref\": \"y4\", \"showarrow\": false, \"font\": {\"size\": 11, \"color\": \"lightgrey\"}}, {\"x\": 10, \"y\": \"Chuanwei Zhang\", \"text\": 10, \"xanchor\": \"left\", \"xref\": \"x4\", \"yref\": \"y4\", \"showarrow\": false, \"font\": {\"size\": 11, \"color\": \"lightgrey\"}}, {\"x\": 9, \"y\": \"Krzysztof Sacha\", \"text\": 9, \"xanchor\": \"left\", \"xref\": \"x4\", \"yref\": \"y4\", \"showarrow\": false, \"font\": {\"size\": 11, \"color\": \"lightgrey\"}}, {\"x\": 14, \"y\": \"Davide Marenduzzo\", \"text\": 14, \"xanchor\": \"left\", \"xref\": \"x5\", \"yref\": \"y5\", \"showarrow\": false, \"font\": {\"size\": 11, \"color\": \"lightgrey\"}}, {\"x\": 12, \"y\": \"M. Cristina Marchetti\", \"text\": 12, \"xanchor\": \"left\", \"xref\": \"x5\", \"yref\": \"y5\", \"showarrow\": false, \"font\": {\"size\": 11, \"color\": \"lightgrey\"}}, {\"x\": 11, \"y\": \"Ivan I. Smalyukh\", \"text\": 11, \"xanchor\": \"left\", \"xref\": \"x5\", \"yref\": \"y5\", \"showarrow\": false, \"font\": {\"size\": 11, \"color\": \"lightgrey\"}}, {\"x\": 10, \"y\": \"Alessio Zaccone\", \"text\": 10, \"xanchor\": \"left\", \"xref\": \"x5\", \"yref\": \"y5\", \"showarrow\": false, \"font\": {\"size\": 11, \"color\": \"lightgrey\"}}, {\"x\": 14, \"y\": \"Satya N. Majumdar\", \"text\": 14, \"xanchor\": \"left\", \"xref\": \"x6\", \"yref\": \"y6\", \"showarrow\": false, \"font\": {\"size\": 11, \"color\": \"lightgrey\"}}, {\"x\": 12, \"y\": \"Romain Vasseur\", \"text\": 12, \"xanchor\": \"left\", \"xref\": \"x6\", \"yref\": \"y6\", \"showarrow\": false, \"font\": {\"size\": 11, \"color\": \"lightgrey\"}}, {\"x\": 12, \"y\": \"Udo Seifert\", \"text\": 12, \"xanchor\": \"left\", \"xref\": \"x6\", \"yref\": \"y6\", \"showarrow\": false, \"font\": {\"size\": 11, \"color\": \"lightgrey\"}}, {\"x\": 12, \"y\": \"Marcos Rigol\", \"text\": 12, \"xanchor\": \"left\", \"xref\": \"x6\", \"yref\": \"y6\", \"showarrow\": false, \"font\": {\"size\": 11, \"color\": \"lightgrey\"}}, {\"x\": 15, \"y\": \"Ashvin Vishwanath\", \"text\": 15, \"xanchor\": \"left\", \"xref\": \"x7\", \"yref\": \"y7\", \"showarrow\": false, \"font\": {\"size\": 11, \"color\": \"lightgrey\"}}, {\"x\": 15, \"y\": \"Liang Fu\", \"text\": 15, \"xanchor\": \"left\", \"xref\": \"x7\", \"yref\": \"y7\", \"showarrow\": false, \"font\": {\"size\": 11, \"color\": \"lightgrey\"}}, {\"x\": 14, \"y\": \"D. N. Sheng\", \"text\": 14, \"xanchor\": \"left\", \"xref\": \"x7\", \"yref\": \"y7\", \"showarrow\": false, \"font\": {\"size\": 11, \"color\": \"lightgrey\"}}, {\"x\": 14, \"y\": \"Roderich Moessner\", \"text\": 14, \"xanchor\": \"left\", \"xref\": \"x7\", \"yref\": \"y7\", \"showarrow\": false, \"font\": {\"size\": 11, \"color\": \"lightgrey\"}}, {\"x\": 16, \"y\": \"N. L. Bobrov\", \"text\": 16, \"xanchor\": \"left\", \"xref\": \"x8\", \"yref\": \"y8\", \"showarrow\": false, \"font\": {\"size\": 11, \"color\": \"lightgrey\"}}, {\"x\": 14, \"y\": \"I. K. Yanson\", \"text\": 14, \"xanchor\": \"left\", \"xref\": \"x8\", \"yref\": \"y8\", \"showarrow\": false, \"font\": {\"size\": 11, \"color\": \"lightgrey\"}}, {\"x\": 13, \"y\": \"G. D. Gu\", \"text\": 13, \"xanchor\": \"left\", \"xref\": \"x8\", \"yref\": \"y8\", \"showarrow\": false, \"font\": {\"size\": 11, \"color\": \"lightgrey\"}}, {\"x\": 12, \"y\": \"V. V. Fisun\", \"text\": 12, \"xanchor\": \"left\", \"xref\": \"x8\", \"yref\": \"y8\", \"showarrow\": false, \"font\": {\"size\": 11, \"color\": \"lightgrey\"}}], \"height\": 600, \"width\": 700, \"showlegend\": false, \"title\": \"\", \"margin\": {\"t\": 60, \"l\": 140, \"b\": 30}}, {\"showLink\": false, \"linkText\": \"Export to plot.ly\"})});</script>"
      ],
      "text/vnd.plotly.v1+html": [
       "<div id=\"bd2f39d1-a92a-41f5-9fdd-588b84085655\" style=\"height: 600px; width: 700px;\" class=\"plotly-graph-div\"></div><script type=\"text/javascript\">require([\"plotly\"], function(Plotly) { window.PLOTLYENV=window.PLOTLYENV || {};window.PLOTLYENV.BASE_URL=\"https://plot.ly\";Plotly.newPlot(\"bd2f39d1-a92a-41f5-9fdd-588b84085655\", [{\"type\": \"bar\", \"x\": [11, 8, 7, 7], \"y\": [\"Helmut G. Katzgraber\", \"Cecile Monthus\", \"Dominique Delande\", \"Adilson E. Motter\"], \"hoverinfo\": \"text\", \"orientation\": \"h\", \"text\": [11, 8, 7, 7], \"marker\": {\"color\": \"blue\"}, \"xaxis\": \"x1\", \"yaxis\": \"y1\"}, {\"type\": \"bar\", \"x\": [75, 74, 18, 17], \"y\": [\"Takashi Taniguchi\", \"Kenji Watanabe\", \"K. Watanabe\", \"T. Taniguchi\"], \"hoverinfo\": \"text\", \"orientation\": \"h\", \"text\": [75, 74, 18, 17], \"marker\": {\"color\": \"blue\"}, \"xaxis\": \"x2\", \"yaxis\": \"y2\"}, {\"type\": \"bar\", \"x\": [23, 23, 22, 22], \"y\": [\"Claudia Felser\", \"Kenji Watanabe\", \"Sylvain Deville\", \"Takashi Taniguchi\"], \"hoverinfo\": \"text\", \"orientation\": \"h\", \"text\": [23, 23, 22, 22], \"marker\": {\"color\": \"blue\"}, \"xaxis\": \"x3\", \"yaxis\": \"y3\"}, {\"type\": \"bar\", \"x\": [14, 11, 10, 9], \"y\": [\"Boris A. Malomed\", \"Eugene Demler\", \"Chuanwei Zhang\", \"Krzysztof Sacha\"], \"hoverinfo\": \"text\", \"orientation\": \"h\", \"text\": [14, 11, 10, 9], \"marker\": {\"color\": \"blue\"}, \"xaxis\": \"x4\", \"yaxis\": \"y4\"}, {\"type\": \"bar\", \"x\": [14, 12, 11, 10], \"y\": [\"Davide Marenduzzo\", \"M. Cristina Marchetti\", \"Ivan I. Smalyukh\", \"Alessio Zaccone\"], \"hoverinfo\": \"text\", \"orientation\": \"h\", \"text\": [14, 12, 11, 10], \"marker\": {\"color\": \"blue\"}, \"xaxis\": \"x5\", \"yaxis\": \"y5\"}, {\"type\": \"bar\", \"x\": [14, 12, 12, 12], \"y\": [\"Satya N. Majumdar\", \"Romain Vasseur\", \"Udo Seifert\", \"Marcos Rigol\"], \"hoverinfo\": \"text\", \"orientation\": \"h\", \"text\": [14, 12, 12, 12], \"marker\": {\"color\": \"blue\"}, \"xaxis\": \"x6\", \"yaxis\": \"y6\"}, {\"type\": \"bar\", \"x\": [15, 15, 14, 14], \"y\": [\"Ashvin Vishwanath\", \"Liang Fu\", \"D. N. Sheng\", \"Roderich Moessner\"], \"hoverinfo\": \"text\", \"orientation\": \"h\", \"text\": [15, 15, 14, 14], \"marker\": {\"color\": \"blue\"}, \"xaxis\": \"x7\", \"yaxis\": \"y7\"}, {\"type\": \"bar\", \"x\": [16, 14, 13, 12], \"y\": [\"N. L. Bobrov\", \"I. K. Yanson\", \"G. D. Gu\", \"V. V. Fisun\"], \"hoverinfo\": \"text\", \"orientation\": \"h\", \"text\": [16, 14, 13, 12], \"marker\": {\"color\": \"blue\"}, \"xaxis\": \"x8\", \"yaxis\": \"y8\"}], {\"xaxis1\": {\"domain\": [0.0, 0.325], \"anchor\": \"y1\", \"showticklabels\": false, \"showgrid\": false}, \"yaxis1\": {\"domain\": [0.8175, 1.0], \"anchor\": \"x1\", \"ticklen\": 3, \"autorange\": \"reversed\", \"tickfont\": {\"size\": 11, \"color\": \"lightgrey\"}}, \"xaxis2\": {\"domain\": [0.675, 1.0], \"anchor\": \"y2\", \"showticklabels\": false, \"showgrid\": false}, \"yaxis2\": {\"domain\": [0.8175, 1.0], \"anchor\": \"x2\", \"ticklen\": 3, \"autorange\": \"reversed\", \"tickfont\": {\"size\": 11, \"color\": \"lightgrey\"}}, \"xaxis3\": {\"domain\": [0.0, 0.325], \"anchor\": \"y3\", \"showticklabels\": false, \"showgrid\": false}, \"yaxis3\": {\"domain\": [0.5449999999999999, 0.7274999999999999], \"anchor\": \"x3\", \"ticklen\": 3, \"autorange\": \"reversed\", \"tickfont\": {\"size\": 11, \"color\": \"lightgrey\"}}, \"xaxis4\": {\"domain\": [0.675, 1.0], \"anchor\": \"y4\", \"showticklabels\": false, \"showgrid\": false}, \"yaxis4\": {\"domain\": [0.5449999999999999, 0.7274999999999999], \"anchor\": \"x4\", \"ticklen\": 3, \"autorange\": \"reversed\", \"tickfont\": {\"size\": 11, \"color\": \"lightgrey\"}}, \"xaxis5\": {\"domain\": [0.0, 0.325], \"anchor\": \"y5\", \"showticklabels\": false, \"showgrid\": false}, \"yaxis5\": {\"domain\": [0.27249999999999996, 0.45499999999999996], \"anchor\": \"x5\", \"ticklen\": 3, \"autorange\": \"reversed\", \"tickfont\": {\"size\": 11, \"color\": \"lightgrey\"}}, \"xaxis6\": {\"domain\": [0.675, 1.0], \"anchor\": \"y6\", \"showticklabels\": false, \"showgrid\": false}, \"yaxis6\": {\"domain\": [0.27249999999999996, 0.45499999999999996], \"anchor\": \"x6\", \"ticklen\": 3, \"autorange\": \"reversed\", \"tickfont\": {\"size\": 11, \"color\": \"lightgrey\"}}, \"xaxis7\": {\"domain\": [0.0, 0.325], \"anchor\": \"y7\", \"showticklabels\": false, \"showgrid\": false}, \"yaxis7\": {\"domain\": [0.0, 0.1825], \"anchor\": \"x7\", \"ticklen\": 3, \"autorange\": \"reversed\", \"tickfont\": {\"size\": 11, \"color\": \"lightgrey\"}}, \"xaxis8\": {\"domain\": [0.675, 1.0], \"anchor\": \"y8\", \"showticklabels\": false, \"showgrid\": false}, \"yaxis8\": {\"domain\": [0.0, 0.1825], \"anchor\": \"x8\", \"ticklen\": 3, \"autorange\": \"reversed\", \"tickfont\": {\"size\": 11, \"color\": \"lightgrey\"}}, \"annotations\": [{\"y\": 1.0, \"xref\": \"paper\", \"x\": 0.1625, \"yref\": \"paper\", \"text\": \"dis-nn\", \"showarrow\": false, \"font\": {\"size\": 16}, \"xanchor\": \"center\", \"yanchor\": \"bottom\"}, {\"y\": 1.0, \"xref\": \"paper\", \"x\": 0.8375, \"yref\": \"paper\", \"text\": \"mes-hall\", \"showarrow\": false, \"font\": {\"size\": 16}, \"xanchor\": \"center\", \"yanchor\": \"bottom\"}, {\"y\": 0.7274999999999999, \"xref\": \"paper\", \"x\": 0.1625, \"yref\": \"paper\", \"text\": \"mtrl-sci\", \"showarrow\": false, \"font\": {\"size\": 16}, \"xanchor\": \"center\", \"yanchor\": \"bottom\"}, {\"y\": 0.7274999999999999, \"xref\": \"paper\", \"x\": 0.8375, \"yref\": \"paper\", \"text\": \"quant-gas\", \"showarrow\": false, \"font\": {\"size\": 16}, \"xanchor\": \"center\", \"yanchor\": \"bottom\"}, {\"y\": 0.45499999999999996, \"xref\": \"paper\", \"x\": 0.1625, \"yref\": \"paper\", \"text\": \"soft\", \"showarrow\": false, \"font\": {\"size\": 16}, \"xanchor\": \"center\", \"yanchor\": \"bottom\"}, {\"y\": 0.45499999999999996, \"xref\": \"paper\", \"x\": 0.8375, \"yref\": \"paper\", \"text\": \"stat-mech\", \"showarrow\": false, \"font\": {\"size\": 16}, \"xanchor\": \"center\", \"yanchor\": \"bottom\"}, {\"y\": 0.1825, \"xref\": \"paper\", \"x\": 0.1625, \"yref\": \"paper\", \"text\": \"str-el\", \"showarrow\": false, \"font\": {\"size\": 16}, \"xanchor\": \"center\", \"yanchor\": \"bottom\"}, {\"y\": 0.1825, \"xref\": \"paper\", \"x\": 0.8375, \"yref\": \"paper\", \"text\": \"supr-con\", \"showarrow\": false, \"font\": {\"size\": 16}, \"xanchor\": \"center\", \"yanchor\": \"bottom\"}, {\"x\": 11, \"y\": \"Helmut G. Katzgraber\", \"text\": 11, \"xanchor\": \"left\", \"xref\": \"x1\", \"yref\": \"y1\", \"showarrow\": false, \"font\": {\"size\": 11, \"color\": \"lightgrey\"}}, {\"x\": 8, \"y\": \"Cecile Monthus\", \"text\": 8, \"xanchor\": \"left\", \"xref\": \"x1\", \"yref\": \"y1\", \"showarrow\": false, \"font\": {\"size\": 11, \"color\": \"lightgrey\"}}, {\"x\": 7, \"y\": \"Dominique Delande\", \"text\": 7, \"xanchor\": \"left\", \"xref\": \"x1\", \"yref\": \"y1\", \"showarrow\": false, \"font\": {\"size\": 11, \"color\": \"lightgrey\"}}, {\"x\": 7, \"y\": \"Adilson E. Motter\", \"text\": 7, \"xanchor\": \"left\", \"xref\": \"x1\", \"yref\": \"y1\", \"showarrow\": false, \"font\": {\"size\": 11, \"color\": \"lightgrey\"}}, {\"x\": 75, \"y\": \"Takashi Taniguchi\", \"text\": 75, \"xanchor\": \"left\", \"xref\": \"x2\", \"yref\": \"y2\", \"showarrow\": false, \"font\": {\"size\": 11, \"color\": \"lightgrey\"}}, {\"x\": 74, \"y\": \"Kenji Watanabe\", \"text\": 74, \"xanchor\": \"left\", \"xref\": \"x2\", \"yref\": \"y2\", \"showarrow\": false, \"font\": {\"size\": 11, \"color\": \"lightgrey\"}}, {\"x\": 18, \"y\": \"K. Watanabe\", \"text\": 18, \"xanchor\": \"left\", \"xref\": \"x2\", \"yref\": \"y2\", \"showarrow\": false, \"font\": {\"size\": 11, \"color\": \"lightgrey\"}}, {\"x\": 17, \"y\": \"T. Taniguchi\", \"text\": 17, \"xanchor\": \"left\", \"xref\": \"x2\", \"yref\": \"y2\", \"showarrow\": false, \"font\": {\"size\": 11, \"color\": \"lightgrey\"}}, {\"x\": 23, \"y\": \"Claudia Felser\", \"text\": 23, \"xanchor\": \"left\", \"xref\": \"x3\", \"yref\": \"y3\", \"showarrow\": false, \"font\": {\"size\": 11, \"color\": \"lightgrey\"}}, {\"x\": 23, \"y\": \"Kenji Watanabe\", \"text\": 23, \"xanchor\": \"left\", \"xref\": \"x3\", \"yref\": \"y3\", \"showarrow\": false, \"font\": {\"size\": 11, \"color\": \"lightgrey\"}}, {\"x\": 22, \"y\": \"Sylvain Deville\", \"text\": 22, \"xanchor\": \"left\", \"xref\": \"x3\", \"yref\": \"y3\", \"showarrow\": false, \"font\": {\"size\": 11, \"color\": \"lightgrey\"}}, {\"x\": 22, \"y\": \"Takashi Taniguchi\", \"text\": 22, \"xanchor\": \"left\", \"xref\": \"x3\", \"yref\": \"y3\", \"showarrow\": false, \"font\": {\"size\": 11, \"color\": \"lightgrey\"}}, {\"x\": 14, \"y\": \"Boris A. Malomed\", \"text\": 14, \"xanchor\": \"left\", \"xref\": \"x4\", \"yref\": \"y4\", \"showarrow\": false, \"font\": {\"size\": 11, \"color\": \"lightgrey\"}}, {\"x\": 11, \"y\": \"Eugene Demler\", \"text\": 11, \"xanchor\": \"left\", \"xref\": \"x4\", \"yref\": \"y4\", \"showarrow\": false, \"font\": {\"size\": 11, \"color\": \"lightgrey\"}}, {\"x\": 10, \"y\": \"Chuanwei Zhang\", \"text\": 10, \"xanchor\": \"left\", \"xref\": \"x4\", \"yref\": \"y4\", \"showarrow\": false, \"font\": {\"size\": 11, \"color\": \"lightgrey\"}}, {\"x\": 9, \"y\": \"Krzysztof Sacha\", \"text\": 9, \"xanchor\": \"left\", \"xref\": \"x4\", \"yref\": \"y4\", \"showarrow\": false, \"font\": {\"size\": 11, \"color\": \"lightgrey\"}}, {\"x\": 14, \"y\": \"Davide Marenduzzo\", \"text\": 14, \"xanchor\": \"left\", \"xref\": \"x5\", \"yref\": \"y5\", \"showarrow\": false, \"font\": {\"size\": 11, \"color\": \"lightgrey\"}}, {\"x\": 12, \"y\": \"M. Cristina Marchetti\", \"text\": 12, \"xanchor\": \"left\", \"xref\": \"x5\", \"yref\": \"y5\", \"showarrow\": false, \"font\": {\"size\": 11, \"color\": \"lightgrey\"}}, {\"x\": 11, \"y\": \"Ivan I. Smalyukh\", \"text\": 11, \"xanchor\": \"left\", \"xref\": \"x5\", \"yref\": \"y5\", \"showarrow\": false, \"font\": {\"size\": 11, \"color\": \"lightgrey\"}}, {\"x\": 10, \"y\": \"Alessio Zaccone\", \"text\": 10, \"xanchor\": \"left\", \"xref\": \"x5\", \"yref\": \"y5\", \"showarrow\": false, \"font\": {\"size\": 11, \"color\": \"lightgrey\"}}, {\"x\": 14, \"y\": \"Satya N. Majumdar\", \"text\": 14, \"xanchor\": \"left\", \"xref\": \"x6\", \"yref\": \"y6\", \"showarrow\": false, \"font\": {\"size\": 11, \"color\": \"lightgrey\"}}, {\"x\": 12, \"y\": \"Romain Vasseur\", \"text\": 12, \"xanchor\": \"left\", \"xref\": \"x6\", \"yref\": \"y6\", \"showarrow\": false, \"font\": {\"size\": 11, \"color\": \"lightgrey\"}}, {\"x\": 12, \"y\": \"Udo Seifert\", \"text\": 12, \"xanchor\": \"left\", \"xref\": \"x6\", \"yref\": \"y6\", \"showarrow\": false, \"font\": {\"size\": 11, \"color\": \"lightgrey\"}}, {\"x\": 12, \"y\": \"Marcos Rigol\", \"text\": 12, \"xanchor\": \"left\", \"xref\": \"x6\", \"yref\": \"y6\", \"showarrow\": false, \"font\": {\"size\": 11, \"color\": \"lightgrey\"}}, {\"x\": 15, \"y\": \"Ashvin Vishwanath\", \"text\": 15, \"xanchor\": \"left\", \"xref\": \"x7\", \"yref\": \"y7\", \"showarrow\": false, \"font\": {\"size\": 11, \"color\": \"lightgrey\"}}, {\"x\": 15, \"y\": \"Liang Fu\", \"text\": 15, \"xanchor\": \"left\", \"xref\": \"x7\", \"yref\": \"y7\", \"showarrow\": false, \"font\": {\"size\": 11, \"color\": \"lightgrey\"}}, {\"x\": 14, \"y\": \"D. N. Sheng\", \"text\": 14, \"xanchor\": \"left\", \"xref\": \"x7\", \"yref\": \"y7\", \"showarrow\": false, \"font\": {\"size\": 11, \"color\": \"lightgrey\"}}, {\"x\": 14, \"y\": \"Roderich Moessner\", \"text\": 14, \"xanchor\": \"left\", \"xref\": \"x7\", \"yref\": \"y7\", \"showarrow\": false, \"font\": {\"size\": 11, \"color\": \"lightgrey\"}}, {\"x\": 16, \"y\": \"N. L. Bobrov\", \"text\": 16, \"xanchor\": \"left\", \"xref\": \"x8\", \"yref\": \"y8\", \"showarrow\": false, \"font\": {\"size\": 11, \"color\": \"lightgrey\"}}, {\"x\": 14, \"y\": \"I. K. Yanson\", \"text\": 14, \"xanchor\": \"left\", \"xref\": \"x8\", \"yref\": \"y8\", \"showarrow\": false, \"font\": {\"size\": 11, \"color\": \"lightgrey\"}}, {\"x\": 13, \"y\": \"G. D. Gu\", \"text\": 13, \"xanchor\": \"left\", \"xref\": \"x8\", \"yref\": \"y8\", \"showarrow\": false, \"font\": {\"size\": 11, \"color\": \"lightgrey\"}}, {\"x\": 12, \"y\": \"V. V. Fisun\", \"text\": 12, \"xanchor\": \"left\", \"xref\": \"x8\", \"yref\": \"y8\", \"showarrow\": false, \"font\": {\"size\": 11, \"color\": \"lightgrey\"}}], \"height\": 600, \"width\": 700, \"showlegend\": false, \"title\": \"\", \"margin\": {\"t\": 60, \"l\": 140, \"b\": 30}}, {\"showLink\": false, \"linkText\": \"Export to plot.ly\"})});</script>"
      ]
     },
     "metadata": {},
     "output_type": "display_data"
    }
   ],
   "source": [
    "active_authors(section, year)"
   ]
  },
  {
   "cell_type": "code",
   "execution_count": 5,
   "metadata": {},
   "outputs": [
    {
     "data": {
      "application/vnd.plotly.v1+json": {
       "data": [
        {
         "hoverinfo": "text+value",
         "labels": [
          "mes-hall",
          "mtrl-sci",
          "str-el",
          "stat-mech",
          "soft",
          "supr-con",
          "quant-gas",
          "dis-nn",
          "other"
         ],
         "marker": {
          "colors": [
           "#fc7f00",
           "#fd8500",
           "#ffb000",
           "#ffcf0b",
           "#ffd30d",
           "#ffde14",
           "#fdea23",
           "#ecf85d",
           "#e4ff7a"
          ]
         },
         "pull": 0.05,
         "text": [
          "Mesoscale and Nanoscale Physics",
          "Materials Science",
          "Strongly Correlated Electrons",
          "Statistical Mechanics",
          "Soft Condensed Matter",
          "Superconductivity",
          "Quantum Gases",
          "Disordered Systems and Neural Networks",
          "Other Condensed Matter"
         ],
         "textinfo": "label+percent",
         "textposition": "outside",
         "type": "pie",
         "values": [
          3454,
          3306,
          2169,
          1456,
          1381,
          1172,
          901,
          402,
          147
         ]
        }
       ],
       "layout": {
        "height": 450,
        "margin": {
         "t": 40
        }
       }
      },
      "text/html": [
       "<div id=\"05e4de7e-e25d-433d-8cea-cd7ac3e522b4\" style=\"height: 450px; width: 100%;\" class=\"plotly-graph-div\"></div><script type=\"text/javascript\">require([\"plotly\"], function(Plotly) { window.PLOTLYENV=window.PLOTLYENV || {};window.PLOTLYENV.BASE_URL=\"https://plot.ly\";Plotly.newPlot(\"05e4de7e-e25d-433d-8cea-cd7ac3e522b4\", [{\"type\": \"pie\", \"text\": [\"Mesoscale and Nanoscale Physics\", \"Materials Science\", \"Strongly Correlated Electrons\", \"Statistical Mechanics\", \"Soft Condensed Matter\", \"Superconductivity\", \"Quantum Gases\", \"Disordered Systems and Neural Networks\", \"Other Condensed Matter\"], \"hoverinfo\": \"text+value\", \"textinfo\": \"label+percent\", \"labels\": [\"mes-hall\", \"mtrl-sci\", \"str-el\", \"stat-mech\", \"soft\", \"supr-con\", \"quant-gas\", \"dis-nn\", \"other\"], \"textposition\": \"outside\", \"values\": [3454, 3306, 2169, 1456, 1381, 1172, 901, 402, 147], \"pull\": 0.05, \"marker\": {\"colors\": [\"#fc7f00\", \"#fd8500\", \"#ffb000\", \"#ffcf0b\", \"#ffd30d\", \"#ffde14\", \"#fdea23\", \"#ecf85d\", \"#e4ff7a\"]}}], {\"height\": 450, \"margin\": {\"t\": 40}}, {\"showLink\": false, \"linkText\": \"Export to plot.ly\"})});</script>"
      ],
      "text/vnd.plotly.v1+html": [
       "<div id=\"05e4de7e-e25d-433d-8cea-cd7ac3e522b4\" style=\"height: 450px; width: 100%;\" class=\"plotly-graph-div\"></div><script type=\"text/javascript\">require([\"plotly\"], function(Plotly) { window.PLOTLYENV=window.PLOTLYENV || {};window.PLOTLYENV.BASE_URL=\"https://plot.ly\";Plotly.newPlot(\"05e4de7e-e25d-433d-8cea-cd7ac3e522b4\", [{\"type\": \"pie\", \"text\": [\"Mesoscale and Nanoscale Physics\", \"Materials Science\", \"Strongly Correlated Electrons\", \"Statistical Mechanics\", \"Soft Condensed Matter\", \"Superconductivity\", \"Quantum Gases\", \"Disordered Systems and Neural Networks\", \"Other Condensed Matter\"], \"hoverinfo\": \"text+value\", \"textinfo\": \"label+percent\", \"labels\": [\"mes-hall\", \"mtrl-sci\", \"str-el\", \"stat-mech\", \"soft\", \"supr-con\", \"quant-gas\", \"dis-nn\", \"other\"], \"textposition\": \"outside\", \"values\": [3454, 3306, 2169, 1456, 1381, 1172, 901, 402, 147], \"pull\": 0.05, \"marker\": {\"colors\": [\"#fc7f00\", \"#fd8500\", \"#ffb000\", \"#ffcf0b\", \"#ffd30d\", \"#ffde14\", \"#fdea23\", \"#ecf85d\", \"#e4ff7a\"]}}], {\"height\": 450, \"margin\": {\"t\": 40}}, {\"showLink\": false, \"linkText\": \"Export to plot.ly\"})});</script>"
      ]
     },
     "metadata": {},
     "output_type": "display_data"
    }
   ],
   "source": [
    "subsections_ratio(section, year)"
   ]
  }
 ],
 "metadata": {
  "kernelspec": {
   "display_name": "Python 3",
   "language": "python",
   "name": "python3"
  },
  "language_info": {
   "codemirror_mode": {
    "name": "ipython",
    "version": 3
   },
   "file_extension": ".py",
   "mimetype": "text/x-python",
   "name": "python",
   "nbconvert_exporter": "python",
   "pygments_lexer": "ipython3",
   "version": "3.6.2"
  }
 },
 "nbformat": 4,
 "nbformat_minor": 2
}
