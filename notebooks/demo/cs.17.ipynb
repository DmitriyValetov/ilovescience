{
 "cells": [
  {
   "cell_type": "code",
   "execution_count": 1,
   "metadata": {},
   "outputs": [
    {
     "data": {
      "text/html": [
       "<script>requirejs.config({paths: { 'plotly': ['https://cdn.plot.ly/plotly-latest.min']},});if(!window.Plotly) {{require(['plotly'],function(plotly) {window.Plotly=plotly;});}}</script>"
      ],
      "text/vnd.plotly.v1+html": [
       "<script>requirejs.config({paths: { 'plotly': ['https://cdn.plot.ly/plotly-latest.min']},});if(!window.Plotly) {{require(['plotly'],function(plotly) {window.Plotly=plotly;});}}</script>"
      ]
     },
     "metadata": {},
     "output_type": "display_data"
    }
   ],
   "source": [
    "import plotly.offline as py\n",
    "from visual import *\n",
    "\n",
    "py.init_notebook_mode(connected=True)"
   ]
  },
  {
   "cell_type": "code",
   "execution_count": 2,
   "metadata": {},
   "outputs": [],
   "source": [
    "section, year = \"cs\", 17\n",
    "volume = \"{}.{}\".format(section, str(year).zfill(2))"
   ]
  },
  {
   "cell_type": "code",
   "execution_count": 3,
   "metadata": {},
   "outputs": [],
   "source": [
    "model = Word2Vec.load(\"../stat/word_vec/{}\".format(volume))\n",
    "terms = topics_normalize(model, get_lines(\"../topics/{}.txt\".format(section)))\n",
    "extented_terms = closest_keys(terms, model)"
   ]
  },
  {
   "cell_type": "code",
   "execution_count": 6,
   "metadata": {},
   "outputs": [
    {
     "data": {
      "application/vnd.plotly.v1+json": {
       "data": [
        {
         "marker": {
          "color": "orange"
         },
         "name": "topic #1",
         "orientation": "h",
         "type": "bar",
         "x": [
          0.005,
          0.006,
          0.007,
          0.007,
          0.008,
          0.011
         ],
         "xaxis": "x1",
         "y": [
          "signal",
          "vehicle",
          "measurement",
          "error",
          "robot",
          "sensor"
         ],
         "yaxis": "y1"
        },
        {
         "marker": {
          "color": "orange"
         },
         "name": "topic #2",
         "orientation": "h",
         "type": "bar",
         "x": [
          0.004,
          0.005,
          0.005,
          0.005,
          0.005,
          0.008
         ],
         "xaxis": "x2",
         "y": [
          "classification",
          "distance",
          "individual",
          "dataset",
          "particle",
          "patient"
         ],
         "yaxis": "y2"
        },
        {
         "marker": {
          "color": "orange"
         },
         "name": "topic #3",
         "orientation": "h",
         "type": "bar",
         "x": [
          0.006,
          0.007,
          0.009,
          0.009,
          0.011,
          0.052
         ],
         "xaxis": "x3",
         "y": [
          "segmentation",
          "pixel",
          "object",
          "video",
          "dataset",
          "image"
         ],
         "yaxis": "y3"
        },
        {
         "marker": {
          "color": "orange"
         },
         "name": "topic #4",
         "orientation": "h",
         "type": "bar",
         "x": [
          0.004,
          0.004,
          0.004,
          0.006,
          0.011,
          0.025
         ],
         "xaxis": "x4",
         "y": [
          "score",
          "content",
          "tweet",
          "topic",
          "dataset",
          "user"
         ],
         "yaxis": "y4"
        },
        {
         "marker": {
          "color": "orange"
         },
         "name": "topic #5",
         "orientation": "h",
         "type": "bar",
         "x": [
          0.007,
          0.007,
          0.007,
          0.014,
          0.023,
          0.043
         ],
         "xaxis": "x5",
         "y": [
          "cluster",
          "memory",
          "tree",
          "edge",
          "graph",
          "node"
         ],
         "yaxis": "y5"
        },
        {
         "marker": {
          "color": "orange"
         },
         "name": "topic #6",
         "orientation": "h",
         "type": "bar",
         "x": [
          0.006,
          0.006,
          0.008,
          0.009,
          0.014,
          0.016
         ],
         "xaxis": "x6",
         "y": [
          "language",
          "semantic",
          "variable",
          "object",
          "program",
          "rule"
         ],
         "yaxis": "y6"
        },
        {
         "marker": {
          "color": "orange"
         },
         "name": "topic #7",
         "orientation": "h",
         "type": "bar",
         "x": [
          0.005,
          0.006,
          0.008,
          0.008,
          0.009,
          0.043
         ],
         "xaxis": "x7",
         "y": [
          "polynomial",
          "sequence",
          "element",
          "block",
          "operation",
          "code"
         ],
         "yaxis": "y7"
        },
        {
         "marker": {
          "color": "orange"
         },
         "name": "topic #8",
         "orientation": "h",
         "type": "bar",
         "x": [
          0.007,
          0.008,
          0.009,
          0.013,
          0.017,
          0.02
         ],
         "xaxis": "x8",
         "y": [
          "communication",
          "power",
          "scheme",
          "rate",
          "user",
          "channel"
         ],
         "yaxis": "y8"
        },
        {
         "marker": {
          "color": "orange"
         },
         "name": "topic #9",
         "orientation": "h",
         "type": "bar",
         "x": [
          0.009,
          0.01,
          0.011,
          0.011,
          0.012,
          0.016
         ],
         "xaxis": "x9",
         "y": [
          "definition",
          "theorem",
          "edge",
          "lemma",
          "proof",
          "graph"
         ],
         "yaxis": "y9"
        },
        {
         "marker": {
          "color": "orange"
         },
         "name": "topic #10",
         "orientation": "h",
         "type": "bar",
         "x": [
          0.006,
          0.006,
          0.009,
          0.01,
          0.011,
          0.024
         ],
         "xaxis": "x10",
         "y": [
          "embedding",
          "training",
          "language",
          "text",
          "sentence",
          "word"
         ],
         "yaxis": "y10"
        },
        {
         "marker": {
          "color": "orange"
         },
         "name": "topic #11",
         "orientation": "h",
         "type": "bar",
         "x": [
          0.01,
          0.01,
          0.01,
          0.011,
          0.014,
          0.022
         ],
         "xaxis": "x11",
         "y": [
          "action",
          "cost",
          "game",
          "policy",
          "control",
          "agent"
         ],
         "yaxis": "y11"
        },
        {
         "marker": {
          "color": "orange"
         },
         "name": "topic #12",
         "orientation": "h",
         "type": "bar",
         "x": [
          0.006,
          0.006,
          0.006,
          0.006,
          0.007,
          0.013
         ],
         "xaxis": "x12",
         "y": [
          "bound",
          "sample",
          "probability",
          "lemma",
          "theorem",
          "matrix"
         ],
         "yaxis": "y12"
        },
        {
         "marker": {
          "color": "orange"
         },
         "name": "topic #13",
         "orientation": "h",
         "type": "bar",
         "x": [
          0.007,
          0.008,
          0.009,
          0.016,
          0.018,
          0.023
         ],
         "xaxis": "x13",
         "y": [
          "image",
          "dataset",
          "neural_network",
          "layer",
          "learning",
          "training"
         ],
         "yaxis": "y13"
        },
        {
         "marker": {
          "color": "orange"
         },
         "name": "topic #14",
         "orientation": "h",
         "type": "bar",
         "x": [
          0.008,
          0.008,
          0.009,
          0.01,
          0.01,
          0.012
         ],
         "xaxis": "x14",
         "y": [
          "user",
          "service",
          "device",
          "server",
          "security",
          "attack"
         ],
         "yaxis": "y14"
        },
        {
         "marker": {
          "color": "orange"
         },
         "name": "topic #15",
         "orientation": "h",
         "type": "bar",
         "x": [
          0.003,
          0.003,
          0.003,
          0.003,
          0.004,
          0.004
         ],
         "xaxis": "x15",
         "y": [
          "journal",
          "software",
          "device",
          "concept",
          "group",
          "science"
         ],
         "yaxis": "y15"
        }
       ],
       "layout": {
        "annotations": [
         {
          "font": {
           "size": 16
          },
          "showarrow": false,
          "text": "sensor",
          "x": 0.11666666666666665,
          "xanchor": "center",
          "xref": "paper",
          "y": 1,
          "yanchor": "bottom",
          "yref": "paper"
         },
         {
          "font": {
           "size": 16
          },
          "showarrow": false,
          "text": "patient",
          "x": 0.49999999999999994,
          "xanchor": "center",
          "xref": "paper",
          "y": 1,
          "yanchor": "bottom",
          "yref": "paper"
         },
         {
          "font": {
           "size": 16
          },
          "showarrow": false,
          "text": "image",
          "x": 0.8833333333333333,
          "xanchor": "center",
          "xref": "paper",
          "y": 1,
          "yanchor": "bottom",
          "yref": "paper"
         },
         {
          "font": {
           "size": 16
          },
          "showarrow": false,
          "text": "user",
          "x": 0.11666666666666665,
          "xanchor": "center",
          "xref": "paper",
          "y": 0.79,
          "yanchor": "bottom",
          "yref": "paper"
         },
         {
          "font": {
           "size": 16
          },
          "showarrow": false,
          "text": "node",
          "x": 0.49999999999999994,
          "xanchor": "center",
          "xref": "paper",
          "y": 0.79,
          "yanchor": "bottom",
          "yref": "paper"
         },
         {
          "font": {
           "size": 16
          },
          "showarrow": false,
          "text": "rule",
          "x": 0.8833333333333333,
          "xanchor": "center",
          "xref": "paper",
          "y": 0.79,
          "yanchor": "bottom",
          "yref": "paper"
         },
         {
          "font": {
           "size": 16
          },
          "showarrow": false,
          "text": "code",
          "x": 0.11666666666666665,
          "xanchor": "center",
          "xref": "paper",
          "y": 0.5800000000000001,
          "yanchor": "bottom",
          "yref": "paper"
         },
         {
          "font": {
           "size": 16
          },
          "showarrow": false,
          "text": "channel",
          "x": 0.49999999999999994,
          "xanchor": "center",
          "xref": "paper",
          "y": 0.5800000000000001,
          "yanchor": "bottom",
          "yref": "paper"
         },
         {
          "font": {
           "size": 16
          },
          "showarrow": false,
          "text": "graph",
          "x": 0.8833333333333333,
          "xanchor": "center",
          "xref": "paper",
          "y": 0.5800000000000001,
          "yanchor": "bottom",
          "yref": "paper"
         },
         {
          "font": {
           "size": 16
          },
          "showarrow": false,
          "text": "word",
          "x": 0.11666666666666665,
          "xanchor": "center",
          "xref": "paper",
          "y": 0.37,
          "yanchor": "bottom",
          "yref": "paper"
         },
         {
          "font": {
           "size": 16
          },
          "showarrow": false,
          "text": "agent",
          "x": 0.49999999999999994,
          "xanchor": "center",
          "xref": "paper",
          "y": 0.37,
          "yanchor": "bottom",
          "yref": "paper"
         },
         {
          "font": {
           "size": 16
          },
          "showarrow": false,
          "text": "matrix",
          "x": 0.8833333333333333,
          "xanchor": "center",
          "xref": "paper",
          "y": 0.37,
          "yanchor": "bottom",
          "yref": "paper"
         },
         {
          "font": {
           "size": 16
          },
          "showarrow": false,
          "text": "training",
          "x": 0.11666666666666665,
          "xanchor": "center",
          "xref": "paper",
          "y": 0.16,
          "yanchor": "bottom",
          "yref": "paper"
         },
         {
          "font": {
           "size": 16
          },
          "showarrow": false,
          "text": "attack",
          "x": 0.49999999999999994,
          "xanchor": "center",
          "xref": "paper",
          "y": 0.16,
          "yanchor": "bottom",
          "yref": "paper"
         },
         {
          "font": {
           "size": 16
          },
          "showarrow": false,
          "text": "group",
          "x": 0.8833333333333333,
          "xanchor": "center",
          "xref": "paper",
          "y": 0.16,
          "yanchor": "bottom",
          "yref": "paper"
         }
        ],
        "height": 750,
        "margin": {
         "t": 120
        },
        "showlegend": false,
        "title": "",
        "width": 750,
        "xaxis1": {
         "anchor": "y1",
         "domain": [
          0,
          0.2333333333333333
         ],
         "showticklabels": false
        },
        "xaxis10": {
         "anchor": "y10",
         "domain": [
          0,
          0.2333333333333333
         ],
         "showticklabels": false
        },
        "xaxis11": {
         "anchor": "y11",
         "domain": [
          0.3833333333333333,
          0.6166666666666666
         ],
         "showticklabels": false
        },
        "xaxis12": {
         "anchor": "y12",
         "domain": [
          0.7666666666666666,
          0.9999999999999999
         ],
         "showticklabels": false
        },
        "xaxis13": {
         "anchor": "y13",
         "domain": [
          0,
          0.2333333333333333
         ],
         "showticklabels": false
        },
        "xaxis14": {
         "anchor": "y14",
         "domain": [
          0.3833333333333333,
          0.6166666666666666
         ],
         "showticklabels": false
        },
        "xaxis15": {
         "anchor": "y15",
         "domain": [
          0.7666666666666666,
          0.9999999999999999
         ],
         "showticklabels": false
        },
        "xaxis2": {
         "anchor": "y2",
         "domain": [
          0.3833333333333333,
          0.6166666666666666
         ],
         "showticklabels": false
        },
        "xaxis3": {
         "anchor": "y3",
         "domain": [
          0.7666666666666666,
          0.9999999999999999
         ],
         "showticklabels": false
        },
        "xaxis4": {
         "anchor": "y4",
         "domain": [
          0,
          0.2333333333333333
         ],
         "showticklabels": false
        },
        "xaxis5": {
         "anchor": "y5",
         "domain": [
          0.3833333333333333,
          0.6166666666666666
         ],
         "showticklabels": false
        },
        "xaxis6": {
         "anchor": "y6",
         "domain": [
          0.7666666666666666,
          0.9999999999999999
         ],
         "showticklabels": false
        },
        "xaxis7": {
         "anchor": "y7",
         "domain": [
          0,
          0.2333333333333333
         ],
         "showticklabels": false
        },
        "xaxis8": {
         "anchor": "y8",
         "domain": [
          0.3833333333333333,
          0.6166666666666666
         ],
         "showticklabels": false
        },
        "xaxis9": {
         "anchor": "y9",
         "domain": [
          0.7666666666666666,
          0.9999999999999999
         ],
         "showticklabels": false
        },
        "yaxis1": {
         "anchor": "x1",
         "domain": [
          0.8400000000000001,
          1
         ],
         "tickfont": {
          "color": "lightgrey",
          "size": 11
         },
         "ticklen": 3
        },
        "yaxis10": {
         "anchor": "x10",
         "domain": [
          0.21000000000000002,
          0.37
         ],
         "tickfont": {
          "color": "lightgrey",
          "size": 11
         },
         "ticklen": 3
        },
        "yaxis11": {
         "anchor": "x11",
         "domain": [
          0.21000000000000002,
          0.37
         ],
         "tickfont": {
          "color": "lightgrey",
          "size": 11
         },
         "ticklen": 3
        },
        "yaxis12": {
         "anchor": "x12",
         "domain": [
          0.21000000000000002,
          0.37
         ],
         "tickfont": {
          "color": "lightgrey",
          "size": 11
         },
         "ticklen": 3
        },
        "yaxis13": {
         "anchor": "x13",
         "domain": [
          0,
          0.16
         ],
         "tickfont": {
          "color": "lightgrey",
          "size": 11
         },
         "ticklen": 3
        },
        "yaxis14": {
         "anchor": "x14",
         "domain": [
          0,
          0.16
         ],
         "tickfont": {
          "color": "lightgrey",
          "size": 11
         },
         "ticklen": 3
        },
        "yaxis15": {
         "anchor": "x15",
         "domain": [
          0,
          0.16
         ],
         "tickfont": {
          "color": "lightgrey",
          "size": 11
         },
         "ticklen": 3
        },
        "yaxis2": {
         "anchor": "x2",
         "domain": [
          0.8400000000000001,
          1
         ],
         "tickfont": {
          "color": "lightgrey",
          "size": 11
         },
         "ticklen": 3
        },
        "yaxis3": {
         "anchor": "x3",
         "domain": [
          0.8400000000000001,
          1
         ],
         "tickfont": {
          "color": "lightgrey",
          "size": 11
         },
         "ticklen": 3
        },
        "yaxis4": {
         "anchor": "x4",
         "domain": [
          0.63,
          0.79
         ],
         "tickfont": {
          "color": "lightgrey",
          "size": 11
         },
         "ticklen": 3
        },
        "yaxis5": {
         "anchor": "x5",
         "domain": [
          0.63,
          0.79
         ],
         "tickfont": {
          "color": "lightgrey",
          "size": 11
         },
         "ticklen": 3
        },
        "yaxis6": {
         "anchor": "x6",
         "domain": [
          0.63,
          0.79
         ],
         "tickfont": {
          "color": "lightgrey",
          "size": 11
         },
         "ticklen": 3
        },
        "yaxis7": {
         "anchor": "x7",
         "domain": [
          0.42000000000000004,
          0.5800000000000001
         ],
         "tickfont": {
          "color": "lightgrey",
          "size": 11
         },
         "ticklen": 3
        },
        "yaxis8": {
         "anchor": "x8",
         "domain": [
          0.42000000000000004,
          0.5800000000000001
         ],
         "tickfont": {
          "color": "lightgrey",
          "size": 11
         },
         "ticklen": 3
        },
        "yaxis9": {
         "anchor": "x9",
         "domain": [
          0.42000000000000004,
          0.5800000000000001
         ],
         "tickfont": {
          "color": "lightgrey",
          "size": 11
         },
         "ticklen": 3
        }
       }
      },
      "text/html": [
       "<div id=\"53f0c5e8-1663-4fed-85b1-590e4a5ec424\" style=\"height: 750px; width: 750px;\" class=\"plotly-graph-div\"></div><script type=\"text/javascript\">require([\"plotly\"], function(Plotly) { window.PLOTLYENV=window.PLOTLYENV || {};window.PLOTLYENV.BASE_URL=\"https://plot.ly\";Plotly.newPlot(\"53f0c5e8-1663-4fed-85b1-590e4a5ec424\", [{\"type\": \"bar\", \"x\": [0.005, 0.006, 0.007, 0.007, 0.008, 0.011], \"y\": [\"signal\", \"vehicle\", \"measurement\", \"error\", \"robot\", \"sensor\"], \"orientation\": \"h\", \"name\": \"topic #1\", \"marker\": {\"color\": \"orange\"}, \"xaxis\": \"x1\", \"yaxis\": \"y1\"}, {\"type\": \"bar\", \"x\": [0.004, 0.005, 0.005, 0.005, 0.005, 0.008], \"y\": [\"classification\", \"distance\", \"individual\", \"dataset\", \"particle\", \"patient\"], \"orientation\": \"h\", \"name\": \"topic #2\", \"marker\": {\"color\": \"orange\"}, \"xaxis\": \"x2\", \"yaxis\": \"y2\"}, {\"type\": \"bar\", \"x\": [0.006, 0.007, 0.009, 0.009, 0.011, 0.052], \"y\": [\"segmentation\", \"pixel\", \"object\", \"video\", \"dataset\", \"image\"], \"orientation\": \"h\", \"name\": \"topic #3\", \"marker\": {\"color\": \"orange\"}, \"xaxis\": \"x3\", \"yaxis\": \"y3\"}, {\"type\": \"bar\", \"x\": [0.004, 0.004, 0.004, 0.006, 0.011, 0.025], \"y\": [\"score\", \"content\", \"tweet\", \"topic\", \"dataset\", \"user\"], \"orientation\": \"h\", \"name\": \"topic #4\", \"marker\": {\"color\": \"orange\"}, \"xaxis\": \"x4\", \"yaxis\": \"y4\"}, {\"type\": \"bar\", \"x\": [0.007, 0.007, 0.007, 0.014, 0.023, 0.043], \"y\": [\"cluster\", \"memory\", \"tree\", \"edge\", \"graph\", \"node\"], \"orientation\": \"h\", \"name\": \"topic #5\", \"marker\": {\"color\": \"orange\"}, \"xaxis\": \"x5\", \"yaxis\": \"y5\"}, {\"type\": \"bar\", \"x\": [0.006, 0.006, 0.008, 0.009, 0.014, 0.016], \"y\": [\"language\", \"semantic\", \"variable\", \"object\", \"program\", \"rule\"], \"orientation\": \"h\", \"name\": \"topic #6\", \"marker\": {\"color\": \"orange\"}, \"xaxis\": \"x6\", \"yaxis\": \"y6\"}, {\"type\": \"bar\", \"x\": [0.005, 0.006, 0.008, 0.008, 0.009, 0.043], \"y\": [\"polynomial\", \"sequence\", \"element\", \"block\", \"operation\", \"code\"], \"orientation\": \"h\", \"name\": \"topic #7\", \"marker\": {\"color\": \"orange\"}, \"xaxis\": \"x7\", \"yaxis\": \"y7\"}, {\"type\": \"bar\", \"x\": [0.007, 0.008, 0.009, 0.013, 0.017, 0.02], \"y\": [\"communication\", \"power\", \"scheme\", \"rate\", \"user\", \"channel\"], \"orientation\": \"h\", \"name\": \"topic #8\", \"marker\": {\"color\": \"orange\"}, \"xaxis\": \"x8\", \"yaxis\": \"y8\"}, {\"type\": \"bar\", \"x\": [0.009, 0.01, 0.011, 0.011, 0.012, 0.016], \"y\": [\"definition\", \"theorem\", \"edge\", \"lemma\", \"proof\", \"graph\"], \"orientation\": \"h\", \"name\": \"topic #9\", \"marker\": {\"color\": \"orange\"}, \"xaxis\": \"x9\", \"yaxis\": \"y9\"}, {\"type\": \"bar\", \"x\": [0.006, 0.006, 0.009, 0.01, 0.011, 0.024], \"y\": [\"embedding\", \"training\", \"language\", \"text\", \"sentence\", \"word\"], \"orientation\": \"h\", \"name\": \"topic #10\", \"marker\": {\"color\": \"orange\"}, \"xaxis\": \"x10\", \"yaxis\": \"y10\"}, {\"type\": \"bar\", \"x\": [0.01, 0.01, 0.01, 0.011, 0.014, 0.022], \"y\": [\"action\", \"cost\", \"game\", \"policy\", \"control\", \"agent\"], \"orientation\": \"h\", \"name\": \"topic #11\", \"marker\": {\"color\": \"orange\"}, \"xaxis\": \"x11\", \"yaxis\": \"y11\"}, {\"type\": \"bar\", \"x\": [0.006, 0.006, 0.006, 0.006, 0.007, 0.013], \"y\": [\"bound\", \"sample\", \"probability\", \"lemma\", \"theorem\", \"matrix\"], \"orientation\": \"h\", \"name\": \"topic #12\", \"marker\": {\"color\": \"orange\"}, \"xaxis\": \"x12\", \"yaxis\": \"y12\"}, {\"type\": \"bar\", \"x\": [0.007, 0.008, 0.009, 0.016, 0.018, 0.023], \"y\": [\"image\", \"dataset\", \"neural_network\", \"layer\", \"learning\", \"training\"], \"orientation\": \"h\", \"name\": \"topic #13\", \"marker\": {\"color\": \"orange\"}, \"xaxis\": \"x13\", \"yaxis\": \"y13\"}, {\"type\": \"bar\", \"x\": [0.008, 0.008, 0.009, 0.01, 0.01, 0.012], \"y\": [\"user\", \"service\", \"device\", \"server\", \"security\", \"attack\"], \"orientation\": \"h\", \"name\": \"topic #14\", \"marker\": {\"color\": \"orange\"}, \"xaxis\": \"x14\", \"yaxis\": \"y14\"}, {\"type\": \"bar\", \"x\": [0.003, 0.003, 0.003, 0.003, 0.004, 0.004], \"y\": [\"journal\", \"software\", \"device\", \"concept\", \"group\", \"science\"], \"orientation\": \"h\", \"name\": \"topic #15\", \"marker\": {\"color\": \"orange\"}, \"xaxis\": \"x15\", \"yaxis\": \"y15\"}], {\"xaxis1\": {\"domain\": [0.0, 0.2333333333333333], \"anchor\": \"y1\", \"showticklabels\": false}, \"yaxis1\": {\"domain\": [0.8400000000000001, 1.0], \"anchor\": \"x1\", \"ticklen\": 3, \"tickfont\": {\"size\": 11, \"color\": \"lightgrey\"}}, \"xaxis2\": {\"domain\": [0.3833333333333333, 0.6166666666666666], \"anchor\": \"y2\", \"showticklabels\": false}, \"yaxis2\": {\"domain\": [0.8400000000000001, 1.0], \"anchor\": \"x2\", \"ticklen\": 3, \"tickfont\": {\"size\": 11, \"color\": \"lightgrey\"}}, \"xaxis3\": {\"domain\": [0.7666666666666666, 0.9999999999999999], \"anchor\": \"y3\", \"showticklabels\": false}, \"yaxis3\": {\"domain\": [0.8400000000000001, 1.0], \"anchor\": \"x3\", \"ticklen\": 3, \"tickfont\": {\"size\": 11, \"color\": \"lightgrey\"}}, \"xaxis4\": {\"domain\": [0.0, 0.2333333333333333], \"anchor\": \"y4\", \"showticklabels\": false}, \"yaxis4\": {\"domain\": [0.63, 0.79], \"anchor\": \"x4\", \"ticklen\": 3, \"tickfont\": {\"size\": 11, \"color\": \"lightgrey\"}}, \"xaxis5\": {\"domain\": [0.3833333333333333, 0.6166666666666666], \"anchor\": \"y5\", \"showticklabels\": false}, \"yaxis5\": {\"domain\": [0.63, 0.79], \"anchor\": \"x5\", \"ticklen\": 3, \"tickfont\": {\"size\": 11, \"color\": \"lightgrey\"}}, \"xaxis6\": {\"domain\": [0.7666666666666666, 0.9999999999999999], \"anchor\": \"y6\", \"showticklabels\": false}, \"yaxis6\": {\"domain\": [0.63, 0.79], \"anchor\": \"x6\", \"ticklen\": 3, \"tickfont\": {\"size\": 11, \"color\": \"lightgrey\"}}, \"xaxis7\": {\"domain\": [0.0, 0.2333333333333333], \"anchor\": \"y7\", \"showticklabels\": false}, \"yaxis7\": {\"domain\": [0.42000000000000004, 0.5800000000000001], \"anchor\": \"x7\", \"ticklen\": 3, \"tickfont\": {\"size\": 11, \"color\": \"lightgrey\"}}, \"xaxis8\": {\"domain\": [0.3833333333333333, 0.6166666666666666], \"anchor\": \"y8\", \"showticklabels\": false}, \"yaxis8\": {\"domain\": [0.42000000000000004, 0.5800000000000001], \"anchor\": \"x8\", \"ticklen\": 3, \"tickfont\": {\"size\": 11, \"color\": \"lightgrey\"}}, \"xaxis9\": {\"domain\": [0.7666666666666666, 0.9999999999999999], \"anchor\": \"y9\", \"showticklabels\": false}, \"yaxis9\": {\"domain\": [0.42000000000000004, 0.5800000000000001], \"anchor\": \"x9\", \"ticklen\": 3, \"tickfont\": {\"size\": 11, \"color\": \"lightgrey\"}}, \"xaxis10\": {\"domain\": [0.0, 0.2333333333333333], \"anchor\": \"y10\", \"showticklabels\": false}, \"yaxis10\": {\"domain\": [0.21000000000000002, 0.37], \"anchor\": \"x10\", \"ticklen\": 3, \"tickfont\": {\"size\": 11, \"color\": \"lightgrey\"}}, \"xaxis11\": {\"domain\": [0.3833333333333333, 0.6166666666666666], \"anchor\": \"y11\", \"showticklabels\": false}, \"yaxis11\": {\"domain\": [0.21000000000000002, 0.37], \"anchor\": \"x11\", \"ticklen\": 3, \"tickfont\": {\"size\": 11, \"color\": \"lightgrey\"}}, \"xaxis12\": {\"domain\": [0.7666666666666666, 0.9999999999999999], \"anchor\": \"y12\", \"showticklabels\": false}, \"yaxis12\": {\"domain\": [0.21000000000000002, 0.37], \"anchor\": \"x12\", \"ticklen\": 3, \"tickfont\": {\"size\": 11, \"color\": \"lightgrey\"}}, \"xaxis13\": {\"domain\": [0.0, 0.2333333333333333], \"anchor\": \"y13\", \"showticklabels\": false}, \"yaxis13\": {\"domain\": [0.0, 0.16], \"anchor\": \"x13\", \"ticklen\": 3, \"tickfont\": {\"size\": 11, \"color\": \"lightgrey\"}}, \"xaxis14\": {\"domain\": [0.3833333333333333, 0.6166666666666666], \"anchor\": \"y14\", \"showticklabels\": false}, \"yaxis14\": {\"domain\": [0.0, 0.16], \"anchor\": \"x14\", \"ticklen\": 3, \"tickfont\": {\"size\": 11, \"color\": \"lightgrey\"}}, \"xaxis15\": {\"domain\": [0.7666666666666666, 0.9999999999999999], \"anchor\": \"y15\", \"showticklabels\": false}, \"yaxis15\": {\"domain\": [0.0, 0.16], \"anchor\": \"x15\", \"ticklen\": 3, \"tickfont\": {\"size\": 11, \"color\": \"lightgrey\"}}, \"annotations\": [{\"y\": 1.0, \"xref\": \"paper\", \"x\": 0.11666666666666665, \"yref\": \"paper\", \"text\": \"sensor\", \"showarrow\": false, \"font\": {\"size\": 16}, \"xanchor\": \"center\", \"yanchor\": \"bottom\"}, {\"y\": 1.0, \"xref\": \"paper\", \"x\": 0.49999999999999994, \"yref\": \"paper\", \"text\": \"patient\", \"showarrow\": false, \"font\": {\"size\": 16}, \"xanchor\": \"center\", \"yanchor\": \"bottom\"}, {\"y\": 1.0, \"xref\": \"paper\", \"x\": 0.8833333333333333, \"yref\": \"paper\", \"text\": \"image\", \"showarrow\": false, \"font\": {\"size\": 16}, \"xanchor\": \"center\", \"yanchor\": \"bottom\"}, {\"y\": 0.79, \"xref\": \"paper\", \"x\": 0.11666666666666665, \"yref\": \"paper\", \"text\": \"user\", \"showarrow\": false, \"font\": {\"size\": 16}, \"xanchor\": \"center\", \"yanchor\": \"bottom\"}, {\"y\": 0.79, \"xref\": \"paper\", \"x\": 0.49999999999999994, \"yref\": \"paper\", \"text\": \"node\", \"showarrow\": false, \"font\": {\"size\": 16}, \"xanchor\": \"center\", \"yanchor\": \"bottom\"}, {\"y\": 0.79, \"xref\": \"paper\", \"x\": 0.8833333333333333, \"yref\": \"paper\", \"text\": \"rule\", \"showarrow\": false, \"font\": {\"size\": 16}, \"xanchor\": \"center\", \"yanchor\": \"bottom\"}, {\"y\": 0.5800000000000001, \"xref\": \"paper\", \"x\": 0.11666666666666665, \"yref\": \"paper\", \"text\": \"code\", \"showarrow\": false, \"font\": {\"size\": 16}, \"xanchor\": \"center\", \"yanchor\": \"bottom\"}, {\"y\": 0.5800000000000001, \"xref\": \"paper\", \"x\": 0.49999999999999994, \"yref\": \"paper\", \"text\": \"channel\", \"showarrow\": false, \"font\": {\"size\": 16}, \"xanchor\": \"center\", \"yanchor\": \"bottom\"}, {\"y\": 0.5800000000000001, \"xref\": \"paper\", \"x\": 0.8833333333333333, \"yref\": \"paper\", \"text\": \"graph\", \"showarrow\": false, \"font\": {\"size\": 16}, \"xanchor\": \"center\", \"yanchor\": \"bottom\"}, {\"y\": 0.37, \"xref\": \"paper\", \"x\": 0.11666666666666665, \"yref\": \"paper\", \"text\": \"word\", \"showarrow\": false, \"font\": {\"size\": 16}, \"xanchor\": \"center\", \"yanchor\": \"bottom\"}, {\"y\": 0.37, \"xref\": \"paper\", \"x\": 0.49999999999999994, \"yref\": \"paper\", \"text\": \"agent\", \"showarrow\": false, \"font\": {\"size\": 16}, \"xanchor\": \"center\", \"yanchor\": \"bottom\"}, {\"y\": 0.37, \"xref\": \"paper\", \"x\": 0.8833333333333333, \"yref\": \"paper\", \"text\": \"matrix\", \"showarrow\": false, \"font\": {\"size\": 16}, \"xanchor\": \"center\", \"yanchor\": \"bottom\"}, {\"y\": 0.16, \"xref\": \"paper\", \"x\": 0.11666666666666665, \"yref\": \"paper\", \"text\": \"training\", \"showarrow\": false, \"font\": {\"size\": 16}, \"xanchor\": \"center\", \"yanchor\": \"bottom\"}, {\"y\": 0.16, \"xref\": \"paper\", \"x\": 0.49999999999999994, \"yref\": \"paper\", \"text\": \"attack\", \"showarrow\": false, \"font\": {\"size\": 16}, \"xanchor\": \"center\", \"yanchor\": \"bottom\"}, {\"y\": 0.16, \"xref\": \"paper\", \"x\": 0.8833333333333333, \"yref\": \"paper\", \"text\": \"group\", \"showarrow\": false, \"font\": {\"size\": 16}, \"xanchor\": \"center\", \"yanchor\": \"bottom\"}], \"height\": 750, \"width\": 750, \"showlegend\": false, \"title\": \"\", \"margin\": {\"t\": 120}}, {\"showLink\": false, \"linkText\": \"Export to plot.ly\"})});</script>"
      ],
      "text/vnd.plotly.v1+html": [
       "<div id=\"53f0c5e8-1663-4fed-85b1-590e4a5ec424\" style=\"height: 750px; width: 750px;\" class=\"plotly-graph-div\"></div><script type=\"text/javascript\">require([\"plotly\"], function(Plotly) { window.PLOTLYENV=window.PLOTLYENV || {};window.PLOTLYENV.BASE_URL=\"https://plot.ly\";Plotly.newPlot(\"53f0c5e8-1663-4fed-85b1-590e4a5ec424\", [{\"type\": \"bar\", \"x\": [0.005, 0.006, 0.007, 0.007, 0.008, 0.011], \"y\": [\"signal\", \"vehicle\", \"measurement\", \"error\", \"robot\", \"sensor\"], \"orientation\": \"h\", \"name\": \"topic #1\", \"marker\": {\"color\": \"orange\"}, \"xaxis\": \"x1\", \"yaxis\": \"y1\"}, {\"type\": \"bar\", \"x\": [0.004, 0.005, 0.005, 0.005, 0.005, 0.008], \"y\": [\"classification\", \"distance\", \"individual\", \"dataset\", \"particle\", \"patient\"], \"orientation\": \"h\", \"name\": \"topic #2\", \"marker\": {\"color\": \"orange\"}, \"xaxis\": \"x2\", \"yaxis\": \"y2\"}, {\"type\": \"bar\", \"x\": [0.006, 0.007, 0.009, 0.009, 0.011, 0.052], \"y\": [\"segmentation\", \"pixel\", \"object\", \"video\", \"dataset\", \"image\"], \"orientation\": \"h\", \"name\": \"topic #3\", \"marker\": {\"color\": \"orange\"}, \"xaxis\": \"x3\", \"yaxis\": \"y3\"}, {\"type\": \"bar\", \"x\": [0.004, 0.004, 0.004, 0.006, 0.011, 0.025], \"y\": [\"score\", \"content\", \"tweet\", \"topic\", \"dataset\", \"user\"], \"orientation\": \"h\", \"name\": \"topic #4\", \"marker\": {\"color\": \"orange\"}, \"xaxis\": \"x4\", \"yaxis\": \"y4\"}, {\"type\": \"bar\", \"x\": [0.007, 0.007, 0.007, 0.014, 0.023, 0.043], \"y\": [\"cluster\", \"memory\", \"tree\", \"edge\", \"graph\", \"node\"], \"orientation\": \"h\", \"name\": \"topic #5\", \"marker\": {\"color\": \"orange\"}, \"xaxis\": \"x5\", \"yaxis\": \"y5\"}, {\"type\": \"bar\", \"x\": [0.006, 0.006, 0.008, 0.009, 0.014, 0.016], \"y\": [\"language\", \"semantic\", \"variable\", \"object\", \"program\", \"rule\"], \"orientation\": \"h\", \"name\": \"topic #6\", \"marker\": {\"color\": \"orange\"}, \"xaxis\": \"x6\", \"yaxis\": \"y6\"}, {\"type\": \"bar\", \"x\": [0.005, 0.006, 0.008, 0.008, 0.009, 0.043], \"y\": [\"polynomial\", \"sequence\", \"element\", \"block\", \"operation\", \"code\"], \"orientation\": \"h\", \"name\": \"topic #7\", \"marker\": {\"color\": \"orange\"}, \"xaxis\": \"x7\", \"yaxis\": \"y7\"}, {\"type\": \"bar\", \"x\": [0.007, 0.008, 0.009, 0.013, 0.017, 0.02], \"y\": [\"communication\", \"power\", \"scheme\", \"rate\", \"user\", \"channel\"], \"orientation\": \"h\", \"name\": \"topic #8\", \"marker\": {\"color\": \"orange\"}, \"xaxis\": \"x8\", \"yaxis\": \"y8\"}, {\"type\": \"bar\", \"x\": [0.009, 0.01, 0.011, 0.011, 0.012, 0.016], \"y\": [\"definition\", \"theorem\", \"edge\", \"lemma\", \"proof\", \"graph\"], \"orientation\": \"h\", \"name\": \"topic #9\", \"marker\": {\"color\": \"orange\"}, \"xaxis\": \"x9\", \"yaxis\": \"y9\"}, {\"type\": \"bar\", \"x\": [0.006, 0.006, 0.009, 0.01, 0.011, 0.024], \"y\": [\"embedding\", \"training\", \"language\", \"text\", \"sentence\", \"word\"], \"orientation\": \"h\", \"name\": \"topic #10\", \"marker\": {\"color\": \"orange\"}, \"xaxis\": \"x10\", \"yaxis\": \"y10\"}, {\"type\": \"bar\", \"x\": [0.01, 0.01, 0.01, 0.011, 0.014, 0.022], \"y\": [\"action\", \"cost\", \"game\", \"policy\", \"control\", \"agent\"], \"orientation\": \"h\", \"name\": \"topic #11\", \"marker\": {\"color\": \"orange\"}, \"xaxis\": \"x11\", \"yaxis\": \"y11\"}, {\"type\": \"bar\", \"x\": [0.006, 0.006, 0.006, 0.006, 0.007, 0.013], \"y\": [\"bound\", \"sample\", \"probability\", \"lemma\", \"theorem\", \"matrix\"], \"orientation\": \"h\", \"name\": \"topic #12\", \"marker\": {\"color\": \"orange\"}, \"xaxis\": \"x12\", \"yaxis\": \"y12\"}, {\"type\": \"bar\", \"x\": [0.007, 0.008, 0.009, 0.016, 0.018, 0.023], \"y\": [\"image\", \"dataset\", \"neural_network\", \"layer\", \"learning\", \"training\"], \"orientation\": \"h\", \"name\": \"topic #13\", \"marker\": {\"color\": \"orange\"}, \"xaxis\": \"x13\", \"yaxis\": \"y13\"}, {\"type\": \"bar\", \"x\": [0.008, 0.008, 0.009, 0.01, 0.01, 0.012], \"y\": [\"user\", \"service\", \"device\", \"server\", \"security\", \"attack\"], \"orientation\": \"h\", \"name\": \"topic #14\", \"marker\": {\"color\": \"orange\"}, \"xaxis\": \"x14\", \"yaxis\": \"y14\"}, {\"type\": \"bar\", \"x\": [0.003, 0.003, 0.003, 0.003, 0.004, 0.004], \"y\": [\"journal\", \"software\", \"device\", \"concept\", \"group\", \"science\"], \"orientation\": \"h\", \"name\": \"topic #15\", \"marker\": {\"color\": \"orange\"}, \"xaxis\": \"x15\", \"yaxis\": \"y15\"}], {\"xaxis1\": {\"domain\": [0.0, 0.2333333333333333], \"anchor\": \"y1\", \"showticklabels\": false}, \"yaxis1\": {\"domain\": [0.8400000000000001, 1.0], \"anchor\": \"x1\", \"ticklen\": 3, \"tickfont\": {\"size\": 11, \"color\": \"lightgrey\"}}, \"xaxis2\": {\"domain\": [0.3833333333333333, 0.6166666666666666], \"anchor\": \"y2\", \"showticklabels\": false}, \"yaxis2\": {\"domain\": [0.8400000000000001, 1.0], \"anchor\": \"x2\", \"ticklen\": 3, \"tickfont\": {\"size\": 11, \"color\": \"lightgrey\"}}, \"xaxis3\": {\"domain\": [0.7666666666666666, 0.9999999999999999], \"anchor\": \"y3\", \"showticklabels\": false}, \"yaxis3\": {\"domain\": [0.8400000000000001, 1.0], \"anchor\": \"x3\", \"ticklen\": 3, \"tickfont\": {\"size\": 11, \"color\": \"lightgrey\"}}, \"xaxis4\": {\"domain\": [0.0, 0.2333333333333333], \"anchor\": \"y4\", \"showticklabels\": false}, \"yaxis4\": {\"domain\": [0.63, 0.79], \"anchor\": \"x4\", \"ticklen\": 3, \"tickfont\": {\"size\": 11, \"color\": \"lightgrey\"}}, \"xaxis5\": {\"domain\": [0.3833333333333333, 0.6166666666666666], \"anchor\": \"y5\", \"showticklabels\": false}, \"yaxis5\": {\"domain\": [0.63, 0.79], \"anchor\": \"x5\", \"ticklen\": 3, \"tickfont\": {\"size\": 11, \"color\": \"lightgrey\"}}, \"xaxis6\": {\"domain\": [0.7666666666666666, 0.9999999999999999], \"anchor\": \"y6\", \"showticklabels\": false}, \"yaxis6\": {\"domain\": [0.63, 0.79], \"anchor\": \"x6\", \"ticklen\": 3, \"tickfont\": {\"size\": 11, \"color\": \"lightgrey\"}}, \"xaxis7\": {\"domain\": [0.0, 0.2333333333333333], \"anchor\": \"y7\", \"showticklabels\": false}, \"yaxis7\": {\"domain\": [0.42000000000000004, 0.5800000000000001], \"anchor\": \"x7\", \"ticklen\": 3, \"tickfont\": {\"size\": 11, \"color\": \"lightgrey\"}}, \"xaxis8\": {\"domain\": [0.3833333333333333, 0.6166666666666666], \"anchor\": \"y8\", \"showticklabels\": false}, \"yaxis8\": {\"domain\": [0.42000000000000004, 0.5800000000000001], \"anchor\": \"x8\", \"ticklen\": 3, \"tickfont\": {\"size\": 11, \"color\": \"lightgrey\"}}, \"xaxis9\": {\"domain\": [0.7666666666666666, 0.9999999999999999], \"anchor\": \"y9\", \"showticklabels\": false}, \"yaxis9\": {\"domain\": [0.42000000000000004, 0.5800000000000001], \"anchor\": \"x9\", \"ticklen\": 3, \"tickfont\": {\"size\": 11, \"color\": \"lightgrey\"}}, \"xaxis10\": {\"domain\": [0.0, 0.2333333333333333], \"anchor\": \"y10\", \"showticklabels\": false}, \"yaxis10\": {\"domain\": [0.21000000000000002, 0.37], \"anchor\": \"x10\", \"ticklen\": 3, \"tickfont\": {\"size\": 11, \"color\": \"lightgrey\"}}, \"xaxis11\": {\"domain\": [0.3833333333333333, 0.6166666666666666], \"anchor\": \"y11\", \"showticklabels\": false}, \"yaxis11\": {\"domain\": [0.21000000000000002, 0.37], \"anchor\": \"x11\", \"ticklen\": 3, \"tickfont\": {\"size\": 11, \"color\": \"lightgrey\"}}, \"xaxis12\": {\"domain\": [0.7666666666666666, 0.9999999999999999], \"anchor\": \"y12\", \"showticklabels\": false}, \"yaxis12\": {\"domain\": [0.21000000000000002, 0.37], \"anchor\": \"x12\", \"ticklen\": 3, \"tickfont\": {\"size\": 11, \"color\": \"lightgrey\"}}, \"xaxis13\": {\"domain\": [0.0, 0.2333333333333333], \"anchor\": \"y13\", \"showticklabels\": false}, \"yaxis13\": {\"domain\": [0.0, 0.16], \"anchor\": \"x13\", \"ticklen\": 3, \"tickfont\": {\"size\": 11, \"color\": \"lightgrey\"}}, \"xaxis14\": {\"domain\": [0.3833333333333333, 0.6166666666666666], \"anchor\": \"y14\", \"showticklabels\": false}, \"yaxis14\": {\"domain\": [0.0, 0.16], \"anchor\": \"x14\", \"ticklen\": 3, \"tickfont\": {\"size\": 11, \"color\": \"lightgrey\"}}, \"xaxis15\": {\"domain\": [0.7666666666666666, 0.9999999999999999], \"anchor\": \"y15\", \"showticklabels\": false}, \"yaxis15\": {\"domain\": [0.0, 0.16], \"anchor\": \"x15\", \"ticklen\": 3, \"tickfont\": {\"size\": 11, \"color\": \"lightgrey\"}}, \"annotations\": [{\"y\": 1.0, \"xref\": \"paper\", \"x\": 0.11666666666666665, \"yref\": \"paper\", \"text\": \"sensor\", \"showarrow\": false, \"font\": {\"size\": 16}, \"xanchor\": \"center\", \"yanchor\": \"bottom\"}, {\"y\": 1.0, \"xref\": \"paper\", \"x\": 0.49999999999999994, \"yref\": \"paper\", \"text\": \"patient\", \"showarrow\": false, \"font\": {\"size\": 16}, \"xanchor\": \"center\", \"yanchor\": \"bottom\"}, {\"y\": 1.0, \"xref\": \"paper\", \"x\": 0.8833333333333333, \"yref\": \"paper\", \"text\": \"image\", \"showarrow\": false, \"font\": {\"size\": 16}, \"xanchor\": \"center\", \"yanchor\": \"bottom\"}, {\"y\": 0.79, \"xref\": \"paper\", \"x\": 0.11666666666666665, \"yref\": \"paper\", \"text\": \"user\", \"showarrow\": false, \"font\": {\"size\": 16}, \"xanchor\": \"center\", \"yanchor\": \"bottom\"}, {\"y\": 0.79, \"xref\": \"paper\", \"x\": 0.49999999999999994, \"yref\": \"paper\", \"text\": \"node\", \"showarrow\": false, \"font\": {\"size\": 16}, \"xanchor\": \"center\", \"yanchor\": \"bottom\"}, {\"y\": 0.79, \"xref\": \"paper\", \"x\": 0.8833333333333333, \"yref\": \"paper\", \"text\": \"rule\", \"showarrow\": false, \"font\": {\"size\": 16}, \"xanchor\": \"center\", \"yanchor\": \"bottom\"}, {\"y\": 0.5800000000000001, \"xref\": \"paper\", \"x\": 0.11666666666666665, \"yref\": \"paper\", \"text\": \"code\", \"showarrow\": false, \"font\": {\"size\": 16}, \"xanchor\": \"center\", \"yanchor\": \"bottom\"}, {\"y\": 0.5800000000000001, \"xref\": \"paper\", \"x\": 0.49999999999999994, \"yref\": \"paper\", \"text\": \"channel\", \"showarrow\": false, \"font\": {\"size\": 16}, \"xanchor\": \"center\", \"yanchor\": \"bottom\"}, {\"y\": 0.5800000000000001, \"xref\": \"paper\", \"x\": 0.8833333333333333, \"yref\": \"paper\", \"text\": \"graph\", \"showarrow\": false, \"font\": {\"size\": 16}, \"xanchor\": \"center\", \"yanchor\": \"bottom\"}, {\"y\": 0.37, \"xref\": \"paper\", \"x\": 0.11666666666666665, \"yref\": \"paper\", \"text\": \"word\", \"showarrow\": false, \"font\": {\"size\": 16}, \"xanchor\": \"center\", \"yanchor\": \"bottom\"}, {\"y\": 0.37, \"xref\": \"paper\", \"x\": 0.49999999999999994, \"yref\": \"paper\", \"text\": \"agent\", \"showarrow\": false, \"font\": {\"size\": 16}, \"xanchor\": \"center\", \"yanchor\": \"bottom\"}, {\"y\": 0.37, \"xref\": \"paper\", \"x\": 0.8833333333333333, \"yref\": \"paper\", \"text\": \"matrix\", \"showarrow\": false, \"font\": {\"size\": 16}, \"xanchor\": \"center\", \"yanchor\": \"bottom\"}, {\"y\": 0.16, \"xref\": \"paper\", \"x\": 0.11666666666666665, \"yref\": \"paper\", \"text\": \"training\", \"showarrow\": false, \"font\": {\"size\": 16}, \"xanchor\": \"center\", \"yanchor\": \"bottom\"}, {\"y\": 0.16, \"xref\": \"paper\", \"x\": 0.49999999999999994, \"yref\": \"paper\", \"text\": \"attack\", \"showarrow\": false, \"font\": {\"size\": 16}, \"xanchor\": \"center\", \"yanchor\": \"bottom\"}, {\"y\": 0.16, \"xref\": \"paper\", \"x\": 0.8833333333333333, \"yref\": \"paper\", \"text\": \"group\", \"showarrow\": false, \"font\": {\"size\": 16}, \"xanchor\": \"center\", \"yanchor\": \"bottom\"}], \"height\": 750, \"width\": 750, \"showlegend\": false, \"title\": \"\", \"margin\": {\"t\": 120}}, {\"showLink\": false, \"linkText\": \"Export to plot.ly\"})});</script>"
      ]
     },
     "metadata": {},
     "output_type": "display_data"
    }
   ],
   "source": [
    "draw_barchart(volume) # volume topics"
   ]
  },
  {
   "cell_type": "code",
   "execution_count": 7,
   "metadata": {},
   "outputs": [
    {
     "data": {
      "text/markdown": [
       "\n",
       "| Topic title | Articles |\n",
       "| --- | --- |\n",
       "| sensor, robot | [1707.07467](https://arxiv.org/pdf/1707.07467.pdf)&nbsp;&nbsp;&nbsp;&nbsp;[1708.03878](https://arxiv.org/pdf/1708.03878.pdf)&nbsp;&nbsp;&nbsp;&nbsp;[1705.02755](https://arxiv.org/pdf/1705.02755.pdf)&nbsp;&nbsp;&nbsp;&nbsp;[1710.03064](https://arxiv.org/pdf/1710.03064.pdf)&nbsp;&nbsp;&nbsp;&nbsp;[1704.01893](https://arxiv.org/pdf/1704.01893.pdf)&nbsp;&nbsp;&nbsp;&nbsp; |\n",
       "| patient, distance | [1701.03173](https://arxiv.org/pdf/1701.03173.pdf)&nbsp;&nbsp;&nbsp;&nbsp;[1701.05013](https://arxiv.org/pdf/1701.05013.pdf)&nbsp;&nbsp;&nbsp;&nbsp;[1710.06854](https://arxiv.org/pdf/1710.06854.pdf)&nbsp;&nbsp;&nbsp;&nbsp;[1701.04869](https://arxiv.org/pdf/1701.04869.pdf)&nbsp;&nbsp;&nbsp;&nbsp;[1702.07985](https://arxiv.org/pdf/1702.07985.pdf)&nbsp;&nbsp;&nbsp;&nbsp; |\n",
       "| image, dataset | [1705.04641](https://arxiv.org/pdf/1705.04641.pdf)&nbsp;&nbsp;&nbsp;&nbsp;[1704.00763](https://arxiv.org/pdf/1704.00763.pdf)&nbsp;&nbsp;&nbsp;&nbsp;[1705.04433](https://arxiv.org/pdf/1705.04433.pdf)&nbsp;&nbsp;&nbsp;&nbsp;[1704.02602](https://arxiv.org/pdf/1704.02602.pdf)&nbsp;&nbsp;&nbsp;&nbsp;[1701.00723](https://arxiv.org/pdf/1701.00723.pdf)&nbsp;&nbsp;&nbsp;&nbsp; |\n",
       "| user, dataset | [1708.07289](https://arxiv.org/pdf/1708.07289.pdf)&nbsp;&nbsp;&nbsp;&nbsp;[1711.01198](https://arxiv.org/pdf/1711.01198.pdf)&nbsp;&nbsp;&nbsp;&nbsp;[1705.04504](https://arxiv.org/pdf/1705.04504.pdf)&nbsp;&nbsp;&nbsp;&nbsp;[1711.03697](https://arxiv.org/pdf/1711.03697.pdf)&nbsp;&nbsp;&nbsp;&nbsp;[1709.05288](https://arxiv.org/pdf/1709.05288.pdf)&nbsp;&nbsp;&nbsp;&nbsp; |\n",
       "| node, graph | [1702.04850](https://arxiv.org/pdf/1702.04850.pdf)&nbsp;&nbsp;&nbsp;&nbsp;[1705.06024](https://arxiv.org/pdf/1705.06024.pdf)&nbsp;&nbsp;&nbsp;&nbsp;[1702.02321](https://arxiv.org/pdf/1702.02321.pdf)&nbsp;&nbsp;&nbsp;&nbsp;[1706.03992](https://arxiv.org/pdf/1706.03992.pdf)&nbsp;&nbsp;&nbsp;&nbsp;[1703.06746](https://arxiv.org/pdf/1703.06746.pdf)&nbsp;&nbsp;&nbsp;&nbsp; |\n",
       "| rule, program | [1704.01814](https://arxiv.org/pdf/1704.01814.pdf)&nbsp;&nbsp;&nbsp;&nbsp;[1708.07226](https://arxiv.org/pdf/1708.07226.pdf)&nbsp;&nbsp;&nbsp;&nbsp;[1709.04763](https://arxiv.org/pdf/1709.04763.pdf)&nbsp;&nbsp;&nbsp;&nbsp;[1706.08355](https://arxiv.org/pdf/1706.08355.pdf)&nbsp;&nbsp;&nbsp;&nbsp;[1701.04290](https://arxiv.org/pdf/1701.04290.pdf)&nbsp;&nbsp;&nbsp;&nbsp; |\n",
       "| code, operation | [1704.01893](https://arxiv.org/pdf/1704.01893.pdf)&nbsp;&nbsp;&nbsp;&nbsp;[1705.07867](https://arxiv.org/pdf/1705.07867.pdf)&nbsp;&nbsp;&nbsp;&nbsp;[1701.04954](https://arxiv.org/pdf/1701.04954.pdf)&nbsp;&nbsp;&nbsp;&nbsp;[1709.05281](https://arxiv.org/pdf/1709.05281.pdf)&nbsp;&nbsp;&nbsp;&nbsp;[1712.06435](https://arxiv.org/pdf/1712.06435.pdf)&nbsp;&nbsp;&nbsp;&nbsp; |\n",
       "| channel, user | [1705.04504](https://arxiv.org/pdf/1705.04504.pdf)&nbsp;&nbsp;&nbsp;&nbsp;[1708.04444](https://arxiv.org/pdf/1708.04444.pdf)&nbsp;&nbsp;&nbsp;&nbsp;[1711.01198](https://arxiv.org/pdf/1711.01198.pdf)&nbsp;&nbsp;&nbsp;&nbsp;[1709.00112](https://arxiv.org/pdf/1709.00112.pdf)&nbsp;&nbsp;&nbsp;&nbsp;[1706.03342](https://arxiv.org/pdf/1706.03342.pdf)&nbsp;&nbsp;&nbsp;&nbsp; |\n",
       "| graph, proof | [1702.05633](https://arxiv.org/pdf/1702.05633.pdf)&nbsp;&nbsp;&nbsp;&nbsp;[1703.06746](https://arxiv.org/pdf/1703.06746.pdf)&nbsp;&nbsp;&nbsp;&nbsp;[1710.00635](https://arxiv.org/pdf/1710.00635.pdf)&nbsp;&nbsp;&nbsp;&nbsp;[1706.09043](https://arxiv.org/pdf/1706.09043.pdf)&nbsp;&nbsp;&nbsp;&nbsp;[1703.00237](https://arxiv.org/pdf/1703.00237.pdf)&nbsp;&nbsp;&nbsp;&nbsp; |\n",
       "| word, sentence | [1708.03390](https://arxiv.org/pdf/1708.03390.pdf)&nbsp;&nbsp;&nbsp;&nbsp;[1712.02820](https://arxiv.org/pdf/1712.02820.pdf)&nbsp;&nbsp;&nbsp;&nbsp;[1704.00898](https://arxiv.org/pdf/1704.00898.pdf)&nbsp;&nbsp;&nbsp;&nbsp;[1701.04290](https://arxiv.org/pdf/1701.04290.pdf)&nbsp;&nbsp;&nbsp;&nbsp;[1708.02989](https://arxiv.org/pdf/1708.02989.pdf)&nbsp;&nbsp;&nbsp;&nbsp; |\n",
       "| agent, control | [1701.04871](https://arxiv.org/pdf/1701.04871.pdf)&nbsp;&nbsp;&nbsp;&nbsp;[1705.02755](https://arxiv.org/pdf/1705.02755.pdf)&nbsp;&nbsp;&nbsp;&nbsp;[1707.07467](https://arxiv.org/pdf/1707.07467.pdf)&nbsp;&nbsp;&nbsp;&nbsp;[1704.08350](https://arxiv.org/pdf/1704.08350.pdf)&nbsp;&nbsp;&nbsp;&nbsp;[1708.06233](https://arxiv.org/pdf/1708.06233.pdf)&nbsp;&nbsp;&nbsp;&nbsp; |\n",
       "| matrix, theorem | [1712.07196](https://arxiv.org/pdf/1712.07196.pdf)&nbsp;&nbsp;&nbsp;&nbsp;[1703.00048](https://arxiv.org/pdf/1703.00048.pdf)&nbsp;&nbsp;&nbsp;&nbsp;[1701.05530](https://arxiv.org/pdf/1701.05530.pdf)&nbsp;&nbsp;&nbsp;&nbsp;[1701.04271](https://arxiv.org/pdf/1701.04271.pdf)&nbsp;&nbsp;&nbsp;&nbsp;[1710.08223](https://arxiv.org/pdf/1710.08223.pdf)&nbsp;&nbsp;&nbsp;&nbsp; |\n",
       "| training, learning | [1709.06709](https://arxiv.org/pdf/1709.06709.pdf)&nbsp;&nbsp;&nbsp;&nbsp;[1711.06500](https://arxiv.org/pdf/1711.06500.pdf)&nbsp;&nbsp;&nbsp;&nbsp;[1702.08675](https://arxiv.org/pdf/1702.08675.pdf)&nbsp;&nbsp;&nbsp;&nbsp;[1711.07131](https://arxiv.org/pdf/1711.07131.pdf)&nbsp;&nbsp;&nbsp;&nbsp;[1702.03505](https://arxiv.org/pdf/1702.03505.pdf)&nbsp;&nbsp;&nbsp;&nbsp; |\n",
       "| attack, server | [1711.01198](https://arxiv.org/pdf/1711.01198.pdf)&nbsp;&nbsp;&nbsp;&nbsp;[1702.07140](https://arxiv.org/pdf/1702.07140.pdf)&nbsp;&nbsp;&nbsp;&nbsp;[1703.00374](https://arxiv.org/pdf/1703.00374.pdf)&nbsp;&nbsp;&nbsp;&nbsp;[1709.00112](https://arxiv.org/pdf/1709.00112.pdf)&nbsp;&nbsp;&nbsp;&nbsp;[1712.07694](https://arxiv.org/pdf/1712.07694.pdf)&nbsp;&nbsp;&nbsp;&nbsp; |\n",
       "| group, science | [1711.08637](https://arxiv.org/pdf/1711.08637.pdf)&nbsp;&nbsp;&nbsp;&nbsp;[1712.03012](https://arxiv.org/pdf/1712.03012.pdf)&nbsp;&nbsp;&nbsp;&nbsp;[1712.02448](https://arxiv.org/pdf/1712.02448.pdf)&nbsp;&nbsp;&nbsp;&nbsp;[1701.05747](https://arxiv.org/pdf/1701.05747.pdf)&nbsp;&nbsp;&nbsp;&nbsp;[1708.07289](https://arxiv.org/pdf/1708.07289.pdf)&nbsp;&nbsp;&nbsp;&nbsp; |\n"
      ],
      "text/plain": [
       "<IPython.core.display.Markdown object>"
      ]
     },
     "metadata": {},
     "output_type": "display_data"
    }
   ],
   "source": [
    "lda_articles(volume) # topic articles"
   ]
  },
  {
   "cell_type": "code",
   "execution_count": 5,
   "metadata": {},
   "outputs": [
    {
     "data": {
      "text/markdown": [
       "\n",
       "| <center>Author(s)<center> | <center>Year<center> | <center>Ref. count<center> |\n",
       "| --- | --- | --- |\n",
       "|<center>Y. LeCun, Y. Bengio, G. Hinton</center>|<center>7553</center>|<center>21</center>|\n",
       "|<center>L. Breiman</center>|<center>1</center>|<center>15</center>|\n",
       "|<center>C. Cortes, V. Vapnik</center>|<center>3</center>|<center>9</center>|\n",
       "|<center>Y. Wu, J. Lim, H. Yang</center>|<center>9</center>|<center>5</center>|\n",
       "|<center>D. J. Watts, S. H. Strogatz</center>|<center>1998</center>|<center>5</center>|\n",
       "|<center>Y. LeCun, Y. Bengio, G. Hinton</center>|<center>2015</center>|<center>5</center>|\n",
       "|<center>G. Deep</center>|<center>2015</center>|<center>4</center>|\n",
       "|<center>L. Barab, R. Albert</center>|<center>1999</center>|<center>4</center>|\n",
       "|<center>F. Chollet</center>|<center>2015</center>|<center>4</center>|\n",
       "|<center>T. Fawcett</center>|<center>8</center>|<center>4</center>|\n",
       "|<center>V. Giovannetti, S. Lloyd, L. Maccone</center>|<center>2008</center>|<center>3</center>|\n",
       "|<center>T. P. Peixoto</center>|<center>2014</center>|<center>3</center>|\n",
       "|<center>M. F. Porter</center>|<center>3</center>|<center>3</center>|\n",
       "|<center>L. Breiman</center>|<center>2</center>|<center>3</center>|\n",
       "|<center>H. Steinhaus</center>|<center>1</center>|<center>3</center>|\n"
      ],
      "text/plain": [
       "<IPython.core.display.Markdown object>"
      ]
     },
     "metadata": {},
     "output_type": "display_data"
    }
   ],
   "source": [
    "citied_articles(volume, n_cites=15)"
   ]
  },
  {
   "cell_type": "code",
   "execution_count": 4,
   "metadata": {
    "scrolled": false
   },
   "outputs": [
    {
     "data": {
      "application/vnd.plotly.v1+json": {
       "data": [
        {
         "hoverinfo": "text",
         "marker": {
          "color": "blue"
         },
         "orientation": "h",
         "text": [
          28,
          13,
          13,
          10
         ],
         "type": "bar",
         "x": [
          28,
          13,
          13,
          10
         ],
         "xaxis": "x1",
         "y": [
          "Pieter Abbeel",
          "Muaz A. Niazi",
          "Sergey Levine",
          "Devi Parikh"
         ],
         "yaxis": "y1"
        },
        {
         "hoverinfo": "text",
         "marker": {
          "color": "blue"
         },
         "orientation": "h",
         "text": [
          17,
          17,
          14,
          13
         ],
         "type": "bar",
         "x": [
          17,
          17,
          14,
          13
         ],
         "xaxis": "x2",
         "y": [
          "Graham Neubig",
          "Pushpak Bhattacharyya",
          "Richard Socher",
          "Chris Dyer"
         ],
         "yaxis": "y2"
        },
        {
         "hoverinfo": "text",
         "marker": {
          "color": "blue"
         },
         "orientation": "h",
         "text": [
          12,
          10,
          10,
          10
         ],
         "type": "bar",
         "x": [
          12,
          10,
          10,
          10
         ],
         "xaxis": "x3",
         "y": [
          "Ali Dehghantanha",
          "Yuval Elovici",
          "Nalin Asanka Gamagedara Arachchilage",
          "Christophe Guyeux"
         ],
         "yaxis": "y3"
        },
        {
         "hoverinfo": "text",
         "marker": {
          "color": "blue"
         },
         "orientation": "h",
         "text": [
          39,
          28,
          24,
          24
         ],
         "type": "bar",
         "x": [
          39,
          28,
          24,
          24
         ],
         "xaxis": "x4",
         "y": [
          "Luc Van Gool",
          "Ming-Hsuan Yang",
          "Chunhua Shen",
          "Xiaogang Wang"
         ],
         "yaxis": "y4"
        },
        {
         "hoverinfo": "text",
         "marker": {
          "color": "blue"
         },
         "orientation": "h",
         "text": [
          12,
          10,
          9,
          8
         ],
         "type": "bar",
         "x": [
          12,
          10,
          9,
          8
         ],
         "xaxis": "x5",
         "y": [
          "Rajkumar Buyya",
          "Andrzej Pelc",
          "Ruben Mayer",
          "Zheng Li"
         ],
         "yaxis": "y5"
        },
        {
         "hoverinfo": "text",
         "marker": {
          "color": "blue"
         },
         "orientation": "h",
         "text": [
          13,
          11,
          10,
          10
         ],
         "type": "bar",
         "x": [
          13,
          11,
          10,
          10
         ],
         "xaxis": "x6",
         "y": [
          "Saket Saurabh",
          "David P. Woodruff",
          "Christian Schulz",
          "Mohsen Ghaffari"
         ],
         "yaxis": "y6"
        },
        {
         "hoverinfo": "text",
         "marker": {
          "color": "blue"
         },
         "orientation": "h",
         "text": [
          29,
          28,
          25,
          21
         ],
         "type": "bar",
         "x": [
          29,
          28,
          25,
          21
         ],
         "xaxis": "x7",
         "y": [
          "Robert Schober",
          "Walid Saad",
          "H. Vincent Poor",
          "Zhiguo Ding"
         ],
         "yaxis": "y7"
        },
        {
         "hoverinfo": "text",
         "marker": {
          "color": "blue"
         },
         "orientation": "h",
         "text": [
          31,
          21,
          20,
          15
         ],
         "type": "bar",
         "x": [
          31,
          21,
          20,
          15
         ],
         "xaxis": "x8",
         "y": [
          "Pieter Abbeel",
          "Sergey Levine",
          "Yoshua Bengio",
          "Ruslan Salakhutdinov"
         ],
         "yaxis": "y8"
        },
        {
         "hoverinfo": "text",
         "marker": {
          "color": "blue"
         },
         "orientation": "h",
         "text": [
          17,
          13,
          12,
          11
         ],
         "type": "bar",
         "x": [
          17,
          13,
          12,
          11
         ],
         "xaxis": "x9",
         "y": [
          "Ming Ding",
          "Guoqiang Mao",
          "Hans D. Schotten",
          "Dusit Niyato"
         ],
         "yaxis": "y9"
        },
        {
         "hoverinfo": "text",
         "marker": {
          "color": "blue"
         },
         "orientation": "h",
         "text": [
          23,
          20,
          17,
          14
         ],
         "type": "bar",
         "x": [
          23,
          20,
          17,
          14
         ],
         "xaxis": "x10",
         "y": [
          "Sergey Levine",
          "Pieter Abbeel",
          "Roland Siegwart",
          "Wolfram Burgard"
         ],
         "yaxis": "y10"
        }
       ],
       "layout": {
        "annotations": [
         {
          "font": {
           "size": 16
          },
          "showarrow": false,
          "text": "AI",
          "x": 0.1625,
          "xanchor": "center",
          "xref": "paper",
          "y": 1,
          "yanchor": "bottom",
          "yref": "paper"
         },
         {
          "font": {
           "size": 16
          },
          "showarrow": false,
          "text": "CL",
          "x": 0.8375,
          "xanchor": "center",
          "xref": "paper",
          "y": 1,
          "yanchor": "bottom",
          "yref": "paper"
         },
         {
          "font": {
           "size": 16
          },
          "showarrow": false,
          "text": "CR",
          "x": 0.1625,
          "xanchor": "center",
          "xref": "paper",
          "y": 0.782,
          "yanchor": "bottom",
          "yref": "paper"
         },
         {
          "font": {
           "size": 16
          },
          "showarrow": false,
          "text": "CV",
          "x": 0.8375,
          "xanchor": "center",
          "xref": "paper",
          "y": 0.782,
          "yanchor": "bottom",
          "yref": "paper"
         },
         {
          "font": {
           "size": 16
          },
          "showarrow": false,
          "text": "DC",
          "x": 0.1625,
          "xanchor": "center",
          "xref": "paper",
          "y": 0.5640000000000001,
          "yanchor": "bottom",
          "yref": "paper"
         },
         {
          "font": {
           "size": 16
          },
          "showarrow": false,
          "text": "DS",
          "x": 0.8375,
          "xanchor": "center",
          "xref": "paper",
          "y": 0.5640000000000001,
          "yanchor": "bottom",
          "yref": "paper"
         },
         {
          "font": {
           "size": 16
          },
          "showarrow": false,
          "text": "IT",
          "x": 0.1625,
          "xanchor": "center",
          "xref": "paper",
          "y": 0.346,
          "yanchor": "bottom",
          "yref": "paper"
         },
         {
          "font": {
           "size": 16
          },
          "showarrow": false,
          "text": "LG",
          "x": 0.8375,
          "xanchor": "center",
          "xref": "paper",
          "y": 0.346,
          "yanchor": "bottom",
          "yref": "paper"
         },
         {
          "font": {
           "size": 16
          },
          "showarrow": false,
          "text": "NI",
          "x": 0.1625,
          "xanchor": "center",
          "xref": "paper",
          "y": 0.128,
          "yanchor": "bottom",
          "yref": "paper"
         },
         {
          "font": {
           "size": 16
          },
          "showarrow": false,
          "text": "RO",
          "x": 0.8375,
          "xanchor": "center",
          "xref": "paper",
          "y": 0.128,
          "yanchor": "bottom",
          "yref": "paper"
         },
         {
          "font": {
           "color": "lightgrey",
           "size": 11
          },
          "showarrow": false,
          "text": 28,
          "x": 28,
          "xanchor": "left",
          "xref": "x1",
          "y": "Pieter Abbeel",
          "yref": "y1"
         },
         {
          "font": {
           "color": "lightgrey",
           "size": 11
          },
          "showarrow": false,
          "text": 13,
          "x": 13,
          "xanchor": "left",
          "xref": "x1",
          "y": "Muaz A. Niazi",
          "yref": "y1"
         },
         {
          "font": {
           "color": "lightgrey",
           "size": 11
          },
          "showarrow": false,
          "text": 13,
          "x": 13,
          "xanchor": "left",
          "xref": "x1",
          "y": "Sergey Levine",
          "yref": "y1"
         },
         {
          "font": {
           "color": "lightgrey",
           "size": 11
          },
          "showarrow": false,
          "text": 10,
          "x": 10,
          "xanchor": "left",
          "xref": "x1",
          "y": "Devi Parikh",
          "yref": "y1"
         },
         {
          "font": {
           "color": "lightgrey",
           "size": 11
          },
          "showarrow": false,
          "text": 17,
          "x": 17,
          "xanchor": "left",
          "xref": "x2",
          "y": "Graham Neubig",
          "yref": "y2"
         },
         {
          "font": {
           "color": "lightgrey",
           "size": 11
          },
          "showarrow": false,
          "text": 17,
          "x": 17,
          "xanchor": "left",
          "xref": "x2",
          "y": "Pushpak Bhattacharyya",
          "yref": "y2"
         },
         {
          "font": {
           "color": "lightgrey",
           "size": 11
          },
          "showarrow": false,
          "text": 14,
          "x": 14,
          "xanchor": "left",
          "xref": "x2",
          "y": "Richard Socher",
          "yref": "y2"
         },
         {
          "font": {
           "color": "lightgrey",
           "size": 11
          },
          "showarrow": false,
          "text": 13,
          "x": 13,
          "xanchor": "left",
          "xref": "x2",
          "y": "Chris Dyer",
          "yref": "y2"
         },
         {
          "font": {
           "color": "lightgrey",
           "size": 11
          },
          "showarrow": false,
          "text": 12,
          "x": 12,
          "xanchor": "left",
          "xref": "x3",
          "y": "Ali Dehghantanha",
          "yref": "y3"
         },
         {
          "font": {
           "color": "lightgrey",
           "size": 11
          },
          "showarrow": false,
          "text": 10,
          "x": 10,
          "xanchor": "left",
          "xref": "x3",
          "y": "Yuval Elovici",
          "yref": "y3"
         },
         {
          "font": {
           "color": "lightgrey",
           "size": 11
          },
          "showarrow": false,
          "text": 10,
          "x": 10,
          "xanchor": "left",
          "xref": "x3",
          "y": "Nalin Asanka Gamagedara Arachchilage",
          "yref": "y3"
         },
         {
          "font": {
           "color": "lightgrey",
           "size": 11
          },
          "showarrow": false,
          "text": 10,
          "x": 10,
          "xanchor": "left",
          "xref": "x3",
          "y": "Christophe Guyeux",
          "yref": "y3"
         },
         {
          "font": {
           "color": "lightgrey",
           "size": 11
          },
          "showarrow": false,
          "text": 39,
          "x": 39,
          "xanchor": "left",
          "xref": "x4",
          "y": "Luc Van Gool",
          "yref": "y4"
         },
         {
          "font": {
           "color": "lightgrey",
           "size": 11
          },
          "showarrow": false,
          "text": 28,
          "x": 28,
          "xanchor": "left",
          "xref": "x4",
          "y": "Ming-Hsuan Yang",
          "yref": "y4"
         },
         {
          "font": {
           "color": "lightgrey",
           "size": 11
          },
          "showarrow": false,
          "text": 24,
          "x": 24,
          "xanchor": "left",
          "xref": "x4",
          "y": "Chunhua Shen",
          "yref": "y4"
         },
         {
          "font": {
           "color": "lightgrey",
           "size": 11
          },
          "showarrow": false,
          "text": 24,
          "x": 24,
          "xanchor": "left",
          "xref": "x4",
          "y": "Xiaogang Wang",
          "yref": "y4"
         },
         {
          "font": {
           "color": "lightgrey",
           "size": 11
          },
          "showarrow": false,
          "text": 12,
          "x": 12,
          "xanchor": "left",
          "xref": "x5",
          "y": "Rajkumar Buyya",
          "yref": "y5"
         },
         {
          "font": {
           "color": "lightgrey",
           "size": 11
          },
          "showarrow": false,
          "text": 10,
          "x": 10,
          "xanchor": "left",
          "xref": "x5",
          "y": "Andrzej Pelc",
          "yref": "y5"
         },
         {
          "font": {
           "color": "lightgrey",
           "size": 11
          },
          "showarrow": false,
          "text": 9,
          "x": 9,
          "xanchor": "left",
          "xref": "x5",
          "y": "Ruben Mayer",
          "yref": "y5"
         },
         {
          "font": {
           "color": "lightgrey",
           "size": 11
          },
          "showarrow": false,
          "text": 8,
          "x": 8,
          "xanchor": "left",
          "xref": "x5",
          "y": "Zheng Li",
          "yref": "y5"
         },
         {
          "font": {
           "color": "lightgrey",
           "size": 11
          },
          "showarrow": false,
          "text": 13,
          "x": 13,
          "xanchor": "left",
          "xref": "x6",
          "y": "Saket Saurabh",
          "yref": "y6"
         },
         {
          "font": {
           "color": "lightgrey",
           "size": 11
          },
          "showarrow": false,
          "text": 11,
          "x": 11,
          "xanchor": "left",
          "xref": "x6",
          "y": "David P. Woodruff",
          "yref": "y6"
         },
         {
          "font": {
           "color": "lightgrey",
           "size": 11
          },
          "showarrow": false,
          "text": 10,
          "x": 10,
          "xanchor": "left",
          "xref": "x6",
          "y": "Christian Schulz",
          "yref": "y6"
         },
         {
          "font": {
           "color": "lightgrey",
           "size": 11
          },
          "showarrow": false,
          "text": 10,
          "x": 10,
          "xanchor": "left",
          "xref": "x6",
          "y": "Mohsen Ghaffari",
          "yref": "y6"
         },
         {
          "font": {
           "color": "lightgrey",
           "size": 11
          },
          "showarrow": false,
          "text": 29,
          "x": 29,
          "xanchor": "left",
          "xref": "x7",
          "y": "Robert Schober",
          "yref": "y7"
         },
         {
          "font": {
           "color": "lightgrey",
           "size": 11
          },
          "showarrow": false,
          "text": 28,
          "x": 28,
          "xanchor": "left",
          "xref": "x7",
          "y": "Walid Saad",
          "yref": "y7"
         },
         {
          "font": {
           "color": "lightgrey",
           "size": 11
          },
          "showarrow": false,
          "text": 25,
          "x": 25,
          "xanchor": "left",
          "xref": "x7",
          "y": "H. Vincent Poor",
          "yref": "y7"
         },
         {
          "font": {
           "color": "lightgrey",
           "size": 11
          },
          "showarrow": false,
          "text": 21,
          "x": 21,
          "xanchor": "left",
          "xref": "x7",
          "y": "Zhiguo Ding",
          "yref": "y7"
         },
         {
          "font": {
           "color": "lightgrey",
           "size": 11
          },
          "showarrow": false,
          "text": 31,
          "x": 31,
          "xanchor": "left",
          "xref": "x8",
          "y": "Pieter Abbeel",
          "yref": "y8"
         },
         {
          "font": {
           "color": "lightgrey",
           "size": 11
          },
          "showarrow": false,
          "text": 21,
          "x": 21,
          "xanchor": "left",
          "xref": "x8",
          "y": "Sergey Levine",
          "yref": "y8"
         },
         {
          "font": {
           "color": "lightgrey",
           "size": 11
          },
          "showarrow": false,
          "text": 20,
          "x": 20,
          "xanchor": "left",
          "xref": "x8",
          "y": "Yoshua Bengio",
          "yref": "y8"
         },
         {
          "font": {
           "color": "lightgrey",
           "size": 11
          },
          "showarrow": false,
          "text": 15,
          "x": 15,
          "xanchor": "left",
          "xref": "x8",
          "y": "Ruslan Salakhutdinov",
          "yref": "y8"
         },
         {
          "font": {
           "color": "lightgrey",
           "size": 11
          },
          "showarrow": false,
          "text": 17,
          "x": 17,
          "xanchor": "left",
          "xref": "x9",
          "y": "Ming Ding",
          "yref": "y9"
         },
         {
          "font": {
           "color": "lightgrey",
           "size": 11
          },
          "showarrow": false,
          "text": 13,
          "x": 13,
          "xanchor": "left",
          "xref": "x9",
          "y": "Guoqiang Mao",
          "yref": "y9"
         },
         {
          "font": {
           "color": "lightgrey",
           "size": 11
          },
          "showarrow": false,
          "text": 12,
          "x": 12,
          "xanchor": "left",
          "xref": "x9",
          "y": "Hans D. Schotten",
          "yref": "y9"
         },
         {
          "font": {
           "color": "lightgrey",
           "size": 11
          },
          "showarrow": false,
          "text": 11,
          "x": 11,
          "xanchor": "left",
          "xref": "x9",
          "y": "Dusit Niyato",
          "yref": "y9"
         },
         {
          "font": {
           "color": "lightgrey",
           "size": 11
          },
          "showarrow": false,
          "text": 23,
          "x": 23,
          "xanchor": "left",
          "xref": "x10",
          "y": "Sergey Levine",
          "yref": "y10"
         },
         {
          "font": {
           "color": "lightgrey",
           "size": 11
          },
          "showarrow": false,
          "text": 20,
          "x": 20,
          "xanchor": "left",
          "xref": "x10",
          "y": "Pieter Abbeel",
          "yref": "y10"
         },
         {
          "font": {
           "color": "lightgrey",
           "size": 11
          },
          "showarrow": false,
          "text": 17,
          "x": 17,
          "xanchor": "left",
          "xref": "x10",
          "y": "Roland Siegwart",
          "yref": "y10"
         },
         {
          "font": {
           "color": "lightgrey",
           "size": 11
          },
          "showarrow": false,
          "text": 14,
          "x": 14,
          "xanchor": "left",
          "xref": "x10",
          "y": "Wolfram Burgard",
          "yref": "y10"
         }
        ],
        "height": 750,
        "margin": {
         "b": 30,
         "l": 140,
         "t": 60
        },
        "showlegend": false,
        "title": "",
        "width": 700,
        "xaxis1": {
         "anchor": "y1",
         "domain": [
          0,
          0.325
         ],
         "showgrid": false,
         "showticklabels": false
        },
        "xaxis10": {
         "anchor": "y10",
         "domain": [
          0.675,
          1
         ],
         "showgrid": false,
         "showticklabels": false
        },
        "xaxis2": {
         "anchor": "y2",
         "domain": [
          0.675,
          1
         ],
         "showgrid": false,
         "showticklabels": false
        },
        "xaxis3": {
         "anchor": "y3",
         "domain": [
          0,
          0.325
         ],
         "showgrid": false,
         "showticklabels": false
        },
        "xaxis4": {
         "anchor": "y4",
         "domain": [
          0.675,
          1
         ],
         "showgrid": false,
         "showticklabels": false
        },
        "xaxis5": {
         "anchor": "y5",
         "domain": [
          0,
          0.325
         ],
         "showgrid": false,
         "showticklabels": false
        },
        "xaxis6": {
         "anchor": "y6",
         "domain": [
          0.675,
          1
         ],
         "showgrid": false,
         "showticklabels": false
        },
        "xaxis7": {
         "anchor": "y7",
         "domain": [
          0,
          0.325
         ],
         "showgrid": false,
         "showticklabels": false
        },
        "xaxis8": {
         "anchor": "y8",
         "domain": [
          0.675,
          1
         ],
         "showgrid": false,
         "showticklabels": false
        },
        "xaxis9": {
         "anchor": "y9",
         "domain": [
          0,
          0.325
         ],
         "showgrid": false,
         "showticklabels": false
        },
        "yaxis1": {
         "anchor": "x1",
         "autorange": "reversed",
         "domain": [
          0.872,
          1
         ],
         "tickfont": {
          "color": "lightgrey",
          "size": 11
         },
         "ticklen": 3
        },
        "yaxis10": {
         "anchor": "x10",
         "autorange": "reversed",
         "domain": [
          0,
          0.128
         ],
         "tickfont": {
          "color": "lightgrey",
          "size": 11
         },
         "ticklen": 3
        },
        "yaxis2": {
         "anchor": "x2",
         "autorange": "reversed",
         "domain": [
          0.872,
          1
         ],
         "tickfont": {
          "color": "lightgrey",
          "size": 11
         },
         "ticklen": 3
        },
        "yaxis3": {
         "anchor": "x3",
         "autorange": "reversed",
         "domain": [
          0.654,
          0.782
         ],
         "tickfont": {
          "color": "lightgrey",
          "size": 11
         },
         "ticklen": 3
        },
        "yaxis4": {
         "anchor": "x4",
         "autorange": "reversed",
         "domain": [
          0.654,
          0.782
         ],
         "tickfont": {
          "color": "lightgrey",
          "size": 11
         },
         "ticklen": 3
        },
        "yaxis5": {
         "anchor": "x5",
         "autorange": "reversed",
         "domain": [
          0.436,
          0.5640000000000001
         ],
         "tickfont": {
          "color": "lightgrey",
          "size": 11
         },
         "ticklen": 3
        },
        "yaxis6": {
         "anchor": "x6",
         "autorange": "reversed",
         "domain": [
          0.436,
          0.5640000000000001
         ],
         "tickfont": {
          "color": "lightgrey",
          "size": 11
         },
         "ticklen": 3
        },
        "yaxis7": {
         "anchor": "x7",
         "autorange": "reversed",
         "domain": [
          0.218,
          0.346
         ],
         "tickfont": {
          "color": "lightgrey",
          "size": 11
         },
         "ticklen": 3
        },
        "yaxis8": {
         "anchor": "x8",
         "autorange": "reversed",
         "domain": [
          0.218,
          0.346
         ],
         "tickfont": {
          "color": "lightgrey",
          "size": 11
         },
         "ticklen": 3
        },
        "yaxis9": {
         "anchor": "x9",
         "autorange": "reversed",
         "domain": [
          0,
          0.128
         ],
         "tickfont": {
          "color": "lightgrey",
          "size": 11
         },
         "ticklen": 3
        }
       }
      },
      "text/html": [
       "<div id=\"277d9032-746d-404c-bc9c-b6b864d769b2\" style=\"height: 750px; width: 700px;\" class=\"plotly-graph-div\"></div><script type=\"text/javascript\">require([\"plotly\"], function(Plotly) { window.PLOTLYENV=window.PLOTLYENV || {};window.PLOTLYENV.BASE_URL=\"https://plot.ly\";Plotly.newPlot(\"277d9032-746d-404c-bc9c-b6b864d769b2\", [{\"type\": \"bar\", \"x\": [28, 13, 13, 10], \"y\": [\"Pieter Abbeel\", \"Muaz A. Niazi\", \"Sergey Levine\", \"Devi Parikh\"], \"hoverinfo\": \"text\", \"orientation\": \"h\", \"text\": [28, 13, 13, 10], \"marker\": {\"color\": \"blue\"}, \"xaxis\": \"x1\", \"yaxis\": \"y1\"}, {\"type\": \"bar\", \"x\": [17, 17, 14, 13], \"y\": [\"Graham Neubig\", \"Pushpak Bhattacharyya\", \"Richard Socher\", \"Chris Dyer\"], \"hoverinfo\": \"text\", \"orientation\": \"h\", \"text\": [17, 17, 14, 13], \"marker\": {\"color\": \"blue\"}, \"xaxis\": \"x2\", \"yaxis\": \"y2\"}, {\"type\": \"bar\", \"x\": [12, 10, 10, 10], \"y\": [\"Ali Dehghantanha\", \"Yuval Elovici\", \"Nalin Asanka Gamagedara Arachchilage\", \"Christophe Guyeux\"], \"hoverinfo\": \"text\", \"orientation\": \"h\", \"text\": [12, 10, 10, 10], \"marker\": {\"color\": \"blue\"}, \"xaxis\": \"x3\", \"yaxis\": \"y3\"}, {\"type\": \"bar\", \"x\": [39, 28, 24, 24], \"y\": [\"Luc Van Gool\", \"Ming-Hsuan Yang\", \"Chunhua Shen\", \"Xiaogang Wang\"], \"hoverinfo\": \"text\", \"orientation\": \"h\", \"text\": [39, 28, 24, 24], \"marker\": {\"color\": \"blue\"}, \"xaxis\": \"x4\", \"yaxis\": \"y4\"}, {\"type\": \"bar\", \"x\": [12, 10, 9, 8], \"y\": [\"Rajkumar Buyya\", \"Andrzej Pelc\", \"Ruben Mayer\", \"Zheng Li\"], \"hoverinfo\": \"text\", \"orientation\": \"h\", \"text\": [12, 10, 9, 8], \"marker\": {\"color\": \"blue\"}, \"xaxis\": \"x5\", \"yaxis\": \"y5\"}, {\"type\": \"bar\", \"x\": [13, 11, 10, 10], \"y\": [\"Saket Saurabh\", \"David P. Woodruff\", \"Christian Schulz\", \"Mohsen Ghaffari\"], \"hoverinfo\": \"text\", \"orientation\": \"h\", \"text\": [13, 11, 10, 10], \"marker\": {\"color\": \"blue\"}, \"xaxis\": \"x6\", \"yaxis\": \"y6\"}, {\"type\": \"bar\", \"x\": [29, 28, 25, 21], \"y\": [\"Robert Schober\", \"Walid Saad\", \"H. Vincent Poor\", \"Zhiguo Ding\"], \"hoverinfo\": \"text\", \"orientation\": \"h\", \"text\": [29, 28, 25, 21], \"marker\": {\"color\": \"blue\"}, \"xaxis\": \"x7\", \"yaxis\": \"y7\"}, {\"type\": \"bar\", \"x\": [31, 21, 20, 15], \"y\": [\"Pieter Abbeel\", \"Sergey Levine\", \"Yoshua Bengio\", \"Ruslan Salakhutdinov\"], \"hoverinfo\": \"text\", \"orientation\": \"h\", \"text\": [31, 21, 20, 15], \"marker\": {\"color\": \"blue\"}, \"xaxis\": \"x8\", \"yaxis\": \"y8\"}, {\"type\": \"bar\", \"x\": [17, 13, 12, 11], \"y\": [\"Ming Ding\", \"Guoqiang Mao\", \"Hans D. Schotten\", \"Dusit Niyato\"], \"hoverinfo\": \"text\", \"orientation\": \"h\", \"text\": [17, 13, 12, 11], \"marker\": {\"color\": \"blue\"}, \"xaxis\": \"x9\", \"yaxis\": \"y9\"}, {\"type\": \"bar\", \"x\": [23, 20, 17, 14], \"y\": [\"Sergey Levine\", \"Pieter Abbeel\", \"Roland Siegwart\", \"Wolfram Burgard\"], \"hoverinfo\": \"text\", \"orientation\": \"h\", \"text\": [23, 20, 17, 14], \"marker\": {\"color\": \"blue\"}, \"xaxis\": \"x10\", \"yaxis\": \"y10\"}], {\"xaxis1\": {\"domain\": [0.0, 0.325], \"anchor\": \"y1\", \"showticklabels\": false, \"showgrid\": false}, \"yaxis1\": {\"domain\": [0.872, 1.0], \"anchor\": \"x1\", \"ticklen\": 3, \"autorange\": \"reversed\", \"tickfont\": {\"size\": 11, \"color\": \"lightgrey\"}}, \"xaxis2\": {\"domain\": [0.675, 1.0], \"anchor\": \"y2\", \"showticklabels\": false, \"showgrid\": false}, \"yaxis2\": {\"domain\": [0.872, 1.0], \"anchor\": \"x2\", \"ticklen\": 3, \"autorange\": \"reversed\", \"tickfont\": {\"size\": 11, \"color\": \"lightgrey\"}}, \"xaxis3\": {\"domain\": [0.0, 0.325], \"anchor\": \"y3\", \"showticklabels\": false, \"showgrid\": false}, \"yaxis3\": {\"domain\": [0.654, 0.782], \"anchor\": \"x3\", \"ticklen\": 3, \"autorange\": \"reversed\", \"tickfont\": {\"size\": 11, \"color\": \"lightgrey\"}}, \"xaxis4\": {\"domain\": [0.675, 1.0], \"anchor\": \"y4\", \"showticklabels\": false, \"showgrid\": false}, \"yaxis4\": {\"domain\": [0.654, 0.782], \"anchor\": \"x4\", \"ticklen\": 3, \"autorange\": \"reversed\", \"tickfont\": {\"size\": 11, \"color\": \"lightgrey\"}}, \"xaxis5\": {\"domain\": [0.0, 0.325], \"anchor\": \"y5\", \"showticklabels\": false, \"showgrid\": false}, \"yaxis5\": {\"domain\": [0.436, 0.5640000000000001], \"anchor\": \"x5\", \"ticklen\": 3, \"autorange\": \"reversed\", \"tickfont\": {\"size\": 11, \"color\": \"lightgrey\"}}, \"xaxis6\": {\"domain\": [0.675, 1.0], \"anchor\": \"y6\", \"showticklabels\": false, \"showgrid\": false}, \"yaxis6\": {\"domain\": [0.436, 0.5640000000000001], \"anchor\": \"x6\", \"ticklen\": 3, \"autorange\": \"reversed\", \"tickfont\": {\"size\": 11, \"color\": \"lightgrey\"}}, \"xaxis7\": {\"domain\": [0.0, 0.325], \"anchor\": \"y7\", \"showticklabels\": false, \"showgrid\": false}, \"yaxis7\": {\"domain\": [0.218, 0.346], \"anchor\": \"x7\", \"ticklen\": 3, \"autorange\": \"reversed\", \"tickfont\": {\"size\": 11, \"color\": \"lightgrey\"}}, \"xaxis8\": {\"domain\": [0.675, 1.0], \"anchor\": \"y8\", \"showticklabels\": false, \"showgrid\": false}, \"yaxis8\": {\"domain\": [0.218, 0.346], \"anchor\": \"x8\", \"ticklen\": 3, \"autorange\": \"reversed\", \"tickfont\": {\"size\": 11, \"color\": \"lightgrey\"}}, \"xaxis9\": {\"domain\": [0.0, 0.325], \"anchor\": \"y9\", \"showticklabels\": false, \"showgrid\": false}, \"yaxis9\": {\"domain\": [0.0, 0.128], \"anchor\": \"x9\", \"ticklen\": 3, \"autorange\": \"reversed\", \"tickfont\": {\"size\": 11, \"color\": \"lightgrey\"}}, \"xaxis10\": {\"domain\": [0.675, 1.0], \"anchor\": \"y10\", \"showticklabels\": false, \"showgrid\": false}, \"yaxis10\": {\"domain\": [0.0, 0.128], \"anchor\": \"x10\", \"ticklen\": 3, \"autorange\": \"reversed\", \"tickfont\": {\"size\": 11, \"color\": \"lightgrey\"}}, \"annotations\": [{\"y\": 1.0, \"xref\": \"paper\", \"x\": 0.1625, \"yref\": \"paper\", \"text\": \"AI\", \"showarrow\": false, \"font\": {\"size\": 16}, \"xanchor\": \"center\", \"yanchor\": \"bottom\"}, {\"y\": 1.0, \"xref\": \"paper\", \"x\": 0.8375, \"yref\": \"paper\", \"text\": \"CL\", \"showarrow\": false, \"font\": {\"size\": 16}, \"xanchor\": \"center\", \"yanchor\": \"bottom\"}, {\"y\": 0.782, \"xref\": \"paper\", \"x\": 0.1625, \"yref\": \"paper\", \"text\": \"CR\", \"showarrow\": false, \"font\": {\"size\": 16}, \"xanchor\": \"center\", \"yanchor\": \"bottom\"}, {\"y\": 0.782, \"xref\": \"paper\", \"x\": 0.8375, \"yref\": \"paper\", \"text\": \"CV\", \"showarrow\": false, \"font\": {\"size\": 16}, \"xanchor\": \"center\", \"yanchor\": \"bottom\"}, {\"y\": 0.5640000000000001, \"xref\": \"paper\", \"x\": 0.1625, \"yref\": \"paper\", \"text\": \"DC\", \"showarrow\": false, \"font\": {\"size\": 16}, \"xanchor\": \"center\", \"yanchor\": \"bottom\"}, {\"y\": 0.5640000000000001, \"xref\": \"paper\", \"x\": 0.8375, \"yref\": \"paper\", \"text\": \"DS\", \"showarrow\": false, \"font\": {\"size\": 16}, \"xanchor\": \"center\", \"yanchor\": \"bottom\"}, {\"y\": 0.346, \"xref\": \"paper\", \"x\": 0.1625, \"yref\": \"paper\", \"text\": \"IT\", \"showarrow\": false, \"font\": {\"size\": 16}, \"xanchor\": \"center\", \"yanchor\": \"bottom\"}, {\"y\": 0.346, \"xref\": \"paper\", \"x\": 0.8375, \"yref\": \"paper\", \"text\": \"LG\", \"showarrow\": false, \"font\": {\"size\": 16}, \"xanchor\": \"center\", \"yanchor\": \"bottom\"}, {\"y\": 0.128, \"xref\": \"paper\", \"x\": 0.1625, \"yref\": \"paper\", \"text\": \"NI\", \"showarrow\": false, \"font\": {\"size\": 16}, \"xanchor\": \"center\", \"yanchor\": \"bottom\"}, {\"y\": 0.128, \"xref\": \"paper\", \"x\": 0.8375, \"yref\": \"paper\", \"text\": \"RO\", \"showarrow\": false, \"font\": {\"size\": 16}, \"xanchor\": \"center\", \"yanchor\": \"bottom\"}, {\"x\": 28, \"y\": \"Pieter Abbeel\", \"text\": 28, \"xanchor\": \"left\", \"xref\": \"x1\", \"yref\": \"y1\", \"showarrow\": false, \"font\": {\"size\": 11, \"color\": \"lightgrey\"}}, {\"x\": 13, \"y\": \"Muaz A. Niazi\", \"text\": 13, \"xanchor\": \"left\", \"xref\": \"x1\", \"yref\": \"y1\", \"showarrow\": false, \"font\": {\"size\": 11, \"color\": \"lightgrey\"}}, {\"x\": 13, \"y\": \"Sergey Levine\", \"text\": 13, \"xanchor\": \"left\", \"xref\": \"x1\", \"yref\": \"y1\", \"showarrow\": false, \"font\": {\"size\": 11, \"color\": \"lightgrey\"}}, {\"x\": 10, \"y\": \"Devi Parikh\", \"text\": 10, \"xanchor\": \"left\", \"xref\": \"x1\", \"yref\": \"y1\", \"showarrow\": false, \"font\": {\"size\": 11, \"color\": \"lightgrey\"}}, {\"x\": 17, \"y\": \"Graham Neubig\", \"text\": 17, \"xanchor\": \"left\", \"xref\": \"x2\", \"yref\": \"y2\", \"showarrow\": false, \"font\": {\"size\": 11, \"color\": \"lightgrey\"}}, {\"x\": 17, \"y\": \"Pushpak Bhattacharyya\", \"text\": 17, \"xanchor\": \"left\", \"xref\": \"x2\", \"yref\": \"y2\", \"showarrow\": false, \"font\": {\"size\": 11, \"color\": \"lightgrey\"}}, {\"x\": 14, \"y\": \"Richard Socher\", \"text\": 14, \"xanchor\": \"left\", \"xref\": \"x2\", \"yref\": \"y2\", \"showarrow\": false, \"font\": {\"size\": 11, \"color\": \"lightgrey\"}}, {\"x\": 13, \"y\": \"Chris Dyer\", \"text\": 13, \"xanchor\": \"left\", \"xref\": \"x2\", \"yref\": \"y2\", \"showarrow\": false, \"font\": {\"size\": 11, \"color\": \"lightgrey\"}}, {\"x\": 12, \"y\": \"Ali Dehghantanha\", \"text\": 12, \"xanchor\": \"left\", \"xref\": \"x3\", \"yref\": \"y3\", \"showarrow\": false, \"font\": {\"size\": 11, \"color\": \"lightgrey\"}}, {\"x\": 10, \"y\": \"Yuval Elovici\", \"text\": 10, \"xanchor\": \"left\", \"xref\": \"x3\", \"yref\": \"y3\", \"showarrow\": false, \"font\": {\"size\": 11, \"color\": \"lightgrey\"}}, {\"x\": 10, \"y\": \"Nalin Asanka Gamagedara Arachchilage\", \"text\": 10, \"xanchor\": \"left\", \"xref\": \"x3\", \"yref\": \"y3\", \"showarrow\": false, \"font\": {\"size\": 11, \"color\": \"lightgrey\"}}, {\"x\": 10, \"y\": \"Christophe Guyeux\", \"text\": 10, \"xanchor\": \"left\", \"xref\": \"x3\", \"yref\": \"y3\", \"showarrow\": false, \"font\": {\"size\": 11, \"color\": \"lightgrey\"}}, {\"x\": 39, \"y\": \"Luc Van Gool\", \"text\": 39, \"xanchor\": \"left\", \"xref\": \"x4\", \"yref\": \"y4\", \"showarrow\": false, \"font\": {\"size\": 11, \"color\": \"lightgrey\"}}, {\"x\": 28, \"y\": \"Ming-Hsuan Yang\", \"text\": 28, \"xanchor\": \"left\", \"xref\": \"x4\", \"yref\": \"y4\", \"showarrow\": false, \"font\": {\"size\": 11, \"color\": \"lightgrey\"}}, {\"x\": 24, \"y\": \"Chunhua Shen\", \"text\": 24, \"xanchor\": \"left\", \"xref\": \"x4\", \"yref\": \"y4\", \"showarrow\": false, \"font\": {\"size\": 11, \"color\": \"lightgrey\"}}, {\"x\": 24, \"y\": \"Xiaogang Wang\", \"text\": 24, \"xanchor\": \"left\", \"xref\": \"x4\", \"yref\": \"y4\", \"showarrow\": false, \"font\": {\"size\": 11, \"color\": \"lightgrey\"}}, {\"x\": 12, \"y\": \"Rajkumar Buyya\", \"text\": 12, \"xanchor\": \"left\", \"xref\": \"x5\", \"yref\": \"y5\", \"showarrow\": false, \"font\": {\"size\": 11, \"color\": \"lightgrey\"}}, {\"x\": 10, \"y\": \"Andrzej Pelc\", \"text\": 10, \"xanchor\": \"left\", \"xref\": \"x5\", \"yref\": \"y5\", \"showarrow\": false, \"font\": {\"size\": 11, \"color\": \"lightgrey\"}}, {\"x\": 9, \"y\": \"Ruben Mayer\", \"text\": 9, \"xanchor\": \"left\", \"xref\": \"x5\", \"yref\": \"y5\", \"showarrow\": false, \"font\": {\"size\": 11, \"color\": \"lightgrey\"}}, {\"x\": 8, \"y\": \"Zheng Li\", \"text\": 8, \"xanchor\": \"left\", \"xref\": \"x5\", \"yref\": \"y5\", \"showarrow\": false, \"font\": {\"size\": 11, \"color\": \"lightgrey\"}}, {\"x\": 13, \"y\": \"Saket Saurabh\", \"text\": 13, \"xanchor\": \"left\", \"xref\": \"x6\", \"yref\": \"y6\", \"showarrow\": false, \"font\": {\"size\": 11, \"color\": \"lightgrey\"}}, {\"x\": 11, \"y\": \"David P. Woodruff\", \"text\": 11, \"xanchor\": \"left\", \"xref\": \"x6\", \"yref\": \"y6\", \"showarrow\": false, \"font\": {\"size\": 11, \"color\": \"lightgrey\"}}, {\"x\": 10, \"y\": \"Christian Schulz\", \"text\": 10, \"xanchor\": \"left\", \"xref\": \"x6\", \"yref\": \"y6\", \"showarrow\": false, \"font\": {\"size\": 11, \"color\": \"lightgrey\"}}, {\"x\": 10, \"y\": \"Mohsen Ghaffari\", \"text\": 10, \"xanchor\": \"left\", \"xref\": \"x6\", \"yref\": \"y6\", \"showarrow\": false, \"font\": {\"size\": 11, \"color\": \"lightgrey\"}}, {\"x\": 29, \"y\": \"Robert Schober\", \"text\": 29, \"xanchor\": \"left\", \"xref\": \"x7\", \"yref\": \"y7\", \"showarrow\": false, \"font\": {\"size\": 11, \"color\": \"lightgrey\"}}, {\"x\": 28, \"y\": \"Walid Saad\", \"text\": 28, \"xanchor\": \"left\", \"xref\": \"x7\", \"yref\": \"y7\", \"showarrow\": false, \"font\": {\"size\": 11, \"color\": \"lightgrey\"}}, {\"x\": 25, \"y\": \"H. Vincent Poor\", \"text\": 25, \"xanchor\": \"left\", \"xref\": \"x7\", \"yref\": \"y7\", \"showarrow\": false, \"font\": {\"size\": 11, \"color\": \"lightgrey\"}}, {\"x\": 21, \"y\": \"Zhiguo Ding\", \"text\": 21, \"xanchor\": \"left\", \"xref\": \"x7\", \"yref\": \"y7\", \"showarrow\": false, \"font\": {\"size\": 11, \"color\": \"lightgrey\"}}, {\"x\": 31, \"y\": \"Pieter Abbeel\", \"text\": 31, \"xanchor\": \"left\", \"xref\": \"x8\", \"yref\": \"y8\", \"showarrow\": false, \"font\": {\"size\": 11, \"color\": \"lightgrey\"}}, {\"x\": 21, \"y\": \"Sergey Levine\", \"text\": 21, \"xanchor\": \"left\", \"xref\": \"x8\", \"yref\": \"y8\", \"showarrow\": false, \"font\": {\"size\": 11, \"color\": \"lightgrey\"}}, {\"x\": 20, \"y\": \"Yoshua Bengio\", \"text\": 20, \"xanchor\": \"left\", \"xref\": \"x8\", \"yref\": \"y8\", \"showarrow\": false, \"font\": {\"size\": 11, \"color\": \"lightgrey\"}}, {\"x\": 15, \"y\": \"Ruslan Salakhutdinov\", \"text\": 15, \"xanchor\": \"left\", \"xref\": \"x8\", \"yref\": \"y8\", \"showarrow\": false, \"font\": {\"size\": 11, \"color\": \"lightgrey\"}}, {\"x\": 17, \"y\": \"Ming Ding\", \"text\": 17, \"xanchor\": \"left\", \"xref\": \"x9\", \"yref\": \"y9\", \"showarrow\": false, \"font\": {\"size\": 11, \"color\": \"lightgrey\"}}, {\"x\": 13, \"y\": \"Guoqiang Mao\", \"text\": 13, \"xanchor\": \"left\", \"xref\": \"x9\", \"yref\": \"y9\", \"showarrow\": false, \"font\": {\"size\": 11, \"color\": \"lightgrey\"}}, {\"x\": 12, \"y\": \"Hans D. Schotten\", \"text\": 12, \"xanchor\": \"left\", \"xref\": \"x9\", \"yref\": \"y9\", \"showarrow\": false, \"font\": {\"size\": 11, \"color\": \"lightgrey\"}}, {\"x\": 11, \"y\": \"Dusit Niyato\", \"text\": 11, \"xanchor\": \"left\", \"xref\": \"x9\", \"yref\": \"y9\", \"showarrow\": false, \"font\": {\"size\": 11, \"color\": \"lightgrey\"}}, {\"x\": 23, \"y\": \"Sergey Levine\", \"text\": 23, \"xanchor\": \"left\", \"xref\": \"x10\", \"yref\": \"y10\", \"showarrow\": false, \"font\": {\"size\": 11, \"color\": \"lightgrey\"}}, {\"x\": 20, \"y\": \"Pieter Abbeel\", \"text\": 20, \"xanchor\": \"left\", \"xref\": \"x10\", \"yref\": \"y10\", \"showarrow\": false, \"font\": {\"size\": 11, \"color\": \"lightgrey\"}}, {\"x\": 17, \"y\": \"Roland Siegwart\", \"text\": 17, \"xanchor\": \"left\", \"xref\": \"x10\", \"yref\": \"y10\", \"showarrow\": false, \"font\": {\"size\": 11, \"color\": \"lightgrey\"}}, {\"x\": 14, \"y\": \"Wolfram Burgard\", \"text\": 14, \"xanchor\": \"left\", \"xref\": \"x10\", \"yref\": \"y10\", \"showarrow\": false, \"font\": {\"size\": 11, \"color\": \"lightgrey\"}}], \"height\": 750, \"width\": 700, \"showlegend\": false, \"title\": \"\", \"margin\": {\"t\": 60, \"l\": 140, \"b\": 30}}, {\"showLink\": false, \"linkText\": \"Export to plot.ly\"})});</script>"
      ],
      "text/vnd.plotly.v1+html": [
       "<div id=\"277d9032-746d-404c-bc9c-b6b864d769b2\" style=\"height: 750px; width: 700px;\" class=\"plotly-graph-div\"></div><script type=\"text/javascript\">require([\"plotly\"], function(Plotly) { window.PLOTLYENV=window.PLOTLYENV || {};window.PLOTLYENV.BASE_URL=\"https://plot.ly\";Plotly.newPlot(\"277d9032-746d-404c-bc9c-b6b864d769b2\", [{\"type\": \"bar\", \"x\": [28, 13, 13, 10], \"y\": [\"Pieter Abbeel\", \"Muaz A. Niazi\", \"Sergey Levine\", \"Devi Parikh\"], \"hoverinfo\": \"text\", \"orientation\": \"h\", \"text\": [28, 13, 13, 10], \"marker\": {\"color\": \"blue\"}, \"xaxis\": \"x1\", \"yaxis\": \"y1\"}, {\"type\": \"bar\", \"x\": [17, 17, 14, 13], \"y\": [\"Graham Neubig\", \"Pushpak Bhattacharyya\", \"Richard Socher\", \"Chris Dyer\"], \"hoverinfo\": \"text\", \"orientation\": \"h\", \"text\": [17, 17, 14, 13], \"marker\": {\"color\": \"blue\"}, \"xaxis\": \"x2\", \"yaxis\": \"y2\"}, {\"type\": \"bar\", \"x\": [12, 10, 10, 10], \"y\": [\"Ali Dehghantanha\", \"Yuval Elovici\", \"Nalin Asanka Gamagedara Arachchilage\", \"Christophe Guyeux\"], \"hoverinfo\": \"text\", \"orientation\": \"h\", \"text\": [12, 10, 10, 10], \"marker\": {\"color\": \"blue\"}, \"xaxis\": \"x3\", \"yaxis\": \"y3\"}, {\"type\": \"bar\", \"x\": [39, 28, 24, 24], \"y\": [\"Luc Van Gool\", \"Ming-Hsuan Yang\", \"Chunhua Shen\", \"Xiaogang Wang\"], \"hoverinfo\": \"text\", \"orientation\": \"h\", \"text\": [39, 28, 24, 24], \"marker\": {\"color\": \"blue\"}, \"xaxis\": \"x4\", \"yaxis\": \"y4\"}, {\"type\": \"bar\", \"x\": [12, 10, 9, 8], \"y\": [\"Rajkumar Buyya\", \"Andrzej Pelc\", \"Ruben Mayer\", \"Zheng Li\"], \"hoverinfo\": \"text\", \"orientation\": \"h\", \"text\": [12, 10, 9, 8], \"marker\": {\"color\": \"blue\"}, \"xaxis\": \"x5\", \"yaxis\": \"y5\"}, {\"type\": \"bar\", \"x\": [13, 11, 10, 10], \"y\": [\"Saket Saurabh\", \"David P. Woodruff\", \"Christian Schulz\", \"Mohsen Ghaffari\"], \"hoverinfo\": \"text\", \"orientation\": \"h\", \"text\": [13, 11, 10, 10], \"marker\": {\"color\": \"blue\"}, \"xaxis\": \"x6\", \"yaxis\": \"y6\"}, {\"type\": \"bar\", \"x\": [29, 28, 25, 21], \"y\": [\"Robert Schober\", \"Walid Saad\", \"H. Vincent Poor\", \"Zhiguo Ding\"], \"hoverinfo\": \"text\", \"orientation\": \"h\", \"text\": [29, 28, 25, 21], \"marker\": {\"color\": \"blue\"}, \"xaxis\": \"x7\", \"yaxis\": \"y7\"}, {\"type\": \"bar\", \"x\": [31, 21, 20, 15], \"y\": [\"Pieter Abbeel\", \"Sergey Levine\", \"Yoshua Bengio\", \"Ruslan Salakhutdinov\"], \"hoverinfo\": \"text\", \"orientation\": \"h\", \"text\": [31, 21, 20, 15], \"marker\": {\"color\": \"blue\"}, \"xaxis\": \"x8\", \"yaxis\": \"y8\"}, {\"type\": \"bar\", \"x\": [17, 13, 12, 11], \"y\": [\"Ming Ding\", \"Guoqiang Mao\", \"Hans D. Schotten\", \"Dusit Niyato\"], \"hoverinfo\": \"text\", \"orientation\": \"h\", \"text\": [17, 13, 12, 11], \"marker\": {\"color\": \"blue\"}, \"xaxis\": \"x9\", \"yaxis\": \"y9\"}, {\"type\": \"bar\", \"x\": [23, 20, 17, 14], \"y\": [\"Sergey Levine\", \"Pieter Abbeel\", \"Roland Siegwart\", \"Wolfram Burgard\"], \"hoverinfo\": \"text\", \"orientation\": \"h\", \"text\": [23, 20, 17, 14], \"marker\": {\"color\": \"blue\"}, \"xaxis\": \"x10\", \"yaxis\": \"y10\"}], {\"xaxis1\": {\"domain\": [0.0, 0.325], \"anchor\": \"y1\", \"showticklabels\": false, \"showgrid\": false}, \"yaxis1\": {\"domain\": [0.872, 1.0], \"anchor\": \"x1\", \"ticklen\": 3, \"autorange\": \"reversed\", \"tickfont\": {\"size\": 11, \"color\": \"lightgrey\"}}, \"xaxis2\": {\"domain\": [0.675, 1.0], \"anchor\": \"y2\", \"showticklabels\": false, \"showgrid\": false}, \"yaxis2\": {\"domain\": [0.872, 1.0], \"anchor\": \"x2\", \"ticklen\": 3, \"autorange\": \"reversed\", \"tickfont\": {\"size\": 11, \"color\": \"lightgrey\"}}, \"xaxis3\": {\"domain\": [0.0, 0.325], \"anchor\": \"y3\", \"showticklabels\": false, \"showgrid\": false}, \"yaxis3\": {\"domain\": [0.654, 0.782], \"anchor\": \"x3\", \"ticklen\": 3, \"autorange\": \"reversed\", \"tickfont\": {\"size\": 11, \"color\": \"lightgrey\"}}, \"xaxis4\": {\"domain\": [0.675, 1.0], \"anchor\": \"y4\", \"showticklabels\": false, \"showgrid\": false}, \"yaxis4\": {\"domain\": [0.654, 0.782], \"anchor\": \"x4\", \"ticklen\": 3, \"autorange\": \"reversed\", \"tickfont\": {\"size\": 11, \"color\": \"lightgrey\"}}, \"xaxis5\": {\"domain\": [0.0, 0.325], \"anchor\": \"y5\", \"showticklabels\": false, \"showgrid\": false}, \"yaxis5\": {\"domain\": [0.436, 0.5640000000000001], \"anchor\": \"x5\", \"ticklen\": 3, \"autorange\": \"reversed\", \"tickfont\": {\"size\": 11, \"color\": \"lightgrey\"}}, \"xaxis6\": {\"domain\": [0.675, 1.0], \"anchor\": \"y6\", \"showticklabels\": false, \"showgrid\": false}, \"yaxis6\": {\"domain\": [0.436, 0.5640000000000001], \"anchor\": \"x6\", \"ticklen\": 3, \"autorange\": \"reversed\", \"tickfont\": {\"size\": 11, \"color\": \"lightgrey\"}}, \"xaxis7\": {\"domain\": [0.0, 0.325], \"anchor\": \"y7\", \"showticklabels\": false, \"showgrid\": false}, \"yaxis7\": {\"domain\": [0.218, 0.346], \"anchor\": \"x7\", \"ticklen\": 3, \"autorange\": \"reversed\", \"tickfont\": {\"size\": 11, \"color\": \"lightgrey\"}}, \"xaxis8\": {\"domain\": [0.675, 1.0], \"anchor\": \"y8\", \"showticklabels\": false, \"showgrid\": false}, \"yaxis8\": {\"domain\": [0.218, 0.346], \"anchor\": \"x8\", \"ticklen\": 3, \"autorange\": \"reversed\", \"tickfont\": {\"size\": 11, \"color\": \"lightgrey\"}}, \"xaxis9\": {\"domain\": [0.0, 0.325], \"anchor\": \"y9\", \"showticklabels\": false, \"showgrid\": false}, \"yaxis9\": {\"domain\": [0.0, 0.128], \"anchor\": \"x9\", \"ticklen\": 3, \"autorange\": \"reversed\", \"tickfont\": {\"size\": 11, \"color\": \"lightgrey\"}}, \"xaxis10\": {\"domain\": [0.675, 1.0], \"anchor\": \"y10\", \"showticklabels\": false, \"showgrid\": false}, \"yaxis10\": {\"domain\": [0.0, 0.128], \"anchor\": \"x10\", \"ticklen\": 3, \"autorange\": \"reversed\", \"tickfont\": {\"size\": 11, \"color\": \"lightgrey\"}}, \"annotations\": [{\"y\": 1.0, \"xref\": \"paper\", \"x\": 0.1625, \"yref\": \"paper\", \"text\": \"AI\", \"showarrow\": false, \"font\": {\"size\": 16}, \"xanchor\": \"center\", \"yanchor\": \"bottom\"}, {\"y\": 1.0, \"xref\": \"paper\", \"x\": 0.8375, \"yref\": \"paper\", \"text\": \"CL\", \"showarrow\": false, \"font\": {\"size\": 16}, \"xanchor\": \"center\", \"yanchor\": \"bottom\"}, {\"y\": 0.782, \"xref\": \"paper\", \"x\": 0.1625, \"yref\": \"paper\", \"text\": \"CR\", \"showarrow\": false, \"font\": {\"size\": 16}, \"xanchor\": \"center\", \"yanchor\": \"bottom\"}, {\"y\": 0.782, \"xref\": \"paper\", \"x\": 0.8375, \"yref\": \"paper\", \"text\": \"CV\", \"showarrow\": false, \"font\": {\"size\": 16}, \"xanchor\": \"center\", \"yanchor\": \"bottom\"}, {\"y\": 0.5640000000000001, \"xref\": \"paper\", \"x\": 0.1625, \"yref\": \"paper\", \"text\": \"DC\", \"showarrow\": false, \"font\": {\"size\": 16}, \"xanchor\": \"center\", \"yanchor\": \"bottom\"}, {\"y\": 0.5640000000000001, \"xref\": \"paper\", \"x\": 0.8375, \"yref\": \"paper\", \"text\": \"DS\", \"showarrow\": false, \"font\": {\"size\": 16}, \"xanchor\": \"center\", \"yanchor\": \"bottom\"}, {\"y\": 0.346, \"xref\": \"paper\", \"x\": 0.1625, \"yref\": \"paper\", \"text\": \"IT\", \"showarrow\": false, \"font\": {\"size\": 16}, \"xanchor\": \"center\", \"yanchor\": \"bottom\"}, {\"y\": 0.346, \"xref\": \"paper\", \"x\": 0.8375, \"yref\": \"paper\", \"text\": \"LG\", \"showarrow\": false, \"font\": {\"size\": 16}, \"xanchor\": \"center\", \"yanchor\": \"bottom\"}, {\"y\": 0.128, \"xref\": \"paper\", \"x\": 0.1625, \"yref\": \"paper\", \"text\": \"NI\", \"showarrow\": false, \"font\": {\"size\": 16}, \"xanchor\": \"center\", \"yanchor\": \"bottom\"}, {\"y\": 0.128, \"xref\": \"paper\", \"x\": 0.8375, \"yref\": \"paper\", \"text\": \"RO\", \"showarrow\": false, \"font\": {\"size\": 16}, \"xanchor\": \"center\", \"yanchor\": \"bottom\"}, {\"x\": 28, \"y\": \"Pieter Abbeel\", \"text\": 28, \"xanchor\": \"left\", \"xref\": \"x1\", \"yref\": \"y1\", \"showarrow\": false, \"font\": {\"size\": 11, \"color\": \"lightgrey\"}}, {\"x\": 13, \"y\": \"Muaz A. Niazi\", \"text\": 13, \"xanchor\": \"left\", \"xref\": \"x1\", \"yref\": \"y1\", \"showarrow\": false, \"font\": {\"size\": 11, \"color\": \"lightgrey\"}}, {\"x\": 13, \"y\": \"Sergey Levine\", \"text\": 13, \"xanchor\": \"left\", \"xref\": \"x1\", \"yref\": \"y1\", \"showarrow\": false, \"font\": {\"size\": 11, \"color\": \"lightgrey\"}}, {\"x\": 10, \"y\": \"Devi Parikh\", \"text\": 10, \"xanchor\": \"left\", \"xref\": \"x1\", \"yref\": \"y1\", \"showarrow\": false, \"font\": {\"size\": 11, \"color\": \"lightgrey\"}}, {\"x\": 17, \"y\": \"Graham Neubig\", \"text\": 17, \"xanchor\": \"left\", \"xref\": \"x2\", \"yref\": \"y2\", \"showarrow\": false, \"font\": {\"size\": 11, \"color\": \"lightgrey\"}}, {\"x\": 17, \"y\": \"Pushpak Bhattacharyya\", \"text\": 17, \"xanchor\": \"left\", \"xref\": \"x2\", \"yref\": \"y2\", \"showarrow\": false, \"font\": {\"size\": 11, \"color\": \"lightgrey\"}}, {\"x\": 14, \"y\": \"Richard Socher\", \"text\": 14, \"xanchor\": \"left\", \"xref\": \"x2\", \"yref\": \"y2\", \"showarrow\": false, \"font\": {\"size\": 11, \"color\": \"lightgrey\"}}, {\"x\": 13, \"y\": \"Chris Dyer\", \"text\": 13, \"xanchor\": \"left\", \"xref\": \"x2\", \"yref\": \"y2\", \"showarrow\": false, \"font\": {\"size\": 11, \"color\": \"lightgrey\"}}, {\"x\": 12, \"y\": \"Ali Dehghantanha\", \"text\": 12, \"xanchor\": \"left\", \"xref\": \"x3\", \"yref\": \"y3\", \"showarrow\": false, \"font\": {\"size\": 11, \"color\": \"lightgrey\"}}, {\"x\": 10, \"y\": \"Yuval Elovici\", \"text\": 10, \"xanchor\": \"left\", \"xref\": \"x3\", \"yref\": \"y3\", \"showarrow\": false, \"font\": {\"size\": 11, \"color\": \"lightgrey\"}}, {\"x\": 10, \"y\": \"Nalin Asanka Gamagedara Arachchilage\", \"text\": 10, \"xanchor\": \"left\", \"xref\": \"x3\", \"yref\": \"y3\", \"showarrow\": false, \"font\": {\"size\": 11, \"color\": \"lightgrey\"}}, {\"x\": 10, \"y\": \"Christophe Guyeux\", \"text\": 10, \"xanchor\": \"left\", \"xref\": \"x3\", \"yref\": \"y3\", \"showarrow\": false, \"font\": {\"size\": 11, \"color\": \"lightgrey\"}}, {\"x\": 39, \"y\": \"Luc Van Gool\", \"text\": 39, \"xanchor\": \"left\", \"xref\": \"x4\", \"yref\": \"y4\", \"showarrow\": false, \"font\": {\"size\": 11, \"color\": \"lightgrey\"}}, {\"x\": 28, \"y\": \"Ming-Hsuan Yang\", \"text\": 28, \"xanchor\": \"left\", \"xref\": \"x4\", \"yref\": \"y4\", \"showarrow\": false, \"font\": {\"size\": 11, \"color\": \"lightgrey\"}}, {\"x\": 24, \"y\": \"Chunhua Shen\", \"text\": 24, \"xanchor\": \"left\", \"xref\": \"x4\", \"yref\": \"y4\", \"showarrow\": false, \"font\": {\"size\": 11, \"color\": \"lightgrey\"}}, {\"x\": 24, \"y\": \"Xiaogang Wang\", \"text\": 24, \"xanchor\": \"left\", \"xref\": \"x4\", \"yref\": \"y4\", \"showarrow\": false, \"font\": {\"size\": 11, \"color\": \"lightgrey\"}}, {\"x\": 12, \"y\": \"Rajkumar Buyya\", \"text\": 12, \"xanchor\": \"left\", \"xref\": \"x5\", \"yref\": \"y5\", \"showarrow\": false, \"font\": {\"size\": 11, \"color\": \"lightgrey\"}}, {\"x\": 10, \"y\": \"Andrzej Pelc\", \"text\": 10, \"xanchor\": \"left\", \"xref\": \"x5\", \"yref\": \"y5\", \"showarrow\": false, \"font\": {\"size\": 11, \"color\": \"lightgrey\"}}, {\"x\": 9, \"y\": \"Ruben Mayer\", \"text\": 9, \"xanchor\": \"left\", \"xref\": \"x5\", \"yref\": \"y5\", \"showarrow\": false, \"font\": {\"size\": 11, \"color\": \"lightgrey\"}}, {\"x\": 8, \"y\": \"Zheng Li\", \"text\": 8, \"xanchor\": \"left\", \"xref\": \"x5\", \"yref\": \"y5\", \"showarrow\": false, \"font\": {\"size\": 11, \"color\": \"lightgrey\"}}, {\"x\": 13, \"y\": \"Saket Saurabh\", \"text\": 13, \"xanchor\": \"left\", \"xref\": \"x6\", \"yref\": \"y6\", \"showarrow\": false, \"font\": {\"size\": 11, \"color\": \"lightgrey\"}}, {\"x\": 11, \"y\": \"David P. Woodruff\", \"text\": 11, \"xanchor\": \"left\", \"xref\": \"x6\", \"yref\": \"y6\", \"showarrow\": false, \"font\": {\"size\": 11, \"color\": \"lightgrey\"}}, {\"x\": 10, \"y\": \"Christian Schulz\", \"text\": 10, \"xanchor\": \"left\", \"xref\": \"x6\", \"yref\": \"y6\", \"showarrow\": false, \"font\": {\"size\": 11, \"color\": \"lightgrey\"}}, {\"x\": 10, \"y\": \"Mohsen Ghaffari\", \"text\": 10, \"xanchor\": \"left\", \"xref\": \"x6\", \"yref\": \"y6\", \"showarrow\": false, \"font\": {\"size\": 11, \"color\": \"lightgrey\"}}, {\"x\": 29, \"y\": \"Robert Schober\", \"text\": 29, \"xanchor\": \"left\", \"xref\": \"x7\", \"yref\": \"y7\", \"showarrow\": false, \"font\": {\"size\": 11, \"color\": \"lightgrey\"}}, {\"x\": 28, \"y\": \"Walid Saad\", \"text\": 28, \"xanchor\": \"left\", \"xref\": \"x7\", \"yref\": \"y7\", \"showarrow\": false, \"font\": {\"size\": 11, \"color\": \"lightgrey\"}}, {\"x\": 25, \"y\": \"H. Vincent Poor\", \"text\": 25, \"xanchor\": \"left\", \"xref\": \"x7\", \"yref\": \"y7\", \"showarrow\": false, \"font\": {\"size\": 11, \"color\": \"lightgrey\"}}, {\"x\": 21, \"y\": \"Zhiguo Ding\", \"text\": 21, \"xanchor\": \"left\", \"xref\": \"x7\", \"yref\": \"y7\", \"showarrow\": false, \"font\": {\"size\": 11, \"color\": \"lightgrey\"}}, {\"x\": 31, \"y\": \"Pieter Abbeel\", \"text\": 31, \"xanchor\": \"left\", \"xref\": \"x8\", \"yref\": \"y8\", \"showarrow\": false, \"font\": {\"size\": 11, \"color\": \"lightgrey\"}}, {\"x\": 21, \"y\": \"Sergey Levine\", \"text\": 21, \"xanchor\": \"left\", \"xref\": \"x8\", \"yref\": \"y8\", \"showarrow\": false, \"font\": {\"size\": 11, \"color\": \"lightgrey\"}}, {\"x\": 20, \"y\": \"Yoshua Bengio\", \"text\": 20, \"xanchor\": \"left\", \"xref\": \"x8\", \"yref\": \"y8\", \"showarrow\": false, \"font\": {\"size\": 11, \"color\": \"lightgrey\"}}, {\"x\": 15, \"y\": \"Ruslan Salakhutdinov\", \"text\": 15, \"xanchor\": \"left\", \"xref\": \"x8\", \"yref\": \"y8\", \"showarrow\": false, \"font\": {\"size\": 11, \"color\": \"lightgrey\"}}, {\"x\": 17, \"y\": \"Ming Ding\", \"text\": 17, \"xanchor\": \"left\", \"xref\": \"x9\", \"yref\": \"y9\", \"showarrow\": false, \"font\": {\"size\": 11, \"color\": \"lightgrey\"}}, {\"x\": 13, \"y\": \"Guoqiang Mao\", \"text\": 13, \"xanchor\": \"left\", \"xref\": \"x9\", \"yref\": \"y9\", \"showarrow\": false, \"font\": {\"size\": 11, \"color\": \"lightgrey\"}}, {\"x\": 12, \"y\": \"Hans D. Schotten\", \"text\": 12, \"xanchor\": \"left\", \"xref\": \"x9\", \"yref\": \"y9\", \"showarrow\": false, \"font\": {\"size\": 11, \"color\": \"lightgrey\"}}, {\"x\": 11, \"y\": \"Dusit Niyato\", \"text\": 11, \"xanchor\": \"left\", \"xref\": \"x9\", \"yref\": \"y9\", \"showarrow\": false, \"font\": {\"size\": 11, \"color\": \"lightgrey\"}}, {\"x\": 23, \"y\": \"Sergey Levine\", \"text\": 23, \"xanchor\": \"left\", \"xref\": \"x10\", \"yref\": \"y10\", \"showarrow\": false, \"font\": {\"size\": 11, \"color\": \"lightgrey\"}}, {\"x\": 20, \"y\": \"Pieter Abbeel\", \"text\": 20, \"xanchor\": \"left\", \"xref\": \"x10\", \"yref\": \"y10\", \"showarrow\": false, \"font\": {\"size\": 11, \"color\": \"lightgrey\"}}, {\"x\": 17, \"y\": \"Roland Siegwart\", \"text\": 17, \"xanchor\": \"left\", \"xref\": \"x10\", \"yref\": \"y10\", \"showarrow\": false, \"font\": {\"size\": 11, \"color\": \"lightgrey\"}}, {\"x\": 14, \"y\": \"Wolfram Burgard\", \"text\": 14, \"xanchor\": \"left\", \"xref\": \"x10\", \"yref\": \"y10\", \"showarrow\": false, \"font\": {\"size\": 11, \"color\": \"lightgrey\"}}], \"height\": 750, \"width\": 700, \"showlegend\": false, \"title\": \"\", \"margin\": {\"t\": 60, \"l\": 140, \"b\": 30}}, {\"showLink\": false, \"linkText\": \"Export to plot.ly\"})});</script>"
      ]
     },
     "metadata": {},
     "output_type": "display_data"
    }
   ],
   "source": [
    "active_authors(section, year)"
   ]
  },
  {
   "cell_type": "code",
   "execution_count": 5,
   "metadata": {},
   "outputs": [
    {
     "data": {
      "application/vnd.plotly.v1+json": {
       "data": [
        {
         "hoverinfo": "text+value",
         "labels": [
          "CV",
          "IT",
          "LG",
          "CL",
          "AI",
          "CR",
          "DS",
          "NI",
          "SY",
          "DC",
          "RO",
          "Other (29)"
         ],
         "marker": {
          "colors": [
           "#ffb600",
           "#ffe417",
           "#faec2c",
           "#f4f242",
           "#e9fb69",
           "#e7fd71",
           "#e6fd72",
           "#e6fe74",
           "#e5fe75",
           "#e4ff7a",
           "#e4ff7a",
           "#fc7f00"
          ]
         },
         "pull": 0.05,
         "text": [
          "Computer Vision and Pattern Recognition",
          "Information Theory",
          "Learning",
          "Computation and Language",
          "Artificial Intelligence",
          "Cryptography and Security",
          "Data Structures and Algorithms",
          "Networking and Internet Architecture",
          "Systems and Control",
          "Distributed, Parallel, and Cluster Computing",
          "Robotics",
          "Other subsections"
         ],
         "textinfo": "label+percent",
         "textposition": "outside",
         "type": "pie",
         "values": [
          4261,
          2498,
          2056,
          1694,
          1060,
          930,
          912,
          897,
          854,
          778,
          776,
          7055
         ]
        }
       ],
       "layout": {
        "height": 450,
        "margin": {
         "t": 40
        }
       }
      },
      "text/html": [
       "<div id=\"0e3cd8af-3958-4498-a792-35bbee41adef\" style=\"height: 450px; width: 100%;\" class=\"plotly-graph-div\"></div><script type=\"text/javascript\">require([\"plotly\"], function(Plotly) { window.PLOTLYENV=window.PLOTLYENV || {};window.PLOTLYENV.BASE_URL=\"https://plot.ly\";Plotly.newPlot(\"0e3cd8af-3958-4498-a792-35bbee41adef\", [{\"type\": \"pie\", \"text\": [\"Computer Vision and Pattern Recognition\", \"Information Theory\", \"Learning\", \"Computation and Language\", \"Artificial Intelligence\", \"Cryptography and Security\", \"Data Structures and Algorithms\", \"Networking and Internet Architecture\", \"Systems and Control\", \"Distributed, Parallel, and Cluster Computing\", \"Robotics\", \"Other subsections\"], \"hoverinfo\": \"text+value\", \"textinfo\": \"label+percent\", \"labels\": [\"CV\", \"IT\", \"LG\", \"CL\", \"AI\", \"CR\", \"DS\", \"NI\", \"SY\", \"DC\", \"RO\", \"Other (29)\"], \"textposition\": \"outside\", \"values\": [4261, 2498, 2056, 1694, 1060, 930, 912, 897, 854, 778, 776, 7055], \"pull\": 0.05, \"marker\": {\"colors\": [\"#ffb600\", \"#ffe417\", \"#faec2c\", \"#f4f242\", \"#e9fb69\", \"#e7fd71\", \"#e6fd72\", \"#e6fe74\", \"#e5fe75\", \"#e4ff7a\", \"#e4ff7a\", \"#fc7f00\"]}}], {\"height\": 450, \"margin\": {\"t\": 40}}, {\"showLink\": false, \"linkText\": \"Export to plot.ly\"})});</script>"
      ],
      "text/vnd.plotly.v1+html": [
       "<div id=\"0e3cd8af-3958-4498-a792-35bbee41adef\" style=\"height: 450px; width: 100%;\" class=\"plotly-graph-div\"></div><script type=\"text/javascript\">require([\"plotly\"], function(Plotly) { window.PLOTLYENV=window.PLOTLYENV || {};window.PLOTLYENV.BASE_URL=\"https://plot.ly\";Plotly.newPlot(\"0e3cd8af-3958-4498-a792-35bbee41adef\", [{\"type\": \"pie\", \"text\": [\"Computer Vision and Pattern Recognition\", \"Information Theory\", \"Learning\", \"Computation and Language\", \"Artificial Intelligence\", \"Cryptography and Security\", \"Data Structures and Algorithms\", \"Networking and Internet Architecture\", \"Systems and Control\", \"Distributed, Parallel, and Cluster Computing\", \"Robotics\", \"Other subsections\"], \"hoverinfo\": \"text+value\", \"textinfo\": \"label+percent\", \"labels\": [\"CV\", \"IT\", \"LG\", \"CL\", \"AI\", \"CR\", \"DS\", \"NI\", \"SY\", \"DC\", \"RO\", \"Other (29)\"], \"textposition\": \"outside\", \"values\": [4261, 2498, 2056, 1694, 1060, 930, 912, 897, 854, 778, 776, 7055], \"pull\": 0.05, \"marker\": {\"colors\": [\"#ffb600\", \"#ffe417\", \"#faec2c\", \"#f4f242\", \"#e9fb69\", \"#e7fd71\", \"#e6fd72\", \"#e6fe74\", \"#e5fe75\", \"#e4ff7a\", \"#e4ff7a\", \"#fc7f00\"]}}], {\"height\": 450, \"margin\": {\"t\": 40}}, {\"showLink\": false, \"linkText\": \"Export to plot.ly\"})});</script>"
      ]
     },
     "metadata": {},
     "output_type": "display_data"
    }
   ],
   "source": [
    "subsections_ratio(section, year, min_percent=3)"
   ]
  }
 ],
 "metadata": {
  "kernelspec": {
   "display_name": "Python 3",
   "language": "python",
   "name": "python3"
  },
  "language_info": {
   "codemirror_mode": {
    "name": "ipython",
    "version": 3
   },
   "file_extension": ".py",
   "mimetype": "text/x-python",
   "name": "python",
   "nbconvert_exporter": "python",
   "pygments_lexer": "ipython3",
   "version": "3.6.2"
  }
 },
 "nbformat": 4,
 "nbformat_minor": 2
}
