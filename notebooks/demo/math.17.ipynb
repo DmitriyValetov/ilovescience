{
 "cells": [
  {
   "cell_type": "code",
   "execution_count": 1,
   "metadata": {},
   "outputs": [
    {
     "data": {
      "text/html": [
       "<script>requirejs.config({paths: { 'plotly': ['https://cdn.plot.ly/plotly-latest.min']},});if(!window.Plotly) {{require(['plotly'],function(plotly) {window.Plotly=plotly;});}}</script>"
      ],
      "text/vnd.plotly.v1+html": [
       "<script>requirejs.config({paths: { 'plotly': ['https://cdn.plot.ly/plotly-latest.min']},});if(!window.Plotly) {{require(['plotly'],function(plotly) {window.Plotly=plotly;});}}</script>"
      ]
     },
     "metadata": {},
     "output_type": "display_data"
    }
   ],
   "source": [
    "import plotly.offline as py\n",
    "from visual import *\n",
    "\n",
    "py.init_notebook_mode(connected=True)"
   ]
  },
  {
   "cell_type": "code",
   "execution_count": 2,
   "metadata": {},
   "outputs": [],
   "source": [
    "section, year = \"math\", 17\n",
    "volume = \"{}.{}\".format(section, str(year).zfill(2))"
   ]
  },
  {
   "cell_type": "code",
   "execution_count": 4,
   "metadata": {},
   "outputs": [],
   "source": [
    "# model = Word2Vec.load(\"../stat/word_vec/{}\".format(volume))\n",
    "# terms = get_lines(\"../topics/{}.txt\".format(section))\n",
    "# extented_terms = closest_keys(terms, model)"
   ]
  },
  {
   "cell_type": "code",
   "execution_count": 10,
   "metadata": {},
   "outputs": [
    {
     "data": {
      "application/vnd.plotly.v1+json": {
       "data": [
        {
         "hoverinfo": "text",
         "marker": {
          "color": "orange"
         },
         "orientation": "h",
         "text": [
          0.006,
          0.007,
          0.007,
          0.007,
          0.007,
          0.008
         ],
         "type": "bar",
         "x": [
          0.006,
          0.007,
          0.007,
          0.007,
          0.007,
          0.008
         ],
         "xaxis": "x1",
         "y": [
          "div",
          "scheme",
          "error",
          "boundary",
          "domain",
          "estimate"
         ],
         "yaxis": "y1"
        },
        {
         "hoverinfo": "text",
         "marker": {
          "color": "orange"
         },
         "orientation": "h",
         "text": [
          0.005,
          0.005,
          0.005,
          0.006,
          0.01,
          0.023
         ],
         "type": "bar",
         "x": [
          0.005,
          0.005,
          0.005,
          0.006,
          0.01,
          0.023
         ],
         "xaxis": "x2",
         "y": [
          "constraint",
          "approximation",
          "iteration",
          "model",
          "matrix",
          "algorithm"
         ],
         "yaxis": "y2"
        },
        {
         "hoverinfo": "text",
         "marker": {
          "color": "orange"
         },
         "orientation": "h",
         "text": [
          0.007,
          0.008,
          0.008,
          0.009,
          0.012,
          0.026
         ],
         "type": "bar",
         "x": [
          0.007,
          0.008,
          0.008,
          0.009,
          0.012,
          0.026
         ],
         "xaxis": "x3",
         "y": [
          "sup",
          "continuou",
          "inequality",
          "norm",
          "estimate",
          "operator"
         ],
         "yaxis": "y3"
        },
        {
         "hoverinfo": "text",
         "marker": {
          "color": "orange"
         },
         "orientation": "h",
         "text": [
          0.004,
          0.006,
          0.006,
          0.007,
          0.009,
          0.011
         ],
         "type": "bar",
         "x": [
          0.004,
          0.006,
          0.006,
          0.007,
          0.009,
          0.011
         ],
         "xaxis": "x4",
         "y": [
          "dynamic",
          "integral",
          "variable",
          "figure",
          "parameter",
          "model"
         ],
         "yaxis": "y4"
        },
        {
         "hoverinfo": "text",
         "marker": {
          "color": "orange"
         },
         "orientation": "h",
         "text": [
          0.009,
          0.009,
          0.009,
          0.011,
          0.014,
          0.022
         ],
         "type": "bar",
         "x": [
          0.009,
          0.009,
          0.009,
          0.011,
          0.014,
          0.022
         ],
         "xaxis": "x5",
         "y": [
          "distribution",
          "process",
          "probability",
          "random",
          "measure",
          "log"
         ],
         "yaxis": "y5"
        },
        {
         "hoverinfo": "text",
         "marker": {
          "color": "orange"
         },
         "orientation": "h",
         "text": [
          0.01,
          0.011,
          0.018,
          0.021,
          0.024,
          0.043
         ],
         "type": "bar",
         "x": [
          0.01,
          0.011,
          0.018,
          0.021,
          0.024,
          0.043
         ],
         "xaxis": "x6",
         "y": [
          "path",
          "figure",
          "vertice",
          "vertex",
          "edge",
          "graph"
         ],
         "yaxis": "y6"
        },
        {
         "hoverinfo": "text",
         "marker": {
          "color": "orange"
         },
         "orientation": "h",
         "text": [
          0.007,
          0.01,
          0.011,
          0.012,
          0.012,
          0.028
         ],
         "type": "bar",
         "x": [
          0.007,
          0.01,
          0.011,
          0.012,
          0.012,
          0.028
         ],
         "xaxis": "x7",
         "y": [
          "agent",
          "stability",
          "model",
          "network",
          "dynamic",
          "control"
         ],
         "yaxis": "y7"
        },
        {
         "hoverinfo": "text",
         "marker": {
          "color": "orange"
         },
         "orientation": "h",
         "text": [
          0.006,
          0.006,
          0.007,
          0.007,
          0.009,
          0.022
         ],
         "type": "bar",
         "x": [
          0.006,
          0.006,
          0.007,
          0.007,
          0.009,
          0.022
         ],
         "xaxis": "x8",
         "y": [
          "length",
          "distribution",
          "size",
          "block",
          "bound",
          "code"
         ],
         "yaxis": "y8"
        },
        {
         "hoverinfo": "text",
         "marker": {
          "color": "orange"
         },
         "orientation": "h",
         "text": [
          0.006,
          0.006,
          0.007,
          0.007,
          0.01,
          0.013
         ],
         "type": "bar",
         "x": [
          0.006,
          0.006,
          0.007,
          0.007,
          0.01,
          0.013
         ],
         "xaxis": "x9",
         "y": [
          "model",
          "power",
          "rate",
          "network",
          "user",
          "channel"
         ],
         "yaxis": "y9"
        },
        {
         "hoverinfo": "text",
         "marker": {
          "color": "orange"
         },
         "orientation": "h",
         "text": [
          0.006,
          0.006,
          0.007,
          0.011,
          0.013,
          0.047
         ],
         "type": "bar",
         "x": [
          0.006,
          0.006,
          0.007,
          0.011,
          0.013,
          0.047
         ],
         "xaxis": "x10",
         "y": [
          "representation",
          "closed",
          "subset",
          "action",
          "subgroup",
          "group"
         ],
         "yaxis": "y10"
        },
        {
         "hoverinfo": "text",
         "marker": {
          "color": "orange"
         },
         "orientation": "h",
         "text": [
          0.008,
          0.008,
          0.012,
          0.012,
          0.013,
          0.015
         ],
         "type": "bar",
         "x": [
          0.008,
          0.008,
          0.012,
          0.012,
          0.013,
          0.015
         ],
         "xaxis": "x11",
         "y": [
          "surface",
          "smooth",
          "manifold",
          "boundary",
          "curve",
          "metric"
         ],
         "yaxis": "y11"
        },
        {
         "hoverinfo": "text",
         "marker": {
          "color": "orange"
         },
         "orientation": "h",
         "text": [
          0.008,
          0.008,
          0.009,
          0.009,
          0.01,
          0.02
         ],
         "type": "bar",
         "x": [
          0.008,
          0.008,
          0.009,
          0.009,
          0.01,
          0.02
         ],
         "xaxis": "x12",
         "y": [
          "degree",
          "prime",
          "matrix",
          "mod",
          "integer",
          "polynomial"
         ],
         "yaxis": "y12"
        },
        {
         "hoverinfo": "text",
         "marker": {
          "color": "orange"
         },
         "orientation": "h",
         "text": [
          0.007,
          0.007,
          0.008,
          0.009,
          0.016,
          0.02
         ],
         "type": "bar",
         "x": [
          0.007,
          0.007,
          0.008,
          0.009,
          0.016,
          0.02
         ],
         "xaxis": "x13",
         "y": [
          "model",
          "field",
          "spectral",
          "matrix",
          "eigenvalue",
          "operator"
         ],
         "yaxis": "y13"
        },
        {
         "hoverinfo": "text",
         "marker": {
          "color": "orange"
         },
         "orientation": "h",
         "text": [
          0.007,
          0.007,
          0.008,
          0.009,
          0.009,
          0.021
         ],
         "type": "bar",
         "x": [
          0.007,
          0.007,
          0.008,
          0.009,
          0.009,
          0.021
         ],
         "xaxis": "x14",
         "y": [
          "bundle",
          "manifold",
          "complex",
          "invariant",
          "action",
          "algebra"
         ],
         "yaxis": "y14"
        },
        {
         "hoverinfo": "text",
         "marker": {
          "color": "orange"
         },
         "orientation": "h",
         "text": [
          0.01,
          0.01,
          0.013,
          0.013,
          0.017,
          0.022
         ],
         "type": "bar",
         "x": [
          0.01,
          0.01,
          0.013,
          0.013,
          0.017,
          0.022
         ],
         "xaxis": "x15",
         "y": [
          "functor",
          "object",
          "category",
          "morphism",
          "algebra",
          "module"
         ],
         "yaxis": "y15"
        }
       ],
       "layout": {
        "annotations": [
         {
          "font": {
           "size": 16
          },
          "showarrow": false,
          "text": "estimate",
          "x": 0.11666666666666665,
          "xanchor": "center",
          "xref": "paper",
          "y": 1,
          "yanchor": "bottom",
          "yref": "paper"
         },
         {
          "font": {
           "size": 16
          },
          "showarrow": false,
          "text": "algorithm",
          "x": 0.49999999999999994,
          "xanchor": "center",
          "xref": "paper",
          "y": 1,
          "yanchor": "bottom",
          "yref": "paper"
         },
         {
          "font": {
           "size": 16
          },
          "showarrow": false,
          "text": "operator",
          "x": 0.8833333333333333,
          "xanchor": "center",
          "xref": "paper",
          "y": 1,
          "yanchor": "bottom",
          "yref": "paper"
         },
         {
          "font": {
           "size": 16
          },
          "showarrow": false,
          "text": "model",
          "x": 0.11666666666666665,
          "xanchor": "center",
          "xref": "paper",
          "y": 0.79,
          "yanchor": "bottom",
          "yref": "paper"
         },
         {
          "font": {
           "size": 16
          },
          "showarrow": false,
          "text": "log",
          "x": 0.49999999999999994,
          "xanchor": "center",
          "xref": "paper",
          "y": 0.79,
          "yanchor": "bottom",
          "yref": "paper"
         },
         {
          "font": {
           "size": 16
          },
          "showarrow": false,
          "text": "graph",
          "x": 0.8833333333333333,
          "xanchor": "center",
          "xref": "paper",
          "y": 0.79,
          "yanchor": "bottom",
          "yref": "paper"
         },
         {
          "font": {
           "size": 16
          },
          "showarrow": false,
          "text": "control",
          "x": 0.11666666666666665,
          "xanchor": "center",
          "xref": "paper",
          "y": 0.5800000000000001,
          "yanchor": "bottom",
          "yref": "paper"
         },
         {
          "font": {
           "size": 16
          },
          "showarrow": false,
          "text": "code",
          "x": 0.49999999999999994,
          "xanchor": "center",
          "xref": "paper",
          "y": 0.5800000000000001,
          "yanchor": "bottom",
          "yref": "paper"
         },
         {
          "font": {
           "size": 16
          },
          "showarrow": false,
          "text": "channel",
          "x": 0.8833333333333333,
          "xanchor": "center",
          "xref": "paper",
          "y": 0.5800000000000001,
          "yanchor": "bottom",
          "yref": "paper"
         },
         {
          "font": {
           "size": 16
          },
          "showarrow": false,
          "text": "group",
          "x": 0.11666666666666665,
          "xanchor": "center",
          "xref": "paper",
          "y": 0.37,
          "yanchor": "bottom",
          "yref": "paper"
         },
         {
          "font": {
           "size": 16
          },
          "showarrow": false,
          "text": "metric",
          "x": 0.49999999999999994,
          "xanchor": "center",
          "xref": "paper",
          "y": 0.37,
          "yanchor": "bottom",
          "yref": "paper"
         },
         {
          "font": {
           "size": 16
          },
          "showarrow": false,
          "text": "polynomial",
          "x": 0.8833333333333333,
          "xanchor": "center",
          "xref": "paper",
          "y": 0.37,
          "yanchor": "bottom",
          "yref": "paper"
         },
         {
          "font": {
           "size": 16
          },
          "showarrow": false,
          "text": "operator",
          "x": 0.11666666666666665,
          "xanchor": "center",
          "xref": "paper",
          "y": 0.16,
          "yanchor": "bottom",
          "yref": "paper"
         },
         {
          "font": {
           "size": 16
          },
          "showarrow": false,
          "text": "algebra",
          "x": 0.49999999999999994,
          "xanchor": "center",
          "xref": "paper",
          "y": 0.16,
          "yanchor": "bottom",
          "yref": "paper"
         },
         {
          "font": {
           "size": 16
          },
          "showarrow": false,
          "text": "module",
          "x": 0.8833333333333333,
          "xanchor": "center",
          "xref": "paper",
          "y": 0.16,
          "yanchor": "bottom",
          "yref": "paper"
         }
        ],
        "height": 650,
        "margin": {
         "b": 20,
         "l": 120,
         "t": 50
        },
        "showlegend": false,
        "title": "",
        "width": 750,
        "xaxis1": {
         "anchor": "y1",
         "domain": [
          0,
          0.2333333333333333
         ],
         "showticklabels": false
        },
        "xaxis10": {
         "anchor": "y10",
         "domain": [
          0,
          0.2333333333333333
         ],
         "showticklabels": false
        },
        "xaxis11": {
         "anchor": "y11",
         "domain": [
          0.3833333333333333,
          0.6166666666666666
         ],
         "showticklabels": false
        },
        "xaxis12": {
         "anchor": "y12",
         "domain": [
          0.7666666666666666,
          0.9999999999999999
         ],
         "showticklabels": false
        },
        "xaxis13": {
         "anchor": "y13",
         "domain": [
          0,
          0.2333333333333333
         ],
         "showticklabels": false
        },
        "xaxis14": {
         "anchor": "y14",
         "domain": [
          0.3833333333333333,
          0.6166666666666666
         ],
         "showticklabels": false
        },
        "xaxis15": {
         "anchor": "y15",
         "domain": [
          0.7666666666666666,
          0.9999999999999999
         ],
         "showticklabels": false
        },
        "xaxis2": {
         "anchor": "y2",
         "domain": [
          0.3833333333333333,
          0.6166666666666666
         ],
         "showticklabels": false
        },
        "xaxis3": {
         "anchor": "y3",
         "domain": [
          0.7666666666666666,
          0.9999999999999999
         ],
         "showticklabels": false
        },
        "xaxis4": {
         "anchor": "y4",
         "domain": [
          0,
          0.2333333333333333
         ],
         "showticklabels": false
        },
        "xaxis5": {
         "anchor": "y5",
         "domain": [
          0.3833333333333333,
          0.6166666666666666
         ],
         "showticklabels": false
        },
        "xaxis6": {
         "anchor": "y6",
         "domain": [
          0.7666666666666666,
          0.9999999999999999
         ],
         "showticklabels": false
        },
        "xaxis7": {
         "anchor": "y7",
         "domain": [
          0,
          0.2333333333333333
         ],
         "showticklabels": false
        },
        "xaxis8": {
         "anchor": "y8",
         "domain": [
          0.3833333333333333,
          0.6166666666666666
         ],
         "showticklabels": false
        },
        "xaxis9": {
         "anchor": "y9",
         "domain": [
          0.7666666666666666,
          0.9999999999999999
         ],
         "showticklabels": false
        },
        "yaxis1": {
         "anchor": "x1",
         "domain": [
          0.8400000000000001,
          1
         ],
         "tickfont": {
          "color": "lightgrey",
          "size": 11
         },
         "ticklen": 3
        },
        "yaxis10": {
         "anchor": "x10",
         "domain": [
          0.21000000000000002,
          0.37
         ],
         "tickfont": {
          "color": "lightgrey",
          "size": 11
         },
         "ticklen": 3
        },
        "yaxis11": {
         "anchor": "x11",
         "domain": [
          0.21000000000000002,
          0.37
         ],
         "tickfont": {
          "color": "lightgrey",
          "size": 11
         },
         "ticklen": 3
        },
        "yaxis12": {
         "anchor": "x12",
         "domain": [
          0.21000000000000002,
          0.37
         ],
         "tickfont": {
          "color": "lightgrey",
          "size": 11
         },
         "ticklen": 3
        },
        "yaxis13": {
         "anchor": "x13",
         "domain": [
          0,
          0.16
         ],
         "tickfont": {
          "color": "lightgrey",
          "size": 11
         },
         "ticklen": 3
        },
        "yaxis14": {
         "anchor": "x14",
         "domain": [
          0,
          0.16
         ],
         "tickfont": {
          "color": "lightgrey",
          "size": 11
         },
         "ticklen": 3
        },
        "yaxis15": {
         "anchor": "x15",
         "domain": [
          0,
          0.16
         ],
         "tickfont": {
          "color": "lightgrey",
          "size": 11
         },
         "ticklen": 3
        },
        "yaxis2": {
         "anchor": "x2",
         "domain": [
          0.8400000000000001,
          1
         ],
         "tickfont": {
          "color": "lightgrey",
          "size": 11
         },
         "ticklen": 3
        },
        "yaxis3": {
         "anchor": "x3",
         "domain": [
          0.8400000000000001,
          1
         ],
         "tickfont": {
          "color": "lightgrey",
          "size": 11
         },
         "ticklen": 3
        },
        "yaxis4": {
         "anchor": "x4",
         "domain": [
          0.63,
          0.79
         ],
         "tickfont": {
          "color": "lightgrey",
          "size": 11
         },
         "ticklen": 3
        },
        "yaxis5": {
         "anchor": "x5",
         "domain": [
          0.63,
          0.79
         ],
         "tickfont": {
          "color": "lightgrey",
          "size": 11
         },
         "ticklen": 3
        },
        "yaxis6": {
         "anchor": "x6",
         "domain": [
          0.63,
          0.79
         ],
         "tickfont": {
          "color": "lightgrey",
          "size": 11
         },
         "ticklen": 3
        },
        "yaxis7": {
         "anchor": "x7",
         "domain": [
          0.42000000000000004,
          0.5800000000000001
         ],
         "tickfont": {
          "color": "lightgrey",
          "size": 11
         },
         "ticklen": 3
        },
        "yaxis8": {
         "anchor": "x8",
         "domain": [
          0.42000000000000004,
          0.5800000000000001
         ],
         "tickfont": {
          "color": "lightgrey",
          "size": 11
         },
         "ticklen": 3
        },
        "yaxis9": {
         "anchor": "x9",
         "domain": [
          0.42000000000000004,
          0.5800000000000001
         ],
         "tickfont": {
          "color": "lightgrey",
          "size": 11
         },
         "ticklen": 3
        }
       }
      },
      "text/html": [
       "<div id=\"c7fda266-e8d2-4bdd-b999-98a7d9fb3c78\" style=\"height: 650px; width: 750px;\" class=\"plotly-graph-div\"></div><script type=\"text/javascript\">require([\"plotly\"], function(Plotly) { window.PLOTLYENV=window.PLOTLYENV || {};window.PLOTLYENV.BASE_URL=\"https://plot.ly\";Plotly.newPlot(\"c7fda266-e8d2-4bdd-b999-98a7d9fb3c78\", [{\"type\": \"bar\", \"x\": [0.006, 0.007, 0.007, 0.007, 0.007, 0.008], \"y\": [\"div\", \"scheme\", \"error\", \"boundary\", \"domain\", \"estimate\"], \"orientation\": \"h\", \"text\": [0.006, 0.007, 0.007, 0.007, 0.007, 0.008], \"hoverinfo\": \"text\", \"marker\": {\"color\": \"orange\"}, \"xaxis\": \"x1\", \"yaxis\": \"y1\"}, {\"type\": \"bar\", \"x\": [0.005, 0.005, 0.005, 0.006, 0.01, 0.023], \"y\": [\"constraint\", \"approximation\", \"iteration\", \"model\", \"matrix\", \"algorithm\"], \"orientation\": \"h\", \"text\": [0.005, 0.005, 0.005, 0.006, 0.01, 0.023], \"hoverinfo\": \"text\", \"marker\": {\"color\": \"orange\"}, \"xaxis\": \"x2\", \"yaxis\": \"y2\"}, {\"type\": \"bar\", \"x\": [0.007, 0.008, 0.008, 0.009, 0.012, 0.026], \"y\": [\"sup\", \"continuou\", \"inequality\", \"norm\", \"estimate\", \"operator\"], \"orientation\": \"h\", \"text\": [0.007, 0.008, 0.008, 0.009, 0.012, 0.026], \"hoverinfo\": \"text\", \"marker\": {\"color\": \"orange\"}, \"xaxis\": \"x3\", \"yaxis\": \"y3\"}, {\"type\": \"bar\", \"x\": [0.004, 0.006, 0.006, 0.007, 0.009, 0.011], \"y\": [\"dynamic\", \"integral\", \"variable\", \"figure\", \"parameter\", \"model\"], \"orientation\": \"h\", \"text\": [0.004, 0.006, 0.006, 0.007, 0.009, 0.011], \"hoverinfo\": \"text\", \"marker\": {\"color\": \"orange\"}, \"xaxis\": \"x4\", \"yaxis\": \"y4\"}, {\"type\": \"bar\", \"x\": [0.009, 0.009, 0.009, 0.011, 0.014, 0.022], \"y\": [\"distribution\", \"process\", \"probability\", \"random\", \"measure\", \"log\"], \"orientation\": \"h\", \"text\": [0.009, 0.009, 0.009, 0.011, 0.014, 0.022], \"hoverinfo\": \"text\", \"marker\": {\"color\": \"orange\"}, \"xaxis\": \"x5\", \"yaxis\": \"y5\"}, {\"type\": \"bar\", \"x\": [0.01, 0.011, 0.018, 0.021, 0.024, 0.043], \"y\": [\"path\", \"figure\", \"vertice\", \"vertex\", \"edge\", \"graph\"], \"orientation\": \"h\", \"text\": [0.01, 0.011, 0.018, 0.021, 0.024, 0.043], \"hoverinfo\": \"text\", \"marker\": {\"color\": \"orange\"}, \"xaxis\": \"x6\", \"yaxis\": \"y6\"}, {\"type\": \"bar\", \"x\": [0.007, 0.01, 0.011, 0.012, 0.012, 0.028], \"y\": [\"agent\", \"stability\", \"model\", \"network\", \"dynamic\", \"control\"], \"orientation\": \"h\", \"text\": [0.007, 0.01, 0.011, 0.012, 0.012, 0.028], \"hoverinfo\": \"text\", \"marker\": {\"color\": \"orange\"}, \"xaxis\": \"x7\", \"yaxis\": \"y7\"}, {\"type\": \"bar\", \"x\": [0.006, 0.006, 0.007, 0.007, 0.009, 0.022], \"y\": [\"length\", \"distribution\", \"size\", \"block\", \"bound\", \"code\"], \"orientation\": \"h\", \"text\": [0.006, 0.006, 0.007, 0.007, 0.009, 0.022], \"hoverinfo\": \"text\", \"marker\": {\"color\": \"orange\"}, \"xaxis\": \"x8\", \"yaxis\": \"y8\"}, {\"type\": \"bar\", \"x\": [0.006, 0.006, 0.007, 0.007, 0.01, 0.013], \"y\": [\"model\", \"power\", \"rate\", \"network\", \"user\", \"channel\"], \"orientation\": \"h\", \"text\": [0.006, 0.006, 0.007, 0.007, 0.01, 0.013], \"hoverinfo\": \"text\", \"marker\": {\"color\": \"orange\"}, \"xaxis\": \"x9\", \"yaxis\": \"y9\"}, {\"type\": \"bar\", \"x\": [0.006, 0.006, 0.007, 0.011, 0.013, 0.047], \"y\": [\"representation\", \"closed\", \"subset\", \"action\", \"subgroup\", \"group\"], \"orientation\": \"h\", \"text\": [0.006, 0.006, 0.007, 0.011, 0.013, 0.047], \"hoverinfo\": \"text\", \"marker\": {\"color\": \"orange\"}, \"xaxis\": \"x10\", \"yaxis\": \"y10\"}, {\"type\": \"bar\", \"x\": [0.008, 0.008, 0.012, 0.012, 0.013, 0.015], \"y\": [\"surface\", \"smooth\", \"manifold\", \"boundary\", \"curve\", \"metric\"], \"orientation\": \"h\", \"text\": [0.008, 0.008, 0.012, 0.012, 0.013, 0.015], \"hoverinfo\": \"text\", \"marker\": {\"color\": \"orange\"}, \"xaxis\": \"x11\", \"yaxis\": \"y11\"}, {\"type\": \"bar\", \"x\": [0.008, 0.008, 0.009, 0.009, 0.01, 0.02], \"y\": [\"degree\", \"prime\", \"matrix\", \"mod\", \"integer\", \"polynomial\"], \"orientation\": \"h\", \"text\": [0.008, 0.008, 0.009, 0.009, 0.01, 0.02], \"hoverinfo\": \"text\", \"marker\": {\"color\": \"orange\"}, \"xaxis\": \"x12\", \"yaxis\": \"y12\"}, {\"type\": \"bar\", \"x\": [0.007, 0.007, 0.008, 0.009, 0.016, 0.02], \"y\": [\"model\", \"field\", \"spectral\", \"matrix\", \"eigenvalue\", \"operator\"], \"orientation\": \"h\", \"text\": [0.007, 0.007, 0.008, 0.009, 0.016, 0.02], \"hoverinfo\": \"text\", \"marker\": {\"color\": \"orange\"}, \"xaxis\": \"x13\", \"yaxis\": \"y13\"}, {\"type\": \"bar\", \"x\": [0.007, 0.007, 0.008, 0.009, 0.009, 0.021], \"y\": [\"bundle\", \"manifold\", \"complex\", \"invariant\", \"action\", \"algebra\"], \"orientation\": \"h\", \"text\": [0.007, 0.007, 0.008, 0.009, 0.009, 0.021], \"hoverinfo\": \"text\", \"marker\": {\"color\": \"orange\"}, \"xaxis\": \"x14\", \"yaxis\": \"y14\"}, {\"type\": \"bar\", \"x\": [0.01, 0.01, 0.013, 0.013, 0.017, 0.022], \"y\": [\"functor\", \"object\", \"category\", \"morphism\", \"algebra\", \"module\"], \"orientation\": \"h\", \"text\": [0.01, 0.01, 0.013, 0.013, 0.017, 0.022], \"hoverinfo\": \"text\", \"marker\": {\"color\": \"orange\"}, \"xaxis\": \"x15\", \"yaxis\": \"y15\"}], {\"xaxis1\": {\"domain\": [0.0, 0.2333333333333333], \"anchor\": \"y1\", \"showticklabels\": false}, \"yaxis1\": {\"domain\": [0.8400000000000001, 1.0], \"anchor\": \"x1\", \"ticklen\": 3, \"tickfont\": {\"size\": 11, \"color\": \"lightgrey\"}}, \"xaxis2\": {\"domain\": [0.3833333333333333, 0.6166666666666666], \"anchor\": \"y2\", \"showticklabels\": false}, \"yaxis2\": {\"domain\": [0.8400000000000001, 1.0], \"anchor\": \"x2\", \"ticklen\": 3, \"tickfont\": {\"size\": 11, \"color\": \"lightgrey\"}}, \"xaxis3\": {\"domain\": [0.7666666666666666, 0.9999999999999999], \"anchor\": \"y3\", \"showticklabels\": false}, \"yaxis3\": {\"domain\": [0.8400000000000001, 1.0], \"anchor\": \"x3\", \"ticklen\": 3, \"tickfont\": {\"size\": 11, \"color\": \"lightgrey\"}}, \"xaxis4\": {\"domain\": [0.0, 0.2333333333333333], \"anchor\": \"y4\", \"showticklabels\": false}, \"yaxis4\": {\"domain\": [0.63, 0.79], \"anchor\": \"x4\", \"ticklen\": 3, \"tickfont\": {\"size\": 11, \"color\": \"lightgrey\"}}, \"xaxis5\": {\"domain\": [0.3833333333333333, 0.6166666666666666], \"anchor\": \"y5\", \"showticklabels\": false}, \"yaxis5\": {\"domain\": [0.63, 0.79], \"anchor\": \"x5\", \"ticklen\": 3, \"tickfont\": {\"size\": 11, \"color\": \"lightgrey\"}}, \"xaxis6\": {\"domain\": [0.7666666666666666, 0.9999999999999999], \"anchor\": \"y6\", \"showticklabels\": false}, \"yaxis6\": {\"domain\": [0.63, 0.79], \"anchor\": \"x6\", \"ticklen\": 3, \"tickfont\": {\"size\": 11, \"color\": \"lightgrey\"}}, \"xaxis7\": {\"domain\": [0.0, 0.2333333333333333], \"anchor\": \"y7\", \"showticklabels\": false}, \"yaxis7\": {\"domain\": [0.42000000000000004, 0.5800000000000001], \"anchor\": \"x7\", \"ticklen\": 3, \"tickfont\": {\"size\": 11, \"color\": \"lightgrey\"}}, \"xaxis8\": {\"domain\": [0.3833333333333333, 0.6166666666666666], \"anchor\": \"y8\", \"showticklabels\": false}, \"yaxis8\": {\"domain\": [0.42000000000000004, 0.5800000000000001], \"anchor\": \"x8\", \"ticklen\": 3, \"tickfont\": {\"size\": 11, \"color\": \"lightgrey\"}}, \"xaxis9\": {\"domain\": [0.7666666666666666, 0.9999999999999999], \"anchor\": \"y9\", \"showticklabels\": false}, \"yaxis9\": {\"domain\": [0.42000000000000004, 0.5800000000000001], \"anchor\": \"x9\", \"ticklen\": 3, \"tickfont\": {\"size\": 11, \"color\": \"lightgrey\"}}, \"xaxis10\": {\"domain\": [0.0, 0.2333333333333333], \"anchor\": \"y10\", \"showticklabels\": false}, \"yaxis10\": {\"domain\": [0.21000000000000002, 0.37], \"anchor\": \"x10\", \"ticklen\": 3, \"tickfont\": {\"size\": 11, \"color\": \"lightgrey\"}}, \"xaxis11\": {\"domain\": [0.3833333333333333, 0.6166666666666666], \"anchor\": \"y11\", \"showticklabels\": false}, \"yaxis11\": {\"domain\": [0.21000000000000002, 0.37], \"anchor\": \"x11\", \"ticklen\": 3, \"tickfont\": {\"size\": 11, \"color\": \"lightgrey\"}}, \"xaxis12\": {\"domain\": [0.7666666666666666, 0.9999999999999999], \"anchor\": \"y12\", \"showticklabels\": false}, \"yaxis12\": {\"domain\": [0.21000000000000002, 0.37], \"anchor\": \"x12\", \"ticklen\": 3, \"tickfont\": {\"size\": 11, \"color\": \"lightgrey\"}}, \"xaxis13\": {\"domain\": [0.0, 0.2333333333333333], \"anchor\": \"y13\", \"showticklabels\": false}, \"yaxis13\": {\"domain\": [0.0, 0.16], \"anchor\": \"x13\", \"ticklen\": 3, \"tickfont\": {\"size\": 11, \"color\": \"lightgrey\"}}, \"xaxis14\": {\"domain\": [0.3833333333333333, 0.6166666666666666], \"anchor\": \"y14\", \"showticklabels\": false}, \"yaxis14\": {\"domain\": [0.0, 0.16], \"anchor\": \"x14\", \"ticklen\": 3, \"tickfont\": {\"size\": 11, \"color\": \"lightgrey\"}}, \"xaxis15\": {\"domain\": [0.7666666666666666, 0.9999999999999999], \"anchor\": \"y15\", \"showticklabels\": false}, \"yaxis15\": {\"domain\": [0.0, 0.16], \"anchor\": \"x15\", \"ticklen\": 3, \"tickfont\": {\"size\": 11, \"color\": \"lightgrey\"}}, \"annotations\": [{\"y\": 1.0, \"xref\": \"paper\", \"x\": 0.11666666666666665, \"yref\": \"paper\", \"text\": \"estimate\", \"showarrow\": false, \"font\": {\"size\": 16}, \"xanchor\": \"center\", \"yanchor\": \"bottom\"}, {\"y\": 1.0, \"xref\": \"paper\", \"x\": 0.49999999999999994, \"yref\": \"paper\", \"text\": \"algorithm\", \"showarrow\": false, \"font\": {\"size\": 16}, \"xanchor\": \"center\", \"yanchor\": \"bottom\"}, {\"y\": 1.0, \"xref\": \"paper\", \"x\": 0.8833333333333333, \"yref\": \"paper\", \"text\": \"operator\", \"showarrow\": false, \"font\": {\"size\": 16}, \"xanchor\": \"center\", \"yanchor\": \"bottom\"}, {\"y\": 0.79, \"xref\": \"paper\", \"x\": 0.11666666666666665, \"yref\": \"paper\", \"text\": \"model\", \"showarrow\": false, \"font\": {\"size\": 16}, \"xanchor\": \"center\", \"yanchor\": \"bottom\"}, {\"y\": 0.79, \"xref\": \"paper\", \"x\": 0.49999999999999994, \"yref\": \"paper\", \"text\": \"log\", \"showarrow\": false, \"font\": {\"size\": 16}, \"xanchor\": \"center\", \"yanchor\": \"bottom\"}, {\"y\": 0.79, \"xref\": \"paper\", \"x\": 0.8833333333333333, \"yref\": \"paper\", \"text\": \"graph\", \"showarrow\": false, \"font\": {\"size\": 16}, \"xanchor\": \"center\", \"yanchor\": \"bottom\"}, {\"y\": 0.5800000000000001, \"xref\": \"paper\", \"x\": 0.11666666666666665, \"yref\": \"paper\", \"text\": \"control\", \"showarrow\": false, \"font\": {\"size\": 16}, \"xanchor\": \"center\", \"yanchor\": \"bottom\"}, {\"y\": 0.5800000000000001, \"xref\": \"paper\", \"x\": 0.49999999999999994, \"yref\": \"paper\", \"text\": \"code\", \"showarrow\": false, \"font\": {\"size\": 16}, \"xanchor\": \"center\", \"yanchor\": \"bottom\"}, {\"y\": 0.5800000000000001, \"xref\": \"paper\", \"x\": 0.8833333333333333, \"yref\": \"paper\", \"text\": \"channel\", \"showarrow\": false, \"font\": {\"size\": 16}, \"xanchor\": \"center\", \"yanchor\": \"bottom\"}, {\"y\": 0.37, \"xref\": \"paper\", \"x\": 0.11666666666666665, \"yref\": \"paper\", \"text\": \"group\", \"showarrow\": false, \"font\": {\"size\": 16}, \"xanchor\": \"center\", \"yanchor\": \"bottom\"}, {\"y\": 0.37, \"xref\": \"paper\", \"x\": 0.49999999999999994, \"yref\": \"paper\", \"text\": \"metric\", \"showarrow\": false, \"font\": {\"size\": 16}, \"xanchor\": \"center\", \"yanchor\": \"bottom\"}, {\"y\": 0.37, \"xref\": \"paper\", \"x\": 0.8833333333333333, \"yref\": \"paper\", \"text\": \"polynomial\", \"showarrow\": false, \"font\": {\"size\": 16}, \"xanchor\": \"center\", \"yanchor\": \"bottom\"}, {\"y\": 0.16, \"xref\": \"paper\", \"x\": 0.11666666666666665, \"yref\": \"paper\", \"text\": \"operator\", \"showarrow\": false, \"font\": {\"size\": 16}, \"xanchor\": \"center\", \"yanchor\": \"bottom\"}, {\"y\": 0.16, \"xref\": \"paper\", \"x\": 0.49999999999999994, \"yref\": \"paper\", \"text\": \"algebra\", \"showarrow\": false, \"font\": {\"size\": 16}, \"xanchor\": \"center\", \"yanchor\": \"bottom\"}, {\"y\": 0.16, \"xref\": \"paper\", \"x\": 0.8833333333333333, \"yref\": \"paper\", \"text\": \"module\", \"showarrow\": false, \"font\": {\"size\": 16}, \"xanchor\": \"center\", \"yanchor\": \"bottom\"}], \"height\": 650, \"width\": 750, \"showlegend\": false, \"title\": \"\", \"margin\": {\"t\": 50, \"l\": 120, \"b\": 20}}, {\"showLink\": false, \"linkText\": \"Export to plot.ly\"})});</script>"
      ],
      "text/vnd.plotly.v1+html": [
       "<div id=\"c7fda266-e8d2-4bdd-b999-98a7d9fb3c78\" style=\"height: 650px; width: 750px;\" class=\"plotly-graph-div\"></div><script type=\"text/javascript\">require([\"plotly\"], function(Plotly) { window.PLOTLYENV=window.PLOTLYENV || {};window.PLOTLYENV.BASE_URL=\"https://plot.ly\";Plotly.newPlot(\"c7fda266-e8d2-4bdd-b999-98a7d9fb3c78\", [{\"type\": \"bar\", \"x\": [0.006, 0.007, 0.007, 0.007, 0.007, 0.008], \"y\": [\"div\", \"scheme\", \"error\", \"boundary\", \"domain\", \"estimate\"], \"orientation\": \"h\", \"text\": [0.006, 0.007, 0.007, 0.007, 0.007, 0.008], \"hoverinfo\": \"text\", \"marker\": {\"color\": \"orange\"}, \"xaxis\": \"x1\", \"yaxis\": \"y1\"}, {\"type\": \"bar\", \"x\": [0.005, 0.005, 0.005, 0.006, 0.01, 0.023], \"y\": [\"constraint\", \"approximation\", \"iteration\", \"model\", \"matrix\", \"algorithm\"], \"orientation\": \"h\", \"text\": [0.005, 0.005, 0.005, 0.006, 0.01, 0.023], \"hoverinfo\": \"text\", \"marker\": {\"color\": \"orange\"}, \"xaxis\": \"x2\", \"yaxis\": \"y2\"}, {\"type\": \"bar\", \"x\": [0.007, 0.008, 0.008, 0.009, 0.012, 0.026], \"y\": [\"sup\", \"continuou\", \"inequality\", \"norm\", \"estimate\", \"operator\"], \"orientation\": \"h\", \"text\": [0.007, 0.008, 0.008, 0.009, 0.012, 0.026], \"hoverinfo\": \"text\", \"marker\": {\"color\": \"orange\"}, \"xaxis\": \"x3\", \"yaxis\": \"y3\"}, {\"type\": \"bar\", \"x\": [0.004, 0.006, 0.006, 0.007, 0.009, 0.011], \"y\": [\"dynamic\", \"integral\", \"variable\", \"figure\", \"parameter\", \"model\"], \"orientation\": \"h\", \"text\": [0.004, 0.006, 0.006, 0.007, 0.009, 0.011], \"hoverinfo\": \"text\", \"marker\": {\"color\": \"orange\"}, \"xaxis\": \"x4\", \"yaxis\": \"y4\"}, {\"type\": \"bar\", \"x\": [0.009, 0.009, 0.009, 0.011, 0.014, 0.022], \"y\": [\"distribution\", \"process\", \"probability\", \"random\", \"measure\", \"log\"], \"orientation\": \"h\", \"text\": [0.009, 0.009, 0.009, 0.011, 0.014, 0.022], \"hoverinfo\": \"text\", \"marker\": {\"color\": \"orange\"}, \"xaxis\": \"x5\", \"yaxis\": \"y5\"}, {\"type\": \"bar\", \"x\": [0.01, 0.011, 0.018, 0.021, 0.024, 0.043], \"y\": [\"path\", \"figure\", \"vertice\", \"vertex\", \"edge\", \"graph\"], \"orientation\": \"h\", \"text\": [0.01, 0.011, 0.018, 0.021, 0.024, 0.043], \"hoverinfo\": \"text\", \"marker\": {\"color\": \"orange\"}, \"xaxis\": \"x6\", \"yaxis\": \"y6\"}, {\"type\": \"bar\", \"x\": [0.007, 0.01, 0.011, 0.012, 0.012, 0.028], \"y\": [\"agent\", \"stability\", \"model\", \"network\", \"dynamic\", \"control\"], \"orientation\": \"h\", \"text\": [0.007, 0.01, 0.011, 0.012, 0.012, 0.028], \"hoverinfo\": \"text\", \"marker\": {\"color\": \"orange\"}, \"xaxis\": \"x7\", \"yaxis\": \"y7\"}, {\"type\": \"bar\", \"x\": [0.006, 0.006, 0.007, 0.007, 0.009, 0.022], \"y\": [\"length\", \"distribution\", \"size\", \"block\", \"bound\", \"code\"], \"orientation\": \"h\", \"text\": [0.006, 0.006, 0.007, 0.007, 0.009, 0.022], \"hoverinfo\": \"text\", \"marker\": {\"color\": \"orange\"}, \"xaxis\": \"x8\", \"yaxis\": \"y8\"}, {\"type\": \"bar\", \"x\": [0.006, 0.006, 0.007, 0.007, 0.01, 0.013], \"y\": [\"model\", \"power\", \"rate\", \"network\", \"user\", \"channel\"], \"orientation\": \"h\", \"text\": [0.006, 0.006, 0.007, 0.007, 0.01, 0.013], \"hoverinfo\": \"text\", \"marker\": {\"color\": \"orange\"}, \"xaxis\": \"x9\", \"yaxis\": \"y9\"}, {\"type\": \"bar\", \"x\": [0.006, 0.006, 0.007, 0.011, 0.013, 0.047], \"y\": [\"representation\", \"closed\", \"subset\", \"action\", \"subgroup\", \"group\"], \"orientation\": \"h\", \"text\": [0.006, 0.006, 0.007, 0.011, 0.013, 0.047], \"hoverinfo\": \"text\", \"marker\": {\"color\": \"orange\"}, \"xaxis\": \"x10\", \"yaxis\": \"y10\"}, {\"type\": \"bar\", \"x\": [0.008, 0.008, 0.012, 0.012, 0.013, 0.015], \"y\": [\"surface\", \"smooth\", \"manifold\", \"boundary\", \"curve\", \"metric\"], \"orientation\": \"h\", \"text\": [0.008, 0.008, 0.012, 0.012, 0.013, 0.015], \"hoverinfo\": \"text\", \"marker\": {\"color\": \"orange\"}, \"xaxis\": \"x11\", \"yaxis\": \"y11\"}, {\"type\": \"bar\", \"x\": [0.008, 0.008, 0.009, 0.009, 0.01, 0.02], \"y\": [\"degree\", \"prime\", \"matrix\", \"mod\", \"integer\", \"polynomial\"], \"orientation\": \"h\", \"text\": [0.008, 0.008, 0.009, 0.009, 0.01, 0.02], \"hoverinfo\": \"text\", \"marker\": {\"color\": \"orange\"}, \"xaxis\": \"x12\", \"yaxis\": \"y12\"}, {\"type\": \"bar\", \"x\": [0.007, 0.007, 0.008, 0.009, 0.016, 0.02], \"y\": [\"model\", \"field\", \"spectral\", \"matrix\", \"eigenvalue\", \"operator\"], \"orientation\": \"h\", \"text\": [0.007, 0.007, 0.008, 0.009, 0.016, 0.02], \"hoverinfo\": \"text\", \"marker\": {\"color\": \"orange\"}, \"xaxis\": \"x13\", \"yaxis\": \"y13\"}, {\"type\": \"bar\", \"x\": [0.007, 0.007, 0.008, 0.009, 0.009, 0.021], \"y\": [\"bundle\", \"manifold\", \"complex\", \"invariant\", \"action\", \"algebra\"], \"orientation\": \"h\", \"text\": [0.007, 0.007, 0.008, 0.009, 0.009, 0.021], \"hoverinfo\": \"text\", \"marker\": {\"color\": \"orange\"}, \"xaxis\": \"x14\", \"yaxis\": \"y14\"}, {\"type\": \"bar\", \"x\": [0.01, 0.01, 0.013, 0.013, 0.017, 0.022], \"y\": [\"functor\", \"object\", \"category\", \"morphism\", \"algebra\", \"module\"], \"orientation\": \"h\", \"text\": [0.01, 0.01, 0.013, 0.013, 0.017, 0.022], \"hoverinfo\": \"text\", \"marker\": {\"color\": \"orange\"}, \"xaxis\": \"x15\", \"yaxis\": \"y15\"}], {\"xaxis1\": {\"domain\": [0.0, 0.2333333333333333], \"anchor\": \"y1\", \"showticklabels\": false}, \"yaxis1\": {\"domain\": [0.8400000000000001, 1.0], \"anchor\": \"x1\", \"ticklen\": 3, \"tickfont\": {\"size\": 11, \"color\": \"lightgrey\"}}, \"xaxis2\": {\"domain\": [0.3833333333333333, 0.6166666666666666], \"anchor\": \"y2\", \"showticklabels\": false}, \"yaxis2\": {\"domain\": [0.8400000000000001, 1.0], \"anchor\": \"x2\", \"ticklen\": 3, \"tickfont\": {\"size\": 11, \"color\": \"lightgrey\"}}, \"xaxis3\": {\"domain\": [0.7666666666666666, 0.9999999999999999], \"anchor\": \"y3\", \"showticklabels\": false}, \"yaxis3\": {\"domain\": [0.8400000000000001, 1.0], \"anchor\": \"x3\", \"ticklen\": 3, \"tickfont\": {\"size\": 11, \"color\": \"lightgrey\"}}, \"xaxis4\": {\"domain\": [0.0, 0.2333333333333333], \"anchor\": \"y4\", \"showticklabels\": false}, \"yaxis4\": {\"domain\": [0.63, 0.79], \"anchor\": \"x4\", \"ticklen\": 3, \"tickfont\": {\"size\": 11, \"color\": \"lightgrey\"}}, \"xaxis5\": {\"domain\": [0.3833333333333333, 0.6166666666666666], \"anchor\": \"y5\", \"showticklabels\": false}, \"yaxis5\": {\"domain\": [0.63, 0.79], \"anchor\": \"x5\", \"ticklen\": 3, \"tickfont\": {\"size\": 11, \"color\": \"lightgrey\"}}, \"xaxis6\": {\"domain\": [0.7666666666666666, 0.9999999999999999], \"anchor\": \"y6\", \"showticklabels\": false}, \"yaxis6\": {\"domain\": [0.63, 0.79], \"anchor\": \"x6\", \"ticklen\": 3, \"tickfont\": {\"size\": 11, \"color\": \"lightgrey\"}}, \"xaxis7\": {\"domain\": [0.0, 0.2333333333333333], \"anchor\": \"y7\", \"showticklabels\": false}, \"yaxis7\": {\"domain\": [0.42000000000000004, 0.5800000000000001], \"anchor\": \"x7\", \"ticklen\": 3, \"tickfont\": {\"size\": 11, \"color\": \"lightgrey\"}}, \"xaxis8\": {\"domain\": [0.3833333333333333, 0.6166666666666666], \"anchor\": \"y8\", \"showticklabels\": false}, \"yaxis8\": {\"domain\": [0.42000000000000004, 0.5800000000000001], \"anchor\": \"x8\", \"ticklen\": 3, \"tickfont\": {\"size\": 11, \"color\": \"lightgrey\"}}, \"xaxis9\": {\"domain\": [0.7666666666666666, 0.9999999999999999], \"anchor\": \"y9\", \"showticklabels\": false}, \"yaxis9\": {\"domain\": [0.42000000000000004, 0.5800000000000001], \"anchor\": \"x9\", \"ticklen\": 3, \"tickfont\": {\"size\": 11, \"color\": \"lightgrey\"}}, \"xaxis10\": {\"domain\": [0.0, 0.2333333333333333], \"anchor\": \"y10\", \"showticklabels\": false}, \"yaxis10\": {\"domain\": [0.21000000000000002, 0.37], \"anchor\": \"x10\", \"ticklen\": 3, \"tickfont\": {\"size\": 11, \"color\": \"lightgrey\"}}, \"xaxis11\": {\"domain\": [0.3833333333333333, 0.6166666666666666], \"anchor\": \"y11\", \"showticklabels\": false}, \"yaxis11\": {\"domain\": [0.21000000000000002, 0.37], \"anchor\": \"x11\", \"ticklen\": 3, \"tickfont\": {\"size\": 11, \"color\": \"lightgrey\"}}, \"xaxis12\": {\"domain\": [0.7666666666666666, 0.9999999999999999], \"anchor\": \"y12\", \"showticklabels\": false}, \"yaxis12\": {\"domain\": [0.21000000000000002, 0.37], \"anchor\": \"x12\", \"ticklen\": 3, \"tickfont\": {\"size\": 11, \"color\": \"lightgrey\"}}, \"xaxis13\": {\"domain\": [0.0, 0.2333333333333333], \"anchor\": \"y13\", \"showticklabels\": false}, \"yaxis13\": {\"domain\": [0.0, 0.16], \"anchor\": \"x13\", \"ticklen\": 3, \"tickfont\": {\"size\": 11, \"color\": \"lightgrey\"}}, \"xaxis14\": {\"domain\": [0.3833333333333333, 0.6166666666666666], \"anchor\": \"y14\", \"showticklabels\": false}, \"yaxis14\": {\"domain\": [0.0, 0.16], \"anchor\": \"x14\", \"ticklen\": 3, \"tickfont\": {\"size\": 11, \"color\": \"lightgrey\"}}, \"xaxis15\": {\"domain\": [0.7666666666666666, 0.9999999999999999], \"anchor\": \"y15\", \"showticklabels\": false}, \"yaxis15\": {\"domain\": [0.0, 0.16], \"anchor\": \"x15\", \"ticklen\": 3, \"tickfont\": {\"size\": 11, \"color\": \"lightgrey\"}}, \"annotations\": [{\"y\": 1.0, \"xref\": \"paper\", \"x\": 0.11666666666666665, \"yref\": \"paper\", \"text\": \"estimate\", \"showarrow\": false, \"font\": {\"size\": 16}, \"xanchor\": \"center\", \"yanchor\": \"bottom\"}, {\"y\": 1.0, \"xref\": \"paper\", \"x\": 0.49999999999999994, \"yref\": \"paper\", \"text\": \"algorithm\", \"showarrow\": false, \"font\": {\"size\": 16}, \"xanchor\": \"center\", \"yanchor\": \"bottom\"}, {\"y\": 1.0, \"xref\": \"paper\", \"x\": 0.8833333333333333, \"yref\": \"paper\", \"text\": \"operator\", \"showarrow\": false, \"font\": {\"size\": 16}, \"xanchor\": \"center\", \"yanchor\": \"bottom\"}, {\"y\": 0.79, \"xref\": \"paper\", \"x\": 0.11666666666666665, \"yref\": \"paper\", \"text\": \"model\", \"showarrow\": false, \"font\": {\"size\": 16}, \"xanchor\": \"center\", \"yanchor\": \"bottom\"}, {\"y\": 0.79, \"xref\": \"paper\", \"x\": 0.49999999999999994, \"yref\": \"paper\", \"text\": \"log\", \"showarrow\": false, \"font\": {\"size\": 16}, \"xanchor\": \"center\", \"yanchor\": \"bottom\"}, {\"y\": 0.79, \"xref\": \"paper\", \"x\": 0.8833333333333333, \"yref\": \"paper\", \"text\": \"graph\", \"showarrow\": false, \"font\": {\"size\": 16}, \"xanchor\": \"center\", \"yanchor\": \"bottom\"}, {\"y\": 0.5800000000000001, \"xref\": \"paper\", \"x\": 0.11666666666666665, \"yref\": \"paper\", \"text\": \"control\", \"showarrow\": false, \"font\": {\"size\": 16}, \"xanchor\": \"center\", \"yanchor\": \"bottom\"}, {\"y\": 0.5800000000000001, \"xref\": \"paper\", \"x\": 0.49999999999999994, \"yref\": \"paper\", \"text\": \"code\", \"showarrow\": false, \"font\": {\"size\": 16}, \"xanchor\": \"center\", \"yanchor\": \"bottom\"}, {\"y\": 0.5800000000000001, \"xref\": \"paper\", \"x\": 0.8833333333333333, \"yref\": \"paper\", \"text\": \"channel\", \"showarrow\": false, \"font\": {\"size\": 16}, \"xanchor\": \"center\", \"yanchor\": \"bottom\"}, {\"y\": 0.37, \"xref\": \"paper\", \"x\": 0.11666666666666665, \"yref\": \"paper\", \"text\": \"group\", \"showarrow\": false, \"font\": {\"size\": 16}, \"xanchor\": \"center\", \"yanchor\": \"bottom\"}, {\"y\": 0.37, \"xref\": \"paper\", \"x\": 0.49999999999999994, \"yref\": \"paper\", \"text\": \"metric\", \"showarrow\": false, \"font\": {\"size\": 16}, \"xanchor\": \"center\", \"yanchor\": \"bottom\"}, {\"y\": 0.37, \"xref\": \"paper\", \"x\": 0.8833333333333333, \"yref\": \"paper\", \"text\": \"polynomial\", \"showarrow\": false, \"font\": {\"size\": 16}, \"xanchor\": \"center\", \"yanchor\": \"bottom\"}, {\"y\": 0.16, \"xref\": \"paper\", \"x\": 0.11666666666666665, \"yref\": \"paper\", \"text\": \"operator\", \"showarrow\": false, \"font\": {\"size\": 16}, \"xanchor\": \"center\", \"yanchor\": \"bottom\"}, {\"y\": 0.16, \"xref\": \"paper\", \"x\": 0.49999999999999994, \"yref\": \"paper\", \"text\": \"algebra\", \"showarrow\": false, \"font\": {\"size\": 16}, \"xanchor\": \"center\", \"yanchor\": \"bottom\"}, {\"y\": 0.16, \"xref\": \"paper\", \"x\": 0.8833333333333333, \"yref\": \"paper\", \"text\": \"module\", \"showarrow\": false, \"font\": {\"size\": 16}, \"xanchor\": \"center\", \"yanchor\": \"bottom\"}], \"height\": 650, \"width\": 750, \"showlegend\": false, \"title\": \"\", \"margin\": {\"t\": 50, \"l\": 120, \"b\": 20}}, {\"showLink\": false, \"linkText\": \"Export to plot.ly\"})});</script>"
      ]
     },
     "metadata": {},
     "output_type": "display_data"
    }
   ],
   "source": [
    "lda_topics(volume)"
   ]
  },
  {
   "cell_type": "code",
   "execution_count": 7,
   "metadata": {},
   "outputs": [
    {
     "data": {
      "text/markdown": [
       "\n",
       "| Topic title | Articles |\n",
       "| --- | --- |\n",
       "| estimate, scheme | [1702.04971](https://arxiv.org/pdf/1702.04971.pdf)&nbsp;&nbsp;&nbsp;&nbsp;[1705.03038](https://arxiv.org/pdf/1705.03038.pdf)&nbsp;&nbsp;&nbsp;&nbsp;[1703.02328](https://arxiv.org/pdf/1703.02328.pdf)&nbsp;&nbsp;&nbsp;&nbsp;[1701.04950](https://arxiv.org/pdf/1701.04950.pdf)&nbsp;&nbsp;&nbsp;&nbsp;[1705.06606](https://arxiv.org/pdf/1705.06606.pdf)&nbsp;&nbsp;&nbsp;&nbsp; |\n",
       "| algorithm, matrix | [1704.07083](https://arxiv.org/pdf/1704.07083.pdf)&nbsp;&nbsp;&nbsp;&nbsp;[1706.05795](https://arxiv.org/pdf/1706.05795.pdf)&nbsp;&nbsp;&nbsp;&nbsp;[1702.04783](https://arxiv.org/pdf/1702.04783.pdf)&nbsp;&nbsp;&nbsp;&nbsp;[1702.05423](https://arxiv.org/pdf/1702.05423.pdf)&nbsp;&nbsp;&nbsp;&nbsp;[1710.05782](https://arxiv.org/pdf/1710.05782.pdf)&nbsp;&nbsp;&nbsp;&nbsp; |\n",
       "| operator, estimate | [1701.01990](https://arxiv.org/pdf/1701.01990.pdf)&nbsp;&nbsp;&nbsp;&nbsp;[1708.03701](https://arxiv.org/pdf/1708.03701.pdf)&nbsp;&nbsp;&nbsp;&nbsp;[1702.03384](https://arxiv.org/pdf/1702.03384.pdf)&nbsp;&nbsp;&nbsp;&nbsp;[1702.04976](https://arxiv.org/pdf/1702.04976.pdf)&nbsp;&nbsp;&nbsp;&nbsp;[1709.02804](https://arxiv.org/pdf/1709.02804.pdf)&nbsp;&nbsp;&nbsp;&nbsp; |\n",
       "| model, parameter | [1703.00540](https://arxiv.org/pdf/1703.00540.pdf)&nbsp;&nbsp;&nbsp;&nbsp;[1709.00520](https://arxiv.org/pdf/1709.00520.pdf)&nbsp;&nbsp;&nbsp;&nbsp;[1703.01613](https://arxiv.org/pdf/1703.01613.pdf)&nbsp;&nbsp;&nbsp;&nbsp;[1709.04971](https://arxiv.org/pdf/1709.04971.pdf)&nbsp;&nbsp;&nbsp;&nbsp;[1703.06121](https://arxiv.org/pdf/1703.06121.pdf)&nbsp;&nbsp;&nbsp;&nbsp; |\n",
       "| log, measure | [1710.07167](https://arxiv.org/pdf/1710.07167.pdf)&nbsp;&nbsp;&nbsp;&nbsp;[1712.04214](https://arxiv.org/pdf/1712.04214.pdf)&nbsp;&nbsp;&nbsp;&nbsp;[1705.04115](https://arxiv.org/pdf/1705.04115.pdf)&nbsp;&nbsp;&nbsp;&nbsp;[1708.04496](https://arxiv.org/pdf/1708.04496.pdf)&nbsp;&nbsp;&nbsp;&nbsp;[1708.06707](https://arxiv.org/pdf/1708.06707.pdf)&nbsp;&nbsp;&nbsp;&nbsp; |\n",
       "| graph, edge | [1707.01967](https://arxiv.org/pdf/1707.01967.pdf)&nbsp;&nbsp;&nbsp;&nbsp;[1707.07123](https://arxiv.org/pdf/1707.07123.pdf)&nbsp;&nbsp;&nbsp;&nbsp;[1709.05219](https://arxiv.org/pdf/1709.05219.pdf)&nbsp;&nbsp;&nbsp;&nbsp;[1704.04695](https://arxiv.org/pdf/1704.04695.pdf)&nbsp;&nbsp;&nbsp;&nbsp;[1708.00844](https://arxiv.org/pdf/1708.00844.pdf)&nbsp;&nbsp;&nbsp;&nbsp; |\n",
       "| control, network | [1704.05936](https://arxiv.org/pdf/1704.05936.pdf)&nbsp;&nbsp;&nbsp;&nbsp;[1704.00327](https://arxiv.org/pdf/1704.00327.pdf)&nbsp;&nbsp;&nbsp;&nbsp;[1701.05665](https://arxiv.org/pdf/1701.05665.pdf)&nbsp;&nbsp;&nbsp;&nbsp;[1711.02278](https://arxiv.org/pdf/1711.02278.pdf)&nbsp;&nbsp;&nbsp;&nbsp;[1712.02235](https://arxiv.org/pdf/1712.02235.pdf)&nbsp;&nbsp;&nbsp;&nbsp; |\n",
       "| code, bound | [1707.05039](https://arxiv.org/pdf/1707.05039.pdf)&nbsp;&nbsp;&nbsp;&nbsp;[1705.05528](https://arxiv.org/pdf/1705.05528.pdf)&nbsp;&nbsp;&nbsp;&nbsp;[1703.02328](https://arxiv.org/pdf/1703.02328.pdf)&nbsp;&nbsp;&nbsp;&nbsp;[1710.05602](https://arxiv.org/pdf/1710.05602.pdf)&nbsp;&nbsp;&nbsp;&nbsp;[1710.07167](https://arxiv.org/pdf/1710.07167.pdf)&nbsp;&nbsp;&nbsp;&nbsp; |\n",
       "| channel, user | [1712.02235](https://arxiv.org/pdf/1712.02235.pdf)&nbsp;&nbsp;&nbsp;&nbsp;[1702.01198](https://arxiv.org/pdf/1702.01198.pdf)&nbsp;&nbsp;&nbsp;&nbsp;[1702.01864](https://arxiv.org/pdf/1702.01864.pdf)&nbsp;&nbsp;&nbsp;&nbsp;[1710.02796](https://arxiv.org/pdf/1710.02796.pdf)&nbsp;&nbsp;&nbsp;&nbsp;[1711.03961](https://arxiv.org/pdf/1711.03961.pdf)&nbsp;&nbsp;&nbsp;&nbsp; |\n",
       "| group, subgroup | [1702.02649](https://arxiv.org/pdf/1702.02649.pdf)&nbsp;&nbsp;&nbsp;&nbsp;[1708.03550](https://arxiv.org/pdf/1708.03550.pdf)&nbsp;&nbsp;&nbsp;&nbsp;[1708.01896](https://arxiv.org/pdf/1708.01896.pdf)&nbsp;&nbsp;&nbsp;&nbsp;[1708.06620](https://arxiv.org/pdf/1708.06620.pdf)&nbsp;&nbsp;&nbsp;&nbsp;[1707.02066](https://arxiv.org/pdf/1707.02066.pdf)&nbsp;&nbsp;&nbsp;&nbsp; |\n",
       "| metric, curve | [1705.04208](https://arxiv.org/pdf/1705.04208.pdf)&nbsp;&nbsp;&nbsp;&nbsp;[1709.03447](https://arxiv.org/pdf/1709.03447.pdf)&nbsp;&nbsp;&nbsp;&nbsp;[1704.06385](https://arxiv.org/pdf/1704.06385.pdf)&nbsp;&nbsp;&nbsp;&nbsp;[1703.04119](https://arxiv.org/pdf/1703.04119.pdf)&nbsp;&nbsp;&nbsp;&nbsp;[1712.06055](https://arxiv.org/pdf/1712.06055.pdf)&nbsp;&nbsp;&nbsp;&nbsp; |\n",
       "| polynomial, integer | [1708.01940](https://arxiv.org/pdf/1708.01940.pdf)&nbsp;&nbsp;&nbsp;&nbsp;[1707.04965](https://arxiv.org/pdf/1707.04965.pdf)&nbsp;&nbsp;&nbsp;&nbsp;[1704.01449](https://arxiv.org/pdf/1704.01449.pdf)&nbsp;&nbsp;&nbsp;&nbsp;[1704.07083](https://arxiv.org/pdf/1704.07083.pdf)&nbsp;&nbsp;&nbsp;&nbsp;[1705.01419](https://arxiv.org/pdf/1705.01419.pdf)&nbsp;&nbsp;&nbsp;&nbsp; |\n",
       "| operator, eigenvalue | [1701.01990](https://arxiv.org/pdf/1701.01990.pdf)&nbsp;&nbsp;&nbsp;&nbsp;[1708.03701](https://arxiv.org/pdf/1708.03701.pdf)&nbsp;&nbsp;&nbsp;&nbsp;[1702.03384](https://arxiv.org/pdf/1702.03384.pdf)&nbsp;&nbsp;&nbsp;&nbsp;[1705.03038](https://arxiv.org/pdf/1705.03038.pdf)&nbsp;&nbsp;&nbsp;&nbsp;[1710.07074](https://arxiv.org/pdf/1710.07074.pdf)&nbsp;&nbsp;&nbsp;&nbsp; |\n",
       "| algebra, invariant | [1711.03706](https://arxiv.org/pdf/1711.03706.pdf)&nbsp;&nbsp;&nbsp;&nbsp;[1708.00203](https://arxiv.org/pdf/1708.00203.pdf)&nbsp;&nbsp;&nbsp;&nbsp;[1702.01086](https://arxiv.org/pdf/1702.01086.pdf)&nbsp;&nbsp;&nbsp;&nbsp;[1709.03910](https://arxiv.org/pdf/1709.03910.pdf)&nbsp;&nbsp;&nbsp;&nbsp;[1711.03216](https://arxiv.org/pdf/1711.03216.pdf)&nbsp;&nbsp;&nbsp;&nbsp; |\n",
       "| module, algebra | [1702.01086](https://arxiv.org/pdf/1702.01086.pdf)&nbsp;&nbsp;&nbsp;&nbsp;[1704.02409](https://arxiv.org/pdf/1704.02409.pdf)&nbsp;&nbsp;&nbsp;&nbsp;[1707.06795](https://arxiv.org/pdf/1707.06795.pdf)&nbsp;&nbsp;&nbsp;&nbsp;[1712.07336](https://arxiv.org/pdf/1712.07336.pdf)&nbsp;&nbsp;&nbsp;&nbsp;[1703.04794](https://arxiv.org/pdf/1703.04794.pdf)&nbsp;&nbsp;&nbsp;&nbsp; |\n"
      ],
      "text/plain": [
       "<IPython.core.display.Markdown object>"
      ]
     },
     "metadata": {},
     "output_type": "display_data"
    }
   ],
   "source": [
    "lda_articles(volume)"
   ]
  },
  {
   "cell_type": "code",
   "execution_count": 6,
   "metadata": {},
   "outputs": [
    {
     "data": {
      "text/markdown": [
       "\n",
       "| <center>Author(s)<center> | <center>Year<center> | <center>Ref. count<center> |\n",
       "| --- | --- | --- |\n",
       "|<center>J. Math</center>|<center>None</center>|<center>10</center>|\n",
       "|<center>J. Math</center>|<center>None</center>|<center>10</center>|\n",
       "|<center>T. Sturm</center>|<center>2006</center>|<center>7</center>|\n",
       "|<center>J. Simon</center>|<center>None</center>|<center>6</center>|\n",
       "|<center>S. Kimura</center>|<center>2005</center>|<center>5</center>|\n",
       "|<center>J. Math</center>|<center>2013</center>|<center>5</center>|\n",
       "|<center>D. Aldous, I. Ann</center>|<center>None</center>|<center>5</center>|\n",
       "|<center>N. Aronszajn</center>|<center>1950</center>|<center>4</center>|\n",
       "|<center>N. Laskin</center>|<center>2002</center>|<center>4</center>|\n",
       "|<center>A. Beauville, C. Voisin, J. Alg</center>|<center>2004</center>|<center>4</center>|\n",
       "|<center>J. Math</center>|<center>1958</center>|<center>4</center>|\n",
       "|<center>I. Ekeland, J. Math</center>|<center>1974</center>|<center>4</center>|\n",
       "|<center>K. Astala</center>|<center>1994</center>|<center>4</center>|\n",
       "|<center>P. Erd</center>|<center>1947</center>|<center>4</center>|\n",
       "|<center>M. Keel, T. Tao, J. Math</center>|<center>1998</center>|<center>4</center>|\n"
      ],
      "text/plain": [
       "<IPython.core.display.Markdown object>"
      ]
     },
     "metadata": {},
     "output_type": "display_data"
    }
   ],
   "source": [
    "citied_articles(volume, n_cites=15)"
   ]
  },
  {
   "cell_type": "code",
   "execution_count": 4,
   "metadata": {},
   "outputs": [
    {
     "data": {
      "application/vnd.plotly.v1+json": {
       "data": [
        {
         "hoverinfo": "text",
         "marker": {
          "color": "blue"
         },
         "opacity": 1,
         "orientation": "h",
         "text": [
          "n_articles: 18<br>n_coauthors_median: 0",
          "n_articles: 13<br>n_coauthors_median: 1",
          "n_articles: 8<br>n_coauthors_median: 1",
          "n_articles: 7<br>n_coauthors_median: 0"
         ],
         "type": "bar",
         "x": [
          18,
          13,
          8,
          7
         ],
         "xaxis": "x1",
         "y": [
          "Robert Laterveer",
          "Indranil Biswas",
          "Alexandru Dimca",
          "Goncalo Tabuada"
         ],
         "yaxis": "y1"
        },
        {
         "hoverinfo": "text",
         "marker": {
          "color": "blue"
         },
         "opacity": 1,
         "orientation": "h",
         "text": [
          "n_articles: 16<br>n_coauthors_median: 0",
          "n_articles: 12<br>n_coauthors_median: 1",
          "n_articles: 12<br>n_coauthors_median: 0",
          "n_articles: 10<br>n_coauthors_median: 2"
         ],
         "type": "bar",
         "x": [
          16,
          12,
          12,
          10
         ],
         "xaxis": "x2",
         "y": [
          "Veli Shakhmurov",
          "Michael Ruzhansky",
          "Jon Johnsen",
          "Enrico Valdinoci"
         ],
         "yaxis": "y2"
        },
        {
         "hoverinfo": "text",
         "marker": {
          "color": "blue"
         },
         "opacity": 1,
         "orientation": "h",
         "text": [
          "n_articles: 13<br>n_coauthors_median: 1",
          "n_articles: 11<br>n_coauthors_median: 2",
          "n_articles: 10<br>n_coauthors_median: 2",
          "n_articles: 10<br>n_coauthors_median: 2"
         ],
         "type": "bar",
         "x": [
          13,
          11,
          10,
          10
         ],
         "xaxis": "x3",
         "y": [
          "Saeid Alikhani",
          "Benny Sudakov",
          "Abhishek Methuku",
          "Andrey Kupavskii"
         ],
         "yaxis": "y3"
        },
        {
         "hoverinfo": "text",
         "marker": {
          "color": "blue"
         },
         "opacity": 1,
         "orientation": "h",
         "text": [
          "n_articles: 9<br>n_coauthors_median: 1",
          "n_articles: 6<br>n_coauthors_median: 2",
          "n_articles: 6<br>n_coauthors_median: 2",
          "n_articles: 6<br>n_coauthors_median: 2"
         ],
         "type": "bar",
         "x": [
          9,
          6,
          6,
          6
         ],
         "xaxis": "x4",
         "y": [
          "Carlos Matheus",
          "Yilei Tang",
          "Mariusz Lemańczyk",
          "Farrukh Mukhamedov"
         ],
         "yaxis": "y4"
        },
        {
         "hoverinfo": "text",
         "marker": {
          "color": "blue"
         },
         "opacity": 1,
         "orientation": "h",
         "text": [
          "n_articles: 21<br>n_coauthors_median: 3",
          "n_articles: 17<br>n_coauthors_median: 4",
          "n_articles: 17<br>n_coauthors_median: 3",
          "n_articles: 17<br>n_coauthors_median: 3"
         ],
         "type": "bar",
         "x": [
          21,
          17,
          17,
          17
         ],
         "xaxis": "x5",
         "y": [
          "Robert Schober",
          "Zhiguo Ding",
          "Shi Jin",
          "H. Vincent Poor"
         ],
         "yaxis": "y5"
        },
        {
         "hoverinfo": "text",
         "marker": {
          "color": "blue"
         },
         "opacity": 1,
         "orientation": "h",
         "text": [
          "n_articles: 6<br>n_coauthors_median: 2",
          "n_articles: 6<br>n_coauthors_median: 0",
          "n_articles: 6<br>n_coauthors_median: 2",
          "n_articles: 6<br>n_coauthors_median: 2"
         ],
         "type": "bar",
         "x": [
          6,
          6,
          6,
          6
         ],
         "xaxis": "x6",
         "y": [
          "Hongyu Liu",
          "Kohei Motegi",
          "Gunther Uhlmann",
          "Igor Wigman"
         ],
         "yaxis": "y6"
        },
        {
         "hoverinfo": "text",
         "marker": {
          "color": "blue"
         },
         "opacity": 1,
         "orientation": "h",
         "text": [
          "n_articles: 10<br>n_coauthors_median: 2",
          "n_articles: 8<br>n_coauthors_median: 2",
          "n_articles: 8<br>n_coauthors_median: 2",
          "n_articles: 7<br>n_coauthors_median: 2"
         ],
         "type": "bar",
         "x": [
          10,
          8,
          8,
          7
         ],
         "xaxis": "x7",
         "y": [
          "Max Gunzburger",
          "Mats G. Larson",
          "Arnulf Jentzen",
          "Akil Narayan"
         ],
         "yaxis": "y7"
        },
        {
         "hoverinfo": "text",
         "marker": {
          "color": "blue"
         },
         "opacity": 1,
         "orientation": "h",
         "text": [
          "n_articles: 18<br>n_coauthors_median: 0",
          "n_articles: 11<br>n_coauthors_median: 2",
          "n_articles: 11<br>n_coauthors_median: 2",
          "n_articles: 9<br>n_coauthors_median: 1"
         ],
         "type": "bar",
         "x": [
          18,
          11,
          11,
          9
         ],
         "xaxis": "x8",
         "y": [
          "Ce Xu",
          "Igor E. Shparlinski",
          "Florian Luca",
          "Andrew Granville"
         ],
         "yaxis": "y8"
        },
        {
         "hoverinfo": "text",
         "marker": {
          "color": "blue"
         },
         "opacity": 1,
         "orientation": "h",
         "text": [
          "n_articles: 14<br>n_coauthors_median: 2",
          "n_articles: 13<br>n_coauthors_median: 2",
          "n_articles: 9<br>n_coauthors_median: 2",
          "n_articles: 9<br>n_coauthors_median: 1"
         ],
         "type": "bar",
         "x": [
          14,
          13,
          9,
          9
         ],
         "xaxis": "x9",
         "y": [
          "Alexander Gasnikov",
          "Delfim F. M. Torres",
          "Emmanuel Trélat",
          "Giuseppe Notarstefano"
         ],
         "yaxis": "y9"
        },
        {
         "hoverinfo": "text",
         "marker": {
          "color": "blue"
         },
         "opacity": 1,
         "orientation": "h",
         "text": [
          "n_articles: 11<br>n_coauthors_median: 2",
          "n_articles: 10<br>n_coauthors_median: 2",
          "n_articles: 10<br>n_coauthors_median: 0",
          "n_articles: 9<br>n_coauthors_median: 1"
         ],
         "type": "bar",
         "x": [
          11,
          10,
          10,
          9
         ],
         "xaxis": "x10",
         "y": [
          "Yuval Peres",
          "Remco van der Hofstad",
          "Ghurumuruhan Ganesan",
          "Zhen-Qing Chen"
         ],
         "yaxis": "y10"
        }
       ],
       "layout": {
        "annotations": [
         {
          "font": {
           "size": 16
          },
          "showarrow": false,
          "text": "AG",
          "x": 0.1625,
          "xanchor": "center",
          "xref": "paper",
          "y": 1,
          "yanchor": "bottom",
          "yref": "paper"
         },
         {
          "font": {
           "size": 16
          },
          "showarrow": false,
          "text": "AP",
          "x": 0.8375,
          "xanchor": "center",
          "xref": "paper",
          "y": 1,
          "yanchor": "bottom",
          "yref": "paper"
         },
         {
          "font": {
           "size": 16
          },
          "showarrow": false,
          "text": "CO",
          "x": 0.1625,
          "xanchor": "center",
          "xref": "paper",
          "y": 0.782,
          "yanchor": "bottom",
          "yref": "paper"
         },
         {
          "font": {
           "size": 16
          },
          "showarrow": false,
          "text": "DS",
          "x": 0.8375,
          "xanchor": "center",
          "xref": "paper",
          "y": 0.782,
          "yanchor": "bottom",
          "yref": "paper"
         },
         {
          "font": {
           "size": 16
          },
          "showarrow": false,
          "text": "IT",
          "x": 0.1625,
          "xanchor": "center",
          "xref": "paper",
          "y": 0.5640000000000001,
          "yanchor": "bottom",
          "yref": "paper"
         },
         {
          "font": {
           "size": 16
          },
          "showarrow": false,
          "text": "MP",
          "x": 0.8375,
          "xanchor": "center",
          "xref": "paper",
          "y": 0.5640000000000001,
          "yanchor": "bottom",
          "yref": "paper"
         },
         {
          "font": {
           "size": 16
          },
          "showarrow": false,
          "text": "NA",
          "x": 0.1625,
          "xanchor": "center",
          "xref": "paper",
          "y": 0.346,
          "yanchor": "bottom",
          "yref": "paper"
         },
         {
          "font": {
           "size": 16
          },
          "showarrow": false,
          "text": "NT",
          "x": 0.8375,
          "xanchor": "center",
          "xref": "paper",
          "y": 0.346,
          "yanchor": "bottom",
          "yref": "paper"
         },
         {
          "font": {
           "size": 16
          },
          "showarrow": false,
          "text": "OC",
          "x": 0.1625,
          "xanchor": "center",
          "xref": "paper",
          "y": 0.128,
          "yanchor": "bottom",
          "yref": "paper"
         },
         {
          "font": {
           "size": 16
          },
          "showarrow": false,
          "text": "PR",
          "x": 0.8375,
          "xanchor": "center",
          "xref": "paper",
          "y": 0.128,
          "yanchor": "bottom",
          "yref": "paper"
         },
         {
          "font": {
           "color": "lightgrey",
           "size": 11
          },
          "showarrow": false,
          "text": 18,
          "x": 18,
          "xanchor": "left",
          "xref": "x1",
          "y": "Robert Laterveer",
          "yref": "y1"
         },
         {
          "font": {
           "color": "lightgrey",
           "size": 11
          },
          "showarrow": false,
          "text": 13,
          "x": 13,
          "xanchor": "left",
          "xref": "x1",
          "y": "Indranil Biswas",
          "yref": "y1"
         },
         {
          "font": {
           "color": "lightgrey",
           "size": 11
          },
          "showarrow": false,
          "text": 8,
          "x": 8,
          "xanchor": "left",
          "xref": "x1",
          "y": "Alexandru Dimca",
          "yref": "y1"
         },
         {
          "font": {
           "color": "lightgrey",
           "size": 11
          },
          "showarrow": false,
          "text": 7,
          "x": 7,
          "xanchor": "left",
          "xref": "x1",
          "y": "Goncalo Tabuada",
          "yref": "y1"
         },
         {
          "font": {
           "color": "lightgrey",
           "size": 11
          },
          "showarrow": false,
          "text": 16,
          "x": 16,
          "xanchor": "left",
          "xref": "x2",
          "y": "Veli Shakhmurov",
          "yref": "y2"
         },
         {
          "font": {
           "color": "lightgrey",
           "size": 11
          },
          "showarrow": false,
          "text": 12,
          "x": 12,
          "xanchor": "left",
          "xref": "x2",
          "y": "Michael Ruzhansky",
          "yref": "y2"
         },
         {
          "font": {
           "color": "lightgrey",
           "size": 11
          },
          "showarrow": false,
          "text": 12,
          "x": 12,
          "xanchor": "left",
          "xref": "x2",
          "y": "Jon Johnsen",
          "yref": "y2"
         },
         {
          "font": {
           "color": "lightgrey",
           "size": 11
          },
          "showarrow": false,
          "text": 10,
          "x": 10,
          "xanchor": "left",
          "xref": "x2",
          "y": "Enrico Valdinoci",
          "yref": "y2"
         },
         {
          "font": {
           "color": "lightgrey",
           "size": 11
          },
          "showarrow": false,
          "text": 13,
          "x": 13,
          "xanchor": "left",
          "xref": "x3",
          "y": "Saeid Alikhani",
          "yref": "y3"
         },
         {
          "font": {
           "color": "lightgrey",
           "size": 11
          },
          "showarrow": false,
          "text": 11,
          "x": 11,
          "xanchor": "left",
          "xref": "x3",
          "y": "Benny Sudakov",
          "yref": "y3"
         },
         {
          "font": {
           "color": "lightgrey",
           "size": 11
          },
          "showarrow": false,
          "text": 10,
          "x": 10,
          "xanchor": "left",
          "xref": "x3",
          "y": "Abhishek Methuku",
          "yref": "y3"
         },
         {
          "font": {
           "color": "lightgrey",
           "size": 11
          },
          "showarrow": false,
          "text": 10,
          "x": 10,
          "xanchor": "left",
          "xref": "x3",
          "y": "Andrey Kupavskii",
          "yref": "y3"
         },
         {
          "font": {
           "color": "lightgrey",
           "size": 11
          },
          "showarrow": false,
          "text": 9,
          "x": 9,
          "xanchor": "left",
          "xref": "x4",
          "y": "Carlos Matheus",
          "yref": "y4"
         },
         {
          "font": {
           "color": "lightgrey",
           "size": 11
          },
          "showarrow": false,
          "text": 6,
          "x": 6,
          "xanchor": "left",
          "xref": "x4",
          "y": "Yilei Tang",
          "yref": "y4"
         },
         {
          "font": {
           "color": "lightgrey",
           "size": 11
          },
          "showarrow": false,
          "text": 6,
          "x": 6,
          "xanchor": "left",
          "xref": "x4",
          "y": "Mariusz Lemańczyk",
          "yref": "y4"
         },
         {
          "font": {
           "color": "lightgrey",
           "size": 11
          },
          "showarrow": false,
          "text": 6,
          "x": 6,
          "xanchor": "left",
          "xref": "x4",
          "y": "Farrukh Mukhamedov",
          "yref": "y4"
         },
         {
          "font": {
           "color": "lightgrey",
           "size": 11
          },
          "showarrow": false,
          "text": 21,
          "x": 21,
          "xanchor": "left",
          "xref": "x5",
          "y": "Robert Schober",
          "yref": "y5"
         },
         {
          "font": {
           "color": "lightgrey",
           "size": 11
          },
          "showarrow": false,
          "text": 17,
          "x": 17,
          "xanchor": "left",
          "xref": "x5",
          "y": "Zhiguo Ding",
          "yref": "y5"
         },
         {
          "font": {
           "color": "lightgrey",
           "size": 11
          },
          "showarrow": false,
          "text": 17,
          "x": 17,
          "xanchor": "left",
          "xref": "x5",
          "y": "Shi Jin",
          "yref": "y5"
         },
         {
          "font": {
           "color": "lightgrey",
           "size": 11
          },
          "showarrow": false,
          "text": 17,
          "x": 17,
          "xanchor": "left",
          "xref": "x5",
          "y": "H. Vincent Poor",
          "yref": "y5"
         },
         {
          "font": {
           "color": "lightgrey",
           "size": 11
          },
          "showarrow": false,
          "text": 6,
          "x": 6,
          "xanchor": "left",
          "xref": "x6",
          "y": "Hongyu Liu",
          "yref": "y6"
         },
         {
          "font": {
           "color": "lightgrey",
           "size": 11
          },
          "showarrow": false,
          "text": 6,
          "x": 6,
          "xanchor": "left",
          "xref": "x6",
          "y": "Kohei Motegi",
          "yref": "y6"
         },
         {
          "font": {
           "color": "lightgrey",
           "size": 11
          },
          "showarrow": false,
          "text": 6,
          "x": 6,
          "xanchor": "left",
          "xref": "x6",
          "y": "Gunther Uhlmann",
          "yref": "y6"
         },
         {
          "font": {
           "color": "lightgrey",
           "size": 11
          },
          "showarrow": false,
          "text": 6,
          "x": 6,
          "xanchor": "left",
          "xref": "x6",
          "y": "Igor Wigman",
          "yref": "y6"
         },
         {
          "font": {
           "color": "lightgrey",
           "size": 11
          },
          "showarrow": false,
          "text": 10,
          "x": 10,
          "xanchor": "left",
          "xref": "x7",
          "y": "Max Gunzburger",
          "yref": "y7"
         },
         {
          "font": {
           "color": "lightgrey",
           "size": 11
          },
          "showarrow": false,
          "text": 8,
          "x": 8,
          "xanchor": "left",
          "xref": "x7",
          "y": "Mats G. Larson",
          "yref": "y7"
         },
         {
          "font": {
           "color": "lightgrey",
           "size": 11
          },
          "showarrow": false,
          "text": 8,
          "x": 8,
          "xanchor": "left",
          "xref": "x7",
          "y": "Arnulf Jentzen",
          "yref": "y7"
         },
         {
          "font": {
           "color": "lightgrey",
           "size": 11
          },
          "showarrow": false,
          "text": 7,
          "x": 7,
          "xanchor": "left",
          "xref": "x7",
          "y": "Akil Narayan",
          "yref": "y7"
         },
         {
          "font": {
           "color": "lightgrey",
           "size": 11
          },
          "showarrow": false,
          "text": 18,
          "x": 18,
          "xanchor": "left",
          "xref": "x8",
          "y": "Ce Xu",
          "yref": "y8"
         },
         {
          "font": {
           "color": "lightgrey",
           "size": 11
          },
          "showarrow": false,
          "text": 11,
          "x": 11,
          "xanchor": "left",
          "xref": "x8",
          "y": "Igor E. Shparlinski",
          "yref": "y8"
         },
         {
          "font": {
           "color": "lightgrey",
           "size": 11
          },
          "showarrow": false,
          "text": 11,
          "x": 11,
          "xanchor": "left",
          "xref": "x8",
          "y": "Florian Luca",
          "yref": "y8"
         },
         {
          "font": {
           "color": "lightgrey",
           "size": 11
          },
          "showarrow": false,
          "text": 9,
          "x": 9,
          "xanchor": "left",
          "xref": "x8",
          "y": "Andrew Granville",
          "yref": "y8"
         },
         {
          "font": {
           "color": "lightgrey",
           "size": 11
          },
          "showarrow": false,
          "text": 14,
          "x": 14,
          "xanchor": "left",
          "xref": "x9",
          "y": "Alexander Gasnikov",
          "yref": "y9"
         },
         {
          "font": {
           "color": "lightgrey",
           "size": 11
          },
          "showarrow": false,
          "text": 13,
          "x": 13,
          "xanchor": "left",
          "xref": "x9",
          "y": "Delfim F. M. Torres",
          "yref": "y9"
         },
         {
          "font": {
           "color": "lightgrey",
           "size": 11
          },
          "showarrow": false,
          "text": 9,
          "x": 9,
          "xanchor": "left",
          "xref": "x9",
          "y": "Emmanuel Trélat",
          "yref": "y9"
         },
         {
          "font": {
           "color": "lightgrey",
           "size": 11
          },
          "showarrow": false,
          "text": 9,
          "x": 9,
          "xanchor": "left",
          "xref": "x9",
          "y": "Giuseppe Notarstefano",
          "yref": "y9"
         },
         {
          "font": {
           "color": "lightgrey",
           "size": 11
          },
          "showarrow": false,
          "text": 11,
          "x": 11,
          "xanchor": "left",
          "xref": "x10",
          "y": "Yuval Peres",
          "yref": "y10"
         },
         {
          "font": {
           "color": "lightgrey",
           "size": 11
          },
          "showarrow": false,
          "text": 10,
          "x": 10,
          "xanchor": "left",
          "xref": "x10",
          "y": "Remco van der Hofstad",
          "yref": "y10"
         },
         {
          "font": {
           "color": "lightgrey",
           "size": 11
          },
          "showarrow": false,
          "text": 10,
          "x": 10,
          "xanchor": "left",
          "xref": "x10",
          "y": "Ghurumuruhan Ganesan",
          "yref": "y10"
         },
         {
          "font": {
           "color": "lightgrey",
           "size": 11
          },
          "showarrow": false,
          "text": 9,
          "x": 9,
          "xanchor": "left",
          "xref": "x10",
          "y": "Zhen-Qing Chen",
          "yref": "y10"
         }
        ],
        "height": 750,
        "margin": {
         "b": 30,
         "l": 140,
         "r": 130,
         "t": 60
        },
        "showlegend": false,
        "title": "",
        "width": 740,
        "xaxis1": {
         "anchor": "y1",
         "domain": [
          0,
          0.325
         ],
         "showgrid": false,
         "showticklabels": false
        },
        "xaxis10": {
         "anchor": "y10",
         "domain": [
          0.675,
          1
         ],
         "showgrid": false,
         "showticklabels": false
        },
        "xaxis2": {
         "anchor": "y2",
         "domain": [
          0.675,
          1
         ],
         "showgrid": false,
         "showticklabels": false
        },
        "xaxis3": {
         "anchor": "y3",
         "domain": [
          0,
          0.325
         ],
         "showgrid": false,
         "showticklabels": false
        },
        "xaxis4": {
         "anchor": "y4",
         "domain": [
          0.675,
          1
         ],
         "showgrid": false,
         "showticklabels": false
        },
        "xaxis5": {
         "anchor": "y5",
         "domain": [
          0,
          0.325
         ],
         "showgrid": false,
         "showticklabels": false
        },
        "xaxis6": {
         "anchor": "y6",
         "domain": [
          0.675,
          1
         ],
         "showgrid": false,
         "showticklabels": false
        },
        "xaxis7": {
         "anchor": "y7",
         "domain": [
          0,
          0.325
         ],
         "showgrid": false,
         "showticklabels": false
        },
        "xaxis8": {
         "anchor": "y8",
         "domain": [
          0.675,
          1
         ],
         "showgrid": false,
         "showticklabels": false
        },
        "xaxis9": {
         "anchor": "y9",
         "domain": [
          0,
          0.325
         ],
         "showgrid": false,
         "showticklabels": false
        },
        "yaxis1": {
         "anchor": "x1",
         "autorange": "reversed",
         "domain": [
          0.872,
          1
         ],
         "tickfont": {
          "color": "lightgrey",
          "size": 11
         },
         "ticklen": 3
        },
        "yaxis10": {
         "anchor": "x10",
         "autorange": "reversed",
         "domain": [
          0,
          0.128
         ],
         "tickfont": {
          "color": "lightgrey",
          "size": 11
         },
         "ticklen": 3
        },
        "yaxis2": {
         "anchor": "x2",
         "autorange": "reversed",
         "domain": [
          0.872,
          1
         ],
         "tickfont": {
          "color": "lightgrey",
          "size": 11
         },
         "ticklen": 3
        },
        "yaxis3": {
         "anchor": "x3",
         "autorange": "reversed",
         "domain": [
          0.654,
          0.782
         ],
         "tickfont": {
          "color": "lightgrey",
          "size": 11
         },
         "ticklen": 3
        },
        "yaxis4": {
         "anchor": "x4",
         "autorange": "reversed",
         "domain": [
          0.654,
          0.782
         ],
         "tickfont": {
          "color": "lightgrey",
          "size": 11
         },
         "ticklen": 3
        },
        "yaxis5": {
         "anchor": "x5",
         "autorange": "reversed",
         "domain": [
          0.436,
          0.5640000000000001
         ],
         "tickfont": {
          "color": "lightgrey",
          "size": 11
         },
         "ticklen": 3
        },
        "yaxis6": {
         "anchor": "x6",
         "autorange": "reversed",
         "domain": [
          0.436,
          0.5640000000000001
         ],
         "tickfont": {
          "color": "lightgrey",
          "size": 11
         },
         "ticklen": 3
        },
        "yaxis7": {
         "anchor": "x7",
         "autorange": "reversed",
         "domain": [
          0.218,
          0.346
         ],
         "tickfont": {
          "color": "lightgrey",
          "size": 11
         },
         "ticklen": 3
        },
        "yaxis8": {
         "anchor": "x8",
         "autorange": "reversed",
         "domain": [
          0.218,
          0.346
         ],
         "tickfont": {
          "color": "lightgrey",
          "size": 11
         },
         "ticklen": 3
        },
        "yaxis9": {
         "anchor": "x9",
         "autorange": "reversed",
         "domain": [
          0,
          0.128
         ],
         "tickfont": {
          "color": "lightgrey",
          "size": 11
         },
         "ticklen": 3
        }
       }
      },
      "text/html": [
       "<div id=\"c311c1f2-8e0e-46ba-a3c9-3fb51ba23049\" style=\"height: 750px; width: 740px;\" class=\"plotly-graph-div\"></div><script type=\"text/javascript\">require([\"plotly\"], function(Plotly) { window.PLOTLYENV=window.PLOTLYENV || {};window.PLOTLYENV.BASE_URL=\"https://plot.ly\";Plotly.newPlot(\"c311c1f2-8e0e-46ba-a3c9-3fb51ba23049\", [{\"type\": \"bar\", \"x\": [18, 13, 8, 7], \"y\": [\"Robert Laterveer\", \"Indranil Biswas\", \"Alexandru Dimca\", \"Goncalo Tabuada\"], \"hoverinfo\": \"text\", \"orientation\": \"h\", \"text\": [\"n_articles: 18<br>n_coauthors_median: 0\", \"n_articles: 13<br>n_coauthors_median: 1\", \"n_articles: 8<br>n_coauthors_median: 1\", \"n_articles: 7<br>n_coauthors_median: 0\"], \"opacity\": 1.0, \"marker\": {\"color\": \"blue\"}, \"xaxis\": \"x1\", \"yaxis\": \"y1\"}, {\"type\": \"bar\", \"x\": [16, 12, 12, 10], \"y\": [\"Veli Shakhmurov\", \"Michael Ruzhansky\", \"Jon Johnsen\", \"Enrico Valdinoci\"], \"hoverinfo\": \"text\", \"orientation\": \"h\", \"text\": [\"n_articles: 16<br>n_coauthors_median: 0\", \"n_articles: 12<br>n_coauthors_median: 1\", \"n_articles: 12<br>n_coauthors_median: 0\", \"n_articles: 10<br>n_coauthors_median: 2\"], \"opacity\": 1.0, \"marker\": {\"color\": \"blue\"}, \"xaxis\": \"x2\", \"yaxis\": \"y2\"}, {\"type\": \"bar\", \"x\": [13, 11, 10, 10], \"y\": [\"Saeid Alikhani\", \"Benny Sudakov\", \"Abhishek Methuku\", \"Andrey Kupavskii\"], \"hoverinfo\": \"text\", \"orientation\": \"h\", \"text\": [\"n_articles: 13<br>n_coauthors_median: 1\", \"n_articles: 11<br>n_coauthors_median: 2\", \"n_articles: 10<br>n_coauthors_median: 2\", \"n_articles: 10<br>n_coauthors_median: 2\"], \"opacity\": 1.0, \"marker\": {\"color\": \"blue\"}, \"xaxis\": \"x3\", \"yaxis\": \"y3\"}, {\"type\": \"bar\", \"x\": [9, 6, 6, 6], \"y\": [\"Carlos Matheus\", \"Yilei Tang\", \"Mariusz Lema\\u0144czyk\", \"Farrukh Mukhamedov\"], \"hoverinfo\": \"text\", \"orientation\": \"h\", \"text\": [\"n_articles: 9<br>n_coauthors_median: 1\", \"n_articles: 6<br>n_coauthors_median: 2\", \"n_articles: 6<br>n_coauthors_median: 2\", \"n_articles: 6<br>n_coauthors_median: 2\"], \"opacity\": 1.0, \"marker\": {\"color\": \"blue\"}, \"xaxis\": \"x4\", \"yaxis\": \"y4\"}, {\"type\": \"bar\", \"x\": [21, 17, 17, 17], \"y\": [\"Robert Schober\", \"Zhiguo Ding\", \"Shi Jin\", \"H. Vincent Poor\"], \"hoverinfo\": \"text\", \"orientation\": \"h\", \"text\": [\"n_articles: 21<br>n_coauthors_median: 3\", \"n_articles: 17<br>n_coauthors_median: 4\", \"n_articles: 17<br>n_coauthors_median: 3\", \"n_articles: 17<br>n_coauthors_median: 3\"], \"opacity\": 1.0, \"marker\": {\"color\": \"blue\"}, \"xaxis\": \"x5\", \"yaxis\": \"y5\"}, {\"type\": \"bar\", \"x\": [6, 6, 6, 6], \"y\": [\"Hongyu Liu\", \"Kohei Motegi\", \"Gunther Uhlmann\", \"Igor Wigman\"], \"hoverinfo\": \"text\", \"orientation\": \"h\", \"text\": [\"n_articles: 6<br>n_coauthors_median: 2\", \"n_articles: 6<br>n_coauthors_median: 0\", \"n_articles: 6<br>n_coauthors_median: 2\", \"n_articles: 6<br>n_coauthors_median: 2\"], \"opacity\": 1.0, \"marker\": {\"color\": \"blue\"}, \"xaxis\": \"x6\", \"yaxis\": \"y6\"}, {\"type\": \"bar\", \"x\": [10, 8, 8, 7], \"y\": [\"Max Gunzburger\", \"Mats G. Larson\", \"Arnulf Jentzen\", \"Akil Narayan\"], \"hoverinfo\": \"text\", \"orientation\": \"h\", \"text\": [\"n_articles: 10<br>n_coauthors_median: 2\", \"n_articles: 8<br>n_coauthors_median: 2\", \"n_articles: 8<br>n_coauthors_median: 2\", \"n_articles: 7<br>n_coauthors_median: 2\"], \"opacity\": 1.0, \"marker\": {\"color\": \"blue\"}, \"xaxis\": \"x7\", \"yaxis\": \"y7\"}, {\"type\": \"bar\", \"x\": [18, 11, 11, 9], \"y\": [\"Ce Xu\", \"Igor E. Shparlinski\", \"Florian Luca\", \"Andrew Granville\"], \"hoverinfo\": \"text\", \"orientation\": \"h\", \"text\": [\"n_articles: 18<br>n_coauthors_median: 0\", \"n_articles: 11<br>n_coauthors_median: 2\", \"n_articles: 11<br>n_coauthors_median: 2\", \"n_articles: 9<br>n_coauthors_median: 1\"], \"opacity\": 1.0, \"marker\": {\"color\": \"blue\"}, \"xaxis\": \"x8\", \"yaxis\": \"y8\"}, {\"type\": \"bar\", \"x\": [14, 13, 9, 9], \"y\": [\"Alexander Gasnikov\", \"Delfim F. M. Torres\", \"Emmanuel Tr\\u00e9lat\", \"Giuseppe Notarstefano\"], \"hoverinfo\": \"text\", \"orientation\": \"h\", \"text\": [\"n_articles: 14<br>n_coauthors_median: 2\", \"n_articles: 13<br>n_coauthors_median: 2\", \"n_articles: 9<br>n_coauthors_median: 2\", \"n_articles: 9<br>n_coauthors_median: 1\"], \"opacity\": 1.0, \"marker\": {\"color\": \"blue\"}, \"xaxis\": \"x9\", \"yaxis\": \"y9\"}, {\"type\": \"bar\", \"x\": [11, 10, 10, 9], \"y\": [\"Yuval Peres\", \"Remco van der Hofstad\", \"Ghurumuruhan Ganesan\", \"Zhen-Qing Chen\"], \"hoverinfo\": \"text\", \"orientation\": \"h\", \"text\": [\"n_articles: 11<br>n_coauthors_median: 2\", \"n_articles: 10<br>n_coauthors_median: 2\", \"n_articles: 10<br>n_coauthors_median: 0\", \"n_articles: 9<br>n_coauthors_median: 1\"], \"opacity\": 1.0, \"marker\": {\"color\": \"blue\"}, \"xaxis\": \"x10\", \"yaxis\": \"y10\"}], {\"xaxis1\": {\"domain\": [0.0, 0.325], \"anchor\": \"y1\", \"showticklabels\": false, \"showgrid\": false}, \"yaxis1\": {\"domain\": [0.872, 1.0], \"anchor\": \"x1\", \"ticklen\": 3, \"autorange\": \"reversed\", \"tickfont\": {\"size\": 11, \"color\": \"lightgrey\"}}, \"xaxis2\": {\"domain\": [0.675, 1.0], \"anchor\": \"y2\", \"showticklabels\": false, \"showgrid\": false}, \"yaxis2\": {\"domain\": [0.872, 1.0], \"anchor\": \"x2\", \"ticklen\": 3, \"autorange\": \"reversed\", \"tickfont\": {\"size\": 11, \"color\": \"lightgrey\"}}, \"xaxis3\": {\"domain\": [0.0, 0.325], \"anchor\": \"y3\", \"showticklabels\": false, \"showgrid\": false}, \"yaxis3\": {\"domain\": [0.654, 0.782], \"anchor\": \"x3\", \"ticklen\": 3, \"autorange\": \"reversed\", \"tickfont\": {\"size\": 11, \"color\": \"lightgrey\"}}, \"xaxis4\": {\"domain\": [0.675, 1.0], \"anchor\": \"y4\", \"showticklabels\": false, \"showgrid\": false}, \"yaxis4\": {\"domain\": [0.654, 0.782], \"anchor\": \"x4\", \"ticklen\": 3, \"autorange\": \"reversed\", \"tickfont\": {\"size\": 11, \"color\": \"lightgrey\"}}, \"xaxis5\": {\"domain\": [0.0, 0.325], \"anchor\": \"y5\", \"showticklabels\": false, \"showgrid\": false}, \"yaxis5\": {\"domain\": [0.436, 0.5640000000000001], \"anchor\": \"x5\", \"ticklen\": 3, \"autorange\": \"reversed\", \"tickfont\": {\"size\": 11, \"color\": \"lightgrey\"}}, \"xaxis6\": {\"domain\": [0.675, 1.0], \"anchor\": \"y6\", \"showticklabels\": false, \"showgrid\": false}, \"yaxis6\": {\"domain\": [0.436, 0.5640000000000001], \"anchor\": \"x6\", \"ticklen\": 3, \"autorange\": \"reversed\", \"tickfont\": {\"size\": 11, \"color\": \"lightgrey\"}}, \"xaxis7\": {\"domain\": [0.0, 0.325], \"anchor\": \"y7\", \"showticklabels\": false, \"showgrid\": false}, \"yaxis7\": {\"domain\": [0.218, 0.346], \"anchor\": \"x7\", \"ticklen\": 3, \"autorange\": \"reversed\", \"tickfont\": {\"size\": 11, \"color\": \"lightgrey\"}}, \"xaxis8\": {\"domain\": [0.675, 1.0], \"anchor\": \"y8\", \"showticklabels\": false, \"showgrid\": false}, \"yaxis8\": {\"domain\": [0.218, 0.346], \"anchor\": \"x8\", \"ticklen\": 3, \"autorange\": \"reversed\", \"tickfont\": {\"size\": 11, \"color\": \"lightgrey\"}}, \"xaxis9\": {\"domain\": [0.0, 0.325], \"anchor\": \"y9\", \"showticklabels\": false, \"showgrid\": false}, \"yaxis9\": {\"domain\": [0.0, 0.128], \"anchor\": \"x9\", \"ticklen\": 3, \"autorange\": \"reversed\", \"tickfont\": {\"size\": 11, \"color\": \"lightgrey\"}}, \"xaxis10\": {\"domain\": [0.675, 1.0], \"anchor\": \"y10\", \"showticklabels\": false, \"showgrid\": false}, \"yaxis10\": {\"domain\": [0.0, 0.128], \"anchor\": \"x10\", \"ticklen\": 3, \"autorange\": \"reversed\", \"tickfont\": {\"size\": 11, \"color\": \"lightgrey\"}}, \"annotations\": [{\"y\": 1.0, \"xref\": \"paper\", \"x\": 0.1625, \"yref\": \"paper\", \"text\": \"AG\", \"showarrow\": false, \"font\": {\"size\": 16}, \"xanchor\": \"center\", \"yanchor\": \"bottom\"}, {\"y\": 1.0, \"xref\": \"paper\", \"x\": 0.8375, \"yref\": \"paper\", \"text\": \"AP\", \"showarrow\": false, \"font\": {\"size\": 16}, \"xanchor\": \"center\", \"yanchor\": \"bottom\"}, {\"y\": 0.782, \"xref\": \"paper\", \"x\": 0.1625, \"yref\": \"paper\", \"text\": \"CO\", \"showarrow\": false, \"font\": {\"size\": 16}, \"xanchor\": \"center\", \"yanchor\": \"bottom\"}, {\"y\": 0.782, \"xref\": \"paper\", \"x\": 0.8375, \"yref\": \"paper\", \"text\": \"DS\", \"showarrow\": false, \"font\": {\"size\": 16}, \"xanchor\": \"center\", \"yanchor\": \"bottom\"}, {\"y\": 0.5640000000000001, \"xref\": \"paper\", \"x\": 0.1625, \"yref\": \"paper\", \"text\": \"IT\", \"showarrow\": false, \"font\": {\"size\": 16}, \"xanchor\": \"center\", \"yanchor\": \"bottom\"}, {\"y\": 0.5640000000000001, \"xref\": \"paper\", \"x\": 0.8375, \"yref\": \"paper\", \"text\": \"MP\", \"showarrow\": false, \"font\": {\"size\": 16}, \"xanchor\": \"center\", \"yanchor\": \"bottom\"}, {\"y\": 0.346, \"xref\": \"paper\", \"x\": 0.1625, \"yref\": \"paper\", \"text\": \"NA\", \"showarrow\": false, \"font\": {\"size\": 16}, \"xanchor\": \"center\", \"yanchor\": \"bottom\"}, {\"y\": 0.346, \"xref\": \"paper\", \"x\": 0.8375, \"yref\": \"paper\", \"text\": \"NT\", \"showarrow\": false, \"font\": {\"size\": 16}, \"xanchor\": \"center\", \"yanchor\": \"bottom\"}, {\"y\": 0.128, \"xref\": \"paper\", \"x\": 0.1625, \"yref\": \"paper\", \"text\": \"OC\", \"showarrow\": false, \"font\": {\"size\": 16}, \"xanchor\": \"center\", \"yanchor\": \"bottom\"}, {\"y\": 0.128, \"xref\": \"paper\", \"x\": 0.8375, \"yref\": \"paper\", \"text\": \"PR\", \"showarrow\": false, \"font\": {\"size\": 16}, \"xanchor\": \"center\", \"yanchor\": \"bottom\"}, {\"x\": 18, \"y\": \"Robert Laterveer\", \"text\": 18, \"xanchor\": \"left\", \"xref\": \"x1\", \"yref\": \"y1\", \"showarrow\": false, \"font\": {\"size\": 11, \"color\": \"lightgrey\"}}, {\"x\": 13, \"y\": \"Indranil Biswas\", \"text\": 13, \"xanchor\": \"left\", \"xref\": \"x1\", \"yref\": \"y1\", \"showarrow\": false, \"font\": {\"size\": 11, \"color\": \"lightgrey\"}}, {\"x\": 8, \"y\": \"Alexandru Dimca\", \"text\": 8, \"xanchor\": \"left\", \"xref\": \"x1\", \"yref\": \"y1\", \"showarrow\": false, \"font\": {\"size\": 11, \"color\": \"lightgrey\"}}, {\"x\": 7, \"y\": \"Goncalo Tabuada\", \"text\": 7, \"xanchor\": \"left\", \"xref\": \"x1\", \"yref\": \"y1\", \"showarrow\": false, \"font\": {\"size\": 11, \"color\": \"lightgrey\"}}, {\"x\": 16, \"y\": \"Veli Shakhmurov\", \"text\": 16, \"xanchor\": \"left\", \"xref\": \"x2\", \"yref\": \"y2\", \"showarrow\": false, \"font\": {\"size\": 11, \"color\": \"lightgrey\"}}, {\"x\": 12, \"y\": \"Michael Ruzhansky\", \"text\": 12, \"xanchor\": \"left\", \"xref\": \"x2\", \"yref\": \"y2\", \"showarrow\": false, \"font\": {\"size\": 11, \"color\": \"lightgrey\"}}, {\"x\": 12, \"y\": \"Jon Johnsen\", \"text\": 12, \"xanchor\": \"left\", \"xref\": \"x2\", \"yref\": \"y2\", \"showarrow\": false, \"font\": {\"size\": 11, \"color\": \"lightgrey\"}}, {\"x\": 10, \"y\": \"Enrico Valdinoci\", \"text\": 10, \"xanchor\": \"left\", \"xref\": \"x2\", \"yref\": \"y2\", \"showarrow\": false, \"font\": {\"size\": 11, \"color\": \"lightgrey\"}}, {\"x\": 13, \"y\": \"Saeid Alikhani\", \"text\": 13, \"xanchor\": \"left\", \"xref\": \"x3\", \"yref\": \"y3\", \"showarrow\": false, \"font\": {\"size\": 11, \"color\": \"lightgrey\"}}, {\"x\": 11, \"y\": \"Benny Sudakov\", \"text\": 11, \"xanchor\": \"left\", \"xref\": \"x3\", \"yref\": \"y3\", \"showarrow\": false, \"font\": {\"size\": 11, \"color\": \"lightgrey\"}}, {\"x\": 10, \"y\": \"Abhishek Methuku\", \"text\": 10, \"xanchor\": \"left\", \"xref\": \"x3\", \"yref\": \"y3\", \"showarrow\": false, \"font\": {\"size\": 11, \"color\": \"lightgrey\"}}, {\"x\": 10, \"y\": \"Andrey Kupavskii\", \"text\": 10, \"xanchor\": \"left\", \"xref\": \"x3\", \"yref\": \"y3\", \"showarrow\": false, \"font\": {\"size\": 11, \"color\": \"lightgrey\"}}, {\"x\": 9, \"y\": \"Carlos Matheus\", \"text\": 9, \"xanchor\": \"left\", \"xref\": \"x4\", \"yref\": \"y4\", \"showarrow\": false, \"font\": {\"size\": 11, \"color\": \"lightgrey\"}}, {\"x\": 6, \"y\": \"Yilei Tang\", \"text\": 6, \"xanchor\": \"left\", \"xref\": \"x4\", \"yref\": \"y4\", \"showarrow\": false, \"font\": {\"size\": 11, \"color\": \"lightgrey\"}}, {\"x\": 6, \"y\": \"Mariusz Lema\\u0144czyk\", \"text\": 6, \"xanchor\": \"left\", \"xref\": \"x4\", \"yref\": \"y4\", \"showarrow\": false, \"font\": {\"size\": 11, \"color\": \"lightgrey\"}}, {\"x\": 6, \"y\": \"Farrukh Mukhamedov\", \"text\": 6, \"xanchor\": \"left\", \"xref\": \"x4\", \"yref\": \"y4\", \"showarrow\": false, \"font\": {\"size\": 11, \"color\": \"lightgrey\"}}, {\"x\": 21, \"y\": \"Robert Schober\", \"text\": 21, \"xanchor\": \"left\", \"xref\": \"x5\", \"yref\": \"y5\", \"showarrow\": false, \"font\": {\"size\": 11, \"color\": \"lightgrey\"}}, {\"x\": 17, \"y\": \"Zhiguo Ding\", \"text\": 17, \"xanchor\": \"left\", \"xref\": \"x5\", \"yref\": \"y5\", \"showarrow\": false, \"font\": {\"size\": 11, \"color\": \"lightgrey\"}}, {\"x\": 17, \"y\": \"Shi Jin\", \"text\": 17, \"xanchor\": \"left\", \"xref\": \"x5\", \"yref\": \"y5\", \"showarrow\": false, \"font\": {\"size\": 11, \"color\": \"lightgrey\"}}, {\"x\": 17, \"y\": \"H. Vincent Poor\", \"text\": 17, \"xanchor\": \"left\", \"xref\": \"x5\", \"yref\": \"y5\", \"showarrow\": false, \"font\": {\"size\": 11, \"color\": \"lightgrey\"}}, {\"x\": 6, \"y\": \"Hongyu Liu\", \"text\": 6, \"xanchor\": \"left\", \"xref\": \"x6\", \"yref\": \"y6\", \"showarrow\": false, \"font\": {\"size\": 11, \"color\": \"lightgrey\"}}, {\"x\": 6, \"y\": \"Kohei Motegi\", \"text\": 6, \"xanchor\": \"left\", \"xref\": \"x6\", \"yref\": \"y6\", \"showarrow\": false, \"font\": {\"size\": 11, \"color\": \"lightgrey\"}}, {\"x\": 6, \"y\": \"Gunther Uhlmann\", \"text\": 6, \"xanchor\": \"left\", \"xref\": \"x6\", \"yref\": \"y6\", \"showarrow\": false, \"font\": {\"size\": 11, \"color\": \"lightgrey\"}}, {\"x\": 6, \"y\": \"Igor Wigman\", \"text\": 6, \"xanchor\": \"left\", \"xref\": \"x6\", \"yref\": \"y6\", \"showarrow\": false, \"font\": {\"size\": 11, \"color\": \"lightgrey\"}}, {\"x\": 10, \"y\": \"Max Gunzburger\", \"text\": 10, \"xanchor\": \"left\", \"xref\": \"x7\", \"yref\": \"y7\", \"showarrow\": false, \"font\": {\"size\": 11, \"color\": \"lightgrey\"}}, {\"x\": 8, \"y\": \"Mats G. Larson\", \"text\": 8, \"xanchor\": \"left\", \"xref\": \"x7\", \"yref\": \"y7\", \"showarrow\": false, \"font\": {\"size\": 11, \"color\": \"lightgrey\"}}, {\"x\": 8, \"y\": \"Arnulf Jentzen\", \"text\": 8, \"xanchor\": \"left\", \"xref\": \"x7\", \"yref\": \"y7\", \"showarrow\": false, \"font\": {\"size\": 11, \"color\": \"lightgrey\"}}, {\"x\": 7, \"y\": \"Akil Narayan\", \"text\": 7, \"xanchor\": \"left\", \"xref\": \"x7\", \"yref\": \"y7\", \"showarrow\": false, \"font\": {\"size\": 11, \"color\": \"lightgrey\"}}, {\"x\": 18, \"y\": \"Ce Xu\", \"text\": 18, \"xanchor\": \"left\", \"xref\": \"x8\", \"yref\": \"y8\", \"showarrow\": false, \"font\": {\"size\": 11, \"color\": \"lightgrey\"}}, {\"x\": 11, \"y\": \"Igor E. Shparlinski\", \"text\": 11, \"xanchor\": \"left\", \"xref\": \"x8\", \"yref\": \"y8\", \"showarrow\": false, \"font\": {\"size\": 11, \"color\": \"lightgrey\"}}, {\"x\": 11, \"y\": \"Florian Luca\", \"text\": 11, \"xanchor\": \"left\", \"xref\": \"x8\", \"yref\": \"y8\", \"showarrow\": false, \"font\": {\"size\": 11, \"color\": \"lightgrey\"}}, {\"x\": 9, \"y\": \"Andrew Granville\", \"text\": 9, \"xanchor\": \"left\", \"xref\": \"x8\", \"yref\": \"y8\", \"showarrow\": false, \"font\": {\"size\": 11, \"color\": \"lightgrey\"}}, {\"x\": 14, \"y\": \"Alexander Gasnikov\", \"text\": 14, \"xanchor\": \"left\", \"xref\": \"x9\", \"yref\": \"y9\", \"showarrow\": false, \"font\": {\"size\": 11, \"color\": \"lightgrey\"}}, {\"x\": 13, \"y\": \"Delfim F. M. Torres\", \"text\": 13, \"xanchor\": \"left\", \"xref\": \"x9\", \"yref\": \"y9\", \"showarrow\": false, \"font\": {\"size\": 11, \"color\": \"lightgrey\"}}, {\"x\": 9, \"y\": \"Emmanuel Tr\\u00e9lat\", \"text\": 9, \"xanchor\": \"left\", \"xref\": \"x9\", \"yref\": \"y9\", \"showarrow\": false, \"font\": {\"size\": 11, \"color\": \"lightgrey\"}}, {\"x\": 9, \"y\": \"Giuseppe Notarstefano\", \"text\": 9, \"xanchor\": \"left\", \"xref\": \"x9\", \"yref\": \"y9\", \"showarrow\": false, \"font\": {\"size\": 11, \"color\": \"lightgrey\"}}, {\"x\": 11, \"y\": \"Yuval Peres\", \"text\": 11, \"xanchor\": \"left\", \"xref\": \"x10\", \"yref\": \"y10\", \"showarrow\": false, \"font\": {\"size\": 11, \"color\": \"lightgrey\"}}, {\"x\": 10, \"y\": \"Remco van der Hofstad\", \"text\": 10, \"xanchor\": \"left\", \"xref\": \"x10\", \"yref\": \"y10\", \"showarrow\": false, \"font\": {\"size\": 11, \"color\": \"lightgrey\"}}, {\"x\": 10, \"y\": \"Ghurumuruhan Ganesan\", \"text\": 10, \"xanchor\": \"left\", \"xref\": \"x10\", \"yref\": \"y10\", \"showarrow\": false, \"font\": {\"size\": 11, \"color\": \"lightgrey\"}}, {\"x\": 9, \"y\": \"Zhen-Qing Chen\", \"text\": 9, \"xanchor\": \"left\", \"xref\": \"x10\", \"yref\": \"y10\", \"showarrow\": false, \"font\": {\"size\": 11, \"color\": \"lightgrey\"}}], \"height\": 750, \"width\": 740, \"showlegend\": false, \"title\": \"\", \"margin\": {\"t\": 60, \"l\": 140, \"b\": 30, \"r\": 130}}, {\"showLink\": false, \"linkText\": \"Export to plot.ly\"})});</script>"
      ],
      "text/vnd.plotly.v1+html": [
       "<div id=\"c311c1f2-8e0e-46ba-a3c9-3fb51ba23049\" style=\"height: 750px; width: 740px;\" class=\"plotly-graph-div\"></div><script type=\"text/javascript\">require([\"plotly\"], function(Plotly) { window.PLOTLYENV=window.PLOTLYENV || {};window.PLOTLYENV.BASE_URL=\"https://plot.ly\";Plotly.newPlot(\"c311c1f2-8e0e-46ba-a3c9-3fb51ba23049\", [{\"type\": \"bar\", \"x\": [18, 13, 8, 7], \"y\": [\"Robert Laterveer\", \"Indranil Biswas\", \"Alexandru Dimca\", \"Goncalo Tabuada\"], \"hoverinfo\": \"text\", \"orientation\": \"h\", \"text\": [\"n_articles: 18<br>n_coauthors_median: 0\", \"n_articles: 13<br>n_coauthors_median: 1\", \"n_articles: 8<br>n_coauthors_median: 1\", \"n_articles: 7<br>n_coauthors_median: 0\"], \"opacity\": 1.0, \"marker\": {\"color\": \"blue\"}, \"xaxis\": \"x1\", \"yaxis\": \"y1\"}, {\"type\": \"bar\", \"x\": [16, 12, 12, 10], \"y\": [\"Veli Shakhmurov\", \"Michael Ruzhansky\", \"Jon Johnsen\", \"Enrico Valdinoci\"], \"hoverinfo\": \"text\", \"orientation\": \"h\", \"text\": [\"n_articles: 16<br>n_coauthors_median: 0\", \"n_articles: 12<br>n_coauthors_median: 1\", \"n_articles: 12<br>n_coauthors_median: 0\", \"n_articles: 10<br>n_coauthors_median: 2\"], \"opacity\": 1.0, \"marker\": {\"color\": \"blue\"}, \"xaxis\": \"x2\", \"yaxis\": \"y2\"}, {\"type\": \"bar\", \"x\": [13, 11, 10, 10], \"y\": [\"Saeid Alikhani\", \"Benny Sudakov\", \"Abhishek Methuku\", \"Andrey Kupavskii\"], \"hoverinfo\": \"text\", \"orientation\": \"h\", \"text\": [\"n_articles: 13<br>n_coauthors_median: 1\", \"n_articles: 11<br>n_coauthors_median: 2\", \"n_articles: 10<br>n_coauthors_median: 2\", \"n_articles: 10<br>n_coauthors_median: 2\"], \"opacity\": 1.0, \"marker\": {\"color\": \"blue\"}, \"xaxis\": \"x3\", \"yaxis\": \"y3\"}, {\"type\": \"bar\", \"x\": [9, 6, 6, 6], \"y\": [\"Carlos Matheus\", \"Yilei Tang\", \"Mariusz Lema\\u0144czyk\", \"Farrukh Mukhamedov\"], \"hoverinfo\": \"text\", \"orientation\": \"h\", \"text\": [\"n_articles: 9<br>n_coauthors_median: 1\", \"n_articles: 6<br>n_coauthors_median: 2\", \"n_articles: 6<br>n_coauthors_median: 2\", \"n_articles: 6<br>n_coauthors_median: 2\"], \"opacity\": 1.0, \"marker\": {\"color\": \"blue\"}, \"xaxis\": \"x4\", \"yaxis\": \"y4\"}, {\"type\": \"bar\", \"x\": [21, 17, 17, 17], \"y\": [\"Robert Schober\", \"Zhiguo Ding\", \"Shi Jin\", \"H. Vincent Poor\"], \"hoverinfo\": \"text\", \"orientation\": \"h\", \"text\": [\"n_articles: 21<br>n_coauthors_median: 3\", \"n_articles: 17<br>n_coauthors_median: 4\", \"n_articles: 17<br>n_coauthors_median: 3\", \"n_articles: 17<br>n_coauthors_median: 3\"], \"opacity\": 1.0, \"marker\": {\"color\": \"blue\"}, \"xaxis\": \"x5\", \"yaxis\": \"y5\"}, {\"type\": \"bar\", \"x\": [6, 6, 6, 6], \"y\": [\"Hongyu Liu\", \"Kohei Motegi\", \"Gunther Uhlmann\", \"Igor Wigman\"], \"hoverinfo\": \"text\", \"orientation\": \"h\", \"text\": [\"n_articles: 6<br>n_coauthors_median: 2\", \"n_articles: 6<br>n_coauthors_median: 0\", \"n_articles: 6<br>n_coauthors_median: 2\", \"n_articles: 6<br>n_coauthors_median: 2\"], \"opacity\": 1.0, \"marker\": {\"color\": \"blue\"}, \"xaxis\": \"x6\", \"yaxis\": \"y6\"}, {\"type\": \"bar\", \"x\": [10, 8, 8, 7], \"y\": [\"Max Gunzburger\", \"Mats G. Larson\", \"Arnulf Jentzen\", \"Akil Narayan\"], \"hoverinfo\": \"text\", \"orientation\": \"h\", \"text\": [\"n_articles: 10<br>n_coauthors_median: 2\", \"n_articles: 8<br>n_coauthors_median: 2\", \"n_articles: 8<br>n_coauthors_median: 2\", \"n_articles: 7<br>n_coauthors_median: 2\"], \"opacity\": 1.0, \"marker\": {\"color\": \"blue\"}, \"xaxis\": \"x7\", \"yaxis\": \"y7\"}, {\"type\": \"bar\", \"x\": [18, 11, 11, 9], \"y\": [\"Ce Xu\", \"Igor E. Shparlinski\", \"Florian Luca\", \"Andrew Granville\"], \"hoverinfo\": \"text\", \"orientation\": \"h\", \"text\": [\"n_articles: 18<br>n_coauthors_median: 0\", \"n_articles: 11<br>n_coauthors_median: 2\", \"n_articles: 11<br>n_coauthors_median: 2\", \"n_articles: 9<br>n_coauthors_median: 1\"], \"opacity\": 1.0, \"marker\": {\"color\": \"blue\"}, \"xaxis\": \"x8\", \"yaxis\": \"y8\"}, {\"type\": \"bar\", \"x\": [14, 13, 9, 9], \"y\": [\"Alexander Gasnikov\", \"Delfim F. M. Torres\", \"Emmanuel Tr\\u00e9lat\", \"Giuseppe Notarstefano\"], \"hoverinfo\": \"text\", \"orientation\": \"h\", \"text\": [\"n_articles: 14<br>n_coauthors_median: 2\", \"n_articles: 13<br>n_coauthors_median: 2\", \"n_articles: 9<br>n_coauthors_median: 2\", \"n_articles: 9<br>n_coauthors_median: 1\"], \"opacity\": 1.0, \"marker\": {\"color\": \"blue\"}, \"xaxis\": \"x9\", \"yaxis\": \"y9\"}, {\"type\": \"bar\", \"x\": [11, 10, 10, 9], \"y\": [\"Yuval Peres\", \"Remco van der Hofstad\", \"Ghurumuruhan Ganesan\", \"Zhen-Qing Chen\"], \"hoverinfo\": \"text\", \"orientation\": \"h\", \"text\": [\"n_articles: 11<br>n_coauthors_median: 2\", \"n_articles: 10<br>n_coauthors_median: 2\", \"n_articles: 10<br>n_coauthors_median: 0\", \"n_articles: 9<br>n_coauthors_median: 1\"], \"opacity\": 1.0, \"marker\": {\"color\": \"blue\"}, \"xaxis\": \"x10\", \"yaxis\": \"y10\"}], {\"xaxis1\": {\"domain\": [0.0, 0.325], \"anchor\": \"y1\", \"showticklabels\": false, \"showgrid\": false}, \"yaxis1\": {\"domain\": [0.872, 1.0], \"anchor\": \"x1\", \"ticklen\": 3, \"autorange\": \"reversed\", \"tickfont\": {\"size\": 11, \"color\": \"lightgrey\"}}, \"xaxis2\": {\"domain\": [0.675, 1.0], \"anchor\": \"y2\", \"showticklabels\": false, \"showgrid\": false}, \"yaxis2\": {\"domain\": [0.872, 1.0], \"anchor\": \"x2\", \"ticklen\": 3, \"autorange\": \"reversed\", \"tickfont\": {\"size\": 11, \"color\": \"lightgrey\"}}, \"xaxis3\": {\"domain\": [0.0, 0.325], \"anchor\": \"y3\", \"showticklabels\": false, \"showgrid\": false}, \"yaxis3\": {\"domain\": [0.654, 0.782], \"anchor\": \"x3\", \"ticklen\": 3, \"autorange\": \"reversed\", \"tickfont\": {\"size\": 11, \"color\": \"lightgrey\"}}, \"xaxis4\": {\"domain\": [0.675, 1.0], \"anchor\": \"y4\", \"showticklabels\": false, \"showgrid\": false}, \"yaxis4\": {\"domain\": [0.654, 0.782], \"anchor\": \"x4\", \"ticklen\": 3, \"autorange\": \"reversed\", \"tickfont\": {\"size\": 11, \"color\": \"lightgrey\"}}, \"xaxis5\": {\"domain\": [0.0, 0.325], \"anchor\": \"y5\", \"showticklabels\": false, \"showgrid\": false}, \"yaxis5\": {\"domain\": [0.436, 0.5640000000000001], \"anchor\": \"x5\", \"ticklen\": 3, \"autorange\": \"reversed\", \"tickfont\": {\"size\": 11, \"color\": \"lightgrey\"}}, \"xaxis6\": {\"domain\": [0.675, 1.0], \"anchor\": \"y6\", \"showticklabels\": false, \"showgrid\": false}, \"yaxis6\": {\"domain\": [0.436, 0.5640000000000001], \"anchor\": \"x6\", \"ticklen\": 3, \"autorange\": \"reversed\", \"tickfont\": {\"size\": 11, \"color\": \"lightgrey\"}}, \"xaxis7\": {\"domain\": [0.0, 0.325], \"anchor\": \"y7\", \"showticklabels\": false, \"showgrid\": false}, \"yaxis7\": {\"domain\": [0.218, 0.346], \"anchor\": \"x7\", \"ticklen\": 3, \"autorange\": \"reversed\", \"tickfont\": {\"size\": 11, \"color\": \"lightgrey\"}}, \"xaxis8\": {\"domain\": [0.675, 1.0], \"anchor\": \"y8\", \"showticklabels\": false, \"showgrid\": false}, \"yaxis8\": {\"domain\": [0.218, 0.346], \"anchor\": \"x8\", \"ticklen\": 3, \"autorange\": \"reversed\", \"tickfont\": {\"size\": 11, \"color\": \"lightgrey\"}}, \"xaxis9\": {\"domain\": [0.0, 0.325], \"anchor\": \"y9\", \"showticklabels\": false, \"showgrid\": false}, \"yaxis9\": {\"domain\": [0.0, 0.128], \"anchor\": \"x9\", \"ticklen\": 3, \"autorange\": \"reversed\", \"tickfont\": {\"size\": 11, \"color\": \"lightgrey\"}}, \"xaxis10\": {\"domain\": [0.675, 1.0], \"anchor\": \"y10\", \"showticklabels\": false, \"showgrid\": false}, \"yaxis10\": {\"domain\": [0.0, 0.128], \"anchor\": \"x10\", \"ticklen\": 3, \"autorange\": \"reversed\", \"tickfont\": {\"size\": 11, \"color\": \"lightgrey\"}}, \"annotations\": [{\"y\": 1.0, \"xref\": \"paper\", \"x\": 0.1625, \"yref\": \"paper\", \"text\": \"AG\", \"showarrow\": false, \"font\": {\"size\": 16}, \"xanchor\": \"center\", \"yanchor\": \"bottom\"}, {\"y\": 1.0, \"xref\": \"paper\", \"x\": 0.8375, \"yref\": \"paper\", \"text\": \"AP\", \"showarrow\": false, \"font\": {\"size\": 16}, \"xanchor\": \"center\", \"yanchor\": \"bottom\"}, {\"y\": 0.782, \"xref\": \"paper\", \"x\": 0.1625, \"yref\": \"paper\", \"text\": \"CO\", \"showarrow\": false, \"font\": {\"size\": 16}, \"xanchor\": \"center\", \"yanchor\": \"bottom\"}, {\"y\": 0.782, \"xref\": \"paper\", \"x\": 0.8375, \"yref\": \"paper\", \"text\": \"DS\", \"showarrow\": false, \"font\": {\"size\": 16}, \"xanchor\": \"center\", \"yanchor\": \"bottom\"}, {\"y\": 0.5640000000000001, \"xref\": \"paper\", \"x\": 0.1625, \"yref\": \"paper\", \"text\": \"IT\", \"showarrow\": false, \"font\": {\"size\": 16}, \"xanchor\": \"center\", \"yanchor\": \"bottom\"}, {\"y\": 0.5640000000000001, \"xref\": \"paper\", \"x\": 0.8375, \"yref\": \"paper\", \"text\": \"MP\", \"showarrow\": false, \"font\": {\"size\": 16}, \"xanchor\": \"center\", \"yanchor\": \"bottom\"}, {\"y\": 0.346, \"xref\": \"paper\", \"x\": 0.1625, \"yref\": \"paper\", \"text\": \"NA\", \"showarrow\": false, \"font\": {\"size\": 16}, \"xanchor\": \"center\", \"yanchor\": \"bottom\"}, {\"y\": 0.346, \"xref\": \"paper\", \"x\": 0.8375, \"yref\": \"paper\", \"text\": \"NT\", \"showarrow\": false, \"font\": {\"size\": 16}, \"xanchor\": \"center\", \"yanchor\": \"bottom\"}, {\"y\": 0.128, \"xref\": \"paper\", \"x\": 0.1625, \"yref\": \"paper\", \"text\": \"OC\", \"showarrow\": false, \"font\": {\"size\": 16}, \"xanchor\": \"center\", \"yanchor\": \"bottom\"}, {\"y\": 0.128, \"xref\": \"paper\", \"x\": 0.8375, \"yref\": \"paper\", \"text\": \"PR\", \"showarrow\": false, \"font\": {\"size\": 16}, \"xanchor\": \"center\", \"yanchor\": \"bottom\"}, {\"x\": 18, \"y\": \"Robert Laterveer\", \"text\": 18, \"xanchor\": \"left\", \"xref\": \"x1\", \"yref\": \"y1\", \"showarrow\": false, \"font\": {\"size\": 11, \"color\": \"lightgrey\"}}, {\"x\": 13, \"y\": \"Indranil Biswas\", \"text\": 13, \"xanchor\": \"left\", \"xref\": \"x1\", \"yref\": \"y1\", \"showarrow\": false, \"font\": {\"size\": 11, \"color\": \"lightgrey\"}}, {\"x\": 8, \"y\": \"Alexandru Dimca\", \"text\": 8, \"xanchor\": \"left\", \"xref\": \"x1\", \"yref\": \"y1\", \"showarrow\": false, \"font\": {\"size\": 11, \"color\": \"lightgrey\"}}, {\"x\": 7, \"y\": \"Goncalo Tabuada\", \"text\": 7, \"xanchor\": \"left\", \"xref\": \"x1\", \"yref\": \"y1\", \"showarrow\": false, \"font\": {\"size\": 11, \"color\": \"lightgrey\"}}, {\"x\": 16, \"y\": \"Veli Shakhmurov\", \"text\": 16, \"xanchor\": \"left\", \"xref\": \"x2\", \"yref\": \"y2\", \"showarrow\": false, \"font\": {\"size\": 11, \"color\": \"lightgrey\"}}, {\"x\": 12, \"y\": \"Michael Ruzhansky\", \"text\": 12, \"xanchor\": \"left\", \"xref\": \"x2\", \"yref\": \"y2\", \"showarrow\": false, \"font\": {\"size\": 11, \"color\": \"lightgrey\"}}, {\"x\": 12, \"y\": \"Jon Johnsen\", \"text\": 12, \"xanchor\": \"left\", \"xref\": \"x2\", \"yref\": \"y2\", \"showarrow\": false, \"font\": {\"size\": 11, \"color\": \"lightgrey\"}}, {\"x\": 10, \"y\": \"Enrico Valdinoci\", \"text\": 10, \"xanchor\": \"left\", \"xref\": \"x2\", \"yref\": \"y2\", \"showarrow\": false, \"font\": {\"size\": 11, \"color\": \"lightgrey\"}}, {\"x\": 13, \"y\": \"Saeid Alikhani\", \"text\": 13, \"xanchor\": \"left\", \"xref\": \"x3\", \"yref\": \"y3\", \"showarrow\": false, \"font\": {\"size\": 11, \"color\": \"lightgrey\"}}, {\"x\": 11, \"y\": \"Benny Sudakov\", \"text\": 11, \"xanchor\": \"left\", \"xref\": \"x3\", \"yref\": \"y3\", \"showarrow\": false, \"font\": {\"size\": 11, \"color\": \"lightgrey\"}}, {\"x\": 10, \"y\": \"Abhishek Methuku\", \"text\": 10, \"xanchor\": \"left\", \"xref\": \"x3\", \"yref\": \"y3\", \"showarrow\": false, \"font\": {\"size\": 11, \"color\": \"lightgrey\"}}, {\"x\": 10, \"y\": \"Andrey Kupavskii\", \"text\": 10, \"xanchor\": \"left\", \"xref\": \"x3\", \"yref\": \"y3\", \"showarrow\": false, \"font\": {\"size\": 11, \"color\": \"lightgrey\"}}, {\"x\": 9, \"y\": \"Carlos Matheus\", \"text\": 9, \"xanchor\": \"left\", \"xref\": \"x4\", \"yref\": \"y4\", \"showarrow\": false, \"font\": {\"size\": 11, \"color\": \"lightgrey\"}}, {\"x\": 6, \"y\": \"Yilei Tang\", \"text\": 6, \"xanchor\": \"left\", \"xref\": \"x4\", \"yref\": \"y4\", \"showarrow\": false, \"font\": {\"size\": 11, \"color\": \"lightgrey\"}}, {\"x\": 6, \"y\": \"Mariusz Lema\\u0144czyk\", \"text\": 6, \"xanchor\": \"left\", \"xref\": \"x4\", \"yref\": \"y4\", \"showarrow\": false, \"font\": {\"size\": 11, \"color\": \"lightgrey\"}}, {\"x\": 6, \"y\": \"Farrukh Mukhamedov\", \"text\": 6, \"xanchor\": \"left\", \"xref\": \"x4\", \"yref\": \"y4\", \"showarrow\": false, \"font\": {\"size\": 11, \"color\": \"lightgrey\"}}, {\"x\": 21, \"y\": \"Robert Schober\", \"text\": 21, \"xanchor\": \"left\", \"xref\": \"x5\", \"yref\": \"y5\", \"showarrow\": false, \"font\": {\"size\": 11, \"color\": \"lightgrey\"}}, {\"x\": 17, \"y\": \"Zhiguo Ding\", \"text\": 17, \"xanchor\": \"left\", \"xref\": \"x5\", \"yref\": \"y5\", \"showarrow\": false, \"font\": {\"size\": 11, \"color\": \"lightgrey\"}}, {\"x\": 17, \"y\": \"Shi Jin\", \"text\": 17, \"xanchor\": \"left\", \"xref\": \"x5\", \"yref\": \"y5\", \"showarrow\": false, \"font\": {\"size\": 11, \"color\": \"lightgrey\"}}, {\"x\": 17, \"y\": \"H. Vincent Poor\", \"text\": 17, \"xanchor\": \"left\", \"xref\": \"x5\", \"yref\": \"y5\", \"showarrow\": false, \"font\": {\"size\": 11, \"color\": \"lightgrey\"}}, {\"x\": 6, \"y\": \"Hongyu Liu\", \"text\": 6, \"xanchor\": \"left\", \"xref\": \"x6\", \"yref\": \"y6\", \"showarrow\": false, \"font\": {\"size\": 11, \"color\": \"lightgrey\"}}, {\"x\": 6, \"y\": \"Kohei Motegi\", \"text\": 6, \"xanchor\": \"left\", \"xref\": \"x6\", \"yref\": \"y6\", \"showarrow\": false, \"font\": {\"size\": 11, \"color\": \"lightgrey\"}}, {\"x\": 6, \"y\": \"Gunther Uhlmann\", \"text\": 6, \"xanchor\": \"left\", \"xref\": \"x6\", \"yref\": \"y6\", \"showarrow\": false, \"font\": {\"size\": 11, \"color\": \"lightgrey\"}}, {\"x\": 6, \"y\": \"Igor Wigman\", \"text\": 6, \"xanchor\": \"left\", \"xref\": \"x6\", \"yref\": \"y6\", \"showarrow\": false, \"font\": {\"size\": 11, \"color\": \"lightgrey\"}}, {\"x\": 10, \"y\": \"Max Gunzburger\", \"text\": 10, \"xanchor\": \"left\", \"xref\": \"x7\", \"yref\": \"y7\", \"showarrow\": false, \"font\": {\"size\": 11, \"color\": \"lightgrey\"}}, {\"x\": 8, \"y\": \"Mats G. Larson\", \"text\": 8, \"xanchor\": \"left\", \"xref\": \"x7\", \"yref\": \"y7\", \"showarrow\": false, \"font\": {\"size\": 11, \"color\": \"lightgrey\"}}, {\"x\": 8, \"y\": \"Arnulf Jentzen\", \"text\": 8, \"xanchor\": \"left\", \"xref\": \"x7\", \"yref\": \"y7\", \"showarrow\": false, \"font\": {\"size\": 11, \"color\": \"lightgrey\"}}, {\"x\": 7, \"y\": \"Akil Narayan\", \"text\": 7, \"xanchor\": \"left\", \"xref\": \"x7\", \"yref\": \"y7\", \"showarrow\": false, \"font\": {\"size\": 11, \"color\": \"lightgrey\"}}, {\"x\": 18, \"y\": \"Ce Xu\", \"text\": 18, \"xanchor\": \"left\", \"xref\": \"x8\", \"yref\": \"y8\", \"showarrow\": false, \"font\": {\"size\": 11, \"color\": \"lightgrey\"}}, {\"x\": 11, \"y\": \"Igor E. Shparlinski\", \"text\": 11, \"xanchor\": \"left\", \"xref\": \"x8\", \"yref\": \"y8\", \"showarrow\": false, \"font\": {\"size\": 11, \"color\": \"lightgrey\"}}, {\"x\": 11, \"y\": \"Florian Luca\", \"text\": 11, \"xanchor\": \"left\", \"xref\": \"x8\", \"yref\": \"y8\", \"showarrow\": false, \"font\": {\"size\": 11, \"color\": \"lightgrey\"}}, {\"x\": 9, \"y\": \"Andrew Granville\", \"text\": 9, \"xanchor\": \"left\", \"xref\": \"x8\", \"yref\": \"y8\", \"showarrow\": false, \"font\": {\"size\": 11, \"color\": \"lightgrey\"}}, {\"x\": 14, \"y\": \"Alexander Gasnikov\", \"text\": 14, \"xanchor\": \"left\", \"xref\": \"x9\", \"yref\": \"y9\", \"showarrow\": false, \"font\": {\"size\": 11, \"color\": \"lightgrey\"}}, {\"x\": 13, \"y\": \"Delfim F. M. Torres\", \"text\": 13, \"xanchor\": \"left\", \"xref\": \"x9\", \"yref\": \"y9\", \"showarrow\": false, \"font\": {\"size\": 11, \"color\": \"lightgrey\"}}, {\"x\": 9, \"y\": \"Emmanuel Tr\\u00e9lat\", \"text\": 9, \"xanchor\": \"left\", \"xref\": \"x9\", \"yref\": \"y9\", \"showarrow\": false, \"font\": {\"size\": 11, \"color\": \"lightgrey\"}}, {\"x\": 9, \"y\": \"Giuseppe Notarstefano\", \"text\": 9, \"xanchor\": \"left\", \"xref\": \"x9\", \"yref\": \"y9\", \"showarrow\": false, \"font\": {\"size\": 11, \"color\": \"lightgrey\"}}, {\"x\": 11, \"y\": \"Yuval Peres\", \"text\": 11, \"xanchor\": \"left\", \"xref\": \"x10\", \"yref\": \"y10\", \"showarrow\": false, \"font\": {\"size\": 11, \"color\": \"lightgrey\"}}, {\"x\": 10, \"y\": \"Remco van der Hofstad\", \"text\": 10, \"xanchor\": \"left\", \"xref\": \"x10\", \"yref\": \"y10\", \"showarrow\": false, \"font\": {\"size\": 11, \"color\": \"lightgrey\"}}, {\"x\": 10, \"y\": \"Ghurumuruhan Ganesan\", \"text\": 10, \"xanchor\": \"left\", \"xref\": \"x10\", \"yref\": \"y10\", \"showarrow\": false, \"font\": {\"size\": 11, \"color\": \"lightgrey\"}}, {\"x\": 9, \"y\": \"Zhen-Qing Chen\", \"text\": 9, \"xanchor\": \"left\", \"xref\": \"x10\", \"yref\": \"y10\", \"showarrow\": false, \"font\": {\"size\": 11, \"color\": \"lightgrey\"}}], \"height\": 750, \"width\": 740, \"showlegend\": false, \"title\": \"\", \"margin\": {\"t\": 60, \"l\": 140, \"b\": 30, \"r\": 130}}, {\"showLink\": false, \"linkText\": \"Export to plot.ly\"})});</script>"
      ]
     },
     "metadata": {},
     "output_type": "display_data"
    }
   ],
   "source": [
    "active_authors(section, year)"
   ]
  },
  {
   "cell_type": "code",
   "execution_count": 7,
   "metadata": {},
   "outputs": [
    {
     "data": {
      "application/vnd.plotly.v1+json": {
       "data": [
        {
         "hoverinfo": "text+value",
         "labels": [
          "AP",
          "CO",
          "PR",
          "OC",
          "AG",
          "NT",
          "NA",
          "DG",
          "ph",
          "DS",
          "FA",
          "CA",
          "Other (19)"
         ],
         "marker": {
          "colors": [
           "#ffe317",
           "#fdea21",
           "#f5f03c",
           "#f3f245",
           "#f1f44b",
           "#f1f44d",
           "#eff551",
           "#eafa65",
           "#e9fb68",
           "#e9fb68",
           "#e6fd72",
           "#e4ff7a",
           "#fc7f00"
          ]
         },
         "pull": 0.05,
         "text": [
          "Analysis of PDEs",
          "Combinatorics",
          "Probability",
          "Optimization and Control",
          "Algebraic Geometry",
          "Number Theory",
          "Numerical Analysis",
          "Differential Geometry",
          "Dynamical Systems",
          "Functional Analysis",
          "Classical Analysis and ODEs",
          "Other subsections"
         ],
         "textinfo": "label+percent",
         "textposition": "outside",
         "type": "pie",
         "values": [
          2238,
          1982,
          1595,
          1470,
          1389,
          1367,
          1300,
          1028,
          1002,
          989,
          838,
          732,
          6110
         ]
        }
       ],
       "layout": {
        "height": 450,
        "margin": {
         "t": 40
        },
        "width": 650
       }
      },
      "text/html": [
       "<div id=\"cb6db17a-ad39-4528-93fa-6a68f67167dd\" style=\"height: 450px; width: 650px;\" class=\"plotly-graph-div\"></div><script type=\"text/javascript\">require([\"plotly\"], function(Plotly) { window.PLOTLYENV=window.PLOTLYENV || {};window.PLOTLYENV.BASE_URL=\"https://plot.ly\";Plotly.newPlot(\"cb6db17a-ad39-4528-93fa-6a68f67167dd\", [{\"type\": \"pie\", \"text\": [\"Analysis of PDEs\", \"Combinatorics\", \"Probability\", \"Optimization and Control\", \"Algebraic Geometry\", \"Number Theory\", \"Numerical Analysis\", \"Differential Geometry\", \"Dynamical Systems\", \"Functional Analysis\", \"Classical Analysis and ODEs\", \"Other subsections\"], \"hoverinfo\": \"text+value\", \"textinfo\": \"label+percent\", \"labels\": [\"AP\", \"CO\", \"PR\", \"OC\", \"AG\", \"NT\", \"NA\", \"DG\", \"ph\", \"DS\", \"FA\", \"CA\", \"Other (19)\"], \"textposition\": \"outside\", \"values\": [2238, 1982, 1595, 1470, 1389, 1367, 1300, 1028, 1002, 989, 838, 732, 6110], \"pull\": 0.05, \"marker\": {\"colors\": [\"#ffe317\", \"#fdea21\", \"#f5f03c\", \"#f3f245\", \"#f1f44b\", \"#f1f44d\", \"#eff551\", \"#eafa65\", \"#e9fb68\", \"#e9fb68\", \"#e6fd72\", \"#e4ff7a\", \"#fc7f00\"]}}], {\"height\": 450, \"width\": 650, \"margin\": {\"t\": 40}}, {\"showLink\": false, \"linkText\": \"Export to plot.ly\"})});</script>"
      ],
      "text/vnd.plotly.v1+html": [
       "<div id=\"cb6db17a-ad39-4528-93fa-6a68f67167dd\" style=\"height: 450px; width: 650px;\" class=\"plotly-graph-div\"></div><script type=\"text/javascript\">require([\"plotly\"], function(Plotly) { window.PLOTLYENV=window.PLOTLYENV || {};window.PLOTLYENV.BASE_URL=\"https://plot.ly\";Plotly.newPlot(\"cb6db17a-ad39-4528-93fa-6a68f67167dd\", [{\"type\": \"pie\", \"text\": [\"Analysis of PDEs\", \"Combinatorics\", \"Probability\", \"Optimization and Control\", \"Algebraic Geometry\", \"Number Theory\", \"Numerical Analysis\", \"Differential Geometry\", \"Dynamical Systems\", \"Functional Analysis\", \"Classical Analysis and ODEs\", \"Other subsections\"], \"hoverinfo\": \"text+value\", \"textinfo\": \"label+percent\", \"labels\": [\"AP\", \"CO\", \"PR\", \"OC\", \"AG\", \"NT\", \"NA\", \"DG\", \"ph\", \"DS\", \"FA\", \"CA\", \"Other (19)\"], \"textposition\": \"outside\", \"values\": [2238, 1982, 1595, 1470, 1389, 1367, 1300, 1028, 1002, 989, 838, 732, 6110], \"pull\": 0.05, \"marker\": {\"colors\": [\"#ffe317\", \"#fdea21\", \"#f5f03c\", \"#f3f245\", \"#f1f44b\", \"#f1f44d\", \"#eff551\", \"#eafa65\", \"#e9fb68\", \"#e9fb68\", \"#e6fd72\", \"#e4ff7a\", \"#fc7f00\"]}}], {\"height\": 450, \"width\": 650, \"margin\": {\"t\": 40}}, {\"showLink\": false, \"linkText\": \"Export to plot.ly\"})});</script>"
      ]
     },
     "metadata": {},
     "output_type": "display_data"
    }
   ],
   "source": [
    "subsections_ratio(section, year, min_percent=3)"
   ]
  }
 ],
 "metadata": {
  "kernelspec": {
   "display_name": "Python 3",
   "language": "python",
   "name": "python3"
  },
  "language_info": {
   "codemirror_mode": {
    "name": "ipython",
    "version": 3
   },
   "file_extension": ".py",
   "mimetype": "text/x-python",
   "name": "python",
   "nbconvert_exporter": "python",
   "pygments_lexer": "ipython3",
   "version": "3.6.2"
  }
 },
 "nbformat": 4,
 "nbformat_minor": 2
}
